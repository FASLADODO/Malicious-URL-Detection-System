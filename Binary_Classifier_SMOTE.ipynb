{
 "cells": [
  {
   "cell_type": "code",
   "execution_count": 1,
   "metadata": {
    "colab": {
     "base_uri": "https://localhost:8080/"
    },
    "id": "ZJSqesgoJdN4",
    "outputId": "23650762-823f-45ee-efc6-587b4629c9b3"
   },
   "outputs": [
    {
     "data": {
      "text/plain": [
       "'\\nCHUNK_SIZE = 40960\\nDATA_SOURCE_MAPPING = \\'malicious-urls-dataset:https%3A%2F%2Fstorage.googleapis.com%2Fkaggle-data-sets%2F1486586%2F2456026%2Fbundle%2Farchive.zip%3FX-Goog-Algorithm%3DGOOG4-RSA-SHA256%26X-Goog-Credential%3Dgcp-kaggle-com%2540kaggle-161607.iam.gserviceaccount.com%252F20240608%252Fauto%252Fstorage%252Fgoog4_request%26X-Goog-Date%3D20240608T044022Z%26X-Goog-Expires%3D259200%26X-Goog-SignedHeaders%3Dhost%26X-Goog-Signature%3D5d7598b150658e7dd4ce308c927413193dca88a01009ae19491817639ec3a9cfd06ba1ffc4f6bad2e60cb67eb5c47c65dec2291ac0bfc3be17927f8b36f9caf49ab5f1b60f7405cc07e3ca8ed0011ad68d27b086e95238be835114d4b90c4937a252b6428d300821984645de9a3d99c2f45a533661f27e8b3415994fae695a70728a2c2981a15524d536b592db133972cf66247ee29b4bf32b744a338e13ec16482e6d4248cda708e728411dc9a4ccdbea46a73336f172c189371e7edf10fe71956cacefd0280977fd5f915715b615a7b4a32664b44bf55ad471831e41de6d238d92dba97d6427b5b0bcfc1638e54186bc4205ab292756a790829579328311a4\\'\\n\\nKAGGLE_INPUT_PATH=\\'/kaggle/input\\'\\nKAGGLE_WORKING_PATH=\\'/kaggle/working\\'\\nKAGGLE_SYMLINK=\\'kaggle\\'\\n\\n!umount /kaggle/input/ 2> /dev/null\\nshutil.rmtree(\\'/kaggle/input\\', ignore_errors=True)\\nos.makedirs(KAGGLE_INPUT_PATH, 0o777, exist_ok=True)\\nos.makedirs(KAGGLE_WORKING_PATH, 0o777, exist_ok=True)\\n\\ntry:\\n  os.symlink(KAGGLE_INPUT_PATH, os.path.join(\"..\", \\'input\\'), target_is_directory=True)\\nexcept FileExistsError:\\n  pass\\ntry:\\n  os.symlink(KAGGLE_WORKING_PATH, os.path.join(\"..\", \\'working\\'), target_is_directory=True)\\nexcept FileExistsError:\\n  pass\\n\\nfor data_source_mapping in DATA_SOURCE_MAPPING.split(\\',\\'):\\n    directory, download_url_encoded = data_source_mapping.split(\\':\\')\\n    download_url = unquote(download_url_encoded)\\n    filename = urlparse(download_url).path\\n    destination_path = os.path.join(KAGGLE_INPUT_PATH, directory)\\n    try:\\n        with urlopen(download_url) as fileres, NamedTemporaryFile() as tfile:\\n            total_length = fileres.headers[\\'content-length\\']\\n            print(f\\'Downloading {directory}, {total_length} bytes compressed\\')\\n            dl = 0\\n            data = fileres.read(CHUNK_SIZE)\\n            while len(data) > 0:\\n                dl += len(data)\\n                tfile.write(data)\\n                done = int(50 * dl / int(total_length))\\n                sys.stdout.write(f\"\\r[{\\'=\\' * done}{\\' \\' * (50-done)}] {dl} bytes downloaded\")\\n                sys.stdout.flush()\\n                data = fileres.read(CHUNK_SIZE)\\n            if filename.endswith(\\'.zip\\'):\\n              with ZipFile(tfile) as zfile:\\n                zfile.extractall(destination_path)\\n            else:\\n              with tarfile.open(tfile.name) as tarfile:\\n                tarfile.extractall(destination_path)\\n            print(f\\'\\nDownloaded and uncompressed: {directory}\\')\\n    except HTTPError as e:\\n        print(f\\'Failed to load (likely expired) {download_url} to path {destination_path}\\')\\n        continue\\n    except OSError as e:\\n        print(f\\'Failed to load {download_url} to path {destination_path}\\')\\n        continue\\n\\nprint(\\'Data source import complete.\\')\\n'"
      ]
     },
     "execution_count": 1,
     "metadata": {},
     "output_type": "execute_result"
    }
   ],
   "source": [
    "\n",
    "# IMPORTANT: RUN THIS CELL IN ORDER TO IMPORT YOUR KAGGLE DATA SOURCES\n",
    "# TO THE CORRECT LOCATION (/kaggle/input) IN YOUR NOTEBOOK,\n",
    "# THEN FEEL FREE TO DELETE THIS CELL.\n",
    "# NOTE: THIS NOTEBOOK ENVIRONMENT DIFFERS FROM KAGGLE'S PYTHON\n",
    "# ENVIRONMENT SO THERE MAY BE MISSING LIBRARIES USED BY YOUR\n",
    "# NOTEBOOK.\n",
    "\n",
    "import os\n",
    "import sys\n",
    "from tempfile import NamedTemporaryFile\n",
    "from urllib.request import urlopen\n",
    "from urllib.parse import unquote, urlparse\n",
    "from urllib.error import HTTPError\n",
    "from zipfile import ZipFile\n",
    "import tarfile\n",
    "import shutil\n",
    "# Going to use these 5 base models for the stacking\n",
    "from sklearn.ensemble import (RandomForestClassifier, AdaBoostClassifier, \n",
    "                              GradientBoostingClassifier, ExtraTreesClassifier)\n",
    "from sklearn.svm import SVC\n",
    "'''\n",
    "CHUNK_SIZE = 40960\n",
    "DATA_SOURCE_MAPPING = 'malicious-urls-dataset:https%3A%2F%2Fstorage.googleapis.com%2Fkaggle-data-sets%2F1486586%2F2456026%2Fbundle%2Farchive.zip%3FX-Goog-Algorithm%3DGOOG4-RSA-SHA256%26X-Goog-Credential%3Dgcp-kaggle-com%2540kaggle-161607.iam.gserviceaccount.com%252F20240608%252Fauto%252Fstorage%252Fgoog4_request%26X-Goog-Date%3D20240608T044022Z%26X-Goog-Expires%3D259200%26X-Goog-SignedHeaders%3Dhost%26X-Goog-Signature%3D5d7598b150658e7dd4ce308c927413193dca88a01009ae19491817639ec3a9cfd06ba1ffc4f6bad2e60cb67eb5c47c65dec2291ac0bfc3be17927f8b36f9caf49ab5f1b60f7405cc07e3ca8ed0011ad68d27b086e95238be835114d4b90c4937a252b6428d300821984645de9a3d99c2f45a533661f27e8b3415994fae695a70728a2c2981a15524d536b592db133972cf66247ee29b4bf32b744a338e13ec16482e6d4248cda708e728411dc9a4ccdbea46a73336f172c189371e7edf10fe71956cacefd0280977fd5f915715b615a7b4a32664b44bf55ad471831e41de6d238d92dba97d6427b5b0bcfc1638e54186bc4205ab292756a790829579328311a4'\n",
    "\n",
    "KAGGLE_INPUT_PATH='/kaggle/input'\n",
    "KAGGLE_WORKING_PATH='/kaggle/working'\n",
    "KAGGLE_SYMLINK='kaggle'\n",
    "\n",
    "!umount /kaggle/input/ 2> /dev/null\n",
    "shutil.rmtree('/kaggle/input', ignore_errors=True)\n",
    "os.makedirs(KAGGLE_INPUT_PATH, 0o777, exist_ok=True)\n",
    "os.makedirs(KAGGLE_WORKING_PATH, 0o777, exist_ok=True)\n",
    "\n",
    "try:\n",
    "  os.symlink(KAGGLE_INPUT_PATH, os.path.join(\"..\", 'input'), target_is_directory=True)\n",
    "except FileExistsError:\n",
    "  pass\n",
    "try:\n",
    "  os.symlink(KAGGLE_WORKING_PATH, os.path.join(\"..\", 'working'), target_is_directory=True)\n",
    "except FileExistsError:\n",
    "  pass\n",
    "\n",
    "for data_source_mapping in DATA_SOURCE_MAPPING.split(','):\n",
    "    directory, download_url_encoded = data_source_mapping.split(':')\n",
    "    download_url = unquote(download_url_encoded)\n",
    "    filename = urlparse(download_url).path\n",
    "    destination_path = os.path.join(KAGGLE_INPUT_PATH, directory)\n",
    "    try:\n",
    "        with urlopen(download_url) as fileres, NamedTemporaryFile() as tfile:\n",
    "            total_length = fileres.headers['content-length']\n",
    "            print(f'Downloading {directory}, {total_length} bytes compressed')\n",
    "            dl = 0\n",
    "            data = fileres.read(CHUNK_SIZE)\n",
    "            while len(data) > 0:\n",
    "                dl += len(data)\n",
    "                tfile.write(data)\n",
    "                done = int(50 * dl / int(total_length))\n",
    "                sys.stdout.write(f\"\\r[{'=' * done}{' ' * (50-done)}] {dl} bytes downloaded\")\n",
    "                sys.stdout.flush()\n",
    "                data = fileres.read(CHUNK_SIZE)\n",
    "            if filename.endswith('.zip'):\n",
    "              with ZipFile(tfile) as zfile:\n",
    "                zfile.extractall(destination_path)\n",
    "            else:\n",
    "              with tarfile.open(tfile.name) as tarfile:\n",
    "                tarfile.extractall(destination_path)\n",
    "            print(f'\\nDownloaded and uncompressed: {directory}')\n",
    "    except HTTPError as e:\n",
    "        print(f'Failed to load (likely expired) {download_url} to path {destination_path}')\n",
    "        continue\n",
    "    except OSError as e:\n",
    "        print(f'Failed to load {download_url} to path {destination_path}')\n",
    "        continue\n",
    "\n",
    "print('Data source import complete.')\n",
    "'''"
   ]
  },
  {
   "cell_type": "code",
   "execution_count": 2,
   "metadata": {
    "_cell_guid": "b1076dfc-b9ad-4769-8c92-a6c4dae69d19",
    "_uuid": "8f2839f25d086af736a60e9eeb907d3b93b6e0e5",
    "colab": {
     "base_uri": "https://localhost:8080/"
    },
    "id": "ofpZHVnPJdN6",
    "outputId": "fa7ac73a-797b-4c4c-cbb5-b28cc664aed3"
   },
   "outputs": [
    {
     "name": "stdout",
     "output_type": "stream",
     "text": [
      "Requirement already satisfied: python-whois in c:\\anaconda\\lib\\site-packages (0.9.4)\n",
      "Requirement already satisfied: python-dateutil in c:\\anaconda\\lib\\site-packages (from python-whois) (2.8.2)\n",
      "Requirement already satisfied: six>=1.5 in c:\\anaconda\\lib\\site-packages (from python-dateutil->python-whois) (1.16.0)\n"
     ]
    }
   ],
   "source": [
    "!pip install python-whois"
   ]
  },
  {
   "cell_type": "code",
   "execution_count": 3,
   "metadata": {},
   "outputs": [
    {
     "name": "stdout",
     "output_type": "stream",
     "text": [
      "Requirement already satisfied: lightgbm in c:\\anaconda\\lib\\site-packages (4.3.0)\n",
      "Requirement already satisfied: numpy in c:\\anaconda\\lib\\site-packages (from lightgbm) (1.26.4)\n",
      "Requirement already satisfied: scipy in c:\\anaconda\\lib\\site-packages (from lightgbm) (1.11.4)\n",
      "Note: you may need to restart the kernel to use updated packages.\n"
     ]
    }
   ],
   "source": [
    "pip install lightgbm"
   ]
  },
  {
   "cell_type": "code",
   "execution_count": 4,
   "metadata": {
    "colab": {
     "base_uri": "https://localhost:8080/"
    },
    "id": "n4FLK_IfJdN7",
    "outputId": "000a61fe-52d8-4b68-f355-065081f75c1d"
   },
   "outputs": [
    {
     "data": {
      "text/plain": [
       "\"\\nfor dirname, _, filenames in os.walk('/kaggle/input'):\\n    for filename in filenames:\\n        print(os.path.join(dirname, filename))\\n\""
      ]
     },
     "execution_count": 4,
     "metadata": {},
     "output_type": "execute_result"
    }
   ],
   "source": [
    "import pandas as pd\n",
    "import itertools\n",
    "from sklearn.metrics import mean_squared_error,confusion_matrix, precision_score, recall_score, auc,roc_curve\n",
    "from sklearn.model_selection import train_test_split\n",
    "import pandas as pd\n",
    "import numpy as np\n",
    "import random\n",
    "import math\n",
    "from collections import Counter\n",
    "from sklearn import metrics\n",
    "import matplotlib.pyplot as plt\n",
    "from sklearn.metrics import classification_report,confusion_matrix,accuracy_score\n",
    "import xgboost as xgb\n",
    "from lightgbm import LGBMClassifier\n",
    "from xgboost import XGBClassifier\n",
    "from sklearn.ensemble import RandomForestClassifier\n",
    "from sklearn.ensemble import ExtraTreesClassifier\n",
    "from sklearn.linear_model import SGDClassifier\n",
    "from sklearn.ensemble import AdaBoostClassifier\n",
    "import os\n",
    "import socket\n",
    "import whois\n",
    "from datetime import datetime\n",
    "import time\n",
    "from bs4 import BeautifulSoup\n",
    "import urllib\n",
    "import bs4\n",
    "import os\n",
    "import seaborn as sns\n",
    "import sys\n",
    "import tarfile\n",
    "import shutil\n",
    "'''\n",
    "for dirname, _, filenames in os.walk('/kaggle/input'):\n",
    "    for filename in filenames:\n",
    "        print(os.path.join(dirname, filename))\n",
    "'''"
   ]
  },
  {
   "cell_type": "code",
   "execution_count": 5,
   "metadata": {
    "colab": {
     "base_uri": "https://localhost:8080/",
     "height": 260
    },
    "id": "zv_iaBj4PjPC",
    "outputId": "d47dce08-d87d-4951-98e9-5580925602da"
   },
   "outputs": [
    {
     "name": "stdout",
     "output_type": "stream",
     "text": [
      "['malicious_phish.csv']\n",
      "(651191, 2)\n"
     ]
    },
    {
     "data": {
      "text/html": [
       "<div>\n",
       "<style scoped>\n",
       "    .dataframe tbody tr th:only-of-type {\n",
       "        vertical-align: middle;\n",
       "    }\n",
       "\n",
       "    .dataframe tbody tr th {\n",
       "        vertical-align: top;\n",
       "    }\n",
       "\n",
       "    .dataframe thead th {\n",
       "        text-align: right;\n",
       "    }\n",
       "</style>\n",
       "<table border=\"1\" class=\"dataframe\">\n",
       "  <thead>\n",
       "    <tr style=\"text-align: right;\">\n",
       "      <th></th>\n",
       "      <th>url</th>\n",
       "      <th>type</th>\n",
       "    </tr>\n",
       "  </thead>\n",
       "  <tbody>\n",
       "    <tr>\n",
       "      <th>0</th>\n",
       "      <td>br-icloud.com.br</td>\n",
       "      <td>phishing</td>\n",
       "    </tr>\n",
       "    <tr>\n",
       "      <th>1</th>\n",
       "      <td>mp3raid.com/music/krizz_kaliko.html</td>\n",
       "      <td>benign</td>\n",
       "    </tr>\n",
       "    <tr>\n",
       "      <th>2</th>\n",
       "      <td>bopsecrets.org/rexroth/cr/1.htm</td>\n",
       "      <td>benign</td>\n",
       "    </tr>\n",
       "    <tr>\n",
       "      <th>3</th>\n",
       "      <td>http://www.garage-pirenne.be/index.php?option=...</td>\n",
       "      <td>defacement</td>\n",
       "    </tr>\n",
       "    <tr>\n",
       "      <th>4</th>\n",
       "      <td>http://adventure-nicaragua.net/index.php?optio...</td>\n",
       "      <td>defacement</td>\n",
       "    </tr>\n",
       "  </tbody>\n",
       "</table>\n",
       "</div>"
      ],
      "text/plain": [
       "                                                 url        type\n",
       "0                                   br-icloud.com.br    phishing\n",
       "1                mp3raid.com/music/krizz_kaliko.html      benign\n",
       "2                    bopsecrets.org/rexroth/cr/1.htm      benign\n",
       "3  http://www.garage-pirenne.be/index.php?option=...  defacement\n",
       "4  http://adventure-nicaragua.net/index.php?optio...  defacement"
      ]
     },
     "execution_count": 5,
     "metadata": {},
     "output_type": "execute_result"
    }
   ],
   "source": [
    "'''\n",
    "from google.colab import drive\n",
    " drive.mount('/content/drive')\n",
    "\n",
    " import os\n",
    " print(os.listdir('/content/drive/MyDrive/Colab Notebooks/malicious URL dataset'))\n",
    "\n",
    "# import os\n",
    "# print(os.listdir('/kaggle/input/'))\n",
    "\n",
    "# Define the file path\n",
    " file_path = '/content/drive/MyDrive/Colab Notebooks/malicious URL dataset/malicious_phish.csv'\n",
    "'''\n",
    "\n",
    "import os\n",
    "print(os.listdir('C:/Users/wku/Desktop/project/dataset/'))\n",
    "\n",
    "# Define the file path\n",
    "file_path = 'C:/Users/wku/Desktop/project/dataset/malicious_phish.csv'\n",
    "\n",
    "# Load the dataset into a Pandas DataFrame\n",
    "df = pd.read_csv(file_path)\n",
    "\n",
    "print(df.shape)\n",
    "df.head()"
   ]
  },
  {
   "cell_type": "code",
   "execution_count": 6,
   "metadata": {
    "colab": {
     "base_uri": "https://localhost:8080/"
    },
    "id": "HrUymOt0JdN8",
    "outputId": "efc29055-ed1e-40ec-f819-832b981bdf79"
   },
   "outputs": [
    {
     "data": {
      "text/plain": [
       "type\n",
       "benign        428103\n",
       "defacement     96457\n",
       "phishing       94111\n",
       "malware        32520\n",
       "Name: count, dtype: int64"
      ]
     },
     "execution_count": 6,
     "metadata": {},
     "output_type": "execute_result"
    }
   ],
   "source": [
    "# Count the number of values for each 'type'\n",
    "type_counts = df.type.value_counts()\n",
    "df.type.value_counts()"
   ]
  },
  {
   "cell_type": "markdown",
   "metadata": {
    "id": "Ewok9PDPJdN8"
   },
   "source": [
    "# Feature Engineering"
   ]
  },
  {
   "cell_type": "code",
   "execution_count": 7,
   "metadata": {
    "id": "zzyjMRuUJdN9"
   },
   "outputs": [],
   "source": [
    "import re\n",
    "#Use of IP or not in domain\n",
    "def having_ip_address(url):\n",
    "    match = re.search(\n",
    "        '(([01]?\\\\d\\\\d?|2[0-4]\\\\d|25[0-5])\\\\.([01]?\\\\d\\\\d?|2[0-4]\\\\d|25[0-5])\\\\.([01]?\\\\d\\\\d?|2[0-4]\\\\d|25[0-5])\\\\.'\n",
    "        '([01]?\\\\d\\\\d?|2[0-4]\\\\d|25[0-5])\\\\/)|'  # IPv4\n",
    "        '((0x[0-9a-fA-F]{1,2})\\\\.(0x[0-9a-fA-F]{1,2})\\\\.(0x[0-9a-fA-F]{1,2})\\\\.(0x[0-9a-fA-F]{1,2})\\\\/)' # IPv4 in hexadecimal\n",
    "        '(?:[a-fA-F0-9]{1,4}:){7}[a-fA-F0-9]{1,4}', url)  # Ipv6\n",
    "    if match:\n",
    "        # print match.group()\n",
    "        return 1\n",
    "    else:\n",
    "        # print 'No matching pattern found'\n",
    "        return 0\n",
    "df['use_of_ip'] = df['url'].apply(lambda i: having_ip_address(i))\n",
    "# df['use_of_ip'] = df['use_of_ip'].astype(str)"
   ]
  },
  {
   "cell_type": "code",
   "execution_count": 8,
   "metadata": {},
   "outputs": [
    {
     "data": {
      "text/plain": [
       "type_code\n",
       "0    428103\n",
       "1     96457\n",
       "3     94111\n",
       "2     32520\n",
       "Name: count, dtype: int64"
      ]
     },
     "execution_count": 8,
     "metadata": {},
     "output_type": "execute_result"
    }
   ],
   "source": [
    "from sklearn.preprocessing import LabelEncoder\n",
    "\n",
    "lb_make = LabelEncoder()\n",
    "df[\"type_code\"] = lb_make.fit_transform(df[\"type\"])\n",
    "df[\"type_code\"].value_counts()"
   ]
  },
  {
   "cell_type": "code",
   "execution_count": 9,
   "metadata": {},
   "outputs": [
    {
     "name": "stdout",
     "output_type": "stream",
     "text": [
      "url_property\n",
      "0    428103\n",
      "1    223088\n",
      "Name: count, dtype: int64\n"
     ]
    }
   ],
   "source": [
    "# 将 \"benign\" 标记为 \"good\", 其他三种标记为 \"bad\"\n",
    "df['url_property'] = df['type'].apply(lambda x: '0' if x == 'benign' else '1')\n",
    "\n",
    "# 查看新特征的分布\n",
    "print(df['url_property'].value_counts())\n",
    "\n",
    "# 把 url_property 列转换为 int 属性\n",
    "df['url_property'] = df['url_property'].astype(int)"
   ]
  },
  {
   "cell_type": "code",
   "execution_count": 10,
   "metadata": {
    "id": "JhBuerGmJdN-"
   },
   "outputs": [],
   "source": [
    "from urllib.parse import urlparse\n",
    "\n",
    "\n",
    "\n",
    "\n",
    "def abnormal_url(url):\n",
    "    hostname = urlparse(url).hostname\n",
    "    hostname = str(hostname)\n",
    "    match = re.search(hostname, url)\n",
    "    if match:\n",
    "        # print match.group()\n",
    "        return 1\n",
    "    else:\n",
    "        # print 'No matching pattern found'\n",
    "        return 0\n",
    "\n",
    "\n",
    "df['abnormal_url'] = df['url'].apply(lambda i: abnormal_url(i))"
   ]
  },
  {
   "cell_type": "code",
   "execution_count": 11,
   "metadata": {
    "colab": {
     "base_uri": "https://localhost:8080/"
    },
    "id": "D8OfGi6QJdN-",
    "outputId": "a9972775-1c39-4a91-df35-9c3b80077836"
   },
   "outputs": [
    {
     "name": "stdout",
     "output_type": "stream",
     "text": [
      "Requirement already satisfied: googlesearch-python in c:\\anaconda\\lib\\site-packages (1.2.4)\n",
      "Requirement already satisfied: beautifulsoup4>=4.9 in c:\\anaconda\\lib\\site-packages (from googlesearch-python) (4.12.2)\n",
      "Requirement already satisfied: requests>=2.20 in c:\\anaconda\\lib\\site-packages (from googlesearch-python) (2.31.0)\n",
      "Requirement already satisfied: soupsieve>1.2 in c:\\anaconda\\lib\\site-packages (from beautifulsoup4>=4.9->googlesearch-python) (2.5)\n",
      "Requirement already satisfied: charset-normalizer<4,>=2 in c:\\anaconda\\lib\\site-packages (from requests>=2.20->googlesearch-python) (2.0.4)\n",
      "Requirement already satisfied: idna<4,>=2.5 in c:\\anaconda\\lib\\site-packages (from requests>=2.20->googlesearch-python) (3.4)\n",
      "Requirement already satisfied: urllib3<3,>=1.21.1 in c:\\anaconda\\lib\\site-packages (from requests>=2.20->googlesearch-python) (2.0.7)\n",
      "Requirement already satisfied: certifi>=2017.4.17 in c:\\anaconda\\lib\\site-packages (from requests>=2.20->googlesearch-python) (2024.2.2)\n"
     ]
    }
   ],
   "source": [
    "!pip install googlesearch-python"
   ]
  },
  {
   "cell_type": "code",
   "execution_count": 12,
   "metadata": {
    "colab": {
     "base_uri": "https://localhost:8080/",
     "height": 206
    },
    "id": "zOOiixq3JdN-",
    "outputId": "9d6bfaae-0fc0-4431-cca1-4a719a37a51b"
   },
   "outputs": [
    {
     "data": {
      "text/html": [
       "<div>\n",
       "<style scoped>\n",
       "    .dataframe tbody tr th:only-of-type {\n",
       "        vertical-align: middle;\n",
       "    }\n",
       "\n",
       "    .dataframe tbody tr th {\n",
       "        vertical-align: top;\n",
       "    }\n",
       "\n",
       "    .dataframe thead th {\n",
       "        text-align: right;\n",
       "    }\n",
       "</style>\n",
       "<table border=\"1\" class=\"dataframe\">\n",
       "  <thead>\n",
       "    <tr style=\"text-align: right;\">\n",
       "      <th></th>\n",
       "      <th>url</th>\n",
       "      <th>type</th>\n",
       "      <th>use_of_ip</th>\n",
       "      <th>type_code</th>\n",
       "      <th>url_property</th>\n",
       "      <th>abnormal_url</th>\n",
       "      <th>count.</th>\n",
       "    </tr>\n",
       "  </thead>\n",
       "  <tbody>\n",
       "    <tr>\n",
       "      <th>0</th>\n",
       "      <td>br-icloud.com.br</td>\n",
       "      <td>phishing</td>\n",
       "      <td>0</td>\n",
       "      <td>3</td>\n",
       "      <td>1</td>\n",
       "      <td>0</td>\n",
       "      <td>2</td>\n",
       "    </tr>\n",
       "    <tr>\n",
       "      <th>1</th>\n",
       "      <td>mp3raid.com/music/krizz_kaliko.html</td>\n",
       "      <td>benign</td>\n",
       "      <td>0</td>\n",
       "      <td>0</td>\n",
       "      <td>0</td>\n",
       "      <td>0</td>\n",
       "      <td>2</td>\n",
       "    </tr>\n",
       "    <tr>\n",
       "      <th>2</th>\n",
       "      <td>bopsecrets.org/rexroth/cr/1.htm</td>\n",
       "      <td>benign</td>\n",
       "      <td>0</td>\n",
       "      <td>0</td>\n",
       "      <td>0</td>\n",
       "      <td>0</td>\n",
       "      <td>2</td>\n",
       "    </tr>\n",
       "    <tr>\n",
       "      <th>3</th>\n",
       "      <td>http://www.garage-pirenne.be/index.php?option=...</td>\n",
       "      <td>defacement</td>\n",
       "      <td>0</td>\n",
       "      <td>1</td>\n",
       "      <td>1</td>\n",
       "      <td>1</td>\n",
       "      <td>3</td>\n",
       "    </tr>\n",
       "    <tr>\n",
       "      <th>4</th>\n",
       "      <td>http://adventure-nicaragua.net/index.php?optio...</td>\n",
       "      <td>defacement</td>\n",
       "      <td>0</td>\n",
       "      <td>1</td>\n",
       "      <td>1</td>\n",
       "      <td>1</td>\n",
       "      <td>2</td>\n",
       "    </tr>\n",
       "  </tbody>\n",
       "</table>\n",
       "</div>"
      ],
      "text/plain": [
       "                                                 url        type  use_of_ip  \\\n",
       "0                                   br-icloud.com.br    phishing          0   \n",
       "1                mp3raid.com/music/krizz_kaliko.html      benign          0   \n",
       "2                    bopsecrets.org/rexroth/cr/1.htm      benign          0   \n",
       "3  http://www.garage-pirenne.be/index.php?option=...  defacement          0   \n",
       "4  http://adventure-nicaragua.net/index.php?optio...  defacement          0   \n",
       "\n",
       "   type_code  url_property  abnormal_url  count.  \n",
       "0          3             1             0       2  \n",
       "1          0             0             0       2  \n",
       "2          0             0             0       2  \n",
       "3          1             1             1       3  \n",
       "4          1             1             1       2  "
      ]
     },
     "execution_count": 12,
     "metadata": {},
     "output_type": "execute_result"
    }
   ],
   "source": [
    "df['count.'] = df['url'].apply(lambda i: i.count('.'))\n",
    "df.head()"
   ]
  },
  {
   "cell_type": "code",
   "execution_count": 13,
   "metadata": {
    "id": "3cOMmhVoJdN_"
   },
   "outputs": [],
   "source": [
    "df['count-www'] = df['url'].apply(lambda i: i.count('www'))\n",
    "df['count@'] = df['url'].apply(lambda i: i.count('@'))\n",
    "from urllib.parse import urlparse\n",
    "def no_of_dir(url):\n",
    "    urldir = urlparse(url).path\n",
    "    return urldir.count('/')\n",
    "df['count_dir'] = df['url'].apply(lambda i: no_of_dir(i))\n",
    "def no_of_embed(url):\n",
    "    urldir = urlparse(url).path\n",
    "    return urldir.count('//')\n",
    "df['count_embed_domian'] = df['url'].apply(lambda i: no_of_embed(i))\n",
    "def shortening_service(url):\n",
    "    match = re.search('bit\\.ly|goo\\.gl|shorte\\.st|go2l\\.ink|x\\.co|ow\\.ly|t\\.co|tinyurl|tr\\.im|is\\.gd|cli\\.gs|'\n",
    "                      'yfrog\\.com|migre\\.me|ff\\.im|tiny\\.cc|url4\\.eu|twit\\.ac|su\\.pr|twurl\\.nl|snipurl\\.com|'\n",
    "                      'short\\.to|BudURL\\.com|ping\\.fm|post\\.ly|Just\\.as|bkite\\.com|snipr\\.com|fic\\.kr|loopt\\.us|'\n",
    "                      'doiop\\.com|short\\.ie|kl\\.am|wp\\.me|rubyurl\\.com|om\\.ly|to\\.ly|bit\\.do|t\\.co|lnkd\\.in|'\n",
    "                      'db\\.tt|qr\\.ae|adf\\.ly|goo\\.gl|bitly\\.com|cur\\.lv|tinyurl\\.com|ow\\.ly|bit\\.ly|ity\\.im|'\n",
    "                      'q\\.gs|is\\.gd|po\\.st|bc\\.vc|twitthis\\.com|u\\.to|j\\.mp|buzurl\\.com|cutt\\.us|u\\.bb|yourls\\.org|'\n",
    "                      'x\\.co|prettylinkpro\\.com|scrnch\\.me|filoops\\.info|vzturl\\.com|qr\\.net|1url\\.com|tweez\\.me|v\\.gd|'\n",
    "                      'tr\\.im|link\\.zip\\.net',\n",
    "                      url)\n",
    "    if match:\n",
    "        return 1\n",
    "    else:\n",
    "        return 0\n",
    "df['short_url'] = df['url'].apply(lambda i: shortening_service(i))\n",
    "# df['short_url'] = df['short_url'].astype(str)"
   ]
  },
  {
   "cell_type": "code",
   "execution_count": 14,
   "metadata": {
    "id": "LmwdNsHBJdN_"
   },
   "outputs": [],
   "source": [
    "df['count-https'] = df['url'].apply(lambda i : i.count('https'))\n",
    "# df['count-https'] = df['count-https'].astype(str)\n",
    "df['count-http'] = df['url'].apply(lambda i : i.count('http'))"
   ]
  },
  {
   "cell_type": "code",
   "execution_count": 15,
   "metadata": {
    "colab": {
     "base_uri": "https://localhost:8080/",
     "height": 278
    },
    "id": "SAlxTGoaJdN_",
    "outputId": "d1957187-d18d-4b4e-e168-32c4845560b5"
   },
   "outputs": [
    {
     "data": {
      "text/html": [
       "<div>\n",
       "<style scoped>\n",
       "    .dataframe tbody tr th:only-of-type {\n",
       "        vertical-align: middle;\n",
       "    }\n",
       "\n",
       "    .dataframe tbody tr th {\n",
       "        vertical-align: top;\n",
       "    }\n",
       "\n",
       "    .dataframe thead th {\n",
       "        text-align: right;\n",
       "    }\n",
       "</style>\n",
       "<table border=\"1\" class=\"dataframe\">\n",
       "  <thead>\n",
       "    <tr style=\"text-align: right;\">\n",
       "      <th></th>\n",
       "      <th>url</th>\n",
       "      <th>type</th>\n",
       "      <th>use_of_ip</th>\n",
       "      <th>type_code</th>\n",
       "      <th>url_property</th>\n",
       "      <th>abnormal_url</th>\n",
       "      <th>count.</th>\n",
       "      <th>count-www</th>\n",
       "      <th>count@</th>\n",
       "      <th>count_dir</th>\n",
       "      <th>count_embed_domian</th>\n",
       "      <th>short_url</th>\n",
       "      <th>count-https</th>\n",
       "      <th>count-http</th>\n",
       "      <th>count%</th>\n",
       "      <th>count?</th>\n",
       "      <th>count-</th>\n",
       "      <th>count=</th>\n",
       "      <th>url_length</th>\n",
       "      <th>hostname_length</th>\n",
       "    </tr>\n",
       "  </thead>\n",
       "  <tbody>\n",
       "    <tr>\n",
       "      <th>0</th>\n",
       "      <td>br-icloud.com.br</td>\n",
       "      <td>phishing</td>\n",
       "      <td>0</td>\n",
       "      <td>3</td>\n",
       "      <td>1</td>\n",
       "      <td>0</td>\n",
       "      <td>2</td>\n",
       "      <td>0</td>\n",
       "      <td>0</td>\n",
       "      <td>0</td>\n",
       "      <td>0</td>\n",
       "      <td>0</td>\n",
       "      <td>0</td>\n",
       "      <td>0</td>\n",
       "      <td>0</td>\n",
       "      <td>0</td>\n",
       "      <td>1</td>\n",
       "      <td>0</td>\n",
       "      <td>16</td>\n",
       "      <td>0</td>\n",
       "    </tr>\n",
       "    <tr>\n",
       "      <th>1</th>\n",
       "      <td>mp3raid.com/music/krizz_kaliko.html</td>\n",
       "      <td>benign</td>\n",
       "      <td>0</td>\n",
       "      <td>0</td>\n",
       "      <td>0</td>\n",
       "      <td>0</td>\n",
       "      <td>2</td>\n",
       "      <td>0</td>\n",
       "      <td>0</td>\n",
       "      <td>2</td>\n",
       "      <td>0</td>\n",
       "      <td>0</td>\n",
       "      <td>0</td>\n",
       "      <td>0</td>\n",
       "      <td>0</td>\n",
       "      <td>0</td>\n",
       "      <td>0</td>\n",
       "      <td>0</td>\n",
       "      <td>35</td>\n",
       "      <td>0</td>\n",
       "    </tr>\n",
       "    <tr>\n",
       "      <th>2</th>\n",
       "      <td>bopsecrets.org/rexroth/cr/1.htm</td>\n",
       "      <td>benign</td>\n",
       "      <td>0</td>\n",
       "      <td>0</td>\n",
       "      <td>0</td>\n",
       "      <td>0</td>\n",
       "      <td>2</td>\n",
       "      <td>0</td>\n",
       "      <td>0</td>\n",
       "      <td>3</td>\n",
       "      <td>0</td>\n",
       "      <td>0</td>\n",
       "      <td>0</td>\n",
       "      <td>0</td>\n",
       "      <td>0</td>\n",
       "      <td>0</td>\n",
       "      <td>0</td>\n",
       "      <td>0</td>\n",
       "      <td>31</td>\n",
       "      <td>0</td>\n",
       "    </tr>\n",
       "    <tr>\n",
       "      <th>3</th>\n",
       "      <td>http://www.garage-pirenne.be/index.php?option=...</td>\n",
       "      <td>defacement</td>\n",
       "      <td>0</td>\n",
       "      <td>1</td>\n",
       "      <td>1</td>\n",
       "      <td>1</td>\n",
       "      <td>3</td>\n",
       "      <td>1</td>\n",
       "      <td>0</td>\n",
       "      <td>1</td>\n",
       "      <td>0</td>\n",
       "      <td>0</td>\n",
       "      <td>0</td>\n",
       "      <td>1</td>\n",
       "      <td>0</td>\n",
       "      <td>1</td>\n",
       "      <td>1</td>\n",
       "      <td>4</td>\n",
       "      <td>88</td>\n",
       "      <td>21</td>\n",
       "    </tr>\n",
       "    <tr>\n",
       "      <th>4</th>\n",
       "      <td>http://adventure-nicaragua.net/index.php?optio...</td>\n",
       "      <td>defacement</td>\n",
       "      <td>0</td>\n",
       "      <td>1</td>\n",
       "      <td>1</td>\n",
       "      <td>1</td>\n",
       "      <td>2</td>\n",
       "      <td>0</td>\n",
       "      <td>0</td>\n",
       "      <td>1</td>\n",
       "      <td>0</td>\n",
       "      <td>0</td>\n",
       "      <td>0</td>\n",
       "      <td>1</td>\n",
       "      <td>0</td>\n",
       "      <td>1</td>\n",
       "      <td>1</td>\n",
       "      <td>3</td>\n",
       "      <td>235</td>\n",
       "      <td>23</td>\n",
       "    </tr>\n",
       "  </tbody>\n",
       "</table>\n",
       "</div>"
      ],
      "text/plain": [
       "                                                 url        type  use_of_ip  \\\n",
       "0                                   br-icloud.com.br    phishing          0   \n",
       "1                mp3raid.com/music/krizz_kaliko.html      benign          0   \n",
       "2                    bopsecrets.org/rexroth/cr/1.htm      benign          0   \n",
       "3  http://www.garage-pirenne.be/index.php?option=...  defacement          0   \n",
       "4  http://adventure-nicaragua.net/index.php?optio...  defacement          0   \n",
       "\n",
       "   type_code  url_property  abnormal_url  count.  count-www  count@  \\\n",
       "0          3             1             0       2          0       0   \n",
       "1          0             0             0       2          0       0   \n",
       "2          0             0             0       2          0       0   \n",
       "3          1             1             1       3          1       0   \n",
       "4          1             1             1       2          0       0   \n",
       "\n",
       "   count_dir  count_embed_domian  short_url  count-https  count-http  count%  \\\n",
       "0          0                   0          0            0           0       0   \n",
       "1          2                   0          0            0           0       0   \n",
       "2          3                   0          0            0           0       0   \n",
       "3          1                   0          0            0           1       0   \n",
       "4          1                   0          0            0           1       0   \n",
       "\n",
       "   count?  count-  count=  url_length  hostname_length  \n",
       "0       0       1       0          16                0  \n",
       "1       0       0       0          35                0  \n",
       "2       0       0       0          31                0  \n",
       "3       1       1       4          88               21  \n",
       "4       1       1       3         235               23  "
      ]
     },
     "execution_count": 15,
     "metadata": {},
     "output_type": "execute_result"
    }
   ],
   "source": [
    "df['count%'] = df['url'].apply(lambda i: i.count('%'))\n",
    "df['count?'] = df['url'].apply(lambda i: i.count('?'))\n",
    "df['count-'] = df['url'].apply(lambda i: i.count('-'))\n",
    "df['count='] = df['url'].apply(lambda i: i.count('='))\n",
    "#Length of URL\n",
    "df['url_length'] = df['url'].apply(lambda i: len(str(i)))\n",
    "#Hostname Length\n",
    "df['hostname_length'] = df['url'].apply(lambda i: len(urlparse(i).netloc))\n",
    "\n",
    "df.head()"
   ]
  },
  {
   "cell_type": "code",
   "execution_count": 16,
   "metadata": {
    "id": "P5N3kajsJdOA"
   },
   "outputs": [],
   "source": [
    "def suspicious_words(url):\n",
    "    match = re.search('PayPal|login|signin|bank|account|update|free|lucky|service|bonus|ebayisapi|webscr',\n",
    "                      url)\n",
    "    if match:\n",
    "        return 1\n",
    "    else:\n",
    "        return 0\n",
    "df['sus_url'] = df['url'].apply(lambda i: suspicious_words(i))"
   ]
  },
  {
   "cell_type": "code",
   "execution_count": 17,
   "metadata": {
    "colab": {
     "base_uri": "https://localhost:8080/",
     "height": 278
    },
    "id": "szLt1jgMJdOA",
    "outputId": "580925c7-b070-4b49-dc14-ed9a89bba307"
   },
   "outputs": [
    {
     "data": {
      "text/html": [
       "<div>\n",
       "<style scoped>\n",
       "    .dataframe tbody tr th:only-of-type {\n",
       "        vertical-align: middle;\n",
       "    }\n",
       "\n",
       "    .dataframe tbody tr th {\n",
       "        vertical-align: top;\n",
       "    }\n",
       "\n",
       "    .dataframe thead th {\n",
       "        text-align: right;\n",
       "    }\n",
       "</style>\n",
       "<table border=\"1\" class=\"dataframe\">\n",
       "  <thead>\n",
       "    <tr style=\"text-align: right;\">\n",
       "      <th></th>\n",
       "      <th>url</th>\n",
       "      <th>type</th>\n",
       "      <th>use_of_ip</th>\n",
       "      <th>type_code</th>\n",
       "      <th>url_property</th>\n",
       "      <th>abnormal_url</th>\n",
       "      <th>count.</th>\n",
       "      <th>count-www</th>\n",
       "      <th>count@</th>\n",
       "      <th>count_dir</th>\n",
       "      <th>...</th>\n",
       "      <th>short_url</th>\n",
       "      <th>count-https</th>\n",
       "      <th>count-http</th>\n",
       "      <th>count%</th>\n",
       "      <th>count?</th>\n",
       "      <th>count-</th>\n",
       "      <th>count=</th>\n",
       "      <th>url_length</th>\n",
       "      <th>hostname_length</th>\n",
       "      <th>sus_url</th>\n",
       "    </tr>\n",
       "  </thead>\n",
       "  <tbody>\n",
       "    <tr>\n",
       "      <th>0</th>\n",
       "      <td>br-icloud.com.br</td>\n",
       "      <td>phishing</td>\n",
       "      <td>0</td>\n",
       "      <td>3</td>\n",
       "      <td>1</td>\n",
       "      <td>0</td>\n",
       "      <td>2</td>\n",
       "      <td>0</td>\n",
       "      <td>0</td>\n",
       "      <td>0</td>\n",
       "      <td>...</td>\n",
       "      <td>0</td>\n",
       "      <td>0</td>\n",
       "      <td>0</td>\n",
       "      <td>0</td>\n",
       "      <td>0</td>\n",
       "      <td>1</td>\n",
       "      <td>0</td>\n",
       "      <td>16</td>\n",
       "      <td>0</td>\n",
       "      <td>0</td>\n",
       "    </tr>\n",
       "    <tr>\n",
       "      <th>1</th>\n",
       "      <td>mp3raid.com/music/krizz_kaliko.html</td>\n",
       "      <td>benign</td>\n",
       "      <td>0</td>\n",
       "      <td>0</td>\n",
       "      <td>0</td>\n",
       "      <td>0</td>\n",
       "      <td>2</td>\n",
       "      <td>0</td>\n",
       "      <td>0</td>\n",
       "      <td>2</td>\n",
       "      <td>...</td>\n",
       "      <td>0</td>\n",
       "      <td>0</td>\n",
       "      <td>0</td>\n",
       "      <td>0</td>\n",
       "      <td>0</td>\n",
       "      <td>0</td>\n",
       "      <td>0</td>\n",
       "      <td>35</td>\n",
       "      <td>0</td>\n",
       "      <td>0</td>\n",
       "    </tr>\n",
       "    <tr>\n",
       "      <th>2</th>\n",
       "      <td>bopsecrets.org/rexroth/cr/1.htm</td>\n",
       "      <td>benign</td>\n",
       "      <td>0</td>\n",
       "      <td>0</td>\n",
       "      <td>0</td>\n",
       "      <td>0</td>\n",
       "      <td>2</td>\n",
       "      <td>0</td>\n",
       "      <td>0</td>\n",
       "      <td>3</td>\n",
       "      <td>...</td>\n",
       "      <td>0</td>\n",
       "      <td>0</td>\n",
       "      <td>0</td>\n",
       "      <td>0</td>\n",
       "      <td>0</td>\n",
       "      <td>0</td>\n",
       "      <td>0</td>\n",
       "      <td>31</td>\n",
       "      <td>0</td>\n",
       "      <td>0</td>\n",
       "    </tr>\n",
       "    <tr>\n",
       "      <th>3</th>\n",
       "      <td>http://www.garage-pirenne.be/index.php?option=...</td>\n",
       "      <td>defacement</td>\n",
       "      <td>0</td>\n",
       "      <td>1</td>\n",
       "      <td>1</td>\n",
       "      <td>1</td>\n",
       "      <td>3</td>\n",
       "      <td>1</td>\n",
       "      <td>0</td>\n",
       "      <td>1</td>\n",
       "      <td>...</td>\n",
       "      <td>0</td>\n",
       "      <td>0</td>\n",
       "      <td>1</td>\n",
       "      <td>0</td>\n",
       "      <td>1</td>\n",
       "      <td>1</td>\n",
       "      <td>4</td>\n",
       "      <td>88</td>\n",
       "      <td>21</td>\n",
       "      <td>0</td>\n",
       "    </tr>\n",
       "    <tr>\n",
       "      <th>4</th>\n",
       "      <td>http://adventure-nicaragua.net/index.php?optio...</td>\n",
       "      <td>defacement</td>\n",
       "      <td>0</td>\n",
       "      <td>1</td>\n",
       "      <td>1</td>\n",
       "      <td>1</td>\n",
       "      <td>2</td>\n",
       "      <td>0</td>\n",
       "      <td>0</td>\n",
       "      <td>1</td>\n",
       "      <td>...</td>\n",
       "      <td>0</td>\n",
       "      <td>0</td>\n",
       "      <td>1</td>\n",
       "      <td>0</td>\n",
       "      <td>1</td>\n",
       "      <td>1</td>\n",
       "      <td>3</td>\n",
       "      <td>235</td>\n",
       "      <td>23</td>\n",
       "      <td>0</td>\n",
       "    </tr>\n",
       "  </tbody>\n",
       "</table>\n",
       "<p>5 rows × 21 columns</p>\n",
       "</div>"
      ],
      "text/plain": [
       "                                                 url        type  use_of_ip  \\\n",
       "0                                   br-icloud.com.br    phishing          0   \n",
       "1                mp3raid.com/music/krizz_kaliko.html      benign          0   \n",
       "2                    bopsecrets.org/rexroth/cr/1.htm      benign          0   \n",
       "3  http://www.garage-pirenne.be/index.php?option=...  defacement          0   \n",
       "4  http://adventure-nicaragua.net/index.php?optio...  defacement          0   \n",
       "\n",
       "   type_code  url_property  abnormal_url  count.  count-www  count@  \\\n",
       "0          3             1             0       2          0       0   \n",
       "1          0             0             0       2          0       0   \n",
       "2          0             0             0       2          0       0   \n",
       "3          1             1             1       3          1       0   \n",
       "4          1             1             1       2          0       0   \n",
       "\n",
       "   count_dir  ...  short_url  count-https  count-http  count%  count?  count-  \\\n",
       "0          0  ...          0            0           0       0       0       1   \n",
       "1          2  ...          0            0           0       0       0       0   \n",
       "2          3  ...          0            0           0       0       0       0   \n",
       "3          1  ...          0            0           1       0       1       1   \n",
       "4          1  ...          0            0           1       0       1       1   \n",
       "\n",
       "   count=  url_length  hostname_length  sus_url  \n",
       "0       0          16                0        0  \n",
       "1       0          35                0        0  \n",
       "2       0          31                0        0  \n",
       "3       4          88               21        0  \n",
       "4       3         235               23        0  \n",
       "\n",
       "[5 rows x 21 columns]"
      ]
     },
     "execution_count": 17,
     "metadata": {},
     "output_type": "execute_result"
    }
   ],
   "source": [
    "df.head()"
   ]
  },
  {
   "cell_type": "code",
   "execution_count": 18,
   "metadata": {
    "colab": {
     "base_uri": "https://localhost:8080/"
    },
    "id": "Pha_wNtuJdOA",
    "outputId": "cfc0e1d5-667f-465c-e774-87c7f0ef36ab"
   },
   "outputs": [
    {
     "name": "stdout",
     "output_type": "stream",
     "text": [
      "Requirement already satisfied: tld in c:\\anaconda\\lib\\site-packages (0.13)\n"
     ]
    }
   ],
   "source": [
    "\n",
    "!pip install tld"
   ]
  },
  {
   "cell_type": "code",
   "execution_count": 19,
   "metadata": {
    "id": "F2VwDmejJdOA"
   },
   "outputs": [],
   "source": [
    "#Importing dependencies\n",
    "from urllib.parse import urlparse\n",
    "from tld import get_tld\n",
    "import os.path\n",
    "\n",
    "#First Directory Length\n",
    "def fd_length(url):\n",
    "    urlpath= urlparse(url).path\n",
    "    try:\n",
    "        return len(urlpath.split('/')[1])\n",
    "    except:\n",
    "        return 0\n",
    "\n",
    "df['fd_length'] = df['url'].apply(lambda i: fd_length(i))\n",
    "\n",
    "#Length of Top Level Domain\n",
    "df['tld'] = df['url'].apply(lambda i: get_tld(i,fail_silently=True))\n",
    "def tld_length(tld):\n",
    "    try:\n",
    "        return len(tld)\n",
    "    except:\n",
    "        return -1\n",
    "\n",
    "df['tld_length'] = df['tld'].apply(lambda i: tld_length(i))"
   ]
  },
  {
   "cell_type": "code",
   "execution_count": 20,
   "metadata": {
    "id": "bsOT8WMPJdOB"
   },
   "outputs": [],
   "source": [
    "def digit_count(url):\n",
    "    digits = 0\n",
    "    for i in url:\n",
    "        if i.isnumeric():\n",
    "            digits = digits + 1\n",
    "    return digits\n",
    "df['count-digits']= df['url'].apply(lambda i: digit_count(i))"
   ]
  },
  {
   "cell_type": "code",
   "execution_count": 21,
   "metadata": {
    "id": "u0OLOv7WJdOB"
   },
   "outputs": [],
   "source": [
    "def letter_count(url):\n",
    "    letters = 0\n",
    "    for i in url:\n",
    "        if i.isalpha():\n",
    "            letters = letters + 1\n",
    "    return letters\n",
    "df['count-letters']= df['url'].apply(lambda i: letter_count(i))"
   ]
  },
  {
   "cell_type": "code",
   "execution_count": 22,
   "metadata": {
    "id": "l6hY4HovJdOB"
   },
   "outputs": [],
   "source": [
    "df = df.drop(columns=\"tld\")"
   ]
  },
  {
   "cell_type": "code",
   "execution_count": 23,
   "metadata": {
    "colab": {
     "base_uri": "https://localhost:8080/"
    },
    "id": "D4sksVIiJdOC",
    "outputId": "4bf95f0f-bdfb-42de-95d3-c14595982712"
   },
   "outputs": [
    {
     "data": {
      "text/plain": [
       "'\\nfrom sklearn.preprocessing import LabelEncoder\\n\\nlb_make = LabelEncoder()\\ndf[\"type_code\"] = lb_make.fit_transform(df[\"type\"])\\ndf[\"type_code\"].value_counts()\\n'"
      ]
     },
     "execution_count": 23,
     "metadata": {},
     "output_type": "execute_result"
    }
   ],
   "source": [
    "'''\n",
    "from sklearn.preprocessing import LabelEncoder\n",
    "\n",
    "lb_make = LabelEncoder()\n",
    "df[\"type_code\"] = lb_make.fit_transform(df[\"type\"])\n",
    "df[\"type_code\"].value_counts()\n",
    "'''"
   ]
  },
  {
   "cell_type": "code",
   "execution_count": 24,
   "metadata": {},
   "outputs": [
    {
     "data": {
      "text/plain": [
       "url                   object\n",
       "type                  object\n",
       "use_of_ip              int64\n",
       "type_code              int32\n",
       "url_property           int32\n",
       "abnormal_url           int64\n",
       "count.                 int64\n",
       "count-www              int64\n",
       "count@                 int64\n",
       "count_dir              int64\n",
       "count_embed_domian     int64\n",
       "short_url              int64\n",
       "count-https            int64\n",
       "count-http             int64\n",
       "count%                 int64\n",
       "count?                 int64\n",
       "count-                 int64\n",
       "count=                 int64\n",
       "url_length             int64\n",
       "hostname_length        int64\n",
       "sus_url                int64\n",
       "fd_length              int64\n",
       "tld_length             int64\n",
       "count-digits           int64\n",
       "count-letters          int64\n",
       "dtype: object"
      ]
     },
     "execution_count": 24,
     "metadata": {},
     "output_type": "execute_result"
    }
   ],
   "source": [
    "# 打印数据框的基本信息\n",
    "df.dtypes"
   ]
  },
  {
   "cell_type": "markdown",
   "metadata": {},
   "source": [
    "# Data Split"
   ]
  },
  {
   "cell_type": "code",
   "execution_count": 25,
   "metadata": {},
   "outputs": [],
   "source": [
    "import pandas as pd\n",
    "import numpy as np\n",
    "\n",
    "# Filter the dataset to include only the 'benign', 'phishing', and 'malware' classes\n",
    "train_df = df[df['type'].isin(['benign', 'defacement', 'malware'])]\n",
    "\n",
    "# Get the 'benign' URLs\n",
    "benign_urls = train_df[train_df['type'] == 'benign']['url']\n",
    "\n",
    "# Randomly sample 96457 'benign' URLs\n",
    "test_benign_urls = benign_urls.sample(n=94111, random_state=42)\n",
    "\n",
    "# Create the test set\n",
    "test_df = df[df['url'].isin(test_benign_urls) | (df['type'] == 'phishing')]\n",
    "\n",
    "# Create the training set\n",
    "train_df = train_df[~train_df['url'].isin(test_benign_urls)]"
   ]
  },
  {
   "cell_type": "code",
   "execution_count": 26,
   "metadata": {
    "id": "NzM4t55-JdOC"
   },
   "outputs": [],
   "source": [
    "#Predictor Variables\n",
    "X_train = train_df[['use_of_ip','abnormal_url', 'count.', 'count-www', 'count@',\n",
    "       'count_dir', 'count_embed_domian', 'short_url', 'count-https',\n",
    "       'count-http', 'count%', 'count?', 'count-', 'count=', 'url_length',\n",
    "       'hostname_length', 'sus_url', 'fd_length', 'tld_length', 'count-digits',\n",
    "       'count-letters']]\n",
    "\n",
    "X_test = test_df[['use_of_ip','abnormal_url', 'count.', 'count-www', 'count@',\n",
    "       'count_dir', 'count_embed_domian', 'short_url', 'count-https',\n",
    "       'count-http', 'count%', 'count?', 'count-', 'count=', 'url_length',\n",
    "       'hostname_length', 'sus_url', 'fd_length', 'tld_length', 'count-digits',\n",
    "       'count-letters']]\n",
    "\n",
    "#Target Variable\n",
    "#y_train = train_df['url_property']\n",
    "\n",
    "y_train_smote = train_df['type_code']\n",
    "\n",
    "y_test = test_df['url_property']"
   ]
  },
  {
   "cell_type": "code",
   "execution_count": 27,
   "metadata": {},
   "outputs": [
    {
     "name": "stdout",
     "output_type": "stream",
     "text": [
      "(462962, 21)\n"
     ]
    }
   ],
   "source": [
    "print(X_train.shape)"
   ]
  },
  {
   "cell_type": "code",
   "execution_count": 28,
   "metadata": {},
   "outputs": [
    {
     "name": "stdout",
     "output_type": "stream",
     "text": [
      "(188229, 21)\n"
     ]
    }
   ],
   "source": [
    "print(X_test.shape)"
   ]
  },
  {
   "cell_type": "code",
   "execution_count": 29,
   "metadata": {},
   "outputs": [
    {
     "name": "stdout",
     "output_type": "stream",
     "text": [
      "(462962,)\n"
     ]
    }
   ],
   "source": [
    "print(y_train_smote.shape)"
   ]
  },
  {
   "cell_type": "code",
   "execution_count": 30,
   "metadata": {},
   "outputs": [
    {
     "name": "stdout",
     "output_type": "stream",
     "text": [
      "(188229,)\n"
     ]
    }
   ],
   "source": [
    "print(y_test.shape)"
   ]
  },
  {
   "cell_type": "code",
   "execution_count": 31,
   "metadata": {},
   "outputs": [
    {
     "name": "stdout",
     "output_type": "stream",
     "text": [
      "Class distribution before resampling: type_code\n",
      "0    333985\n",
      "1     96457\n",
      "2     32520\n",
      "Name: count, dtype: int64\n",
      "Class distribution after resampling: type_code\n",
      "0    333985\n",
      "1    333985\n",
      "2    333985\n",
      "Name: count, dtype: int64\n"
     ]
    }
   ],
   "source": [
    "from imblearn.over_sampling import SMOTE\n",
    "\n",
    "# Instantiate SMOTE\n",
    "sm = SMOTE(random_state=42)\n",
    "\n",
    "# Fit SMOTE to training data\n",
    "X_train_res, y_train_res_smote = sm.fit_resample(X_train, y_train_smote)\n",
    "\n",
    "y_train_s = pd.Series(y_train_smote)\n",
    "y_train_res_smote = pd.Series (y_train_res_smote)\n",
    "\n",
    "# Print class distribution of original and resampled data\n",
    "print('Class distribution before resampling:', y_train_s.value_counts())\n",
    "print('Class distribution after resampling:', y_train_res_smote.value_counts())"
   ]
  },
  {
   "cell_type": "code",
   "execution_count": 32,
   "metadata": {},
   "outputs": [
    {
     "name": "stdout",
     "output_type": "stream",
     "text": [
      "Class distribution after resampling and merging classes: type_code\n",
      "1    667970\n",
      "0    333985\n",
      "Name: count, dtype: int64\n"
     ]
    }
   ],
   "source": [
    "# Create a copy of y_train_res\n",
    "y_train_res = y_train_res_smote.copy()\n",
    "\n",
    "# Set type_code 1 and 2 to 1\n",
    "y_train_res[y_train_res != 0] = 1\n",
    "\n",
    "# Print the new class distribution\n",
    "print('Class distribution after resampling and merging classes:', y_train_res.value_counts())"
   ]
  },
  {
   "cell_type": "markdown",
   "metadata": {},
   "source": [
    "# Before Hyperparameters tuning"
   ]
  },
  {
   "cell_type": "markdown",
   "metadata": {},
   "source": [
    "## LGBMClassifier"
   ]
  },
  {
   "cell_type": "code",
   "execution_count": 33,
   "metadata": {
    "colab": {
     "base_uri": "https://localhost:8080/"
    },
    "id": "71lz0ffiJdOD",
    "outputId": "229075a6-ca13-4e7f-c997-f7b3dc8a167c"
   },
   "outputs": [
    {
     "name": "stdout",
     "output_type": "stream",
     "text": [
      "[LightGBM] [Info] Number of positive: 667970, number of negative: 333985\n",
      "[LightGBM] [Info] Auto-choosing row-wise multi-threading, the overhead of testing was 0.023825 seconds.\n",
      "You can set `force_row_wise=true` to remove the overhead.\n",
      "And if memory is not enough, you can set `force_col_wise=true`.\n",
      "[LightGBM] [Info] Total Bins 1085\n",
      "[LightGBM] [Info] Number of data points in the train set: 1001955, number of used features: 21\n",
      "[LightGBM] [Info] [binary:BoostFromScore]: pavg=0.666667 -> initscore=0.693147\n",
      "[LightGBM] [Info] Start training from score 0.693147\n",
      "              precision    recall  f1-score   support\n",
      "\n",
      "           0       0.65      1.00      0.79     94118\n",
      "           1       0.99      0.46      0.63     94111\n",
      "\n",
      "    accuracy                           0.73    188229\n",
      "   macro avg       0.82      0.73      0.71    188229\n",
      "weighted avg       0.82      0.73      0.71    188229\n",
      "\n",
      "accuracy:   0.731\n"
     ]
    }
   ],
   "source": [
    "# lgb = LGBMClassifier(objective='multiclass',boosting_type= 'gbdt',n_jobs = 5,\n",
    "#          silent = True, random_state=5)\n",
    "import time\n",
    "\n",
    "# Initialize and start the timer for model training\n",
    "start_time_lgb = time.time()\n",
    "lgb = LGBMClassifier( )\n",
    "LGB_C = lgb.fit(X_train_res, y_train_res)\n",
    "\n",
    "# Calculate the model training time\n",
    "training_time_lgbm = time.time() - start_time_lgb\n",
    "\n",
    "y_pred_train = LGB_C.predict(X_train_res)\n",
    "# Initialize and start the timer for model execution\n",
    "start_time = time.time()\n",
    "y_pred = LGB_C.predict(X_test)\n",
    "# Calculate the model execution time\n",
    "execution_time_lgbm = ( time.time() - start_time ) / 188229\n",
    "\n",
    "print(classification_report(y_test,y_pred))\n",
    "\n",
    "score = metrics.accuracy_score(y_test, y_pred)\n",
    "print(\"accuracy:   %0.3f\" % score)"
   ]
  },
  {
   "cell_type": "code",
   "execution_count": 34,
   "metadata": {},
   "outputs": [],
   "source": [
    "lgb_train=LGB_C.predict(X_train_res)\n",
    "lgb_test=LGB_C.predict(X_test)"
   ]
  },
  {
   "cell_type": "code",
   "execution_count": 35,
   "metadata": {
    "id": "BfbtR0lMJdOD"
   },
   "outputs": [],
   "source": [
    "def plot_confusion_matrix(cm, classes,\n",
    "                          normalize=False,\n",
    "                          title='Confusion matrix',\n",
    "                          cmap=plt.cm.Blues):\n",
    "    \"\"\"\n",
    "    See full source and example:\n",
    "    http://scikit-learn.org/stable/auto_examples/model_selection/plot_confusion_matrix.html\n",
    "\n",
    "    This function prints and plots the confusion matrix.\n",
    "    Normalization can be applied by setting `normalize=True`.\n",
    "    \"\"\"\n",
    "    plt.imshow(cm, interpolation='nearest', cmap=cmap)\n",
    "    plt.title(title)\n",
    "    plt.colorbar()\n",
    "    tick_marks = np.arange(len(classes))\n",
    "    plt.xticks(tick_marks, classes, rotation=45)\n",
    "    plt.yticks(tick_marks, classes)\n",
    "\n",
    "    if normalize:\n",
    "        cm = cm.astype('float') / cm.sum(axis=1)[:, np.newaxis]\n",
    "        print(\"Normalized confusion matrix\")\n",
    "    else:\n",
    "        print('Confusion matrix, without normalization')\n",
    "\n",
    "    thresh = cm.max() / 2.\n",
    "    for i, j in itertools.product(range(cm.shape[0]), range(cm.shape[1])):\n",
    "        plt.text(j, i, cm[i, j],\n",
    "                 horizontalalignment=\"center\",\n",
    "                 color=\"white\" if cm[i, j] > thresh else \"black\")\n",
    "\n",
    "    plt.tight_layout()\n",
    "    plt.ylabel('True label')\n",
    "    plt.xlabel('Predicted label')"
   ]
  },
  {
   "cell_type": "code",
   "execution_count": 36,
   "metadata": {
    "colab": {
     "base_uri": "https://localhost:8080/",
     "height": 524
    },
    "id": "2A5i93zlJdOD",
    "outputId": "498fae6b-c2fd-4c42-8fa8-f63c155155b3"
   },
   "outputs": [
    {
     "name": "stdout",
     "output_type": "stream",
     "text": [
      "Confusion matrix, without normalization\n"
     ]
    },
    {
     "data": {
      "image/png": "[encoded data removed]",
      "text/plain": [
       "<Figure size 640x480 with 2 Axes>"
      ]
     },
     "metadata": {},
     "output_type": "display_data"
    }
   ],
   "source": [
    "cm = metrics.confusion_matrix(y_test, y_pred, labels=[0,1])\n",
    "plot_confusion_matrix(cm,classes=['good', 'bad'])"
   ]
  },
  {
   "cell_type": "code",
   "execution_count": 37,
   "metadata": {
    "colab": {
     "base_uri": "https://localhost:8080/"
    },
    "id": "aKbzMmthJdOE",
    "outputId": "090fa740-8c8d-477f-90fb-e178412f9737"
   },
   "outputs": [
    {
     "data": {
      "text/plain": [
       "array([  1,   2, 260, 107,   0, 349,  12,  28,  29,  15,  91,  57, 160,\n",
       "       128, 274, 408,  69, 425, 182, 260, 143])"
      ]
     },
     "execution_count": 37,
     "metadata": {},
     "output_type": "execute_result"
    }
   ],
   "source": [
    "lgb_feature = lgb.feature_importances_\n",
    "lgb_feature"
   ]
  },
  {
   "cell_type": "code",
   "execution_count": 38,
   "metadata": {
    "id": "MLSnDbQzJdOE"
   },
   "outputs": [],
   "source": [
    "lgb_features = lgb_feature.tolist()"
   ]
  },
  {
   "cell_type": "markdown",
   "metadata": {
    "id": "48MMdd827sLT"
   },
   "source": [
    "# Hyper Parameters tuning"
   ]
  },
  {
   "cell_type": "code",
   "execution_count": 39,
   "metadata": {
    "colab": {
     "base_uri": "https://localhost:8080/"
    },
    "id": "ZhR3S7sA8KtH",
    "outputId": "c4a2539d-fac6-4738-b92f-fc1f807d9572"
   },
   "outputs": [
    {
     "name": "stdout",
     "output_type": "stream",
     "text": [
      "Requirement already satisfied: optuna in c:\\anaconda\\lib\\site-packages (3.6.1)\n",
      "Requirement already satisfied: alembic>=1.5.0 in c:\\anaconda\\lib\\site-packages (from optuna) (1.13.1)\n",
      "Requirement already satisfied: colorlog in c:\\anaconda\\lib\\site-packages (from optuna) (6.8.2)\n",
      "Requirement already satisfied: numpy in c:\\anaconda\\lib\\site-packages (from optuna) (1.26.4)\n",
      "Requirement already satisfied: packaging>=20.0 in c:\\anaconda\\lib\\site-packages (from optuna) (23.1)\n",
      "Requirement already satisfied: sqlalchemy>=1.3.0 in c:\\anaconda\\lib\\site-packages (from optuna) (2.0.25)\n",
      "Requirement already satisfied: tqdm in c:\\anaconda\\lib\\site-packages (from optuna) (4.65.0)\n",
      "Requirement already satisfied: PyYAML in c:\\anaconda\\lib\\site-packages (from optuna) (6.0.1)\n",
      "Requirement already satisfied: Mako in c:\\anaconda\\lib\\site-packages (from alembic>=1.5.0->optuna) (1.3.5)\n",
      "Requirement already satisfied: typing-extensions>=4 in c:\\anaconda\\lib\\site-packages (from alembic>=1.5.0->optuna) (4.9.0)\n",
      "Requirement already satisfied: greenlet!=0.4.17 in c:\\anaconda\\lib\\site-packages (from sqlalchemy>=1.3.0->optuna) (3.0.1)\n",
      "Requirement already satisfied: colorama in c:\\anaconda\\lib\\site-packages (from colorlog->optuna) (0.4.6)\n",
      "Requirement already satisfied: MarkupSafe>=0.9.2 in c:\\anaconda\\lib\\site-packages (from Mako->alembic>=1.5.0->optuna) (2.1.3)\n",
      "Note: you may need to restart the kernel to use updated packages.\n"
     ]
    }
   ],
   "source": [
    "pip install optuna"
   ]
  },
  {
   "cell_type": "code",
   "execution_count": 40,
   "metadata": {
    "colab": {
     "base_uri": "https://localhost:8080/"
    },
    "id": "AO9b551S7ykQ",
    "outputId": "9c7c2070-d506-4d9e-b3ea-62d7681c5e7d"
   },
   "outputs": [
    {
     "data": {
      "text/plain": [
       "'\\nimport optuna\\nfrom sklearn.ensemble import RandomForestClassifier\\nfrom sklearn.metrics import accuracy_score\\n\\ndef objective(trial):\\n    # Number of trees in random forest\\n    \\n    n_estimators = trial.suggest_int(name=\"n_estimators\", low=100, high=500, step=100)\\n\\n    # Number of features to consider at every split\\n    max_features = trial.suggest_categorical(name=\"max_features\", choices=[\\'auto\\', \\'sqrt\\'])\\n\\n    # Maximum number of levels in tree\\n    max_depth = trial.suggest_int(name=\"max_depth\", low=10, high=110, step=20)\\n\\n    # Minimum number of samples required to split a node\\n    min_samples_split = trial.suggest_int(name=\"min_samples_split\", low=2, high=10, step=2)\\n\\n    # Minimum number of samples required at each leaf node\\n    min_samples_leaf = trial.suggest_int(name=\"min_samples_leaf\", low=1, high=4, step=1)\\n\\n    \\n    # Random state\\n    random_state = trial.suggest_int(name=\"random_state\", low=0, high=100, step=1)\\n    \\n    params = {\\n        \"n_estimators\": n_estimators,\\n        \"max_features\": max_features,\\n        \"max_depth\": max_depth,\\n        \"min_samples_split\": min_samples_split,\\n        \"min_samples_leaf\": min_samples_leaf,\\n        \"random_state\": random_state\\n    }\\n    \\n\\n    params = {\\n        \"random_state\": random_state\\n    }\\n    model = RandomForestClassifier(**params)\\n    model.fit(X_train, y_train)\\n    predictions = model.predict(X_test)\\n    # Calculate the accuracy of the model\\n    accuracy = accuracy_score(y_test, predictions)\\n    return accuracy\\n\\nstudy = optuna.create_study(direction=\\'maximize\\')\\nstudy.optimize(objective, n_trials=30)\\n\\nprint(\\'Best hyperparameters:\\', study.best_params)\\nprint(\\'Best Accuracy:\\', study.best_value)\\n'"
      ]
     },
     "execution_count": 40,
     "metadata": {},
     "output_type": "execute_result"
    }
   ],
   "source": [
    "'''\n",
    "import optuna\n",
    "from sklearn.ensemble import RandomForestClassifier\n",
    "from sklearn.metrics import accuracy_score\n",
    "\n",
    "def objective(trial):\n",
    "    # Number of trees in random forest\n",
    "    \n",
    "    n_estimators = trial.suggest_int(name=\"n_estimators\", low=100, high=500, step=100)\n",
    "\n",
    "    # Number of features to consider at every split\n",
    "    max_features = trial.suggest_categorical(name=\"max_features\", choices=['auto', 'sqrt'])\n",
    "\n",
    "    # Maximum number of levels in tree\n",
    "    max_depth = trial.suggest_int(name=\"max_depth\", low=10, high=110, step=20)\n",
    "\n",
    "    # Minimum number of samples required to split a node\n",
    "    min_samples_split = trial.suggest_int(name=\"min_samples_split\", low=2, high=10, step=2)\n",
    "\n",
    "    # Minimum number of samples required at each leaf node\n",
    "    min_samples_leaf = trial.suggest_int(name=\"min_samples_leaf\", low=1, high=4, step=1)\n",
    "\n",
    "    \n",
    "    # Random state\n",
    "    random_state = trial.suggest_int(name=\"random_state\", low=0, high=100, step=1)\n",
    "    \n",
    "    params = {\n",
    "        \"n_estimators\": n_estimators,\n",
    "        \"max_features\": max_features,\n",
    "        \"max_depth\": max_depth,\n",
    "        \"min_samples_split\": min_samples_split,\n",
    "        \"min_samples_leaf\": min_samples_leaf,\n",
    "        \"random_state\": random_state\n",
    "    }\n",
    "    \n",
    "\n",
    "    params = {\n",
    "        \"random_state\": random_state\n",
    "    }\n",
    "    model = RandomForestClassifier(**params)\n",
    "    model.fit(X_train, y_train)\n",
    "    predictions = model.predict(X_test)\n",
    "    # Calculate the accuracy of the model\n",
    "    accuracy = accuracy_score(y_test, predictions)\n",
    "    return accuracy\n",
    "\n",
    "study = optuna.create_study(direction='maximize')\n",
    "study.optimize(objective, n_trials=30)\n",
    "\n",
    "print('Best hyperparameters:', study.best_params)\n",
    "print('Best Accuracy:', study.best_value)\n",
    "'''"
   ]
  },
  {
   "cell_type": "markdown",
   "metadata": {},
   "source": [
    "## SGD Classifier"
   ]
  },
  {
   "cell_type": "code",
   "execution_count": 41,
   "metadata": {},
   "outputs": [
    {
     "name": "stdout",
     "output_type": "stream",
     "text": [
      "              precision    recall  f1-score   support\n",
      "\n",
      "           0       0.56      0.98      0.71     94118\n",
      "           1       0.90      0.22      0.35     94111\n",
      "\n",
      "    accuracy                           0.60    188229\n",
      "   macro avg       0.73      0.60      0.53    188229\n",
      "weighted avg       0.73      0.60      0.53    188229\n",
      "\n",
      "accuracy:   0.598\n"
     ]
    }
   ],
   "source": [
    "# Initialize and start the timer for model training\n",
    "start_time_sgd = time.time()\n",
    "\n",
    "# Initialize and train the SGDClassifier\n",
    "sgd_classifier = SGDClassifier( )\n",
    "sgd_classifier.fit(X_train_res, y_train_res)\n",
    "\n",
    "# Calculate the model training time\n",
    "training_time_sgd = time.time() - start_time_sgd\n",
    "\n",
    "# Initialize and start the timer for model execution\n",
    "start_time = time.time()\n",
    "\n",
    "# Predict the labels for the testing set\n",
    "y_pred_sgd = sgd_classifier.predict(X_test)\n",
    "\n",
    "# Calculate the model execution time\n",
    "execution_time_sgd = ( time.time() - start_time ) / 188229\n",
    "\n",
    "print(classification_report(y_test, y_pred_sgd))\n",
    "\n",
    "score = metrics.accuracy_score(y_test, y_pred_sgd)\n",
    "print(\"accuracy:   %0.3f\" % score)"
   ]
  },
  {
   "cell_type": "markdown",
   "metadata": {},
   "source": [
    "## Extra_trees_classifier"
   ]
  },
  {
   "cell_type": "code",
   "execution_count": 42,
   "metadata": {},
   "outputs": [
    {
     "name": "stdout",
     "output_type": "stream",
     "text": [
      "              precision    recall  f1-score   support\n",
      "\n",
      "           0       0.63      1.00      0.77     94118\n",
      "           1       1.00      0.42      0.59     94111\n",
      "\n",
      "    accuracy                           0.71    188229\n",
      "   macro avg       0.81      0.71      0.68    188229\n",
      "weighted avg       0.81      0.71      0.68    188229\n",
      "\n",
      "accuracy:   0.709\n"
     ]
    }
   ],
   "source": [
    "# Initialize and start the timer for model training\n",
    "start_time_et = time.time()\n",
    "\n",
    "# Initialize and train the ExtraTreesClassifier\n",
    "extra_trees_classifier = ExtraTreesClassifier( )\n",
    "extra_trees_classifier.fit(X_train_res, y_train_res)\n",
    "\n",
    "# Calculate the model training time\n",
    "training_time_et = time.time() - start_time_et\n",
    "\n",
    "# Initialize and start the timer for model execution\n",
    "start_time = time.time()\n",
    "\n",
    "# Predict the labels for the testing set\n",
    "y_pred_extra_trees = extra_trees_classifier.predict(X_test)\n",
    "\n",
    "# Calculate the model execution time\n",
    "execution_time_et = ( time.time() - start_time ) / 192922\n",
    "\n",
    "print(classification_report(y_test, y_pred_extra_trees))\n",
    "\n",
    "score = metrics.accuracy_score(y_test, y_pred_extra_trees)\n",
    "print(\"accuracy:   %0.3f\" % score)"
   ]
  },
  {
   "cell_type": "code",
   "execution_count": 43,
   "metadata": {},
   "outputs": [
    {
     "name": "stdout",
     "output_type": "stream",
     "text": [
      "Confusion matrix, without normalization\n"
     ]
    },
    {
     "data": {
      "image/png": "[encoded data removed]",
      "text/plain": [
       "<Figure size 640x480 with 2 Axes>"
      ]
     },
     "metadata": {},
     "output_type": "display_data"
    }
   ],
   "source": [
    "CM_Extra=confusion_matrix(y_test, y_pred_extra_trees ,labels=[0,1])\n",
    "\n",
    "plot_confusion_matrix(CM_Extra, classes=['good', 'bad'])"
   ]
  },
  {
   "cell_type": "code",
   "execution_count": 44,
   "metadata": {},
   "outputs": [
    {
     "data": {
      "image/png": "[encoded data removed]",
      "text/plain": [
       "<Figure size 640x480 with 2 Axes>"
      ]
     },
     "metadata": {},
     "output_type": "display_data"
    }
   ],
   "source": [
    "from sklearn.metrics import ConfusionMatrixDisplay\n",
    "sample_weight = (y_pred_extra_trees != y_test)\n",
    "ConfusionMatrixDisplay.from_predictions(y_test, y_pred_extra_trees, sample_weight=sample_weight, normalize=\"true\", values_format=\".0%\")\n",
    "plt.title('Extra trees classifier Error Matrix')\n",
    "plt.ylabel('Actual Values')\n",
    "plt.xlabel('Predicted Values')\n",
    "# Save the plot as a PDF\n",
    "plt.savefig('Extra trees classifier Error Matrix.pdf', format='pdf')\n",
    "plt.show()"
   ]
  },
  {
   "cell_type": "code",
   "execution_count": 45,
   "metadata": {},
   "outputs": [],
   "source": [
    "et_feature = extra_trees_classifier.feature_importances_\n",
    "et_features = et_feature.tolist()"
   ]
  },
  {
   "cell_type": "markdown",
   "metadata": {},
   "source": [
    "## Random Forest Classifier"
   ]
  },
  {
   "cell_type": "code",
   "execution_count": 46,
   "metadata": {
    "colab": {
     "base_uri": "https://localhost:8080/"
    },
    "id": "p8XKaihFyjav",
    "outputId": "d2cc1310-0d0e-4630-e894-7bd48ddf4653"
   },
   "outputs": [
    {
     "name": "stdout",
     "output_type": "stream",
     "text": [
      "              precision    recall  f1-score   support\n",
      "\n",
      "           0       0.64      1.00      0.78     94118\n",
      "           1       1.00      0.44      0.61     94111\n",
      "\n",
      "    accuracy                           0.72    188229\n",
      "   macro avg       0.82      0.72      0.69    188229\n",
      "weighted avg       0.82      0.72      0.69    188229\n",
      "\n",
      "accuracy:   0.718\n"
     ]
    }
   ],
   "source": [
    "# Initialize and start the timer for model training\n",
    "start_time_rf = time.time()\n",
    "\n",
    "rf = RandomForestClassifier( )\n",
    "rf.fit(X_train_res, y_train_res)\n",
    "\n",
    "# Calculate the model training time\n",
    "training_time_rf = time.time() - start_time_rf\n",
    "\n",
    "y_pred_train_RF = rf.predict(X_train_res)\n",
    "\n",
    "# Initialize and start the timer for model execution\n",
    "start_time = time.time()\n",
    "\n",
    "y_pred_RF = rf.predict(X_test)\n",
    "\n",
    "# Calculate the model execution time\n",
    "execution_time_rf = ( time.time() - start_time ) / 188229\n",
    "\n",
    "print(classification_report(y_test,y_pred_RF))\n",
    "\n",
    "score = metrics.accuracy_score(y_test, y_pred_RF)\n",
    "print(\"accuracy:   %0.3f\" % score)"
   ]
  },
  {
   "cell_type": "code",
   "execution_count": 47,
   "metadata": {},
   "outputs": [],
   "source": [
    "rf_train=rf.predict(X_train_res)\n",
    "rf_test=rf.predict(X_test)"
   ]
  },
  {
   "cell_type": "code",
   "execution_count": 48,
   "metadata": {
    "colab": {
     "base_uri": "https://localhost:8080/",
     "height": 524
    },
    "id": "O9fxYlp1yk98",
    "outputId": "d8a35636-0f9b-4dc0-9072-642c58fdfe19"
   },
   "outputs": [
    {
     "name": "stdout",
     "output_type": "stream",
     "text": [
      "Confusion matrix, without normalization\n"
     ]
    },
    {
     "data": {
      "image/png": "[encoded data removed]",
      "text/plain": [
       "<Figure size 640x480 with 2 Axes>"
      ]
     },
     "metadata": {},
     "output_type": "display_data"
    }
   ],
   "source": [
    "CM_RF=confusion_matrix(y_test,y_pred_RF,labels=[0,1])\n",
    "\n",
    "plot_confusion_matrix(CM_RF,classes=['good', 'bad'])"
   ]
  },
  {
   "cell_type": "code",
   "execution_count": 49,
   "metadata": {},
   "outputs": [
    {
     "data": {
      "image/png": "[encoded data removed]",
      "text/plain": [
       "<Figure size 640x480 with 2 Axes>"
      ]
     },
     "metadata": {},
     "output_type": "display_data"
    }
   ],
   "source": [
    "from sklearn.metrics import ConfusionMatrixDisplay\n",
    "sample_weight = (y_pred_RF != y_test)\n",
    "ConfusionMatrixDisplay.from_predictions(y_test, y_pred_RF, sample_weight=sample_weight, normalize=\"true\", values_format=\".0%\")\n",
    "plt.title('Random Forest Classifier Error Matrix')\n",
    "plt.ylabel('Actual Values')\n",
    "plt.xlabel('Predicted Values')\n",
    "# Save the plot as a PDF\n",
    "plt.savefig('Random Forest Classifier Error Matrix.pdf', format='pdf')\n",
    "plt.show()"
   ]
  },
  {
   "cell_type": "code",
   "execution_count": 50,
   "metadata": {},
   "outputs": [],
   "source": [
    "rf_feature = rf.feature_importances_\n",
    "rf_features = rf_feature.tolist()"
   ]
  },
  {
   "cell_type": "markdown",
   "metadata": {},
   "source": [
    "## XGB Classifier"
   ]
  },
  {
   "cell_type": "code",
   "execution_count": 51,
   "metadata": {
    "colab": {
     "base_uri": "https://localhost:8080/"
    },
    "id": "gEdrYWoHJdOE",
    "outputId": "2f4231f7-2381-4ac2-81f9-b3afe27b967c"
   },
   "outputs": [
    {
     "name": "stdout",
     "output_type": "stream",
     "text": [
      "              precision    recall  f1-score   support\n",
      "\n",
      "           0       0.64      1.00      0.78     94118\n",
      "           1       1.00      0.44      0.61     94111\n",
      "\n",
      "    accuracy                           0.72    188229\n",
      "   macro avg       0.82      0.72      0.70    188229\n",
      "weighted avg       0.82      0.72      0.70    188229\n",
      "\n",
      "accuracy:   0.720\n"
     ]
    }
   ],
   "source": [
    "# Initialize and start the timer for model training\n",
    "start_time_xgb = time.time()\n",
    "\n",
    "model_xgb = xgb.XGBClassifier( )\n",
    "model_xgb.fit(X_train_res,y_train_res)\n",
    "\n",
    "# Calculate the model training time\n",
    "training_time_xgb = time.time() - start_time_xgb\n",
    "\n",
    "# Initialize and start the timer for model execution\n",
    "start_time = time.time()\n",
    "\n",
    "y_pred_xgb = model_xgb.predict(X_test)\n",
    "\n",
    "# Calculate the model execution time\n",
    "execution_time_xgb = ( time.time() - start_time ) / 188229\n",
    "\n",
    "print(classification_report(y_test,y_pred_xgb))\n",
    "\n",
    "score = metrics.accuracy_score(y_test, y_pred_xgb)\n",
    "print(\"accuracy:   %0.3f\" % score)"
   ]
  },
  {
   "cell_type": "code",
   "execution_count": 52,
   "metadata": {},
   "outputs": [],
   "source": [
    "model_xgb_train=model_xgb.predict(X_train_res)\n",
    "model_xgb_test=model_xgb.predict(X_test)"
   ]
  },
  {
   "cell_type": "code",
   "execution_count": 53,
   "metadata": {
    "colab": {
     "base_uri": "https://localhost:8080/",
     "height": 524
    },
    "id": "5w-9XmogJdOE",
    "outputId": "8c1f8e3c-7eb0-4190-ef76-4513e6837cfb"
   },
   "outputs": [
    {
     "name": "stdout",
     "output_type": "stream",
     "text": [
      "Confusion matrix, without normalization\n"
     ]
    },
    {
     "data": {
      "image/png": "[encoded data removed]",
      "text/plain": [
       "<Figure size 640x480 with 2 Axes>"
      ]
     },
     "metadata": {},
     "output_type": "display_data"
    }
   ],
   "source": [
    "CM=confusion_matrix(y_test,y_pred_xgb,labels=[0,1])\n",
    "\n",
    "plot_confusion_matrix(CM,classes=['good', 'bad'])"
   ]
  },
  {
   "cell_type": "code",
   "execution_count": 54,
   "metadata": {
    "id": "zzSdd_jtJdOF"
   },
   "outputs": [],
   "source": [
    "xgb_feature = model_xgb.feature_importances_\n",
    "xgb_features = xgb_feature.tolist()"
   ]
  },
  {
   "cell_type": "markdown",
   "metadata": {},
   "source": [
    "## Gradient Boosting Classifier"
   ]
  },
  {
   "cell_type": "code",
   "execution_count": 55,
   "metadata": {
    "colab": {
     "base_uri": "https://localhost:8080/"
    },
    "id": "lqJy0qMYJdOF",
    "outputId": "1063efb8-9fcc-4467-93b3-7e06c1210500"
   },
   "outputs": [
    {
     "name": "stdout",
     "output_type": "stream",
     "text": [
      "              precision    recall  f1-score   support\n",
      "\n",
      "           0       0.64      0.98      0.78     94118\n",
      "           1       0.96      0.46      0.62     94111\n",
      "\n",
      "    accuracy                           0.72    188229\n",
      "   macro avg       0.80      0.72      0.70    188229\n",
      "weighted avg       0.80      0.72      0.70    188229\n",
      "\n",
      "accuracy:   0.721\n"
     ]
    }
   ],
   "source": [
    "from sklearn.ensemble import GradientBoostingClassifier\n",
    "# gbdt = GradientBoostingClassifier(n_estimators=100,max_features='sqrt')\n",
    "\n",
    "# Initialize and start the timer for model training\n",
    "start_time_gbc = time.time()\n",
    "\n",
    "gbdt = GradientBoostingClassifier( )\n",
    "gbdt.fit(X_train_res,y_train_res)\n",
    "\n",
    "# Calculate the model training time\n",
    "training_time_gbc = time.time() - start_time_gbc\n",
    "\n",
    "# Initialize and start the timer for model execution\n",
    "start_time = time.time()\n",
    "\n",
    "y_pred_gdbt = gbdt.predict(X_test)\n",
    "\n",
    "# Calculate the model execution time\n",
    "execution_time_gbc = ( time.time() - start_time ) / 188229\n",
    "\n",
    "print(classification_report(y_test,y_pred_gdbt))\n",
    "\n",
    "score = metrics.accuracy_score(y_test, y_pred_gdbt)\n",
    "print(\"accuracy:   %0.3f\" % score)"
   ]
  },
  {
   "cell_type": "code",
   "execution_count": 56,
   "metadata": {},
   "outputs": [],
   "source": [
    "gbdt_train=gbdt.predict(X_train_res)\n",
    "gbdt_test=gbdt.predict(X_test)"
   ]
  },
  {
   "cell_type": "code",
   "execution_count": 57,
   "metadata": {
    "id": "1t39e7fXJdOF"
   },
   "outputs": [],
   "source": [
    "gbdt_feature = gbdt.feature_importances_\n",
    "gbdt_features = gbdt_feature.tolist()"
   ]
  },
  {
   "cell_type": "markdown",
   "metadata": {},
   "source": [
    "## Ada Boost Classifier"
   ]
  },
  {
   "cell_type": "code",
   "execution_count": 58,
   "metadata": {},
   "outputs": [
    {
     "name": "stdout",
     "output_type": "stream",
     "text": [
      "              precision    recall  f1-score   support\n",
      "\n",
      "           0       0.65      0.97      0.78     94118\n",
      "           1       0.94      0.48      0.64     94111\n",
      "\n",
      "    accuracy                           0.73    188229\n",
      "   macro avg       0.80      0.73      0.71    188229\n",
      "weighted avg       0.80      0.73      0.71    188229\n",
      "\n",
      "accuracy:   0.725\n"
     ]
    }
   ],
   "source": [
    "# Initialize and train the AdaBoostClassifier\n",
    "# ada_classifier = AdaBoostClassifier(random_state=42)\n",
    "\n",
    "# Initialize and start the timer for model training\n",
    "start_time_ada = time.time()\n",
    "\n",
    "ada_classifier = AdaBoostClassifier( )\n",
    "ada_classifier.fit(X_train_res, y_train_res)\n",
    "\n",
    "# Calculate the model training time\n",
    "training_time_ada = time.time() - start_time_ada\n",
    "\n",
    "# Initialize and start the timer for model execution\n",
    "start_time = time.time()\n",
    "\n",
    "# Predict the labels for the testing set\n",
    "y_pred_ada = ada_classifier.predict(X_test)\n",
    "\n",
    "# Calculate the model execution time\n",
    "execution_time_ada = ( time.time() - start_time ) / 188229\n",
    "\n",
    "print(classification_report(y_test,y_pred_ada))\n",
    "\n",
    "score = metrics.accuracy_score(y_test, y_pred_ada)\n",
    "print(\"accuracy:   %0.3f\" % score)"
   ]
  },
  {
   "cell_type": "markdown",
   "metadata": {},
   "source": [
    "## stacking"
   ]
  },
  {
   "cell_type": "code",
   "execution_count": 59,
   "metadata": {},
   "outputs": [
    {
     "data": {
      "text/html": [
       "<div>\n",
       "<style scoped>\n",
       "    .dataframe tbody tr th:only-of-type {\n",
       "        vertical-align: middle;\n",
       "    }\n",
       "\n",
       "    .dataframe tbody tr th {\n",
       "        vertical-align: top;\n",
       "    }\n",
       "\n",
       "    .dataframe thead th {\n",
       "        text-align: right;\n",
       "    }\n",
       "</style>\n",
       "<table border=\"1\" class=\"dataframe\">\n",
       "  <thead>\n",
       "    <tr style=\"text-align: right;\">\n",
       "      <th></th>\n",
       "      <th>LGBM Classifier</th>\n",
       "      <th>Random Forest Classifier</th>\n",
       "      <th>XGB Classifier</th>\n",
       "      <th>Gradient Boosting Classifier</th>\n",
       "    </tr>\n",
       "  </thead>\n",
       "  <tbody>\n",
       "    <tr>\n",
       "      <th>0</th>\n",
       "      <td>0</td>\n",
       "      <td>0</td>\n",
       "      <td>0</td>\n",
       "      <td>0</td>\n",
       "    </tr>\n",
       "    <tr>\n",
       "      <th>1</th>\n",
       "      <td>0</td>\n",
       "      <td>0</td>\n",
       "      <td>0</td>\n",
       "      <td>0</td>\n",
       "    </tr>\n",
       "    <tr>\n",
       "      <th>2</th>\n",
       "      <td>1</td>\n",
       "      <td>1</td>\n",
       "      <td>1</td>\n",
       "      <td>1</td>\n",
       "    </tr>\n",
       "    <tr>\n",
       "      <th>3</th>\n",
       "      <td>1</td>\n",
       "      <td>1</td>\n",
       "      <td>1</td>\n",
       "      <td>1</td>\n",
       "    </tr>\n",
       "    <tr>\n",
       "      <th>4</th>\n",
       "      <td>0</td>\n",
       "      <td>0</td>\n",
       "      <td>0</td>\n",
       "      <td>0</td>\n",
       "    </tr>\n",
       "  </tbody>\n",
       "</table>\n",
       "</div>"
      ],
      "text/plain": [
       "   LGBM Classifier  Random Forest Classifier  XGB Classifier  \\\n",
       "0                0                         0               0   \n",
       "1                0                         0               0   \n",
       "2                1                         1               1   \n",
       "3                1                         1               1   \n",
       "4                0                         0               0   \n",
       "\n",
       "   Gradient Boosting Classifier  \n",
       "0                             0  \n",
       "1                             0  \n",
       "2                             1  \n",
       "3                             1  \n",
       "4                             0  "
      ]
     },
     "execution_count": 59,
     "metadata": {},
     "output_type": "execute_result"
    }
   ],
   "source": [
    "base_predictions_train = pd.DataFrame( {\n",
    "    'LGBM Classifier': lgb_train.ravel(),\n",
    "        'Random Forest Classifier': rf_train.ravel(),\n",
    "     'XGB Classifier': model_xgb_train.ravel(),\n",
    "     'Gradient Boosting Classifier': gbdt_train.ravel(),\n",
    "    })\n",
    "base_predictions_train.head(5)"
   ]
  },
  {
   "cell_type": "code",
   "execution_count": 60,
   "metadata": {},
   "outputs": [],
   "source": [
    "lgb_train=lgb_train.reshape(-1, 1)\n",
    "rf_train=rf_train.reshape(-1, 1)\n",
    "model_xgb_train=model_xgb_train.reshape(-1, 1)\n",
    "gbdt_train=gbdt_train.reshape(-1, 1)\n",
    "lgb_test=lgb_test.reshape(-1, 1)\n",
    "rf_test=rf_test.reshape(-1, 1)\n",
    "model_xgb_test=model_xgb_test.reshape(-1, 1)\n",
    "gbdt_test=gbdt_test.reshape(-1, 1)"
   ]
  },
  {
   "cell_type": "code",
   "execution_count": 61,
   "metadata": {},
   "outputs": [],
   "source": [
    "x_train = np.concatenate(( lgb_train, rf_train, model_xgb_train, gbdt_train), axis=1)\n",
    "x_test = np.concatenate(( lgb_test, rf_test, model_xgb_test, gbdt_test), axis=1)"
   ]
  },
  {
   "cell_type": "code",
   "execution_count": 62,
   "metadata": {},
   "outputs": [
    {
     "name": "stdout",
     "output_type": "stream",
     "text": [
      "Accuracy of Stacking: 0.7183165187085944\n",
      "Precision of Stacking: 0.8180625553830441\n",
      "Recall of Stacking: 0.7183165187085944\n",
      "F1-score of Stacking: 0.6943492688032686\n",
      "              precision    recall  f1-score   support\n",
      "\n",
      "           0       0.64      1.00      0.78     94118\n",
      "           1       1.00      0.44      0.61     94111\n",
      "\n",
      "    accuracy                           0.72    188229\n",
      "   macro avg       0.82      0.72      0.69    188229\n",
      "weighted avg       0.82      0.72      0.69    188229\n",
      "\n"
     ]
    }
   ],
   "source": [
    "from sklearn.metrics import precision_recall_fscore_support\n",
    "import seaborn as sns\n",
    "\n",
    "# Initialize and start the timer for model training\n",
    "start_time_stk = time.time()\n",
    "\n",
    "stk = xgb.XGBClassifier().fit(x_train, y_train_res)\n",
    "\n",
    "# Calculate the model training time\n",
    "training_time_stk = time.time() - start_time_stk\n",
    "\n",
    "# Initialize and start the timer for model execution\n",
    "start_time = time.time()\n",
    "\n",
    "y_predict=stk.predict(x_test)\n",
    "\n",
    "# Calculate the model execution time\n",
    "execution_time_stk = ( time.time() - start_time ) / 188229\n",
    "\n",
    "y_true=y_test\n",
    "stk_score=accuracy_score(y_true,y_predict)\n",
    "print('Accuracy of Stacking: '+ str(stk_score))\n",
    "precision,recall,fscore,none= precision_recall_fscore_support(y_true, y_predict, average='weighted') \n",
    "print('Precision of Stacking: '+(str(precision)))\n",
    "print('Recall of Stacking: '+(str(recall)))\n",
    "print('F1-score of Stacking: '+(str(fscore)))\n",
    "print(classification_report(y_true,y_predict))"
   ]
  },
  {
   "cell_type": "code",
   "execution_count": 63,
   "metadata": {},
   "outputs": [
    {
     "name": "stdout",
     "output_type": "stream",
     "text": [
      "Confusion matrix, without normalization\n"
     ]
    },
    {
     "data": {
      "image/png": "[encoded data removed]",
      "text/plain": [
       "<Figure size 640x480 with 2 Axes>"
      ]
     },
     "metadata": {},
     "output_type": "display_data"
    }
   ],
   "source": [
    "CM=confusion_matrix(y_test, y_predict, labels=[0,1])\n",
    "\n",
    "plot_confusion_matrix(CM,classes=['good', 'bad'])"
   ]
  },
  {
   "cell_type": "code",
   "execution_count": 64,
   "metadata": {},
   "outputs": [
    {
     "data": {
      "image/png": "[encoded data removed]",
      "text/plain": [
       "<Figure size 640x480 with 2 Axes>"
      ]
     },
     "metadata": {},
     "output_type": "display_data"
    }
   ],
   "source": [
    "from sklearn.metrics import ConfusionMatrixDisplay\n",
    "sample_weight = (y_predict != y_test)\n",
    "ConfusionMatrixDisplay.from_predictions(y_test, y_predict, sample_weight=sample_weight, normalize=\"true\", values_format=\".0%\")\n",
    "plt.title('Stacking - XGB Classifier Error Matrix')\n",
    "plt.ylabel('Actual Values')\n",
    "plt.xlabel('Predicted Values')\n",
    "# Save the plot as a PDF\n",
    "plt.savefig('Stacking - XGB Classifier Error Matrix.pdf', format='pdf')\n",
    "plt.show()"
   ]
  },
  {
   "cell_type": "code",
   "execution_count": 65,
   "metadata": {},
   "outputs": [],
   "source": [
    "stk_feature = stk.feature_importances_\n",
    "stk_features = gbdt_feature.tolist()"
   ]
  },
  {
   "cell_type": "markdown",
   "metadata": {},
   "source": [
    "## Performance Metrics"
   ]
  },
  {
   "cell_type": "code",
   "execution_count": 66,
   "metadata": {},
   "outputs": [
    {
     "name": "stdout",
     "output_type": "stream",
     "text": [
      "\n",
      "Metrics for Model 'Ada Boost':\n",
      "Accuracy: 0.7252601883875492\n",
      "Precision: 0.796837594210933\n",
      "Recall: 0.7252601883875492\n",
      "F1-score: 0.7076318473692478\n",
      "Classification Report:\n",
      "              precision    recall  f1-score   support\n",
      "\n",
      "           0       0.65      0.97      0.78     94118\n",
      "           1       0.94      0.48      0.64     94111\n",
      "\n",
      "    accuracy                           0.73    188229\n",
      "   macro avg       0.80      0.73      0.71    188229\n",
      "weighted avg       0.80      0.73      0.71    188229\n",
      "\n",
      "\n",
      "Metrics for Model 'SGD':\n",
      "Accuracy: 0.5982287532739377\n",
      "Precision: 0.7286013081665644\n",
      "Recall: 0.5982287532739377\n",
      "F1-score: 0.5314092491106787\n",
      "Classification Report:\n",
      "              precision    recall  f1-score   support\n",
      "\n",
      "           0       0.56      0.98      0.71     94118\n",
      "           1       0.90      0.22      0.35     94111\n",
      "\n",
      "    accuracy                           0.60    188229\n",
      "   macro avg       0.73      0.60      0.53    188229\n",
      "weighted avg       0.73      0.60      0.53    188229\n",
      "\n",
      "\n",
      "Metrics for Model 'Extra Trees':\n",
      "Accuracy: 0.7092052765514347\n",
      "Precision: 0.8142159669875191\n",
      "Recall: 0.7092052765514347\n",
      "F1-score: 0.6826899605331109\n",
      "Classification Report:\n",
      "              precision    recall  f1-score   support\n",
      "\n",
      "           0       0.63      1.00      0.77     94118\n",
      "           1       1.00      0.42      0.59     94111\n",
      "\n",
      "    accuracy                           0.71    188229\n",
      "   macro avg       0.81      0.71      0.68    188229\n",
      "weighted avg       0.81      0.71      0.68    188229\n",
      "\n",
      "\n",
      "Metrics for Model 'LGBM':\n",
      "Accuracy: 0.7305091138984959\n",
      "Precision: 0.8225241851944167\n",
      "Recall: 0.7305091138984959\n",
      "F1-score: 0.7098079381120043\n",
      "Classification Report:\n",
      "              precision    recall  f1-score   support\n",
      "\n",
      "           0       0.65      1.00      0.79     94118\n",
      "           1       0.99      0.46      0.63     94111\n",
      "\n",
      "    accuracy                           0.73    188229\n",
      "   macro avg       0.82      0.73      0.71    188229\n",
      "weighted avg       0.82      0.73      0.71    188229\n",
      "\n",
      "\n",
      "Metrics for Model 'Random Forest':\n",
      "Accuracy: 0.7183165187085944\n",
      "Precision: 0.8180625553830441\n",
      "Recall: 0.7183165187085944\n",
      "F1-score: 0.6943492688032686\n",
      "Classification Report:\n",
      "              precision    recall  f1-score   support\n",
      "\n",
      "           0       0.64      1.00      0.78     94118\n",
      "           1       1.00      0.44      0.61     94111\n",
      "\n",
      "    accuracy                           0.72    188229\n",
      "   macro avg       0.82      0.72      0.69    188229\n",
      "weighted avg       0.82      0.72      0.69    188229\n",
      "\n",
      "\n",
      "Metrics for Model 'XGB':\n",
      "Accuracy: 0.720282209436378\n",
      "Precision: 0.8190516704192164\n",
      "Recall: 0.720282209436378\n",
      "F1-score: 0.6968139485220266\n",
      "Classification Report:\n",
      "              precision    recall  f1-score   support\n",
      "\n",
      "           0       0.64      1.00      0.78     94118\n",
      "           1       1.00      0.44      0.61     94111\n",
      "\n",
      "    accuracy                           0.72    188229\n",
      "   macro avg       0.82      0.72      0.70    188229\n",
      "weighted avg       0.82      0.72      0.70    188229\n",
      "\n",
      "\n",
      "Metrics for Model 'Gradient Boosting':\n",
      "Accuracy: 0.7206753475819347\n",
      "Precision: 0.8035242673276288\n",
      "Recall: 0.7206753475819347\n",
      "F1-score: 0.7002145982976888\n",
      "Classification Report:\n",
      "              precision    recall  f1-score   support\n",
      "\n",
      "           0       0.64      0.98      0.78     94118\n",
      "           1       0.96      0.46      0.62     94111\n",
      "\n",
      "    accuracy                           0.72    188229\n",
      "   macro avg       0.80      0.72      0.70    188229\n",
      "weighted avg       0.80      0.72      0.70    188229\n",
      "\n",
      "\n",
      "Metrics for Model 'Stacking':\n",
      "Accuracy: 0.7183165187085944\n",
      "Precision: 0.8180625553830441\n",
      "Recall: 0.7183165187085944\n",
      "F1-score: 0.6943492688032686\n",
      "Classification Report:\n",
      "              precision    recall  f1-score   support\n",
      "\n",
      "           0       0.64      1.00      0.78     94118\n",
      "           1       1.00      0.44      0.61     94111\n",
      "\n",
      "    accuracy                           0.72    188229\n",
      "   macro avg       0.82      0.72      0.69    188229\n",
      "weighted avg       0.82      0.72      0.69    188229\n",
      "\n"
     ]
    }
   ],
   "source": [
    "from sklearn.metrics import classification_report, precision_score, recall_score, f1_score, accuracy_score\n",
    "\n",
    "# Assuming you have imported the classifiers and defined their predictions\n",
    "classifiers = [y_pred_ada, y_pred_sgd, y_pred_extra_trees, y_pred, y_pred_RF, y_pred_xgb, y_pred_gdbt, y_predict]\n",
    "model_names = ['Ada Boost', 'SGD', 'Extra Trees', 'LGBM', 'Random Forest', 'XGB', 'Gradient Boosting', 'Stacking']\n",
    "\n",
    "# Create a dictionary to map model names to their respective predictions\n",
    "classifier_map = dict(zip(model_names, classifiers))\n",
    "\n",
    "# Now you can use this dictionary to iterate over each model name and its predictions\n",
    "for model_name, y_pred in classifier_map.items():\n",
    "    accuracy = accuracy_score(y_test, y_pred)\n",
    "    precision = precision_score(y_test, y_pred, average='weighted')\n",
    "    recall = recall_score(y_test, y_pred, average='weighted')\n",
    "    f1score = f1_score(y_test, y_pred, average='weighted')\n",
    "    class_report = classification_report(y_test, y_pred)\n",
    "\n",
    "    print(f\"\\nMetrics for Model '{model_name}':\")\n",
    "    print(f\"Accuracy: {accuracy}\")\n",
    "    print(f\"Precision: {precision}\")\n",
    "    print(f\"Recall: {recall}\")\n",
    "    print(f\"F1-score: {f1score}\")\n",
    "    print(f\"Classification Report:\\n{class_report}\")\n"
   ]
  },
  {
   "cell_type": "code",
   "execution_count": 67,
   "metadata": {
    "scrolled": true
   },
   "outputs": [
    {
     "data": {
      "image/png": "[encoded data removed]",
      "text/plain": [
       "<Figure size 1200x600 with 1 Axes>"
      ]
     },
     "metadata": {},
     "output_type": "display_data"
    }
   ],
   "source": [
    "import numpy as np\n",
    "import matplotlib.pyplot as plt\n",
    "from matplotlib.ticker import PercentFormatter\n",
    "\n",
    "# Initialize data for the bar chart\n",
    "models = list(classifier_map.keys()) + ['CL_K-means']\n",
    "metrics = ['Accuracy', 'Precision', 'Recall', 'F1-score']\n",
    "\n",
    "# Calculate metric scores for each model\n",
    "metric_scores = {}\n",
    "for metric in metrics:\n",
    "    metric_scores[metric] = [\n",
    "        accuracy_score(y_test, classifier_map[model_name]) \n",
    "        if metric == 'Accuracy'\n",
    "        else precision_score(y_test, classifier_map[model_name], average='weighted')\n",
    "        if metric == 'Precision'\n",
    "        else recall_score(y_test, classifier_map[model_name], average='weighted')\n",
    "        if metric == 'Recall'\n",
    "        else f1_score(y_test, classifier_map[model_name], average='weighted')\n",
    "        for model_name in models[:-1]\n",
    "    ]\n",
    "\n",
    "    if metric == 'Accuracy':\n",
    "        metric_scores[metric].append(0.7284)\n",
    "    elif metric == 'Precision':\n",
    "        metric_scores[metric].append(0.9636)\n",
    "    elif metric == 'Recall':\n",
    "        metric_scores[metric].append(0.4747)\n",
    "    elif metric == 'F1-score':\n",
    "        metric_scores[metric].append(0.6361)\n",
    "\n",
    "# Set width of bars\n",
    "bar_width = 0.16\n",
    "\n",
    "# Set position of bars on X axis\n",
    "r1 = np.arange(len(models))\n",
    "r2 = [x + bar_width for x in r1]\n",
    "r3 = [x + bar_width for x in r2]\n",
    "r4 = [x + bar_width for x in r3]\n",
    "\n",
    "plt.figure(figsize=(12, 6))\n",
    "\n",
    "# Define light colors\n",
    "colors = ['#48C9B0', '#FFA500', '#FF6347', '#7B68EE']\n",
    "\n",
    "# Plotting the bars\n",
    "bars = []\n",
    "bars.append(plt.bar(r1, metric_scores['Accuracy'], color=colors[0], width=bar_width, edgecolor='grey', label='Accuracy'))\n",
    "bars.append(plt.bar(r2, metric_scores['Precision'], color=colors[1], width=bar_width, edgecolor='grey', label='Precision'))\n",
    "bars.append(plt.bar(r3, metric_scores['Recall'], color=colors[2], width=bar_width, edgecolor='grey', label='Recall'))\n",
    "bars.append(plt.bar(r4, metric_scores['F1-score'], color=colors[3], width=bar_width, edgecolor='grey', label='F1-score'))\n",
    "\n",
    "# Adding labels on top of each bar with percentage format\n",
    "for i, container in enumerate(bars):\n",
    "   for j, bar in enumerate(container):\n",
    "       yval = bar.get_height()\n",
    "       if yval == max(metric_scores[metrics[i]]):\n",
    "           plt.text(bar.get_x() + bar.get_width()/2.0, yval + 0.005, f'{yval*100:.2f}%', va='bottom', ha='center', rotation=90, fontsize=8, weight='bold')\n",
    "       else:\n",
    "           plt.text(bar.get_x() + bar.get_width()/2.0, yval + 0.005, f'{yval*100:.2f}%', va='bottom', ha='center', rotation=90, fontsize=8)\n",
    "\n",
    "# Add xticks on the middle of the group bars\n",
    "plt.xlabel('Models', fontweight='bold')\n",
    "plt.xticks([r + bar_width*1.5 for r in range(len(models))], models)\n",
    "\n",
    "# Set y-axis as percentage and its limits\n",
    "plt.gca().yaxis.set_major_formatter(PercentFormatter(xmax=1))\n",
    "plt.ylim(0.3, 1.3)  # Keep the original scale but now interpreted as percentages\n",
    "\n",
    "# Add a legend and show the plot\n",
    "plt.legend()\n",
    "# Save the plot as a PDF\n",
    "plt.savefig('Model Performance Comparison.pdf', format='pdf')\n",
    "plt.show()"
   ]
  },
  {
   "cell_type": "markdown",
   "metadata": {},
   "source": [
    "# Training Time Comparision"
   ]
  },
  {
   "cell_type": "code",
   "execution_count": 68,
   "metadata": {},
   "outputs": [
    {
     "data": {
      "image/png": "[encoded data removed]",
      "text/plain": [
       "<Figure size 1000x600 with 1 Axes>"
      ]
     },
     "metadata": {},
     "output_type": "display_data"
    }
   ],
   "source": [
    "import numpy as np\n",
    "import matplotlib.pyplot as plt\n",
    "\n",
    "# Assuming you have imported the classifiers and defined their training times\n",
    "training_times = [training_time_ada, training_time_sgd, training_time_et, training_time_lgbm, training_time_rf, training_time_xgb, training_time_gbc, training_time_stk]\n",
    "\n",
    "# Transpose the training_times list to make it a 2D array\n",
    "training_times = np.array(training_times).T\n",
    "\n",
    "# Initialize data for the line plot\n",
    "training_models = ['AdaBoost', 'SGD', 'ExtraTrees', 'LGBM', 'RandomForest', 'XGBoost', 'GrandientBoosting', 'Stacking']  # Assuming these are your model names\n",
    "\n",
    "# Set figure size\n",
    "plt.figure(figsize=(10, 6))\n",
    "\n",
    "# Define line colors and styles\n",
    "colors = ['#48C9B0', '#FFA500', '#FF6347', '#7B68EE', '#8A2BE2']\n",
    "linestyles = ['-', '--', ':', '-.', '-']\n",
    "\n",
    "plt.plot(training_models, training_times, color=colors[0], linestyle=linestyles[i], linewidth=2, marker='o', markersize=8, label='Training Time')\n",
    "\n",
    "# Add grid and axis labels\n",
    "plt.grid(True)\n",
    "plt.xlabel('Model', fontweight='bold', fontsize=12)\n",
    "plt.ylabel('Training Time (seconds)', fontweight='bold', fontsize=12)\n",
    "\n",
    "# Set x-axis tick labels\n",
    "plt.xticks(training_models, training_models, rotation=45, ha='right', fontsize=10)\n",
    "\n",
    "# Add a legend\n",
    "plt.legend(loc='upper left', fontsize=10)\n",
    "\n",
    "# Adjust the layout\n",
    "plt.tight_layout()\n",
    "\n",
    "# Save the plot as a PDF\n",
    "plt.savefig('Model Training Time Comparison.pdf', format='pdf')\n",
    "plt.show()"
   ]
  },
  {
   "cell_type": "markdown",
   "metadata": {},
   "source": [
    "# Execution Time Comparision"
   ]
  },
  {
   "cell_type": "code",
   "execution_count": 69,
   "metadata": {},
   "outputs": [
    {
     "data": {
      "image/png": "[encoded data removed]",
      "text/plain": [
       "<Figure size 1000x600 with 1 Axes>"
      ]
     },
     "metadata": {},
     "output_type": "display_data"
    }
   ],
   "source": [
    "import numpy as np\n",
    "import matplotlib.pyplot as plt\n",
    "import matplotlib.font_manager as font_manager\n",
    "\n",
    "# Assuming you have imported the classifiers and defined their predicting times\n",
    "execution_times = [execution_time_ada * 1_000_000,\n",
    "                   execution_time_sgd * 1_000_000,\n",
    "                   execution_time_et * 1_000_000,\n",
    "                   execution_time_lgbm * 1_000_000,\n",
    "                   execution_time_rf * 1_000_000,\n",
    "                   execution_time_xgb * 1_000_000,\n",
    "                   execution_time_gbc * 1_000_000,\n",
    "                   execution_time_stk * 1_000_000]\n",
    "model_names = ['AdaBoostClassifier', 'SGD Classifier', 'ExtraTrees Classifier', 'LGBM', 'RandomForestClassifier', 'XGBClassifier', 'GradientBoostingClassifier', 'Stacking']\n",
    "\n",
    "execution_time = ['Execution Time']\n",
    "\n",
    "# Create a dictionary to map model names to their execution_times (optional since we directly use execution_times and model_names)\n",
    "# execution_times_map = dict(zip(model_names, execution_times))\n",
    "\n",
    "# Initialize data for the line plot\n",
    "x = np.arange(len(model_names))\n",
    "\n",
    "# Set up the figure and axis\n",
    "fig, ax = plt.subplots(figsize=(10, 6))\n",
    "\n",
    "# Define the line properties\n",
    "line_width = 2\n",
    "marker_size = 8\n",
    "marker_style = 'o'\n",
    "\n",
    "# Plot the line graph\n",
    "ax.plot(x, execution_times, linewidth=line_width, marker=marker_style, markersize=marker_size, color='#1f77b4')\n",
    "\n",
    "# Add axis labels and title\n",
    "ax.set_xlabel('Model', fontweight='bold', fontsize=12)\n",
    "ax.set_ylabel('Execution Time (microseconds)', fontweight='bold', fontsize=12)\n",
    "ax.set_title('Comparison of Model Execution Times', fontweight='bold', fontsize=14)\n",
    "\n",
    "# Customize the x-axis ticks and labels\n",
    "ax.set_xticks(x)\n",
    "ax.set_xticklabels(model_names, rotation=45, ha='right', fontsize=10)\n",
    "\n",
    "# Add grid lines\n",
    "ax.grid(True, linestyle='--', linewidth=1, color='#BBBBBB')\n",
    "\n",
    "# Adjust the spacing between subplots\n",
    "plt.subplots_adjust(bottom=0.2)\n",
    "\n",
    "# Add a legend\n",
    "legend_font = font_manager.FontProperties(size=10)\n",
    "ax.legend(execution_time, loc='upper left', prop=legend_font)\n",
    "\n",
    "# Save the plot as a PDF\n",
    "plt.savefig('Model Execution Time Comparison.pdf', format='pdf')\n",
    "plt.show()"
   ]
  },
  {
   "cell_type": "markdown",
   "metadata": {},
   "source": [
    "# Plotting ensemble Feature Importance"
   ]
  },
  {
   "cell_type": "code",
   "execution_count": 70,
   "metadata": {},
   "outputs": [
    {
     "name": "stdout",
     "output_type": "stream",
     "text": [
      "features                              object\n",
      "Stacking feature importances         float64\n",
      "Random Forest feature importances    float64\n",
      "Extra Trees feature importances      float64\n",
      "dtype: object\n"
     ]
    },
    {
     "data": {
      "text/html": [
       "<div>\n",
       "<style scoped>\n",
       "    .dataframe tbody tr th:only-of-type {\n",
       "        vertical-align: middle;\n",
       "    }\n",
       "\n",
       "    .dataframe tbody tr th {\n",
       "        vertical-align: top;\n",
       "    }\n",
       "\n",
       "    .dataframe thead th {\n",
       "        text-align: right;\n",
       "    }\n",
       "</style>\n",
       "<table border=\"1\" class=\"dataframe\">\n",
       "  <thead>\n",
       "    <tr style=\"text-align: right;\">\n",
       "      <th></th>\n",
       "      <th>features</th>\n",
       "      <th>Stacking feature importances</th>\n",
       "      <th>Random Forest feature importances</th>\n",
       "      <th>Extra Trees feature importances</th>\n",
       "      <th>mean</th>\n",
       "    </tr>\n",
       "  </thead>\n",
       "  <tbody>\n",
       "    <tr>\n",
       "      <th>0</th>\n",
       "      <td>use_of_ip</td>\n",
       "      <td>0.000000</td>\n",
       "      <td>0.011178</td>\n",
       "      <td>0.016449</td>\n",
       "      <td>0.009209</td>\n",
       "    </tr>\n",
       "    <tr>\n",
       "      <th>1</th>\n",
       "      <td>abnormal_url</td>\n",
       "      <td>0.000063</td>\n",
       "      <td>0.255342</td>\n",
       "      <td>0.571351</td>\n",
       "      <td>0.275585</td>\n",
       "    </tr>\n",
       "    <tr>\n",
       "      <th>2</th>\n",
       "      <td>count.</td>\n",
       "      <td>0.005881</td>\n",
       "      <td>0.035473</td>\n",
       "      <td>0.022457</td>\n",
       "      <td>0.021270</td>\n",
       "    </tr>\n",
       "    <tr>\n",
       "      <th>3</th>\n",
       "      <td>count-www</td>\n",
       "      <td>0.012396</td>\n",
       "      <td>0.019356</td>\n",
       "      <td>0.021638</td>\n",
       "      <td>0.017797</td>\n",
       "    </tr>\n",
       "  </tbody>\n",
       "</table>\n",
       "</div>"
      ],
      "text/plain": [
       "       features  Stacking feature importances  \\\n",
       "0     use_of_ip                      0.000000   \n",
       "1  abnormal_url                      0.000063   \n",
       "2        count.                      0.005881   \n",
       "3     count-www                      0.012396   \n",
       "\n",
       "   Random Forest feature importances  Extra Trees feature importances  \\\n",
       "0                           0.011178                         0.016449   \n",
       "1                           0.255342                         0.571351   \n",
       "2                           0.035473                         0.022457   \n",
       "3                           0.019356                         0.021638   \n",
       "\n",
       "       mean  \n",
       "0  0.009209  \n",
       "1  0.275585  \n",
       "2  0.021270  \n",
       "3  0.017797  "
      ]
     },
     "execution_count": 70,
     "metadata": {},
     "output_type": "execute_result"
    }
   ],
   "source": [
    "cols = X_train.columns\n",
    "# Create a dataframe with features\n",
    "feature_dataframe = pd.DataFrame( {'features': cols,\n",
    "\n",
    "    'Stacking feature importances': stk_features,\n",
    "    'Random Forest feature importances': rf_features,\n",
    "    'Extra Trees feature importances': et_features\n",
    "\n",
    "    })\n",
    "\n",
    "# feature_dataframe['LGBM feature importances'] = feature_dataframe['LGBM feature importances'].astype(float)\n",
    "\n",
    "print(feature_dataframe.dtypes)\n",
    "\n",
    "import numpy as np\n",
    "\n",
    "feature_dataframe['mean'] = feature_dataframe.select_dtypes(include='number').mean(axis=1) # axis = 1 computes the mean row-wise\n",
    "\n",
    "# feature_dataframe['mean'] = feature_dataframe.mean(axis= 1) # axis = 1 computes the mean row-wise\n",
    "\n",
    "feature_dataframe.head(4)"
   ]
  },
  {
   "cell_type": "code",
   "execution_count": 71,
   "metadata": {},
   "outputs": [
    {
     "name": "stderr",
     "output_type": "stream",
     "text": [
      "C:\\Users\\wku\\AppData\\Local\\Temp\\ipykernel_17884\\3645106442.py:10: UserWarning: set_ticklabels() should only be used with a fixed number of ticks, i.e. after set_ticks() or using a FixedLocator.\n",
      "  s.set_xticklabels(s.get_xticklabels(),rotation=90)\n"
     ]
    },
    {
     "data": {
      "image/png": "[encoded data removed]",
      "text/plain": [
       "<Figure size 1000x1200 with 1 Axes>"
      ]
     },
     "metadata": {},
     "output_type": "display_data"
    }
   ],
   "source": [
    "import seaborn as sns\n",
    "import matplotlib.pyplot as plt\n",
    "%matplotlib inline\n",
    "def plot_feature_importance():\n",
    "    tmp = pd.DataFrame({'Feature': X_test.columns, 'Feature importance': feature_dataframe['mean'].values})\n",
    "    tmp = tmp.sort_values(by='Feature importance',ascending=False).head(20)\n",
    "    plt.figure(figsize = (10,12))\n",
    "    plt.title('Average Feature Importance Top 20 Features',fontsize=14)\n",
    "    s = sns.barplot(y='Feature',x='Feature importance',data=tmp, orient='h')\n",
    "    s.set_xticklabels(s.get_xticklabels(),rotation=90)\n",
    "    plt.show()\n",
    "plot_feature_importance()"
   ]
  },
  {
   "cell_type": "markdown",
   "metadata": {},
   "source": [
    "# hyper parameter tuning"
   ]
  },
  {
   "cell_type": "markdown",
   "metadata": {},
   "source": [
    "## extra trees classifier"
   ]
  },
  {
   "cell_type": "code",
   "execution_count": 72,
   "metadata": {},
   "outputs": [
    {
     "name": "stderr",
     "output_type": "stream",
     "text": [
      "[I 2024-07-10 17:18:11,634] A new study created in memory with name: no-name-e4965197-f76b-4f60-9a1d-5845e644fa3d\n",
      "C:\\anaconda\\Lib\\site-packages\\sklearn\\ensemble\\_forest.py:424: FutureWarning: `max_features='auto'` has been deprecated in 1.1 and will be removed in 1.3. To keep the past behaviour, explicitly set `max_features='sqrt'` or remove this parameter as it is also the default value for RandomForestClassifiers and ExtraTreesClassifiers.\n",
      "  warn(\n",
      "[I 2024-07-10 17:20:39,814] Trial 0 finished with value: 0.7111125278251491 and parameters: {'n_estimators': 400, 'max_features': 'auto', 'max_depth': 110, 'min_samples_split': 10, 'min_samples_leaf': 2, 'random_state': 36}. Best is trial 0 with value: 0.7111125278251491.\n",
      "C:\\anaconda\\Lib\\site-packages\\sklearn\\ensemble\\_forest.py:424: FutureWarning: `max_features='auto'` has been deprecated in 1.1 and will be removed in 1.3. To keep the past behaviour, explicitly set `max_features='sqrt'` or remove this parameter as it is also the default value for RandomForestClassifiers and ExtraTreesClassifiers.\n",
      "  warn(\n",
      "[I 2024-07-10 17:22:25,714] Trial 1 finished with value: 0.7030797592294492 and parameters: {'n_estimators': 300, 'max_features': 'auto', 'max_depth': 50, 'min_samples_split': 4, 'min_samples_leaf': 3, 'random_state': 66}. Best is trial 0 with value: 0.7111125278251491.\n",
      "C:\\anaconda\\Lib\\site-packages\\sklearn\\ensemble\\_forest.py:424: FutureWarning: `max_features='auto'` has been deprecated in 1.1 and will be removed in 1.3. To keep the past behaviour, explicitly set `max_features='sqrt'` or remove this parameter as it is also the default value for RandomForestClassifiers and ExtraTreesClassifiers.\n",
      "  warn(\n",
      "[I 2024-07-10 17:23:20,873] Trial 2 finished with value: 0.5934951574943287 and parameters: {'n_estimators': 300, 'max_features': 'auto', 'max_depth': 10, 'min_samples_split': 6, 'min_samples_leaf': 3, 'random_state': 68}. Best is trial 0 with value: 0.7111125278251491.\n",
      "C:\\anaconda\\Lib\\site-packages\\sklearn\\ensemble\\_forest.py:424: FutureWarning: `max_features='auto'` has been deprecated in 1.1 and will be removed in 1.3. To keep the past behaviour, explicitly set `max_features='sqrt'` or remove this parameter as it is also the default value for RandomForestClassifiers and ExtraTreesClassifiers.\n",
      "  warn(\n",
      "[I 2024-07-10 17:25:13,175] Trial 3 finished with value: 0.7134235425997056 and parameters: {'n_estimators': 300, 'max_features': 'auto', 'max_depth': 50, 'min_samples_split': 4, 'min_samples_leaf': 2, 'random_state': 76}. Best is trial 3 with value: 0.7134235425997056.\n",
      "C:\\anaconda\\Lib\\site-packages\\sklearn\\ensemble\\_forest.py:424: FutureWarning: `max_features='auto'` has been deprecated in 1.1 and will be removed in 1.3. To keep the past behaviour, explicitly set `max_features='sqrt'` or remove this parameter as it is also the default value for RandomForestClassifiers and ExtraTreesClassifiers.\n",
      "  warn(\n",
      "[I 2024-07-10 17:28:11,026] Trial 4 finished with value: 0.7092371526172906 and parameters: {'n_estimators': 500, 'max_features': 'auto', 'max_depth': 30, 'min_samples_split': 4, 'min_samples_leaf': 2, 'random_state': 44}. Best is trial 3 with value: 0.7134235425997056.\n",
      "C:\\anaconda\\Lib\\site-packages\\sklearn\\ensemble\\_forest.py:424: FutureWarning: `max_features='auto'` has been deprecated in 1.1 and will be removed in 1.3. To keep the past behaviour, explicitly set `max_features='sqrt'` or remove this parameter as it is also the default value for RandomForestClassifiers and ExtraTreesClassifiers.\n",
      "  warn(\n",
      "[I 2024-07-10 17:29:29,597] Trial 5 finished with value: 0.7100924937177587 and parameters: {'n_estimators': 200, 'max_features': 'auto', 'max_depth': 110, 'min_samples_split': 10, 'min_samples_leaf': 1, 'random_state': 47}. Best is trial 3 with value: 0.7134235425997056.\n",
      "C:\\anaconda\\Lib\\site-packages\\sklearn\\ensemble\\_forest.py:424: FutureWarning: `max_features='auto'` has been deprecated in 1.1 and will be removed in 1.3. To keep the past behaviour, explicitly set `max_features='sqrt'` or remove this parameter as it is also the default value for RandomForestClassifiers and ExtraTreesClassifiers.\n",
      "  warn(\n",
      "[I 2024-07-10 17:29:47,968] Trial 6 finished with value: 0.5931551461251986 and parameters: {'n_estimators': 100, 'max_features': 'auto', 'max_depth': 10, 'min_samples_split': 10, 'min_samples_leaf': 3, 'random_state': 49}. Best is trial 3 with value: 0.7134235425997056.\n",
      "[I 2024-07-10 17:33:06,922] Trial 7 finished with value: 0.7098215471579831 and parameters: {'n_estimators': 500, 'max_features': 'sqrt', 'max_depth': 110, 'min_samples_split': 4, 'min_samples_leaf': 1, 'random_state': 96}. Best is trial 3 with value: 0.7134235425997056.\n",
      "C:\\anaconda\\Lib\\site-packages\\sklearn\\ensemble\\_forest.py:424: FutureWarning: `max_features='auto'` has been deprecated in 1.1 and will be removed in 1.3. To keep the past behaviour, explicitly set `max_features='sqrt'` or remove this parameter as it is also the default value for RandomForestClassifiers and ExtraTreesClassifiers.\n",
      "  warn(\n",
      "[I 2024-07-10 17:34:20,188] Trial 8 finished with value: 0.5934473433955448 and parameters: {'n_estimators': 400, 'max_features': 'auto', 'max_depth': 10, 'min_samples_split': 4, 'min_samples_leaf': 4, 'random_state': 7}. Best is trial 3 with value: 0.7134235425997056.\n",
      "C:\\anaconda\\Lib\\site-packages\\sklearn\\ensemble\\_forest.py:424: FutureWarning: `max_features='auto'` has been deprecated in 1.1 and will be removed in 1.3. To keep the past behaviour, explicitly set `max_features='sqrt'` or remove this parameter as it is also the default value for RandomForestClassifiers and ExtraTreesClassifiers.\n",
      "  warn(\n",
      "[I 2024-07-10 17:35:34,855] Trial 9 finished with value: 0.711457851871922 and parameters: {'n_estimators': 200, 'max_features': 'auto', 'max_depth': 110, 'min_samples_split': 4, 'min_samples_leaf': 2, 'random_state': 94}. Best is trial 3 with value: 0.7134235425997056.\n",
      "[I 2024-07-10 17:36:08,359] Trial 10 finished with value: 0.6675326331224201 and parameters: {'n_estimators': 100, 'max_features': 'sqrt', 'max_depth': 70, 'min_samples_split': 2, 'min_samples_leaf': 4, 'random_state': 76}. Best is trial 3 with value: 0.7134235425997056.\n",
      "[I 2024-07-10 17:37:19,954] Trial 11 finished with value: 0.7093115301042878 and parameters: {'n_estimators': 200, 'max_features': 'sqrt', 'max_depth': 70, 'min_samples_split': 6, 'min_samples_leaf': 2, 'random_state': 98}. Best is trial 3 with value: 0.7134235425997056.\n",
      "C:\\anaconda\\Lib\\site-packages\\sklearn\\ensemble\\_forest.py:424: FutureWarning: `max_features='auto'` has been deprecated in 1.1 and will be removed in 1.3. To keep the past behaviour, explicitly set `max_features='sqrt'` or remove this parameter as it is also the default value for RandomForestClassifiers and ExtraTreesClassifiers.\n",
      "  warn(\n",
      "[I 2024-07-10 17:38:32,487] Trial 12 finished with value: 0.7121219365772543 and parameters: {'n_estimators': 200, 'max_features': 'auto', 'max_depth': 90, 'min_samples_split': 2, 'min_samples_leaf': 2, 'random_state': 81}. Best is trial 3 with value: 0.7134235425997056.\n",
      "C:\\anaconda\\Lib\\site-packages\\sklearn\\ensemble\\_forest.py:424: FutureWarning: `max_features='auto'` has been deprecated in 1.1 and will be removed in 1.3. To keep the past behaviour, explicitly set `max_features='sqrt'` or remove this parameter as it is also the default value for RandomForestClassifiers and ExtraTreesClassifiers.\n",
      "  warn(\n",
      "[I 2024-07-10 17:40:29,710] Trial 13 finished with value: 0.7107672037783763 and parameters: {'n_estimators': 300, 'max_features': 'auto', 'max_depth': 90, 'min_samples_split': 2, 'min_samples_leaf': 1, 'random_state': 78}. Best is trial 3 with value: 0.7134235425997056.\n",
      "[I 2024-07-10 17:41:42,722] Trial 14 finished with value: 0.7122866295841768 and parameters: {'n_estimators': 200, 'max_features': 'sqrt', 'max_depth': 50, 'min_samples_split': 2, 'min_samples_leaf': 2, 'random_state': 83}. Best is trial 3 with value: 0.7134235425997056.\n",
      "[I 2024-07-10 17:43:58,520] Trial 15 finished with value: 0.7105068825738861 and parameters: {'n_estimators': 400, 'max_features': 'sqrt', 'max_depth': 50, 'min_samples_split': 8, 'min_samples_leaf': 3, 'random_state': 61}. Best is trial 3 with value: 0.7134235425997056.\n",
      "[I 2024-07-10 17:44:35,369] Trial 16 finished with value: 0.7089077666034458 and parameters: {'n_estimators': 100, 'max_features': 'sqrt', 'max_depth': 30, 'min_samples_split': 2, 'min_samples_leaf': 1, 'random_state': 19}. Best is trial 3 with value: 0.7134235425997056.\n",
      "[I 2024-07-10 17:45:44,388] Trial 17 finished with value: 0.7120263083796865 and parameters: {'n_estimators': 200, 'max_features': 'sqrt', 'max_depth': 30, 'min_samples_split': 6, 'min_samples_leaf': 2, 'random_state': 84}. Best is trial 3 with value: 0.7134235425997056.\n",
      "[I 2024-07-10 17:47:26,705] Trial 18 finished with value: 0.706819884289881 and parameters: {'n_estimators': 300, 'max_features': 'sqrt', 'max_depth': 50, 'min_samples_split': 2, 'min_samples_leaf': 3, 'random_state': 63}. Best is trial 3 with value: 0.7134235425997056.\n",
      "[I 2024-07-10 17:49:23,992] Trial 19 finished with value: 0.7102624994023238 and parameters: {'n_estimators': 300, 'max_features': 'sqrt', 'max_depth': 70, 'min_samples_split': 6, 'min_samples_leaf': 1, 'random_state': 87}. Best is trial 3 with value: 0.7134235425997056.\n",
      "[I 2024-07-10 17:51:46,389] Trial 20 finished with value: 0.7138379314558331 and parameters: {'n_estimators': 400, 'max_features': 'sqrt', 'max_depth': 50, 'min_samples_split': 8, 'min_samples_leaf': 2, 'random_state': 30}. Best is trial 20 with value: 0.7138379314558331.\n",
      "[I 2024-07-10 17:54:10,730] Trial 21 finished with value: 0.7116384829117723 and parameters: {'n_estimators': 400, 'max_features': 'sqrt', 'max_depth': 50, 'min_samples_split': 8, 'min_samples_leaf': 2, 'random_state': 29}. Best is trial 20 with value: 0.7138379314558331.\n",
      "[I 2024-07-10 17:56:30,598] Trial 22 finished with value: 0.7143851372530269 and parameters: {'n_estimators': 400, 'max_features': 'sqrt', 'max_depth': 30, 'min_samples_split': 8, 'min_samples_leaf': 2, 'random_state': 19}. Best is trial 22 with value: 0.7143851372530269.\n",
      "[I 2024-07-10 17:59:25,840] Trial 23 finished with value: 0.7104378177645315 and parameters: {'n_estimators': 500, 'max_features': 'sqrt', 'max_depth': 30, 'min_samples_split': 8, 'min_samples_leaf': 2, 'random_state': 2}. Best is trial 22 with value: 0.7143851372530269.\n",
      "[I 2024-07-10 18:01:39,373] Trial 24 finished with value: 0.7065808137959613 and parameters: {'n_estimators': 400, 'max_features': 'sqrt', 'max_depth': 30, 'min_samples_split': 8, 'min_samples_leaf': 3, 'random_state': 17}. Best is trial 22 with value: 0.7143851372530269.\n",
      "[I 2024-07-10 18:04:02,505] Trial 25 finished with value: 0.7111975306674317 and parameters: {'n_estimators': 400, 'max_features': 'sqrt', 'max_depth': 70, 'min_samples_split': 8, 'min_samples_leaf': 2, 'random_state': 29}. Best is trial 22 with value: 0.7143851372530269.\n",
      "[I 2024-07-10 18:07:08,285] Trial 26 finished with value: 0.7097471696709858 and parameters: {'n_estimators': 500, 'max_features': 'sqrt', 'max_depth': 30, 'min_samples_split': 6, 'min_samples_leaf': 1, 'random_state': 16}. Best is trial 22 with value: 0.7143851372530269.\n",
      "[I 2024-07-10 18:08:55,422] Trial 27 finished with value: 0.7111125278251491 and parameters: {'n_estimators': 300, 'max_features': 'sqrt', 'max_depth': 50, 'min_samples_split': 8, 'min_samples_leaf': 2, 'random_state': 38}. Best is trial 22 with value: 0.7143851372530269.\n",
      "C:\\anaconda\\Lib\\site-packages\\sklearn\\ensemble\\_forest.py:424: FutureWarning: `max_features='auto'` has been deprecated in 1.1 and will be removed in 1.3. To keep the past behaviour, explicitly set `max_features='sqrt'` or remove this parameter as it is also the default value for RandomForestClassifiers and ExtraTreesClassifiers.\n",
      "  warn(\n",
      "[I 2024-07-10 18:11:10,378] Trial 28 finished with value: 0.7097365443157005 and parameters: {'n_estimators': 400, 'max_features': 'auto', 'max_depth': 90, 'min_samples_split': 10, 'min_samples_leaf': 3, 'random_state': 55}. Best is trial 22 with value: 0.7143851372530269.\n",
      "C:\\anaconda\\Lib\\site-packages\\sklearn\\ensemble\\_forest.py:424: FutureWarning: `max_features='auto'` has been deprecated in 1.1 and will be removed in 1.3. To keep the past behaviour, explicitly set `max_features='sqrt'` or remove this parameter as it is also the default value for RandomForestClassifiers and ExtraTreesClassifiers.\n",
      "  warn(\n",
      "[I 2024-07-10 18:12:23,985] Trial 29 finished with value: 0.5934207800073314 and parameters: {'n_estimators': 400, 'max_features': 'auto', 'max_depth': 10, 'min_samples_split': 10, 'min_samples_leaf': 1, 'random_state': 28}. Best is trial 22 with value: 0.7143851372530269.\n"
     ]
    }
   ],
   "source": [
    "import optuna\n",
    "\n",
    "def objective(trial):\n",
    "\n",
    "    # Number of trees in extra trees\n",
    "    \n",
    "    n_estimators = trial.suggest_int(name=\"n_estimators\", low=100, high=500, step=100)\n",
    "\n",
    "    # Number of features to consider at every split\n",
    "    max_features = trial.suggest_categorical(name=\"max_features\", choices=['auto', 'sqrt'])\n",
    "\n",
    "    # Maximum number of levels in tree\n",
    "    max_depth = trial.suggest_int(name=\"max_depth\", low=10, high=110, step=20)\n",
    "\n",
    "    # Minimum number of samples required to split a node\n",
    "    min_samples_split = trial.suggest_int(name=\"min_samples_split\", low=2, high=10, step=2)\n",
    "\n",
    "    # Minimum number of samples required at each leaf node\n",
    "    min_samples_leaf = trial.suggest_int(name=\"min_samples_leaf\", low=1, high=4, step=1)\n",
    "\n",
    "    \n",
    "    # Random state\n",
    "    random_state = trial.suggest_int(name=\"random_state\", low=0, high=100, step=1)\n",
    "    \n",
    "    params = {\n",
    "        \"n_estimators\": n_estimators,\n",
    "        \"max_features\": max_features,\n",
    "        \"max_depth\": max_depth,\n",
    "        \"min_samples_split\": min_samples_split,\n",
    "        \"min_samples_leaf\": min_samples_leaf,\n",
    "        \"random_state\": random_state\n",
    "    }\n",
    "    \n",
    "    model_et = ExtraTreesClassifier(**params)\n",
    "    model_et.fit(X_train_res, y_train_res)\n",
    "    predictions_et = model_et.predict(X_test)\n",
    "    # Calculate the accuracy of the model\n",
    "    accuracy = accuracy_score(y_test, predictions_et)\n",
    "    return accuracy\n",
    "\n",
    "study_et = optuna.create_study(direction='maximize')\n",
    "study_et.optimize(objective, n_trials=30)"
   ]
  },
  {
   "cell_type": "code",
   "execution_count": 73,
   "metadata": {},
   "outputs": [
    {
     "name": "stdout",
     "output_type": "stream",
     "text": [
      "Extra Trees Best hyperparameters: {'n_estimators': 400, 'max_features': 'sqrt', 'max_depth': 30, 'min_samples_split': 8, 'min_samples_leaf': 2, 'random_state': 19}\n",
      "Extra Trees Best Accuracy: 0.7143851372530269\n"
     ]
    }
   ],
   "source": [
    "print('Extra Trees Best hyperparameters:', study_et.best_params)\n",
    "print('Extra Trees Best Accuracy:', study_et.best_value)"
   ]
  },
  {
   "cell_type": "code",
   "execution_count": 74,
   "metadata": {},
   "outputs": [],
   "source": [
    "# Initialize and start the timer for model training\n",
    "start_time = time.time()\n",
    "\n",
    "best_model_et = ExtraTreesClassifier(**study_et.best_params)\n",
    "best_model_et.fit(X_train_res, y_train_res)\n",
    "\n",
    "# Calculate the model training time\n",
    "training_time_et_optuna = time.time() - start_time\n",
    "\n",
    "train_et = best_model_et.predict(X_train_res)\n",
    "\n",
    "# Initialize and start the timer for model execution\n",
    "start_time = time.time()\n",
    "\n",
    "test_et = best_model_et.predict(X_test)\n",
    "\n",
    "# Calculate the model execution time\n",
    "execution_time_et_optuna = ( time.time() - start_time ) / 188229"
   ]
  },
  {
   "cell_type": "code",
   "execution_count": 75,
   "metadata": {},
   "outputs": [],
   "source": [
    "et_feature_optuna = best_model_et.feature_importances_\n",
    "et_features_optuna = et_feature_optuna.tolist()"
   ]
  },
  {
   "cell_type": "markdown",
   "metadata": {},
   "source": [
    "## random forest"
   ]
  },
  {
   "cell_type": "code",
   "execution_count": null,
   "metadata": {},
   "outputs": [
    {
     "name": "stderr",
     "output_type": "stream",
     "text": [
      "[I 2024-07-10 18:15:16,364] A new study created in memory with name: no-name-13bba314-18b4-4464-8209-043b5fdf9dc0\n",
      "[I 2024-07-10 18:18:02,410] Trial 0 finished with value: 0.7225029086910093 and parameters: {'n_estimators': 400, 'max_features': 'sqrt', 'max_depth': 90, 'min_samples_split': 4, 'min_samples_leaf': 2, 'random_state': 84}. Best is trial 0 with value: 0.7225029086910093.\n",
      "C:\\anaconda\\Lib\\site-packages\\sklearn\\ensemble\\_forest.py:424: FutureWarning: `max_features='auto'` has been deprecated in 1.1 and will be removed in 1.3. To keep the past behaviour, explicitly set `max_features='sqrt'` or remove this parameter as it is also the default value for RandomForestClassifiers and ExtraTreesClassifiers.\n",
      "  warn(\n",
      "[I 2024-07-10 18:21:25,756] Trial 1 finished with value: 0.7255205095920395 and parameters: {'n_estimators': 500, 'max_features': 'auto', 'max_depth': 30, 'min_samples_split': 8, 'min_samples_leaf': 3, 'random_state': 41}. Best is trial 1 with value: 0.7255205095920395.\n",
      "C:\\anaconda\\Lib\\site-packages\\sklearn\\ensemble\\_forest.py:424: FutureWarning: `max_features='auto'` has been deprecated in 1.1 and will be removed in 1.3. To keep the past behaviour, explicitly set `max_features='sqrt'` or remove this parameter as it is also the default value for RandomForestClassifiers and ExtraTreesClassifiers.\n",
      "  warn(\n",
      "[I 2024-07-10 18:24:20,427] Trial 2 finished with value: 0.7257436420530311 and parameters: {'n_estimators': 500, 'max_features': 'auto', 'max_depth': 10, 'min_samples_split': 6, 'min_samples_leaf': 3, 'random_state': 70}. Best is trial 2 with value: 0.7257436420530311.\n",
      "[I 2024-07-10 18:24:55,281] Trial 3 finished with value: 0.7242614049907293 and parameters: {'n_estimators': 100, 'max_features': 'sqrt', 'max_depth': 10, 'min_samples_split': 10, 'min_samples_leaf': 2, 'random_state': 21}. Best is trial 2 with value: 0.7257436420530311.\n",
      "[I 2024-07-10 18:26:15,162] Trial 4 finished with value: 0.7301425391411526 and parameters: {'n_estimators': 200, 'max_features': 'sqrt', 'max_depth': 30, 'min_samples_split': 8, 'min_samples_leaf': 4, 'random_state': 39}. Best is trial 4 with value: 0.7301425391411526.\n",
      "C:\\anaconda\\Lib\\site-packages\\sklearn\\ensemble\\_forest.py:424: FutureWarning: `max_features='auto'` has been deprecated in 1.1 and will be removed in 1.3. To keep the past behaviour, explicitly set `max_features='sqrt'` or remove this parameter as it is also the default value for RandomForestClassifiers and ExtraTreesClassifiers.\n",
      "  warn(\n",
      "[I 2024-07-10 18:26:55,574] Trial 5 finished with value: 0.7247289206232833 and parameters: {'n_estimators': 100, 'max_features': 'auto', 'max_depth': 50, 'min_samples_split': 10, 'min_samples_leaf': 2, 'random_state': 14}. Best is trial 4 with value: 0.7301425391411526.\n",
      "[I 2024-07-10 18:28:58,153] Trial 6 finished with value: 0.7278580877548093 and parameters: {'n_estimators': 300, 'max_features': 'sqrt', 'max_depth': 90, 'min_samples_split': 10, 'min_samples_leaf': 3, 'random_state': 45}. Best is trial 4 with value: 0.7301425391411526.\n",
      "C:\\anaconda\\Lib\\site-packages\\sklearn\\ensemble\\_forest.py:424: FutureWarning: `max_features='auto'` has been deprecated in 1.1 and will be removed in 1.3. To keep the past behaviour, explicitly set `max_features='sqrt'` or remove this parameter as it is also the default value for RandomForestClassifiers and ExtraTreesClassifiers.\n",
      "  warn(\n",
      "[I 2024-07-10 18:30:21,474] Trial 7 finished with value: 0.7235282554760425 and parameters: {'n_estimators': 200, 'max_features': 'auto', 'max_depth': 110, 'min_samples_split': 6, 'min_samples_leaf': 2, 'random_state': 99}. Best is trial 4 with value: 0.7301425391411526.\n",
      "[I 2024-07-10 18:31:41,828] Trial 8 finished with value: 0.722056643769026 and parameters: {'n_estimators': 200, 'max_features': 'sqrt', 'max_depth': 110, 'min_samples_split': 8, 'min_samples_leaf': 2, 'random_state': 24}. Best is trial 4 with value: 0.7301425391411526.\n",
      "C:\\anaconda\\Lib\\site-packages\\sklearn\\ensemble\\_forest.py:424: FutureWarning: `max_features='auto'` has been deprecated in 1.1 and will be removed in 1.3. To keep the past behaviour, explicitly set `max_features='sqrt'` or remove this parameter as it is also the default value for RandomForestClassifiers and ExtraTreesClassifiers.\n",
      "  warn(\n",
      "[I 2024-07-10 18:34:28,352] Trial 9 finished with value: 0.7174877409963396 and parameters: {'n_estimators': 400, 'max_features': 'auto', 'max_depth': 110, 'min_samples_split': 6, 'min_samples_leaf': 1, 'random_state': 13}. Best is trial 4 with value: 0.7301425391411526.\n",
      "[I 2024-07-10 18:35:50,824] Trial 10 finished with value: 0.7293456374947538 and parameters: {'n_estimators': 200, 'max_features': 'sqrt', 'max_depth': 50, 'min_samples_split': 2, 'min_samples_leaf': 4, 'random_state': 68}. Best is trial 4 with value: 0.7301425391411526.\n",
      "[I 2024-07-10 18:37:13,213] Trial 11 finished with value: 0.7269868086214133 and parameters: {'n_estimators': 200, 'max_features': 'sqrt', 'max_depth': 50, 'min_samples_split': 2, 'min_samples_leaf': 4, 'random_state': 63}. Best is trial 4 with value: 0.7301425391411526.\n"
     ]
    }
   ],
   "source": [
    "import optuna\n",
    "from sklearn.ensemble import RandomForestClassifier\n",
    "from sklearn.metrics import accuracy_score\n",
    "\n",
    "def objective(trial_rf):\n",
    "    # Number of trees in random forest\n",
    "    \n",
    "    n_estimators = trial_rf.suggest_int(name=\"n_estimators\", low=100, high=500, step=100)\n",
    "\n",
    "    # Number of features to consider at every split\n",
    "    max_features = trial_rf.suggest_categorical(name=\"max_features\", choices=['auto', 'sqrt'])\n",
    "\n",
    "    # Maximum number of levels in tree\n",
    "    max_depth = trial_rf.suggest_int(name=\"max_depth\", low=10, high=110, step=20)\n",
    "\n",
    "    # Minimum number of samples required to split a node\n",
    "    min_samples_split = trial_rf.suggest_int(name=\"min_samples_split\", low=2, high=10, step=2)\n",
    "\n",
    "    # Minimum number of samples required at each leaf node\n",
    "    min_samples_leaf = trial_rf.suggest_int(name=\"min_samples_leaf\", low=1, high=4, step=1)\n",
    "    \n",
    "    # Random state\n",
    "    random_state = trial_rf.suggest_int(name=\"random_state\", low=0, high=100, step=1)\n",
    "    \n",
    "    params_rf = {\n",
    "        \"n_estimators\": n_estimators,\n",
    "        \"max_features\": max_features,\n",
    "        \"max_depth\": max_depth,\n",
    "        \"min_samples_split\": min_samples_split,\n",
    "        \"min_samples_leaf\": min_samples_leaf,\n",
    "        \"random_state\": random_state\n",
    "    }\n",
    "    \n",
    "    model_rf = RandomForestClassifier(**params_rf)\n",
    "    model_rf.fit(X_train_res, y_train_res)\n",
    "    predictions_rf = model_rf.predict(X_test)\n",
    "    # Calculate the accuracy of the model\n",
    "    accuracy = accuracy_score(y_test, predictions_rf)\n",
    "    return accuracy\n",
    "\n",
    "study_rf = optuna.create_study(direction='maximize')\n",
    "study_rf.optimize(objective, n_trials=30)\n",
    "\n",
    "print('Random Forest Best hyperparameters:', study_rf.best_params)\n",
    "print('Random Forest Best Accuracy:', study_rf.best_value)"
   ]
  },
  {
   "cell_type": "code",
   "execution_count": null,
   "metadata": {},
   "outputs": [],
   "source": [
    "# Initialize and start the timer for model training\n",
    "start_time = time.time()\n",
    "\n",
    "best_model_rf = RandomForestClassifier(**study_rf.best_params)\n",
    "best_model_rf.fit(X_train_res, y_train_res)\n",
    "\n",
    "# Calculate the model training time\n",
    "training_time_rf_optuna = time.time() - start_time\n",
    "\n",
    "train_rf = best_model_rf.predict(X_train_res)\n",
    "\n",
    "# Initialize and start the timer for model execution\n",
    "start_time = time.time()\n",
    "\n",
    "test_rf = best_model_rf.predict(X_test)\n",
    "\n",
    "# Calculate the model execution time\n",
    "execution_time_rf_optuna = ( time.time() - start_time ) / 188229"
   ]
  },
  {
   "cell_type": "code",
   "execution_count": null,
   "metadata": {},
   "outputs": [],
   "source": [
    "rf_feature_optuna = best_model_rf.feature_importances_\n",
    "rf_features_optuna = rf_feature_optuna.tolist()"
   ]
  },
  {
   "cell_type": "code",
   "execution_count": null,
   "metadata": {},
   "outputs": [],
   "source": [
    "CM_RF_optuna=confusion_matrix(y_test,test_rf,labels=[0,1])\n",
    "\n",
    "plot_confusion_matrix(CM_RF_optuna,classes=['good', 'bad'])"
   ]
  },
  {
   "cell_type": "code",
   "execution_count": null,
   "metadata": {},
   "outputs": [],
   "source": [
    "from sklearn.metrics import ConfusionMatrixDisplay\n",
    "sample_weight = (test_rf != y_test)\n",
    "ConfusionMatrixDisplay.from_predictions(y_test, y_predict, sample_weight=sample_weight, normalize=\"true\", values_format=\".0%\")\n",
    "plt.title('Random Forest Classifier Error Matrix')\n",
    "plt.ylabel('Actual Values')\n",
    "plt.xlabel('Predicted Values')\n",
    "# Save the plot as a PDF\n",
    "plt.savefig('Random Forest Classifier After Optuna Error Matrix.pdf', format='pdf')\n",
    "plt.show()"
   ]
  },
  {
   "cell_type": "markdown",
   "metadata": {},
   "source": [
    "## ada boost"
   ]
  },
  {
   "cell_type": "code",
   "execution_count": null,
   "metadata": {},
   "outputs": [],
   "source": [
    "def objective(trial_ada):\n",
    "    # Number of trees in random forest\n",
    "    \n",
    "    n_estimators = trial_ada.suggest_int(name=\"n_estimators\", low=100, high=500, step=100)\n",
    "    \n",
    "    # Random state\n",
    "    random_state = trial_ada.suggest_int(name=\"random_state\", low=0, high=100, step=1)\n",
    "    \n",
    "    params_ada = {\n",
    "        \"n_estimators\": n_estimators,\n",
    "        \"random_state\": random_state\n",
    "    }\n",
    "    \n",
    "    model_ada = AdaBoostClassifier(**params_ada)\n",
    "    model_ada.fit(X_train_res, y_train_res)\n",
    "    predictions_ada = model_ada.predict(X_test)\n",
    "    # Calculate the accuracy of the model\n",
    "    accuracy = accuracy_score(y_test, predictions_ada)\n",
    "    return accuracy\n",
    "\n",
    "study_ada = optuna.create_study(direction='maximize')\n",
    "study_ada.optimize(objective, n_trials=30)\n",
    "\n",
    "print('Ada Boost Best hyperparameters:', study_ada.best_params)\n",
    "print('Ada Boost Forest Best Accuracy:', study_ada.best_value)"
   ]
  },
  {
   "cell_type": "code",
   "execution_count": null,
   "metadata": {},
   "outputs": [],
   "source": [
    "# Initialize and start the timer for model training\n",
    "start_time = time.time()\n",
    "\n",
    "best_model_ada = AdaBoostClassifier(**study_ada.best_params)\n",
    "best_model_ada.fit(X_train_res, y_train_res)\n",
    "\n",
    "# Calculate the model training time\n",
    "training_time_ada_optuna = time.time() - start_time\n",
    "\n",
    "train_ada = best_model_ada.predict(X_train_res)\n",
    "\n",
    "# Initialize and start the timer for model execution\n",
    "start_time = time.time()\n",
    "\n",
    "test_ada = best_model_ada.predict(X_test)\n",
    "\n",
    "# Calculate the model execution time\n",
    "execution_time_ada_optuna = ( time.time() - start_time ) / 188229"
   ]
  },
  {
   "cell_type": "code",
   "execution_count": null,
   "metadata": {},
   "outputs": [],
   "source": [
    "ada_feature_optuna = best_model_ada.feature_importances_\n",
    "ada_features_optuna = ada_feature_optuna.tolist()"
   ]
  },
  {
   "cell_type": "markdown",
   "metadata": {},
   "source": [
    "## SGD Classifier"
   ]
  },
  {
   "cell_type": "code",
   "execution_count": null,
   "metadata": {},
   "outputs": [],
   "source": [
    "def objective(trial_sgd):\n",
    "\n",
    "    # Random state\n",
    "    random_state = trial_sgd.suggest_int(name=\"random_state\", low=0, high=100, step=1)\n",
    "    alpha = trial_sgd.suggest_float(\"alpha\", 1e-5, 1e-1, log=True)\n",
    "    \n",
    "    params_sgd = {\n",
    "        \"random_state\": random_state,\n",
    "        \"alpha\": alpha\n",
    "    }\n",
    "    \n",
    "    model_sgd = SGDClassifier(**params_sgd)\n",
    "    model_sgd.fit(X_train_res, y_train_res)\n",
    "    predictions_sgd = model_sgd.predict(X_test)\n",
    "    # Calculate the accuracy of the model\n",
    "    accuracy = accuracy_score(y_test, predictions_sgd)\n",
    "    return accuracy\n",
    "\n",
    "study_sgd = optuna.create_study(direction='maximize')\n",
    "study_sgd.optimize(objective, n_trials=30)\n",
    "\n",
    "print('SGD Classifier Best hyperparameters:', study_sgd.best_params)\n",
    "print('SGD Classifier Best Accuracy:', study_sgd.best_value)"
   ]
  },
  {
   "cell_type": "code",
   "execution_count": null,
   "metadata": {},
   "outputs": [],
   "source": [
    "# Initialize and start the timer for model training\n",
    "start_time = time.time()\n",
    "\n",
    "best_model_sgd = SGDClassifier(**study_sgd.best_params)\n",
    "best_model_sgd.fit(X_train_res, y_train_res)\n",
    "\n",
    "# Calculate the model training time\n",
    "training_time_sgd_optuna = time.time() - start_time\n",
    "\n",
    "train_sgd = best_model_sgd.predict(X_train_res)\n",
    "\n",
    "# Initialize and start the timer for model execution\n",
    "start_time = time.time()\n",
    "\n",
    "test_sgd = best_model_sgd.predict(X_test)\n",
    "\n",
    "# Calculate the model execution time\n",
    "execution_time_sgd_optuna = ( time.time() - start_time ) / 188229"
   ]
  },
  {
   "cell_type": "code",
   "execution_count": null,
   "metadata": {},
   "outputs": [],
   "source": [
    "CM_SGD_optuna=confusion_matrix(y_test,test_sgd,labels=[0,1])\n",
    "\n",
    "plot_confusion_matrix(CM_SGD_optuna,classes=['good', 'bad'])\n",
    "\n",
    "# Save the plot as a PDF\n",
    "plt.savefig('SGD Classifier After Optuna Confusion Matrix.pdf', format='pdf')"
   ]
  },
  {
   "cell_type": "code",
   "execution_count": null,
   "metadata": {},
   "outputs": [],
   "source": [
    "# Only a sample code to show the logic. It needs to work on the entire dataset to generate sufficient training samples for biased classifiers\n",
    "def Anomaly_MUDS(X_train, X_test, y_train, y_test,n,b=100):\n",
    "    # SGD Classifier\n",
    "    result = best_model_sgd.predict(X_train_res)\n",
    "    result2 = best_model_sgd.predict(X_test)\n",
    "\n",
    "    count=0\n",
    "    a=np.zeros(n)\n",
    "    b=np.zeros(n)\n",
    "    for v in range(0,n):\n",
    "        for i in range(0,len(y_train_res)):\n",
    "            if result[i]==v:\n",
    "                if y_train_res[i]==1:\n",
    "                    a[v]=a[v]+1\n",
    "                else:\n",
    "                    b[v]=b[v]+1\n",
    "    list1=[]\n",
    "    list2=[]\n",
    "    for v in range(0,n):\n",
    "        if a[v]<=b[v]:\n",
    "            list1.append(v)\n",
    "        else: \n",
    "            list2.append(v)\n",
    "    for v in range(0,len(y_test)):\n",
    "        if result2[v] in list1:\n",
    "            result2[v]=0\n",
    "        elif result2[v] in list2:\n",
    "            result2[v]=1\n",
    "        else:\n",
    "            print(\"-1\")\n",
    "    print(classification_report(y_test, result2))\n",
    "    cm=confusion_matrix(y_test,result2)\n",
    "    print(cm)\n",
    "    result2 = np.array(result2)\n",
    "    y_test = np.array(y_test)\n",
    "   #acc=metrics.accuracy_score(y_test,result2)\n",
    "   #print(str(acc))\n",
    "    \n",
    "    #Biased classifier construction\n",
    "    count=0\n",
    "    a=np.zeros(n)\n",
    "    b=np.zeros(n)\n",
    "    FNL=[]\n",
    "    FPL=[]\n",
    "    for v in range(0,n):\n",
    "        al=[]\n",
    "        bl=[]\n",
    "        for i in range(0,len(y_train_res)):   \n",
    "            if result[i]==v:        \n",
    "                if y_train_res[i]==1:        #label 1\n",
    "                    a[v]=a[v]+1\n",
    "                    al.append(i)\n",
    "                else:             #label 0\n",
    "                    b[v]=b[v]+1\n",
    "                    bl.append(i)\n",
    "        if a[v]<=b[v]:\n",
    "            FNL.extend(al)\n",
    "        else:\n",
    "            FPL.extend(bl)\n",
    "        #print(str(v)+\"=\"+str(a[v]/(a[v]+b[v])))\n",
    "        \n",
    "    dffp=X_train_res.iloc[FPL, :]\n",
    "    dffn=X_train_res.iloc[FNL, :]\n",
    "    dfva0=X_train_res[y_train_res==0]\n",
    "    dfva1=X_train_res[y_train_res==1]\n",
    "    \n",
    "    dffpp=dfva1.sample(n=None, frac=len(FPL)/dfva1.shape[0], replace=False, weights=None, random_state=None, axis=0)\n",
    "    dffnp=dfva0.sample(n=None, frac=len(FNL)/dfva0.shape[0], replace=False, weights=None, random_state=None, axis=0)\n",
    "    \n",
    "    dffp_f=pd.concat([dffp, dffpp])\n",
    "    dffn_f=pd.concat([dffn, dffnp])\n",
    "    \n",
    "    Xp = dffp_f  \n",
    "    yp = dffp_f.iloc[:, -1].values.reshape(-1,1)\n",
    "    yp=np.ravel(yp)\n",
    "\n",
    "    Xn = dffn_f  \n",
    "    yn = dffn_f.iloc[:, -1].values.reshape(-1,1)\n",
    "    yn=np.ravel(yn)\n",
    "    \n",
    "    rfp = RandomForestClassifier(random_state = 0)\n",
    "    rfp.fit(Xp,yp)\n",
    "    rfn = RandomForestClassifier(random_state = 0)\n",
    "    rfn.fit(Xn,yn)\n",
    "\n",
    "    dffnn_f=pd.concat([dffn, dffnp])\n",
    "    \n",
    "    Xnn = dffn_f  \n",
    "    ynn = dffn_f.iloc[:, -1].values.reshape(-1,1)\n",
    "    ynn=np.ravel(ynn)\n",
    "\n",
    "    rfnn = RandomForestClassifier(random_state = 0)\n",
    "    rfnn.fit(Xnn,ynn)\n",
    "\n",
    "    X2p = X_test \n",
    "    y2p = y_test\n",
    "    y2p=np.ravel(y2p)\n",
    "\n",
    "    result2 = best_model_sgd.predict(X2p)\n",
    "\n",
    "    count=0\n",
    "    a=np.zeros(n)\n",
    "    b=np.zeros(n)\n",
    "    for v in range(0,n):\n",
    "        for i in range(0,len(y_train_res)):\n",
    "            if result[i]==v:\n",
    "                if y_train_res[i]==1:\n",
    "                    a[v]=a[v]+1\n",
    "                else:\n",
    "                    b[v]=b[v]+1\n",
    "    list1=[]\n",
    "    list2=[]\n",
    "    l1=[]\n",
    "    l0=[]\n",
    "    for v in range(0,n):\n",
    "        if a[v]<=b[v]:\n",
    "            list1.append(v)\n",
    "        else: \n",
    "            list2.append(v)\n",
    "    for v in range(0,len(y2p)):\n",
    "        if result2[v] in list1:\n",
    "            result2[v]=0\n",
    "            l0.append(v)\n",
    "        elif result2[v] in list2:\n",
    "            result2[v]=1\n",
    "            l1.append(v)\n",
    "        else:\n",
    "            print(\"-1\")\n",
    "    print(classification_report(y2p, result2))\n",
    "    cm=confusion_matrix(y2p,result2)\n",
    "    print(cm)"
   ]
  },
  {
   "cell_type": "code",
   "execution_count": null,
   "metadata": {},
   "outputs": [],
   "source": [
    "Anomaly_MUDS(X_train_res, X_test, y_train_res, y_test,16,b=100)"
   ]
  },
  {
   "cell_type": "code",
   "execution_count": null,
   "metadata": {},
   "outputs": [],
   "source": [
    "print(y_train_res.name)"
   ]
  },
  {
   "cell_type": "markdown",
   "metadata": {},
   "source": [
    "## LGBM"
   ]
  },
  {
   "cell_type": "code",
   "execution_count": null,
   "metadata": {},
   "outputs": [],
   "source": [
    "def objective(trial_lgbm):\n",
    "    # Number of trees in lgbm\n",
    "    \n",
    "    n_estimators = trial_lgbm.suggest_int(name=\"n_estimators\", low=100, high=500, step=100)\n",
    "\n",
    "    # Number of features to consider at every split\n",
    "    max_features = trial_lgbm.suggest_categorical(name=\"max_features\", choices=['auto', 'sqrt'])\n",
    "\n",
    "    # Maximum number of levels in tree\n",
    "    max_depth = trial_lgbm.suggest_int(name=\"max_depth\", low=10, high=110, step=20)\n",
    "\n",
    "    # Minimum number of samples required to split a node\n",
    "    min_samples_split = trial_lgbm.suggest_int(name=\"min_samples_split\", low=2, high=10, step=2)\n",
    "\n",
    "    # Minimum number of samples required at each leaf node\n",
    "    min_samples_leaf = trial_lgbm.suggest_int(name=\"min_samples_leaf\", low=1, high=4, step=1)\n",
    "    \n",
    "    # Random state\n",
    "    random_state = trial_lgbm.suggest_int(name=\"random_state\", low=0, high=100, step=1)\n",
    "    \n",
    "    params_lgbm = {\n",
    "        \"n_estimators\": n_estimators,\n",
    "        \"max_features\": max_features,\n",
    "        \"max_depth\": max_depth,\n",
    "        \"min_samples_split\": min_samples_split,\n",
    "        \"min_samples_leaf\": min_samples_leaf,\n",
    "        \"random_state\": random_state\n",
    "    }\n",
    "    \n",
    "    model_lgbm = LGBMClassifier(**params_lgbm)\n",
    "    model_lgbm.fit(X_train_res, y_train_res)\n",
    "    predictions_lgbm = model_lgbm.predict(X_test)\n",
    "    # Calculate the accuracy of the model\n",
    "    accuracy = accuracy_score(y_test, predictions_lgbm)\n",
    "    return accuracy\n",
    "\n",
    "study_lgbm = optuna.create_study(direction='maximize')\n",
    "study_lgbm.optimize(objective, n_trials=30)\n",
    "\n",
    "print('LGBM Classifier Best hyperparameters:', study_lgbm.best_params)\n",
    "print('LGBM Classifier Best Accuracy:', study_lgbm.best_value)"
   ]
  },
  {
   "cell_type": "code",
   "execution_count": null,
   "metadata": {},
   "outputs": [],
   "source": [
    "# Initialize and start the timer for model training\n",
    "start_time = time.time()\n",
    "\n",
    "best_model_lgbm = LGBMClassifier(**study_lgbm.best_params)\n",
    "best_model_lgbm.fit(X_train_res, y_train_res)\n",
    "\n",
    "# Calculate the model training time\n",
    "training_time_lgbm_optuna = time.time() - start_time\n",
    "\n",
    "train_lgbm = best_model_lgbm.predict(X_train_res)\n",
    "\n",
    "# Initialize and start the timer for model execution\n",
    "start_time = time.time()\n",
    "\n",
    "test_lgbm = best_model_lgbm.predict(X_test)\n",
    "\n",
    "# Calculate the model execution time\n",
    "execution_time_lgbm_optuna = ( time.time() - start_time ) / 188229"
   ]
  },
  {
   "cell_type": "code",
   "execution_count": null,
   "metadata": {},
   "outputs": [],
   "source": [
    "lgbm_feature_optuna = best_model_lgbm.feature_importances_\n",
    "lgbm_features_optuna = lgbm_feature_optuna.tolist()"
   ]
  },
  {
   "cell_type": "markdown",
   "metadata": {},
   "source": [
    "## XGB"
   ]
  },
  {
   "cell_type": "code",
   "execution_count": null,
   "metadata": {},
   "outputs": [],
   "source": [
    "def objective(trial_xgb):\n",
    "    # Number of trees in lgbm\n",
    "    \n",
    "    n_estimators = trial_xgb.suggest_int(name=\"n_estimators\", low=100, high=500, step=100)\n",
    "\n",
    "    # Number of features to consider at every split\n",
    "    max_features = trial_xgb.suggest_categorical(name=\"max_features\", choices=['auto', 'sqrt'])\n",
    "\n",
    "    # Maximum number of levels in tree\n",
    "    max_depth = trial_xgb.suggest_int(name=\"max_depth\", low=10, high=110, step=20)\n",
    "\n",
    "    # Minimum number of samples required to split a node\n",
    "    min_samples_split = trial_xgb.suggest_int(name=\"min_samples_split\", low=2, high=10, step=2)\n",
    "\n",
    "    # Minimum number of samples required at each leaf node\n",
    "    min_samples_leaf = trial_xgb.suggest_int(name=\"min_samples_leaf\", low=1, high=4, step=1)\n",
    "    \n",
    "    # Random state\n",
    "    random_state = trial_xgb.suggest_int(name=\"random_state\", low=0, high=100, step=1)\n",
    "    \n",
    "    params_xgb = {\n",
    "        \"n_estimators\": n_estimators,\n",
    "        \"max_features\": max_features,\n",
    "        \"max_depth\": max_depth,\n",
    "        \"min_samples_split\": min_samples_split,\n",
    "        \"min_samples_leaf\": min_samples_leaf,\n",
    "        \"random_state\": random_state\n",
    "    }\n",
    "    \n",
    "    model_xgb = xgb. XGBClassifier(**params_xgb)\n",
    "    model_xgb.fit(X_train_res, y_train_res)\n",
    "    predictions_xgb = model_xgb.predict(X_test)\n",
    "    # Calculate the accuracy of the model\n",
    "    accuracy = accuracy_score(y_test, predictions_xgb)\n",
    "    return accuracy\n",
    "\n",
    "study_xgb = optuna.create_study(direction='maximize')\n",
    "study_xgb.optimize(objective, n_trials=30)\n",
    "\n",
    "print('XGB Classifier Best hyperparameters:', study_xgb.best_params)\n",
    "print('XGB Classifier Best Accuracy:', study_xgb.best_value)"
   ]
  },
  {
   "cell_type": "code",
   "execution_count": null,
   "metadata": {},
   "outputs": [],
   "source": [
    "# Initialize and start the timer for model training\n",
    "start_time = time.time()\n",
    "\n",
    "best_model_xgb = XGBClassifier(**study_xgb.best_params)\n",
    "best_model_xgb.fit(X_train_res, y_train_res)\n",
    "\n",
    "# Calculate the model training time\n",
    "training_time_xgb_optuna = time.time() - start_time\n",
    "\n",
    "train_xgb = best_model_xgb.predict(X_train_res)\n",
    "\n",
    "# Initialize and start the timer for model training\n",
    "start_time = time.time()\n",
    "\n",
    "test_xgb = best_model_xgb.predict(X_test)\n",
    "\n",
    "# Calculate the model execution time\n",
    "execution_time_xgb_optuna = ( time.time() - start_time ) / 188229"
   ]
  },
  {
   "cell_type": "code",
   "execution_count": null,
   "metadata": {},
   "outputs": [],
   "source": [
    "xgb_feature_optuna = best_model_xgb.feature_importances_\n",
    "xgb_features_optuna = xgb_feature_optuna.tolist()"
   ]
  },
  {
   "cell_type": "markdown",
   "metadata": {},
   "source": [
    "## Gradient Boosting Classifier"
   ]
  },
  {
   "cell_type": "code",
   "execution_count": null,
   "metadata": {},
   "outputs": [],
   "source": [
    "def objective(trial_gbc):\n",
    "    \n",
    "    # Random state\n",
    "    random_state = trial_gbc.suggest_int(name=\"random_state\", low=0, high=100, step=1)\n",
    "    \n",
    "    params_gbc = {\n",
    "        \"random_state\": random_state\n",
    "    }\n",
    "    \n",
    "    model_gbc = GradientBoostingClassifier(**params_gbc)\n",
    "    model_gbc.fit(X_train_res, y_train_res)\n",
    "    predictions_gbc = model_gbc.predict(X_test)\n",
    "    # Calculate the accuracy of the model\n",
    "    accuracy = accuracy_score(y_test, predictions_gbc)\n",
    "    return accuracy\n",
    "\n",
    "study_gbc = optuna.create_study(direction='maximize')\n",
    "study_gbc.optimize(objective, n_trials=30)\n",
    "\n",
    "print('Gradient Boosting Classifier Best hyperparameters:', study_gbc.best_params)\n",
    "print('Gradient Boosting Classifier Best Accuracy:', study_gbc.best_value)"
   ]
  },
  {
   "cell_type": "code",
   "execution_count": null,
   "metadata": {},
   "outputs": [],
   "source": [
    "# Initialize and start the timer for model training\n",
    "start_time = time.time()\n",
    "\n",
    "best_model_gbc = GradientBoostingClassifier(**study_gbc.best_params)\n",
    "best_model_gbc.fit(X_train_res, y_train_res)\n",
    "\n",
    "# Calculate the model training time\n",
    "training_time_gbc_optuna = time.time() - start_time\n",
    "\n",
    "train_gbc = best_model_gbc.predict(X_train_res)\n",
    "\n",
    "# Initialize and start the timer for model training\n",
    "start_time = time.time()\n",
    "\n",
    "test_gbc = best_model_gbc.predict(X_test)\n",
    "\n",
    "# Calculate the model execution time\n",
    "execution_time_gbc_optuna = ( time.time() - start_time ) / 188229"
   ]
  },
  {
   "cell_type": "code",
   "execution_count": null,
   "metadata": {},
   "outputs": [],
   "source": [
    "gbc_feature_optuna = best_model_gbc.feature_importances_\n",
    "gbc_features_optuna = gbc_feature_optuna.tolist()"
   ]
  },
  {
   "cell_type": "markdown",
   "metadata": {},
   "source": [
    "## Stacking"
   ]
  },
  {
   "cell_type": "code",
   "execution_count": null,
   "metadata": {},
   "outputs": [],
   "source": [
    "base_predictions_train_optuna = pd.DataFrame( {\n",
    "    'LGBM Classifier': train_lgbm.ravel(),\n",
    "        'Random Forest Classifier': train_rf.ravel(),\n",
    "     'XGB Classifier': train_xgb.ravel(),\n",
    "     'Gradient Boosting Classifier': train_gbc.ravel(),\n",
    "    })\n",
    "base_predictions_train_optuna.head(5)"
   ]
  },
  {
   "cell_type": "code",
   "execution_count": null,
   "metadata": {},
   "outputs": [],
   "source": [
    "train_lgbm=train_lgbm.reshape(-1, 1)\n",
    "train_rf=train_rf.reshape(-1, 1)\n",
    "train_xgb=train_xgb.reshape(-1, 1)\n",
    "train_gbc=train_gbc.reshape(-1, 1)\n",
    "test_lgbm=test_lgbm.reshape(-1, 1)\n",
    "test_rf=test_rf.reshape(-1, 1)\n",
    "test_xgb=test_xgb.reshape(-1, 1)\n",
    "test_gbc=test_gbc.reshape(-1, 1)"
   ]
  },
  {
   "cell_type": "code",
   "execution_count": null,
   "metadata": {},
   "outputs": [],
   "source": [
    "train_x = np.concatenate(( train_lgbm, train_rf, train_xgb, train_gbc), axis=1)\n",
    "test_x = np.concatenate(( test_lgbm, test_rf, test_xgb, test_gbc), axis=1)"
   ]
  },
  {
   "cell_type": "code",
   "execution_count": null,
   "metadata": {},
   "outputs": [],
   "source": [
    "from sklearn.metrics import precision_recall_fscore_support\n",
    "import seaborn as sns\n",
    "\n",
    "# Initialize and start the timer for model training\n",
    "start_time = time.time()\n",
    "\n",
    "stk_optuna = xgb.XGBClassifier().fit(train_x, y_train_res)\n",
    "\n",
    "# Calculate the model training time\n",
    "training_time_stk_optuna = time.time() - start_time\n",
    "\n",
    "# Initialize and start the timer for model execution\n",
    "start_time = time.time()\n",
    "\n",
    "predict_y=stk_optuna.predict(test_x)\n",
    "\n",
    "# Calculate the model execution time\n",
    "execution_time_stk_optuna = ( time.time() - start_time ) / 188229\n",
    "\n",
    "y_true=y_test\n",
    "stk_score=accuracy_score(y_true,predict_y)\n",
    "print('Accuracy of Stacking: '+ str(stk_score))\n",
    "precision,recall,fscore,none= precision_recall_fscore_support(y_true, predict_y, average='weighted') \n",
    "print('Precision of Stacking: '+(str(precision)))\n",
    "print('Recall of Stacking: '+(str(recall)))\n",
    "print('F1-score of Stacking: '+(str(fscore)))\n",
    "print(classification_report(y_true,predict_y))"
   ]
  },
  {
   "cell_type": "code",
   "execution_count": null,
   "metadata": {},
   "outputs": [],
   "source": [
    "stk_feature_optuna = stk_optuna.feature_importances_\n",
    "stk_features_optuna = stk_feature_optuna.tolist()"
   ]
  },
  {
   "cell_type": "markdown",
   "metadata": {},
   "source": [
    "## Performance Metrics"
   ]
  },
  {
   "cell_type": "code",
   "execution_count": null,
   "metadata": {},
   "outputs": [],
   "source": [
    "from sklearn.metrics import classification_report, precision_score, recall_score, f1_score, accuracy_score\n",
    "\n",
    "# Assuming you have imported the classifiers and defined their predictions\n",
    "classifiers_optuna = [test_ada, test_sgd, test_et, test_lgbm, test_rf, test_xgb, test_gbc, predict_y]\n",
    "model_names = ['Ada Boost', 'SGD', 'Extra Trees', 'LGBM', 'Random Forest', 'XGB', 'Gradient Boosting', 'Stacking']\n",
    "\n",
    "# Create a dictionary to map model names to their respective predictions\n",
    "classifier_map_optuna = dict(zip(model_names, classifiers_optuna))\n",
    "\n",
    "# Now you can use this dictionary to iterate over each model name and its predictions\n",
    "for model_name, y_pred in classifier_map_optuna.items():\n",
    "    accuracy = accuracy_score(y_test, y_pred)\n",
    "    precision = precision_score(y_test, y_pred, average='weighted')\n",
    "    recall = recall_score(y_test, y_pred, average='weighted')\n",
    "    f1score = f1_score(y_test, y_pred, average='weighted')\n",
    "    class_report = classification_report(y_test, y_pred)\n",
    "\n",
    "    print(f\"\\nMetrics for Model '{model_name}':\")\n",
    "    print(f\"Accuracy: {accuracy}\")\n",
    "    print(f\"Precision: {precision}\")\n",
    "    print(f\"Recall: {recall}\")\n",
    "    print(f\"F1-score: {f1score}\")\n",
    "    print(f\"Classification Report:\\n{class_report}\")\n"
   ]
  },
  {
   "cell_type": "code",
   "execution_count": null,
   "metadata": {},
   "outputs": [],
   "source": [
    "import numpy as np\n",
    "import matplotlib.pyplot as plt\n",
    "from matplotlib.ticker import PercentFormatter\n",
    "\n",
    "# Initialize data for the bar chart\n",
    "models = list(classifier_map_optuna.keys()) + ['CL_K-means']\n",
    "metrics = ['Accuracy', 'Precision', 'Recall', 'F1-score']\n",
    "\n",
    "# Calculate metric scores for each model\n",
    "metric_scores = {}\n",
    "for metric in metrics:\n",
    "    metric_scores[metric] = [\n",
    "        accuracy_score(y_test, classifier_map_optuna[model_name]) \n",
    "        if metric == 'Accuracy'\n",
    "        else precision_score(y_test, classifier_map_optuna[model_name], average='weighted')\n",
    "        if metric == 'Precision'\n",
    "        else recall_score(y_test, classifier_map_optuna[model_name], average='weighted')\n",
    "        if metric == 'Recall'\n",
    "        else f1_score(y_test, classifier_map_optuna[model_name], average='weighted')\n",
    "        for model_name in models[:-1]\n",
    "    ]\n",
    "\n",
    "    if metric == 'Accuracy':\n",
    "        metric_scores[metric].append(0.9077)\n",
    "    elif metric == 'Precision':\n",
    "        metric_scores[metric].append(0.9203)\n",
    "    elif metric == 'Recall':\n",
    "        metric_scores[metric].append(0.8927)\n",
    "    elif metric == 'F1-score':\n",
    "        metric_scores[metric].append(0.9063)\n",
    "\n",
    "# Set width of bars\n",
    "bar_width = 0.16\n",
    "\n",
    "# Set position of bars on X axis\n",
    "r1 = np.arange(len(models))\n",
    "r2 = [x + bar_width for x in r1]\n",
    "r3 = [x + bar_width for x in r2]\n",
    "r4 = [x + bar_width for x in r3]\n",
    "\n",
    "plt.figure(figsize=(12, 6))\n",
    "\n",
    "# Define light colors\n",
    "colors = ['#48C9B0', '#FFA500', '#FF6347', '#7B68EE']\n",
    "\n",
    "# Plotting the bars\n",
    "bars = []\n",
    "bars.append(plt.bar(r1, metric_scores['Accuracy'], color=colors[0], width=bar_width, edgecolor='grey', label='Accuracy'))\n",
    "bars.append(plt.bar(r2, metric_scores['Precision'], color=colors[1], width=bar_width, edgecolor='grey', label='Precision'))\n",
    "bars.append(plt.bar(r3, metric_scores['Recall'], color=colors[2], width=bar_width, edgecolor='grey', label='Recall'))\n",
    "bars.append(plt.bar(r4, metric_scores['F1-score'], color=colors[3], width=bar_width, edgecolor='grey', label='F1-score'))\n",
    "\n",
    "# Adding labels on top of each bar with percentage format\n",
    "for i, container in enumerate(bars):\n",
    "   for j, bar in enumerate(container):\n",
    "       yval = bar.get_height()\n",
    "       if yval == max(metric_scores[metrics[i]]):\n",
    "           plt.text(bar.get_x() + bar.get_width()/2.0, yval + 0.005, f'{yval*100:.2f}%', va='bottom', ha='center', rotation=90, fontsize=8, weight='bold')\n",
    "       else:\n",
    "           plt.text(bar.get_x() + bar.get_width()/2.0, yval + 0.005, f'{yval*100:.2f}%', va='bottom', ha='center', rotation=90, fontsize=8)\n",
    "\n",
    "# Add xticks on the middle of the group bars\n",
    "plt.xlabel('Models', fontweight='bold')\n",
    "plt.xticks([r + bar_width*1.5 for r in range(len(models))], models)\n",
    "\n",
    "# Set y-axis as percentage and its limits\n",
    "plt.gca().yaxis.set_major_formatter(PercentFormatter(xmax=1))\n",
    "plt.ylim(0.3, 1.3)  # Keep the original scale but now interpreted as percentages\n",
    "\n",
    "# Add a legend and show the plot\n",
    "plt.legend()\n",
    "# Save the plot as a PDF\n",
    "plt.savefig('Model Performance Comparison after HPO.pdf', format='pdf')\n",
    "plt.show()"
   ]
  },
  {
   "cell_type": "markdown",
   "metadata": {},
   "source": [
    "# Training Time Comparision - Optuna"
   ]
  },
  {
   "cell_type": "code",
   "execution_count": null,
   "metadata": {},
   "outputs": [],
   "source": [
    "import numpy as np\n",
    "import matplotlib.pyplot as plt\n",
    "\n",
    "# Assuming you have imported the classifiers and defined their training times\n",
    "training_times_optuna = [training_time_ada_optuna, training_time_sgd_optuna, training_time_et_optuna, training_time_lgbm_optuna, training_time_rf_optuna, training_time_xgb_optuna, training_time_gbc_optuna, training_time_stk_optuna]\n",
    "\n",
    "# Initialize data for the line plot\n",
    "training_models_optuna = ['AdaBoost', 'SGD', 'ExtraTrees', 'LGBM', 'RandomForest', 'XGBoost', 'GrandientBoosting', 'Stacking']  # Assuming these are your model names\n",
    "\n",
    "# Set figure size\n",
    "plt.figure(figsize=(10, 6))\n",
    "\n",
    "# Define line colors and styles\n",
    "colors = ['#48C9B0', '#FFA500', '#FF6347', '#7B68EE', '#8A2BE2']\n",
    "linestyles = ['-', '--', ':', '-.', '-']\n",
    "\n",
    "plt.plot(training_models_optuna, training_times_optuna, color=colors[0], linestyle=linestyles[i], linewidth=2, marker='o', markersize=8, label='Training Time')\n",
    "\n",
    "# Add grid and axis labels\n",
    "plt.grid(True)\n",
    "plt.xlabel('Model', fontweight='bold', fontsize=12)\n",
    "plt.ylabel('Training Time (seconds)', fontweight='bold', fontsize=12)\n",
    "\n",
    "# Set x-axis tick labels\n",
    "plt.xticks(x, training_models_optuna, rotation=45, ha='right', fontsize=10)\n",
    "\n",
    "# Add a legend\n",
    "plt.legend(loc='upper left', fontsize=10)\n",
    "\n",
    "# Adjust the layout\n",
    "plt.tight_layout()\n",
    "\n",
    "# Save the plot as a PDF\n",
    "plt.savefig('Model Training Time Comparison After Optuna.pdf', format='pdf')\n",
    "plt.show()"
   ]
  },
  {
   "cell_type": "markdown",
   "metadata": {},
   "source": [
    "# Training Time Comparision - Two"
   ]
  },
  {
   "cell_type": "code",
   "execution_count": null,
   "metadata": {},
   "outputs": [],
   "source": [
    "import numpy as np\n",
    "import matplotlib.pyplot as plt\n",
    "\n",
    "# Assuming you have imported the classifiers and defined their training times\n",
    "training_times = [training_time_ada, training_time_sgd, training_time_et, training_time_lgbm, training_time_rf, training_time_xgb, training_time_gbc, training_time_stk]\n",
    "training_times_optuna = [training_time_ada_optuna, training_time_sgd_optuna, training_time_et_optuna, training_time_lgbm_optuna, training_time_rf_optuna, training_time_xgb_optuna, training_time_gbc_optuna, training_time_stk_optuna]\n",
    "\n",
    "# Transpose the training_times lists to make them 2D arrays\n",
    "training_times = np.array(training_times).T\n",
    "training_times_optuna = np.array(training_times_optuna).T\n",
    "\n",
    "# Initialize data for the line plot\n",
    "training_models = ['AdaBoost', 'SGD', 'ExtraTrees', 'LGBM', 'RandomForest', 'XGBoost', 'GrandientBoosting', 'Stacking']  # Assuming these are your model names\n",
    "\n",
    "# Set figure size\n",
    "plt.figure(figsize=(10, 6))\n",
    "\n",
    "# Define line colors and styles\n",
    "colors = ['#48C9B0', '#FFA500']\n",
    "linestyles = ['-', '--']\n",
    "\n",
    "# Plot the training times before and after Optuna\n",
    "x = np.arange(len(training_models))\n",
    "plt.plot(x, training_times, color=colors[0], linestyle=linestyles[0], linewidth=2, marker='o', markersize=8, label='Before Optuna')\n",
    "plt.plot(x, training_times_optuna, color=colors[1], linestyle=linestyles[1], linewidth=2, marker='o', markersize=8, label='After Optuna')\n",
    "\n",
    "# Add grid and axis labels\n",
    "plt.grid(True)\n",
    "plt.xlabel('Model', fontweight='bold', fontsize=12)\n",
    "plt.ylabel('Training Time (seconds)', fontweight='bold', fontsize=12)\n",
    "\n",
    "# Set x-axis tick labels\n",
    "plt.xticks(x, training_models, rotation=45, ha='right', fontsize=10)\n",
    "\n",
    "# Add a legend\n",
    "plt.legend(loc='upper left', fontsize=10)\n",
    "\n",
    "# Adjust the layout\n",
    "plt.tight_layout()\n",
    "\n",
    "# Save the plot as a PDF\n",
    "plt.savefig('Model Training Time Comparison Before and After Optuna.pdf', format='pdf')\n",
    "plt.show()"
   ]
  },
  {
   "cell_type": "markdown",
   "metadata": {},
   "source": [
    "# Execution Time Comparision - Optuna"
   ]
  },
  {
   "cell_type": "code",
   "execution_count": null,
   "metadata": {},
   "outputs": [],
   "source": [
    "import numpy as np\n",
    "import matplotlib.pyplot as plt\n",
    "import matplotlib.font_manager as font_manager\n",
    "\n",
    "# Assuming you have imported the classifiers and defined their predicting times\n",
    "execution_times_optuna = [execution_time_ada_optuna * 1_000_000,\n",
    "                   execution_time_sgd_optuna * 1_000_000,\n",
    "                   execution_time_et_optuna * 1_000_000,\n",
    "                   execution_time_lgbm_optuna * 1_000_000,\n",
    "                   execution_time_rf_optuna * 1_000_000,\n",
    "                   execution_time_xgb_optuna * 1_000_000,\n",
    "                   execution_time_gbc_optuna * 1_000_000,\n",
    "                   execution_time_stk_optuna * 1_000_000]\n",
    "model_names = ['AdaBoostClassifier', 'SGD Classifier', 'ExtraTrees Classifier', 'LGBM', 'RandomForestClassifier', 'XGBClassifier', 'GradientBoostingClassifier', 'Stacking']\n",
    "\n",
    "execution_time = ['Execution Time']\n",
    "\n",
    "# Initialize data for the line plot\n",
    "x = np.arange(len(model_names))\n",
    "\n",
    "# Set up the figure and axis\n",
    "fig, ax = plt.subplots(figsize=(10, 6))\n",
    "\n",
    "# Define the line properties\n",
    "line_width = 2\n",
    "marker_size = 8\n",
    "marker_style = 'o'\n",
    "\n",
    "# Plot the line graph\n",
    "ax.plot(x, execution_times_optuna, linewidth=line_width, marker=marker_style, markersize=marker_size, color='#1f77b4')\n",
    "\n",
    "# Add axis labels and title\n",
    "ax.set_xlabel('Model', fontweight='bold', fontsize=12)\n",
    "ax.set_ylabel('Execution Time (microseconds)', fontweight='bold', fontsize=12)\n",
    "ax.set_title('Comparison of Model Execution Times After Optuna', fontweight='bold', fontsize=14)\n",
    "\n",
    "# Customize the x-axis ticks and labels\n",
    "ax.set_xticks(x)\n",
    "ax.set_xticklabels(model_names, rotation=45, ha='right', fontsize=10)\n",
    "\n",
    "# Add grid lines\n",
    "ax.grid(True, linestyle='--', linewidth=1, color='#BBBBBB')\n",
    "\n",
    "# Adjust the spacing between subplots\n",
    "plt.subplots_adjust(bottom=0.2)\n",
    "\n",
    "# Add a legend\n",
    "legend_font = font_manager.FontProperties(size=10)\n",
    "ax.legend(model_names, loc='upper left', prop=legend_font)\n",
    "\n",
    "# Save the plot as a PDF\n",
    "plt.savefig('Model Execution Time Comparison After Optuna.pdf', format='pdf')\n",
    "plt.show()"
   ]
  },
  {
   "cell_type": "markdown",
   "metadata": {},
   "source": [
    "# Execution Time Comparision"
   ]
  },
  {
   "cell_type": "code",
   "execution_count": null,
   "metadata": {},
   "outputs": [],
   "source": [
    "import numpy as np\n",
    "import matplotlib.pyplot as plt\n",
    "import matplotlib.font_manager as font_manager\n",
    "\n",
    "# Assuming you have imported the classifiers and defined their predicting times\n",
    "execution_times = [execution_time_ada * 1_000_000,\n",
    "                   execution_time_sgd * 1_000_000,\n",
    "                   execution_time_et * 1_000_000,\n",
    "                   execution_time_lgbm * 1_000_000,\n",
    "                   execution_time_rf * 1_000_000,\n",
    "                   execution_time_xgb * 1_000_000,\n",
    "                   execution_time_gbc * 1_000_000,\n",
    "                   execution_time_stk * 1_000_000]\n",
    "\n",
    "execution_times_optuna = [execution_time_ada_optuna * 1_000_000,\n",
    "                         execution_time_sgd_optuna * 1_000_000,\n",
    "                         execution_time_et_optuna * 1_000_000,\n",
    "                         execution_time_lgbm_optuna * 1_000_000,\n",
    "                         execution_time_rf_optuna * 1_000_000,\n",
    "                         execution_time_xgb_optuna * 1_000_000,\n",
    "                         execution_time_gbc_optuna * 1_000_000,\n",
    "                         execution_time_stk_optuna * 1_000_000]\n",
    "\n",
    "model_names = ['AdaBoostClassifier', 'SGD Classifier', 'ExtraTrees Classifier', 'LGBM', 'RandomForestClassifier', 'XGBClassifier', 'GradientBoostingClassifier', 'Stacking']\n",
    "\n",
    "# Initialize data for the line plots\n",
    "x = np.arange(len(model_names))\n",
    "\n",
    "# Set up the figure and axis\n",
    "fig, ax = plt.subplots(figsize=(10, 6))\n",
    "\n",
    "# Define the line properties\n",
    "line_width = 2\n",
    "marker_size = 8\n",
    "marker_style = 'o'\n",
    "\n",
    "# Plot the line graphs\n",
    "ax.plot(x, execution_times, linewidth=line_width, marker=marker_style, markersize=marker_size, color='#1f77b4', label='Before Optuna')\n",
    "ax.plot(x, execution_times_optuna, linewidth=line_width, marker=marker_style, markersize=marker_size, color='#ff7f0e', label='After Optuna')\n",
    "\n",
    "# Add axis labels and title\n",
    "ax.set_xlabel('Model', fontweight='bold', fontsize=12)\n",
    "ax.set_ylabel('Execution Time (microseconds)', fontweight='bold', fontsize=12)\n",
    "ax.set_title('Comparison of Model Execution Times Before and After Optuna', fontweight='bold', fontsize=14)\n",
    "\n",
    "# Customize the x-axis ticks and labels\n",
    "ax.set_xticks(x)\n",
    "ax.set_xticklabels(model_names, rotation=45, ha='right', fontsize=10)\n",
    "\n",
    "# Add grid lines\n",
    "ax.grid(True, linestyle='--', linewidth=1, color='#BBBBBB')\n",
    "\n",
    "# Adjust the spacing between subplots\n",
    "plt.subplots_adjust(bottom=0.2)\n",
    "\n",
    "# Add a legend\n",
    "legend_font = font_manager.FontProperties(size=10)\n",
    "ax.legend(loc='upper left', prop=legend_font)\n",
    "\n",
    "# Save the plot as a PDF\n",
    "plt.savefig('Model Execution Time Comparison Before and After Optuna.pdf', format='pdf')\n",
    "plt.show()"
   ]
  },
  {
   "cell_type": "code",
   "execution_count": null,
   "metadata": {},
   "outputs": [],
   "source": [
    "training_times"
   ]
  },
  {
   "cell_type": "code",
   "execution_count": null,
   "metadata": {},
   "outputs": [],
   "source": [
    "training_times_optuna"
   ]
  },
  {
   "cell_type": "code",
   "execution_count": null,
   "metadata": {},
   "outputs": [],
   "source": [
    "execution_times"
   ]
  },
  {
   "cell_type": "code",
   "execution_count": null,
   "metadata": {},
   "outputs": [],
   "source": [
    "execution_times_optuna"
   ]
  },
  {
   "cell_type": "markdown",
   "metadata": {
    "id": "DbOUmrKsJdOG"
   },
   "source": [
    "# Plotting ensemble Feature Importance"
   ]
  },
  {
   "cell_type": "code",
   "execution_count": null,
   "metadata": {
    "colab": {
     "base_uri": "https://localhost:8080/",
     "height": 233
    },
    "id": "5JVs-gHIJdOG",
    "outputId": "829aed21-8a6d-4e52-8aca-0ab891db09e2"
   },
   "outputs": [],
   "source": [
    "cols = X_train_res.columns\n",
    "# Create a dataframe with features\n",
    "feature_dataframe_optuna = pd.DataFrame( {'features': cols,\n",
    "    'Random Forest feature importances': rf_features,\n",
    "\n",
    "    })\n",
    "\n",
    "# feature_dataframe['LGBM feature importances'] = feature_dataframe['LGBM feature importances'].astype(float)\n",
    "\n",
    "print(feature_dataframe_optuna.dtypes)\n",
    "\n",
    "import numpy as np\n",
    "\n",
    "feature_dataframe_optuna['mean'] = feature_dataframe_optuna.select_dtypes(include='number').mean(axis=1) # axis = 1 computes the mean row-wise\n",
    "\n",
    "# feature_dataframe['mean'] = feature_dataframe.mean(axis= 1) # axis = 1 computes the mean row-wise\n",
    "\n",
    "feature_dataframe_optuna.head(4)"
   ]
  },
  {
   "cell_type": "code",
   "execution_count": null,
   "metadata": {
    "colab": {
     "base_uri": "https://localhost:8080/",
     "height": 1000
    },
    "id": "wqerQBlIJdOG",
    "outputId": "f73cfb43-5e34-4671-856b-dac517fdda20"
   },
   "outputs": [],
   "source": [
    "import seaborn as sns\n",
    "import matplotlib.pyplot as plt\n",
    "%matplotlib inline\n",
    "def plot_feature_importance_optuna():\n",
    "    tmp_optuna = pd.DataFrame({'Feature': X_test.columns, 'Feature importance': feature_dataframe_optuna['mean'].values})\n",
    "    tmp_optuna = tmp_optuna.sort_values(by='Feature importance',ascending=False).head(20)\n",
    "    plt.figure(figsize = (10,12))\n",
    "    plt.title('Average Feature Importance Top 20 Features',fontsize=14)\n",
    "    s = sns.barplot(y='Feature',x='Feature importance',data=tmp_optuna, orient='h')\n",
    "    s.set_xticklabels(s.get_xticklabels(),rotation=90)\n",
    "    plt.show()\n",
    "    plt.savefig('Average Feature Importance Top 20 Features After Optuna.pdf', format='pdf')\n",
    "plot_feature_importance()"
   ]
  },
  {
   "cell_type": "code",
   "execution_count": null,
   "metadata": {},
   "outputs": [],
   "source": []
  }
 ],
 "metadata": {
  "colab": {
   "provenance": []
  },
  "kernelspec": {
   "display_name": "Python 3 (ipykernel)",
   "language": "python",
   "name": "python3"
  },
  "language_info": {
   "codemirror_mode": {
    "name": "ipython",
    "version": 3
   },
   "file_extension": ".py",
   "mimetype": "text/x-python",
   "name": "python",
   "nbconvert_exporter": "python",
   "pygments_lexer": "ipython3",
   "version": "3.11.7"
  }
 },
 "nbformat": 4,
 "nbformat_minor": 4
}
