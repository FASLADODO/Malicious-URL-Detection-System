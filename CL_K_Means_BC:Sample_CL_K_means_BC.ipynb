{
 "cells": [
  {
   "cell_type": "markdown",
   "metadata": {},
   "source": [
    "# CL_K-means_BC\n",
    "This is the code for the paper entitled \"[**Enhancing Online Security: A Novel Machine Learning Framework for Robust Detection of Known and Unknown Malicious URLs**]\" \n",
    "Authors: Li Shiyun (lishiyu@kean.edu), Omar Dib(odib@kean.edu)  \n",
    "Organization: Wenzhou Kean University\n",
    "\n",
    "If you find this repository useful in your research, please cite:  \n"
   ]
  },
  {
   "cell_type": "markdown",
   "metadata": {},
   "source": [
    "## Import libraries"
   ]
  },
  {
   "cell_type": "code",
   "execution_count": 1,
   "metadata": {},
   "outputs": [],
   "source": [
    "import warnings\n",
    "warnings.filterwarnings(\"ignore\")"
   ]
  },
  {
   "cell_type": "code",
   "execution_count": 2,
   "metadata": {},
   "outputs": [],
   "source": [
    "import numpy as np\n",
    "import pandas as pd\n",
    "import seaborn as sns\n",
    "import matplotlib.pyplot as plt\n",
    "from sklearn.preprocessing import LabelEncoder\n",
    "from sklearn.model_selection import train_test_split\n",
    "from sklearn.metrics import classification_report,confusion_matrix,accuracy_score,precision_recall_fscore_support\n",
    "from sklearn.metrics import f1_score,roc_auc_score\n",
    "from sklearn.ensemble import RandomForestClassifier,ExtraTreesClassifier\n",
    "from sklearn.tree import DecisionTreeClassifier\n",
    "import xgboost as xgb\n",
    "from xgboost import plot_importance"
   ]
  },
  {
   "cell_type": "markdown",
   "metadata": {},
   "source": [
    "## Read the sampled CICIDS2017 dataset\n",
    "The CICIDS2017 dataset is publicly available at: https://www.unb.ca/cic/datasets/ids-2017.html  \n",
    "Due to the large size of this dataset, the sampled subsets of CICIDS2017 is used. The subsets are in the \"data\" folder.  \n",
    "If you want to use this code on other datasets (e.g., CAN-intrusion dataset), just change the dataset name and follow the same steps. The models in this code are generic models that can be used in any intrusion detection/network traffic datasets."
   ]
  },
  {
   "cell_type": "code",
   "execution_count": 3,
   "metadata": {},
   "outputs": [],
   "source": [
    "#Read dataset\n",
    "df = pd.read_csv('./data/CICIDS2017.csv') \n",
    "# The results in this code is based on the original CICIDS2017 dataset. Please go to cell [21] if you work on the sampled dataset. "
   ]
  },
  {
   "cell_type": "code",
   "execution_count": 4,
   "metadata": {},
   "outputs": [
    {
     "data": {
      "text/html": [
       "<div>\n",
       "<style scoped>\n",
       "    .dataframe tbody tr th:only-of-type {\n",
       "        vertical-align: middle;\n",
       "    }\n",
       "\n",
       "    .dataframe tbody tr th {\n",
       "        vertical-align: top;\n",
       "    }\n",
       "\n",
       "    .dataframe thead th {\n",
       "        text-align: right;\n",
       "    }\n",
       "</style>\n",
       "<table border=\"1\" class=\"dataframe\">\n",
       "  <thead>\n",
       "    <tr style=\"text-align: right;\">\n",
       "      <th></th>\n",
       "      <th>url</th>\n",
       "      <th>type</th>\n",
       "      <th>use_of_ip</th>\n",
       "      <th>url_property</th>\n",
       "      <th>abnormal_url</th>\n",
       "      <th>count.</th>\n",
       "      <th>count-www</th>\n",
       "      <th>count@</th>\n",
       "      <th>count_dir</th>\n",
       "      <th>count_embed_domian</th>\n",
       "      <th>...</th>\n",
       "      <th>count?</th>\n",
       "      <th>count-</th>\n",
       "      <th>count=</th>\n",
       "      <th>url_length</th>\n",
       "      <th>hostname_length</th>\n",
       "      <th>sus_url</th>\n",
       "      <th>fd_length</th>\n",
       "      <th>tld_length</th>\n",
       "      <th>count-digits</th>\n",
       "      <th>count-letters</th>\n",
       "    </tr>\n",
       "  </thead>\n",
       "  <tbody>\n",
       "    <tr>\n",
       "      <th>0</th>\n",
       "      <td>br-icloud.com.br</td>\n",
       "      <td>phishing</td>\n",
       "      <td>0</td>\n",
       "      <td>1</td>\n",
       "      <td>0</td>\n",
       "      <td>2</td>\n",
       "      <td>0</td>\n",
       "      <td>0</td>\n",
       "      <td>0</td>\n",
       "      <td>0</td>\n",
       "      <td>...</td>\n",
       "      <td>0</td>\n",
       "      <td>1</td>\n",
       "      <td>0</td>\n",
       "      <td>16</td>\n",
       "      <td>0</td>\n",
       "      <td>0</td>\n",
       "      <td>0</td>\n",
       "      <td>-1</td>\n",
       "      <td>0</td>\n",
       "      <td>13</td>\n",
       "    </tr>\n",
       "    <tr>\n",
       "      <th>1</th>\n",
       "      <td>mp3raid.com/music/krizz_kaliko.html</td>\n",
       "      <td>benign</td>\n",
       "      <td>0</td>\n",
       "      <td>0</td>\n",
       "      <td>0</td>\n",
       "      <td>2</td>\n",
       "      <td>0</td>\n",
       "      <td>0</td>\n",
       "      <td>2</td>\n",
       "      <td>0</td>\n",
       "      <td>...</td>\n",
       "      <td>0</td>\n",
       "      <td>0</td>\n",
       "      <td>0</td>\n",
       "      <td>35</td>\n",
       "      <td>0</td>\n",
       "      <td>0</td>\n",
       "      <td>5</td>\n",
       "      <td>-1</td>\n",
       "      <td>1</td>\n",
       "      <td>29</td>\n",
       "    </tr>\n",
       "    <tr>\n",
       "      <th>2</th>\n",
       "      <td>bopsecrets.org/rexroth/cr/1.htm</td>\n",
       "      <td>benign</td>\n",
       "      <td>0</td>\n",
       "      <td>0</td>\n",
       "      <td>0</td>\n",
       "      <td>2</td>\n",
       "      <td>0</td>\n",
       "      <td>0</td>\n",
       "      <td>3</td>\n",
       "      <td>0</td>\n",
       "      <td>...</td>\n",
       "      <td>0</td>\n",
       "      <td>0</td>\n",
       "      <td>0</td>\n",
       "      <td>31</td>\n",
       "      <td>0</td>\n",
       "      <td>0</td>\n",
       "      <td>7</td>\n",
       "      <td>-1</td>\n",
       "      <td>1</td>\n",
       "      <td>25</td>\n",
       "    </tr>\n",
       "    <tr>\n",
       "      <th>3</th>\n",
       "      <td>http://www.garage-pirenne.be/index.php?option=...</td>\n",
       "      <td>defacement</td>\n",
       "      <td>0</td>\n",
       "      <td>1</td>\n",
       "      <td>1</td>\n",
       "      <td>3</td>\n",
       "      <td>1</td>\n",
       "      <td>0</td>\n",
       "      <td>1</td>\n",
       "      <td>0</td>\n",
       "      <td>...</td>\n",
       "      <td>1</td>\n",
       "      <td>1</td>\n",
       "      <td>4</td>\n",
       "      <td>88</td>\n",
       "      <td>21</td>\n",
       "      <td>0</td>\n",
       "      <td>9</td>\n",
       "      <td>2</td>\n",
       "      <td>7</td>\n",
       "      <td>63</td>\n",
       "    </tr>\n",
       "    <tr>\n",
       "      <th>4</th>\n",
       "      <td>http://adventure-nicaragua.net/index.php?optio...</td>\n",
       "      <td>defacement</td>\n",
       "      <td>0</td>\n",
       "      <td>1</td>\n",
       "      <td>1</td>\n",
       "      <td>2</td>\n",
       "      <td>0</td>\n",
       "      <td>0</td>\n",
       "      <td>1</td>\n",
       "      <td>0</td>\n",
       "      <td>...</td>\n",
       "      <td>1</td>\n",
       "      <td>1</td>\n",
       "      <td>3</td>\n",
       "      <td>235</td>\n",
       "      <td>23</td>\n",
       "      <td>0</td>\n",
       "      <td>9</td>\n",
       "      <td>3</td>\n",
       "      <td>22</td>\n",
       "      <td>199</td>\n",
       "    </tr>\n",
       "    <tr>\n",
       "      <th>...</th>\n",
       "      <td>...</td>\n",
       "      <td>...</td>\n",
       "      <td>...</td>\n",
       "      <td>...</td>\n",
       "      <td>...</td>\n",
       "      <td>...</td>\n",
       "      <td>...</td>\n",
       "      <td>...</td>\n",
       "      <td>...</td>\n",
       "      <td>...</td>\n",
       "      <td>...</td>\n",
       "      <td>...</td>\n",
       "      <td>...</td>\n",
       "      <td>...</td>\n",
       "      <td>...</td>\n",
       "      <td>...</td>\n",
       "      <td>...</td>\n",
       "      <td>...</td>\n",
       "      <td>...</td>\n",
       "      <td>...</td>\n",
       "      <td>...</td>\n",
       "    </tr>\n",
       "    <tr>\n",
       "      <th>651186</th>\n",
       "      <td>xbox360.ign.com/objects/850/850402.html</td>\n",
       "      <td>phishing</td>\n",
       "      <td>0</td>\n",
       "      <td>1</td>\n",
       "      <td>0</td>\n",
       "      <td>3</td>\n",
       "      <td>0</td>\n",
       "      <td>0</td>\n",
       "      <td>3</td>\n",
       "      <td>0</td>\n",
       "      <td>...</td>\n",
       "      <td>0</td>\n",
       "      <td>0</td>\n",
       "      <td>0</td>\n",
       "      <td>39</td>\n",
       "      <td>0</td>\n",
       "      <td>0</td>\n",
       "      <td>7</td>\n",
       "      <td>-1</td>\n",
       "      <td>12</td>\n",
       "      <td>21</td>\n",
       "    </tr>\n",
       "    <tr>\n",
       "      <th>651187</th>\n",
       "      <td>games.teamxbox.com/xbox-360/1860/Dead-Space/</td>\n",
       "      <td>phishing</td>\n",
       "      <td>0</td>\n",
       "      <td>1</td>\n",
       "      <td>0</td>\n",
       "      <td>2</td>\n",
       "      <td>0</td>\n",
       "      <td>0</td>\n",
       "      <td>4</td>\n",
       "      <td>0</td>\n",
       "      <td>...</td>\n",
       "      <td>0</td>\n",
       "      <td>2</td>\n",
       "      <td>0</td>\n",
       "      <td>44</td>\n",
       "      <td>0</td>\n",
       "      <td>0</td>\n",
       "      <td>8</td>\n",
       "      <td>-1</td>\n",
       "      <td>7</td>\n",
       "      <td>29</td>\n",
       "    </tr>\n",
       "    <tr>\n",
       "      <th>651188</th>\n",
       "      <td>www.gamespot.com/xbox360/action/deadspace/</td>\n",
       "      <td>phishing</td>\n",
       "      <td>0</td>\n",
       "      <td>1</td>\n",
       "      <td>0</td>\n",
       "      <td>2</td>\n",
       "      <td>1</td>\n",
       "      <td>0</td>\n",
       "      <td>4</td>\n",
       "      <td>0</td>\n",
       "      <td>...</td>\n",
       "      <td>0</td>\n",
       "      <td>0</td>\n",
       "      <td>0</td>\n",
       "      <td>42</td>\n",
       "      <td>0</td>\n",
       "      <td>0</td>\n",
       "      <td>7</td>\n",
       "      <td>-1</td>\n",
       "      <td>3</td>\n",
       "      <td>33</td>\n",
       "    </tr>\n",
       "    <tr>\n",
       "      <th>651189</th>\n",
       "      <td>en.wikipedia.org/wiki/Dead_Space_(video_game)</td>\n",
       "      <td>phishing</td>\n",
       "      <td>0</td>\n",
       "      <td>1</td>\n",
       "      <td>0</td>\n",
       "      <td>2</td>\n",
       "      <td>0</td>\n",
       "      <td>0</td>\n",
       "      <td>2</td>\n",
       "      <td>0</td>\n",
       "      <td>...</td>\n",
       "      <td>0</td>\n",
       "      <td>0</td>\n",
       "      <td>0</td>\n",
       "      <td>45</td>\n",
       "      <td>0</td>\n",
       "      <td>0</td>\n",
       "      <td>4</td>\n",
       "      <td>-1</td>\n",
       "      <td>0</td>\n",
       "      <td>36</td>\n",
       "    </tr>\n",
       "    <tr>\n",
       "      <th>651190</th>\n",
       "      <td>www.angelfire.com/goth/devilmaycrytonite/</td>\n",
       "      <td>phishing</td>\n",
       "      <td>0</td>\n",
       "      <td>1</td>\n",
       "      <td>0</td>\n",
       "      <td>2</td>\n",
       "      <td>1</td>\n",
       "      <td>0</td>\n",
       "      <td>3</td>\n",
       "      <td>0</td>\n",
       "      <td>...</td>\n",
       "      <td>0</td>\n",
       "      <td>0</td>\n",
       "      <td>0</td>\n",
       "      <td>41</td>\n",
       "      <td>0</td>\n",
       "      <td>0</td>\n",
       "      <td>4</td>\n",
       "      <td>-1</td>\n",
       "      <td>0</td>\n",
       "      <td>36</td>\n",
       "    </tr>\n",
       "  </tbody>\n",
       "</table>\n",
       "<p>651191 rows × 24 columns</p>\n",
       "</div>"
      ],
      "text/plain": [
       "                                                      url        type  \\\n",
       "0                                        br-icloud.com.br    phishing   \n",
       "1                     mp3raid.com/music/krizz_kaliko.html      benign   \n",
       "2                         bopsecrets.org/rexroth/cr/1.htm      benign   \n",
       "3       http://www.garage-pirenne.be/index.php?option=...  defacement   \n",
       "4       http://adventure-nicaragua.net/index.php?optio...  defacement   \n",
       "...                                                   ...         ...   \n",
       "651186            xbox360.ign.com/objects/850/850402.html    phishing   \n",
       "651187       games.teamxbox.com/xbox-360/1860/Dead-Space/    phishing   \n",
       "651188         www.gamespot.com/xbox360/action/deadspace/    phishing   \n",
       "651189      en.wikipedia.org/wiki/Dead_Space_(video_game)    phishing   \n",
       "651190          www.angelfire.com/goth/devilmaycrytonite/    phishing   \n",
       "\n",
       "        use_of_ip  url_property  abnormal_url  count.  count-www  count@  \\\n",
       "0               0             1             0       2          0       0   \n",
       "1               0             0             0       2          0       0   \n",
       "2               0             0             0       2          0       0   \n",
       "3               0             1             1       3          1       0   \n",
       "4               0             1             1       2          0       0   \n",
       "...           ...           ...           ...     ...        ...     ...   \n",
       "651186          0             1             0       3          0       0   \n",
       "651187          0             1             0       2          0       0   \n",
       "651188          0             1             0       2          1       0   \n",
       "651189          0             1             0       2          0       0   \n",
       "651190          0             1             0       2          1       0   \n",
       "\n",
       "        count_dir  count_embed_domian  ...  count?  count-  count=  \\\n",
       "0               0                   0  ...       0       1       0   \n",
       "1               2                   0  ...       0       0       0   \n",
       "2               3                   0  ...       0       0       0   \n",
       "3               1                   0  ...       1       1       4   \n",
       "4               1                   0  ...       1       1       3   \n",
       "...           ...                 ...  ...     ...     ...     ...   \n",
       "651186          3                   0  ...       0       0       0   \n",
       "651187          4                   0  ...       0       2       0   \n",
       "651188          4                   0  ...       0       0       0   \n",
       "651189          2                   0  ...       0       0       0   \n",
       "651190          3                   0  ...       0       0       0   \n",
       "\n",
       "        url_length  hostname_length  sus_url  fd_length  tld_length  \\\n",
       "0               16                0        0          0          -1   \n",
       "1               35                0        0          5          -1   \n",
       "2               31                0        0          7          -1   \n",
       "3               88               21        0          9           2   \n",
       "4              235               23        0          9           3   \n",
       "...            ...              ...      ...        ...         ...   \n",
       "651186          39                0        0          7          -1   \n",
       "651187          44                0        0          8          -1   \n",
       "651188          42                0        0          7          -1   \n",
       "651189          45                0        0          4          -1   \n",
       "651190          41                0        0          4          -1   \n",
       "\n",
       "        count-digits  count-letters  \n",
       "0                  0             13  \n",
       "1                  1             29  \n",
       "2                  1             25  \n",
       "3                  7             63  \n",
       "4                 22            199  \n",
       "...              ...            ...  \n",
       "651186            12             21  \n",
       "651187             7             29  \n",
       "651188             3             33  \n",
       "651189             0             36  \n",
       "651190             0             36  \n",
       "\n",
       "[651191 rows x 24 columns]"
      ]
     },
     "execution_count": 4,
     "metadata": {},
     "output_type": "execute_result"
    }
   ],
   "source": [
    "df"
   ]
  },
  {
   "cell_type": "code",
   "execution_count": 5,
   "metadata": {},
   "outputs": [
    {
     "data": {
      "text/plain": [
       "type\n",
       "benign        428103\n",
       "defacement     96457\n",
       "phishing       94111\n",
       "malware        32520\n",
       "Name: count, dtype: int64"
      ]
     },
     "execution_count": 5,
     "metadata": {},
     "output_type": "execute_result"
    }
   ],
   "source": [
    "df.type.value_counts()"
   ]
  },
  {
   "cell_type": "markdown",
   "metadata": {},
   "source": [
    "## data split for biased classifiers"
   ]
  },
  {
   "cell_type": "code",
   "execution_count": 6,
   "metadata": {},
   "outputs": [],
   "source": [
    "import pandas as pd\n",
    "import numpy as np\n",
    "\n",
    "# Filter the dataset to include only the 'benign', 'phishing', and 'malware' classes\n",
    "train_df = df[df['type'].isin(['benign', 'defacement', 'malware'])]\n",
    "\n",
    "# Get the 'benign' URLs\n",
    "benign_urls = train_df[train_df['type'] == 'benign']['url']\n",
    "\n",
    "# Randomly sample 94110 'benign' URLs\n",
    "test_benign_urls = benign_urls.sample(n=94110, random_state=42)\n",
    "\n",
    "# Create the test set\n",
    "test_df = df[df['url'].isin(test_benign_urls) | (df['type'] == 'phishing')]\n",
    "\n",
    "# Create the training set\n",
    "train_df = train_df[~train_df['url'].isin(test_benign_urls)]"
   ]
  },
  {
   "cell_type": "code",
   "execution_count": 7,
   "metadata": {},
   "outputs": [],
   "source": [
    "#Predictor Variables\n",
    "X_train_biased = train_df[['use_of_ip','abnormal_url', 'count.', 'count-www', 'count@',\n",
    "       'count_dir', 'count_embed_domian', 'short_url', 'count-https',\n",
    "       'count-http', 'count%', 'count?', 'count-', 'count=', 'url_length',\n",
    "       'hostname_length', 'sus_url', 'fd_length', 'tld_length', 'count-digits',\n",
    "       'count-letters']]\n",
    "\n",
    "X_test_biased = test_df[['use_of_ip','abnormal_url', 'count.', 'count-www', 'count@',\n",
    "       'count_dir', 'count_embed_domian', 'short_url', 'count-https',\n",
    "       'count-http', 'count%', 'count?', 'count-', 'count=', 'url_length',\n",
    "       'hostname_length', 'sus_url', 'fd_length', 'tld_length', 'count-digits',\n",
    "       'count-letters']]\n",
    "\n",
    "#Target Variable\n",
    "y_train_biased = train_df['url_property']\n",
    "\n",
    "y_test_biased = test_df['url_property']"
   ]
  },
  {
   "cell_type": "code",
   "execution_count": 8,
   "metadata": {},
   "outputs": [],
   "source": [
    "# Z-score normalization\n",
    "features_test_X = X_test_biased.dtypes[X_test_biased.dtypes != 'object'].index\n",
    "X_test_biased[features_test_X] = X_test_biased[features_test_X].apply(\n",
    "    lambda x: (x - x.mean()) / (x.std()))\n",
    "# Fill empty values by 0\n",
    "X_test_biased = X_test_biased.fillna(0)"
   ]
  },
  {
   "cell_type": "markdown",
   "metadata": {},
   "source": [
    "### Preprocessing (normalization and padding values)"
   ]
  },
  {
   "cell_type": "code",
   "execution_count": 9,
   "metadata": {},
   "outputs": [],
   "source": [
    "# Z-score normalization\n",
    "features = df.dtypes[df.dtypes != 'object'].index\n",
    "df[features] = df[features].apply(\n",
    "    lambda x: (x - x.mean()) / (x.std()))\n",
    "# Fill empty values by 0\n",
    "df = df.fillna(0)"
   ]
  },
  {
   "cell_type": "code",
   "execution_count": 10,
   "metadata": {},
   "outputs": [],
   "source": [
    "labelencoder = LabelEncoder()\n",
    "df.iloc[:, 1] = labelencoder.fit_transform(df.iloc[:, 1])"
   ]
  },
  {
   "cell_type": "code",
   "execution_count": 11,
   "metadata": {},
   "outputs": [
    {
     "data": {
      "text/plain": [
       "type\n",
       "0    428103\n",
       "1     96457\n",
       "3     94111\n",
       "2     32520\n",
       "Name: count, dtype: int64"
      ]
     },
     "execution_count": 11,
     "metadata": {},
     "output_type": "execute_result"
    }
   ],
   "source": [
    "df.type.value_counts()"
   ]
  },
  {
   "cell_type": "code",
   "execution_count": 12,
   "metadata": {},
   "outputs": [],
   "source": [
    "df = df.drop(['url_property'],axis=1)"
   ]
  },
  {
   "cell_type": "code",
   "execution_count": 13,
   "metadata": {},
   "outputs": [],
   "source": [
    "df.to_csv('./data/CICIDS2017_sample_km.csv',index=0)"
   ]
  },
  {
   "cell_type": "markdown",
   "metadata": {},
   "source": [
    "## Anomaly-based IDS"
   ]
  },
  {
   "cell_type": "markdown",
   "metadata": {},
   "source": [
    "### Generate the port-scan datasets for unknown attack detection"
   ]
  },
  {
   "cell_type": "code",
   "execution_count": 14,
   "metadata": {},
   "outputs": [],
   "source": [
    "df=pd.read_csv('./data/CICIDS2017_sample_km.csv')"
   ]
  },
  {
   "cell_type": "code",
   "execution_count": 15,
   "metadata": {},
   "outputs": [
    {
     "data": {
      "text/plain": [
       "type\n",
       "0    428103\n",
       "1     96457\n",
       "3     94111\n",
       "2     32520\n",
       "Name: count, dtype: int64"
      ]
     },
     "execution_count": 15,
     "metadata": {},
     "output_type": "execute_result"
    }
   ],
   "source": [
    "df.type.value_counts()"
   ]
  },
  {
   "cell_type": "code",
   "execution_count": 16,
   "metadata": {},
   "outputs": [],
   "source": [
    "df1 = df[df['type'] != 1]\n",
    "df1['type'][df1['type'] > 0] = 1\n",
    "df1.to_csv('./data/CICIDS2017_sample_km_without_defacement.csv',index=0)"
   ]
  },
  {
   "cell_type": "code",
   "execution_count": 17,
   "metadata": {},
   "outputs": [],
   "source": [
    "df2 = df[df['type'] == 1]\n",
    "df2['type'][df2['type'] == 1] = 1\n",
    "df2.to_csv('./data/CICIDS2017_sample_km_defacement.csv',index=0)"
   ]
  },
  {
   "cell_type": "markdown",
   "metadata": {},
   "source": [
    "### Read the generated datasets for unknown attack detection"
   ]
  },
  {
   "cell_type": "code",
   "execution_count": 18,
   "metadata": {},
   "outputs": [],
   "source": [
    "df1 = pd.read_csv('./data/CICIDS2017_sample_km_without_defacement.csv')\n",
    "df2 = pd.read_csv('./data/CICIDS2017_sample_km_defacement.csv')"
   ]
  },
  {
   "cell_type": "code",
   "execution_count": 19,
   "metadata": {},
   "outputs": [],
   "source": [
    "features = df1.drop(['type'],axis=1).dtypes[df1.dtypes != 'object'].index\n",
    "df1[features] = df1[features].apply(\n",
    "    lambda x: (x - x.mean()) / (x.std()))\n",
    "df2[features] = df2[features].apply(\n",
    "    lambda x: (x - x.mean()) / (x.std()))\n",
    "df1 = df1.fillna(0)\n",
    "df2 = df2.fillna(0)"
   ]
  },
  {
   "cell_type": "code",
   "execution_count": 20,
   "metadata": {},
   "outputs": [
    {
     "data": {
      "text/plain": [
       "type\n",
       "0    428103\n",
       "1    126631\n",
       "Name: count, dtype: int64"
      ]
     },
     "execution_count": 20,
     "metadata": {},
     "output_type": "execute_result"
    }
   ],
   "source": [
    "df1.type.value_counts()"
   ]
  },
  {
   "cell_type": "code",
   "execution_count": 21,
   "metadata": {
    "scrolled": true
   },
   "outputs": [
    {
     "data": {
      "text/plain": [
       "type\n",
       "1    96457\n",
       "Name: count, dtype: int64"
      ]
     },
     "execution_count": 21,
     "metadata": {},
     "output_type": "execute_result"
    }
   ],
   "source": [
    "df2.type.value_counts()"
   ]
  },
  {
   "cell_type": "code",
   "execution_count": 22,
   "metadata": {},
   "outputs": [],
   "source": [
    "df2p = df1[df1['type'] == 0]\n",
    "df2pp = df2p.sample(n=None, frac=96457/428103, replace=False, weights=None, random_state=None, axis=0)\n",
    "df2 = pd.concat([df2, df2pp])\n",
    "\n",
    "# Remove the selected rows from df1\n",
    "df1 = df1.drop(df2pp.index)"
   ]
  },
  {
   "cell_type": "code",
   "execution_count": 23,
   "metadata": {},
   "outputs": [
    {
     "data": {
      "text/plain": [
       "type\n",
       "0    331646\n",
       "1    126631\n",
       "Name: count, dtype: int64"
      ]
     },
     "execution_count": 23,
     "metadata": {},
     "output_type": "execute_result"
    }
   ],
   "source": [
    "df1.type.value_counts()"
   ]
  },
  {
   "cell_type": "code",
   "execution_count": 24,
   "metadata": {},
   "outputs": [
    {
     "data": {
      "text/plain": [
       "type\n",
       "1    96457\n",
       "0    96457\n",
       "Name: count, dtype: int64"
      ]
     },
     "execution_count": 24,
     "metadata": {},
     "output_type": "execute_result"
    }
   ],
   "source": [
    "df2.type.value_counts()"
   ]
  },
  {
   "cell_type": "code",
   "execution_count": 25,
   "metadata": {},
   "outputs": [
    {
     "data": {
      "text/html": [
       "<div>\n",
       "<style scoped>\n",
       "    .dataframe tbody tr th:only-of-type {\n",
       "        vertical-align: middle;\n",
       "    }\n",
       "\n",
       "    .dataframe tbody tr th {\n",
       "        vertical-align: top;\n",
       "    }\n",
       "\n",
       "    .dataframe thead th {\n",
       "        text-align: right;\n",
       "    }\n",
       "</style>\n",
       "<table border=\"1\" class=\"dataframe\">\n",
       "  <thead>\n",
       "    <tr style=\"text-align: right;\">\n",
       "      <th></th>\n",
       "      <th>url</th>\n",
       "      <th>type</th>\n",
       "      <th>use_of_ip</th>\n",
       "      <th>abnormal_url</th>\n",
       "      <th>count.</th>\n",
       "      <th>count-www</th>\n",
       "      <th>count@</th>\n",
       "      <th>count_dir</th>\n",
       "      <th>count_embed_domian</th>\n",
       "      <th>short_url</th>\n",
       "      <th>...</th>\n",
       "      <th>count?</th>\n",
       "      <th>count-</th>\n",
       "      <th>count=</th>\n",
       "      <th>url_length</th>\n",
       "      <th>hostname_length</th>\n",
       "      <th>sus_url</th>\n",
       "      <th>fd_length</th>\n",
       "      <th>tld_length</th>\n",
       "      <th>count-digits</th>\n",
       "      <th>count-letters</th>\n",
       "    </tr>\n",
       "  </thead>\n",
       "  <tbody>\n",
       "    <tr>\n",
       "      <th>0</th>\n",
       "      <td>http://www.garage-pirenne.be/index.php?option=...</td>\n",
       "      <td>1</td>\n",
       "      <td>0.000396</td>\n",
       "      <td>0.000423</td>\n",
       "      <td>0.181424</td>\n",
       "      <td>0.655655</td>\n",
       "      <td>-0.004554</td>\n",
       "      <td>-0.661530</td>\n",
       "      <td>0.000000</td>\n",
       "      <td>-0.166470</td>\n",
       "      <td>...</td>\n",
       "      <td>0.867129</td>\n",
       "      <td>-0.262667</td>\n",
       "      <td>0.675820</td>\n",
       "      <td>0.039647</td>\n",
       "      <td>0.341876</td>\n",
       "      <td>-0.163185</td>\n",
       "      <td>-0.124144</td>\n",
       "      <td>-0.776486</td>\n",
       "      <td>0.360470</td>\n",
       "      <td>-0.117240</td>\n",
       "    </tr>\n",
       "    <tr>\n",
       "      <th>1</th>\n",
       "      <td>http://adventure-nicaragua.net/index.php?optio...</td>\n",
       "      <td>1</td>\n",
       "      <td>0.000396</td>\n",
       "      <td>0.000423</td>\n",
       "      <td>-0.988493</td>\n",
       "      <td>-1.518748</td>\n",
       "      <td>-0.004554</td>\n",
       "      <td>-0.661530</td>\n",
       "      <td>0.000000</td>\n",
       "      <td>-0.166470</td>\n",
       "      <td>...</td>\n",
       "      <td>0.867129</td>\n",
       "      <td>-0.262667</td>\n",
       "      <td>0.272379</td>\n",
       "      <td>3.549246</td>\n",
       "      <td>0.684898</td>\n",
       "      <td>-0.163185</td>\n",
       "      <td>-0.124144</td>\n",
       "      <td>-0.028379</td>\n",
       "      <td>2.606372</td>\n",
       "      <td>4.011416</td>\n",
       "    </tr>\n",
       "    <tr>\n",
       "      <th>2</th>\n",
       "      <td>http://www.pashminaonline.com/pure-pashminas</td>\n",
       "      <td>1</td>\n",
       "      <td>0.000396</td>\n",
       "      <td>0.000423</td>\n",
       "      <td>-0.988493</td>\n",
       "      <td>0.655655</td>\n",
       "      <td>-0.004554</td>\n",
       "      <td>-0.661530</td>\n",
       "      <td>0.000000</td>\n",
       "      <td>-0.166470</td>\n",
       "      <td>...</td>\n",
       "      <td>-1.149912</td>\n",
       "      <td>-0.262667</td>\n",
       "      <td>-0.937943</td>\n",
       "      <td>-1.010846</td>\n",
       "      <td>0.513387</td>\n",
       "      <td>-0.163185</td>\n",
       "      <td>0.787566</td>\n",
       "      <td>-0.028379</td>\n",
       "      <td>-0.687617</td>\n",
       "      <td>-0.906542</td>\n",
       "    </tr>\n",
       "    <tr>\n",
       "      <th>3</th>\n",
       "      <td>http://www.ikenmijnkunst.nl/index.php/expositi...</td>\n",
       "      <td>1</td>\n",
       "      <td>0.000396</td>\n",
       "      <td>0.000423</td>\n",
       "      <td>0.181424</td>\n",
       "      <td>0.655655</td>\n",
       "      <td>-0.004554</td>\n",
       "      <td>0.940087</td>\n",
       "      <td>0.000000</td>\n",
       "      <td>-0.166470</td>\n",
       "      <td>...</td>\n",
       "      <td>-1.149912</td>\n",
       "      <td>-0.262667</td>\n",
       "      <td>-0.937943</td>\n",
       "      <td>-0.533349</td>\n",
       "      <td>0.170366</td>\n",
       "      <td>-0.163185</td>\n",
       "      <td>-0.124144</td>\n",
       "      <td>-0.776486</td>\n",
       "      <td>-0.088710</td>\n",
       "      <td>-0.511891</td>\n",
       "    </tr>\n",
       "    <tr>\n",
       "      <th>4</th>\n",
       "      <td>http://www.lebensmittel-ueberwachung.de/index....</td>\n",
       "      <td>1</td>\n",
       "      <td>0.000396</td>\n",
       "      <td>0.000423</td>\n",
       "      <td>1.351341</td>\n",
       "      <td>0.655655</td>\n",
       "      <td>-0.004554</td>\n",
       "      <td>0.139278</td>\n",
       "      <td>0.000000</td>\n",
       "      <td>-0.166470</td>\n",
       "      <td>...</td>\n",
       "      <td>-1.149912</td>\n",
       "      <td>-0.262667</td>\n",
       "      <td>-0.937943</td>\n",
       "      <td>-0.604974</td>\n",
       "      <td>2.228495</td>\n",
       "      <td>-0.163185</td>\n",
       "      <td>-0.124144</td>\n",
       "      <td>-0.776486</td>\n",
       "      <td>-0.537891</td>\n",
       "      <td>-0.511891</td>\n",
       "    </tr>\n",
       "    <tr>\n",
       "      <th>...</th>\n",
       "      <td>...</td>\n",
       "      <td>...</td>\n",
       "      <td>...</td>\n",
       "      <td>...</td>\n",
       "      <td>...</td>\n",
       "      <td>...</td>\n",
       "      <td>...</td>\n",
       "      <td>...</td>\n",
       "      <td>...</td>\n",
       "      <td>...</td>\n",
       "      <td>...</td>\n",
       "      <td>...</td>\n",
       "      <td>...</td>\n",
       "      <td>...</td>\n",
       "      <td>...</td>\n",
       "      <td>...</td>\n",
       "      <td>...</td>\n",
       "      <td>...</td>\n",
       "      <td>...</td>\n",
       "      <td>...</td>\n",
       "      <td>...</td>\n",
       "    </tr>\n",
       "    <tr>\n",
       "      <th>8806</th>\n",
       "      <td>beemp3.com/index.php?q=hey+say+jump&amp;st=song</td>\n",
       "      <td>0</td>\n",
       "      <td>-0.115421</td>\n",
       "      <td>-0.444579</td>\n",
       "      <td>-0.053317</td>\n",
       "      <td>-0.337779</td>\n",
       "      <td>-0.044340</td>\n",
       "      <td>-0.876193</td>\n",
       "      <td>-0.041951</td>\n",
       "      <td>-0.267925</td>\n",
       "      <td>...</td>\n",
       "      <td>2.082603</td>\n",
       "      <td>-0.503818</td>\n",
       "      <td>1.671762</td>\n",
       "      <td>-0.288689</td>\n",
       "      <td>-0.376392</td>\n",
       "      <td>-0.282022</td>\n",
       "      <td>0.023927</td>\n",
       "      <td>-0.379739</td>\n",
       "      <td>-0.379435</td>\n",
       "      <td>-0.284547</td>\n",
       "    </tr>\n",
       "    <tr>\n",
       "      <th>244166</th>\n",
       "      <td>evri.com/person/macgillivray-milne-0x557b15</td>\n",
       "      <td>0</td>\n",
       "      <td>-0.115421</td>\n",
       "      <td>-0.444579</td>\n",
       "      <td>-0.699413</td>\n",
       "      <td>-0.337779</td>\n",
       "      <td>-0.044340</td>\n",
       "      <td>-0.251417</td>\n",
       "      <td>-0.041951</td>\n",
       "      <td>-0.267925</td>\n",
       "      <td>...</td>\n",
       "      <td>-0.407253</td>\n",
       "      <td>0.156501</td>\n",
       "      <td>-0.300372</td>\n",
       "      <td>-0.288689</td>\n",
       "      <td>-0.376392</td>\n",
       "      <td>-0.282022</td>\n",
       "      <td>-0.213305</td>\n",
       "      <td>-0.379739</td>\n",
       "      <td>0.025082</td>\n",
       "      <td>-0.318067</td>\n",
       "    </tr>\n",
       "    <tr>\n",
       "      <th>369610</th>\n",
       "      <td>dojos.com/sansookungfu/index.htm</td>\n",
       "      <td>0</td>\n",
       "      <td>-0.115421</td>\n",
       "      <td>-0.444579</td>\n",
       "      <td>-0.053317</td>\n",
       "      <td>-0.337779</td>\n",
       "      <td>-0.044340</td>\n",
       "      <td>-0.251417</td>\n",
       "      <td>-0.041951</td>\n",
       "      <td>-0.267925</td>\n",
       "      <td>...</td>\n",
       "      <td>-0.407253</td>\n",
       "      <td>-0.503818</td>\n",
       "      <td>-0.300372</td>\n",
       "      <td>-0.540635</td>\n",
       "      <td>-0.376392</td>\n",
       "      <td>-0.282022</td>\n",
       "      <td>0.261159</td>\n",
       "      <td>-0.379739</td>\n",
       "      <td>-0.460338</td>\n",
       "      <td>-0.452149</td>\n",
       "    </tr>\n",
       "    <tr>\n",
       "      <th>467392</th>\n",
       "      <td>pastehtml.com/view/bxeea71ky.html</td>\n",
       "      <td>0</td>\n",
       "      <td>-0.115421</td>\n",
       "      <td>-0.444579</td>\n",
       "      <td>-0.053317</td>\n",
       "      <td>-0.337779</td>\n",
       "      <td>-0.044340</td>\n",
       "      <td>-0.251417</td>\n",
       "      <td>-0.041951</td>\n",
       "      <td>-0.267925</td>\n",
       "      <td>...</td>\n",
       "      <td>-0.407253</td>\n",
       "      <td>-0.503818</td>\n",
       "      <td>-0.300372</td>\n",
       "      <td>-0.517731</td>\n",
       "      <td>-0.376392</td>\n",
       "      <td>-0.282022</td>\n",
       "      <td>-0.371459</td>\n",
       "      <td>-0.379739</td>\n",
       "      <td>-0.298531</td>\n",
       "      <td>-0.485670</td>\n",
       "    </tr>\n",
       "    <tr>\n",
       "      <th>262494</th>\n",
       "      <td>en.wikipedia.org/wiki/CINF</td>\n",
       "      <td>0</td>\n",
       "      <td>-0.115421</td>\n",
       "      <td>-0.444579</td>\n",
       "      <td>-0.053317</td>\n",
       "      <td>-0.337779</td>\n",
       "      <td>-0.044340</td>\n",
       "      <td>-0.251417</td>\n",
       "      <td>-0.041951</td>\n",
       "      <td>-0.267925</td>\n",
       "      <td>...</td>\n",
       "      <td>-0.407253</td>\n",
       "      <td>-0.503818</td>\n",
       "      <td>-0.300372</td>\n",
       "      <td>-0.678061</td>\n",
       "      <td>-0.376392</td>\n",
       "      <td>-0.282022</td>\n",
       "      <td>-0.371459</td>\n",
       "      <td>-0.379739</td>\n",
       "      <td>-0.460338</td>\n",
       "      <td>-0.653273</td>\n",
       "    </tr>\n",
       "  </tbody>\n",
       "</table>\n",
       "<p>192914 rows × 23 columns</p>\n",
       "</div>"
      ],
      "text/plain": [
       "                                                      url  type  use_of_ip  \\\n",
       "0       http://www.garage-pirenne.be/index.php?option=...     1   0.000396   \n",
       "1       http://adventure-nicaragua.net/index.php?optio...     1   0.000396   \n",
       "2            http://www.pashminaonline.com/pure-pashminas     1   0.000396   \n",
       "3       http://www.ikenmijnkunst.nl/index.php/expositi...     1   0.000396   \n",
       "4       http://www.lebensmittel-ueberwachung.de/index....     1   0.000396   \n",
       "...                                                   ...   ...        ...   \n",
       "8806          beemp3.com/index.php?q=hey+say+jump&st=song     0  -0.115421   \n",
       "244166        evri.com/person/macgillivray-milne-0x557b15     0  -0.115421   \n",
       "369610                   dojos.com/sansookungfu/index.htm     0  -0.115421   \n",
       "467392                  pastehtml.com/view/bxeea71ky.html     0  -0.115421   \n",
       "262494                         en.wikipedia.org/wiki/CINF     0  -0.115421   \n",
       "\n",
       "        abnormal_url    count.  count-www    count@  count_dir  \\\n",
       "0           0.000423  0.181424   0.655655 -0.004554  -0.661530   \n",
       "1           0.000423 -0.988493  -1.518748 -0.004554  -0.661530   \n",
       "2           0.000423 -0.988493   0.655655 -0.004554  -0.661530   \n",
       "3           0.000423  0.181424   0.655655 -0.004554   0.940087   \n",
       "4           0.000423  1.351341   0.655655 -0.004554   0.139278   \n",
       "...              ...       ...        ...       ...        ...   \n",
       "8806       -0.444579 -0.053317  -0.337779 -0.044340  -0.876193   \n",
       "244166     -0.444579 -0.699413  -0.337779 -0.044340  -0.251417   \n",
       "369610     -0.444579 -0.053317  -0.337779 -0.044340  -0.251417   \n",
       "467392     -0.444579 -0.053317  -0.337779 -0.044340  -0.251417   \n",
       "262494     -0.444579 -0.053317  -0.337779 -0.044340  -0.251417   \n",
       "\n",
       "        count_embed_domian  short_url  ...    count?    count-    count=  \\\n",
       "0                 0.000000  -0.166470  ...  0.867129 -0.262667  0.675820   \n",
       "1                 0.000000  -0.166470  ...  0.867129 -0.262667  0.272379   \n",
       "2                 0.000000  -0.166470  ... -1.149912 -0.262667 -0.937943   \n",
       "3                 0.000000  -0.166470  ... -1.149912 -0.262667 -0.937943   \n",
       "4                 0.000000  -0.166470  ... -1.149912 -0.262667 -0.937943   \n",
       "...                    ...        ...  ...       ...       ...       ...   \n",
       "8806             -0.041951  -0.267925  ...  2.082603 -0.503818  1.671762   \n",
       "244166           -0.041951  -0.267925  ... -0.407253  0.156501 -0.300372   \n",
       "369610           -0.041951  -0.267925  ... -0.407253 -0.503818 -0.300372   \n",
       "467392           -0.041951  -0.267925  ... -0.407253 -0.503818 -0.300372   \n",
       "262494           -0.041951  -0.267925  ... -0.407253 -0.503818 -0.300372   \n",
       "\n",
       "        url_length  hostname_length   sus_url  fd_length  tld_length  \\\n",
       "0         0.039647         0.341876 -0.163185  -0.124144   -0.776486   \n",
       "1         3.549246         0.684898 -0.163185  -0.124144   -0.028379   \n",
       "2        -1.010846         0.513387 -0.163185   0.787566   -0.028379   \n",
       "3        -0.533349         0.170366 -0.163185  -0.124144   -0.776486   \n",
       "4        -0.604974         2.228495 -0.163185  -0.124144   -0.776486   \n",
       "...            ...              ...       ...        ...         ...   \n",
       "8806     -0.288689        -0.376392 -0.282022   0.023927   -0.379739   \n",
       "244166   -0.288689        -0.376392 -0.282022  -0.213305   -0.379739   \n",
       "369610   -0.540635        -0.376392 -0.282022   0.261159   -0.379739   \n",
       "467392   -0.517731        -0.376392 -0.282022  -0.371459   -0.379739   \n",
       "262494   -0.678061        -0.376392 -0.282022  -0.371459   -0.379739   \n",
       "\n",
       "        count-digits  count-letters  \n",
       "0           0.360470      -0.117240  \n",
       "1           2.606372       4.011416  \n",
       "2          -0.687617      -0.906542  \n",
       "3          -0.088710      -0.511891  \n",
       "4          -0.537891      -0.511891  \n",
       "...              ...            ...  \n",
       "8806       -0.379435      -0.284547  \n",
       "244166      0.025082      -0.318067  \n",
       "369610     -0.460338      -0.452149  \n",
       "467392     -0.298531      -0.485670  \n",
       "262494     -0.460338      -0.653273  \n",
       "\n",
       "[192914 rows x 23 columns]"
      ]
     },
     "execution_count": 25,
     "metadata": {},
     "output_type": "execute_result"
    }
   ],
   "source": [
    "df2"
   ]
  },
  {
   "cell_type": "code",
   "execution_count": 26,
   "metadata": {},
   "outputs": [],
   "source": [
    "df = pd.concat([df1, df2], ignore_index=True)"
   ]
  },
  {
   "cell_type": "code",
   "execution_count": 27,
   "metadata": {},
   "outputs": [
    {
     "data": {
      "text/plain": [
       "0    428103\n",
       "1    223088\n",
       "Name: count, dtype: int64"
      ]
     },
     "execution_count": 27,
     "metadata": {},
     "output_type": "execute_result"
    }
   ],
   "source": [
    "X = df.drop(['type','url'],axis=1) .values\n",
    "y = df.iloc[:, 1].values.reshape(-1,1)\n",
    "y=np.ravel(y)\n",
    "pd.Series(y).value_counts()"
   ]
  },
  {
   "cell_type": "code",
   "execution_count": 28,
   "metadata": {},
   "outputs": [
    {
     "data": {
      "text/plain": [
       "array([1, 0, 0, ..., 0, 0, 0], dtype=int64)"
      ]
     },
     "execution_count": 28,
     "metadata": {},
     "output_type": "execute_result"
    }
   ],
   "source": [
    "y"
   ]
  },
  {
   "cell_type": "code",
   "execution_count": 29,
   "metadata": {},
   "outputs": [
    {
     "name": "stdout",
     "output_type": "stream",
     "text": [
      "int64\n"
     ]
    }
   ],
   "source": [
    "print(y.dtype)"
   ]
  },
  {
   "cell_type": "code",
   "execution_count": 30,
   "metadata": {},
   "outputs": [
    {
     "data": {
      "text/plain": [
       "dtype('float64')"
      ]
     },
     "execution_count": 30,
     "metadata": {},
     "output_type": "execute_result"
    }
   ],
   "source": [
    "X.dtype"
   ]
  },
  {
   "cell_type": "markdown",
   "metadata": {},
   "source": [
    "### Feature engineering (IG, FCBF, and KPCA)"
   ]
  },
  {
   "cell_type": "markdown",
   "metadata": {},
   "source": [
    "#### Feature selection by information gain (IG)"
   ]
  },
  {
   "cell_type": "code",
   "execution_count": 31,
   "metadata": {},
   "outputs": [],
   "source": [
    "from sklearn.feature_selection import mutual_info_classif\n",
    "importances = mutual_info_classif(X, y)"
   ]
  },
  {
   "cell_type": "code",
   "execution_count": 32,
   "metadata": {},
   "outputs": [],
   "source": [
    "# calculate the sum of importance scores\n",
    "f_list = sorted(zip(map(lambda x: round(x, 4), importances), features), reverse=True)\n",
    "Sum = 0\n",
    "fs = []\n",
    "for i in range(0, len(f_list)):\n",
    "    Sum = Sum + f_list[i][0]\n",
    "    fs.append(f_list[i][1])"
   ]
  },
  {
   "cell_type": "code",
   "execution_count": 33,
   "metadata": {},
   "outputs": [],
   "source": [
    "# select the important features from top to bottom until the accumulated importance reaches 90%\n",
    "f_list2 = sorted(zip(map(lambda x: round(x, 4), importances/Sum), features), reverse=True)\n",
    "Sum2 = 0\n",
    "fs = []\n",
    "for i in range(0, len(f_list2)):\n",
    "    Sum2 = Sum2 + f_list2[i][0]\n",
    "    fs.append(f_list2[i][1])\n",
    "    if Sum2>=0.9:\n",
    "        break        "
   ]
  },
  {
   "cell_type": "code",
   "execution_count": 34,
   "metadata": {},
   "outputs": [
    {
     "data": {
      "text/plain": [
       "['hostname_length',\n",
       " 'abnormal_url',\n",
       " 'count-http',\n",
       " 'count-www',\n",
       " 'count_dir',\n",
       " 'tld_length',\n",
       " 'count.',\n",
       " 'count-',\n",
       " 'count-https',\n",
       " 'use_of_ip',\n",
       " 'count?',\n",
       " 'count-letters',\n",
       " 'sus_url',\n",
       " 'fd_length',\n",
       " 'short_url',\n",
       " 'count=',\n",
       " 'count-digits',\n",
       " 'url_length',\n",
       " 'count%']"
      ]
     },
     "execution_count": 34,
     "metadata": {},
     "output_type": "execute_result"
    }
   ],
   "source": [
    "fs"
   ]
  },
  {
   "cell_type": "code",
   "execution_count": 35,
   "metadata": {},
   "outputs": [],
   "source": [
    "X_fs = df[fs].values"
   ]
  },
  {
   "cell_type": "code",
   "execution_count": 36,
   "metadata": {},
   "outputs": [
    {
     "data": {
      "text/plain": [
       "(651191, 19)"
      ]
     },
     "execution_count": 36,
     "metadata": {},
     "output_type": "execute_result"
    }
   ],
   "source": [
    "X_fs.shape"
   ]
  },
  {
   "cell_type": "code",
   "execution_count": 37,
   "metadata": {},
   "outputs": [
    {
     "data": {
      "text/plain": [
       "array([[-0.3763922 , -0.44457923, -0.43718317, ..., -0.46033787,\n",
       "        -0.90710258, -0.12494503],\n",
       "       [-0.3763922 , -0.44457923, -0.43718317, ..., -0.37943453,\n",
       "        -0.56353968, -0.12494503],\n",
       "       [ 1.22118181,  2.24931381,  2.07075749, ..., -0.37943453,\n",
       "         1.42912516, -0.12494503],\n",
       "       ...,\n",
       "       [-0.3763922 , -0.44457923, -0.43718317, ..., -0.46033787,\n",
       "        -0.54063548, -0.12494503],\n",
       "       [-0.3763922 , -0.44457923, -0.43718317, ..., -0.2985312 ,\n",
       "        -0.51773129, -0.12494503],\n",
       "       [-0.3763922 , -0.44457923, -0.43718317, ..., -0.46033787,\n",
       "        -0.67806065, -0.12494503]])"
      ]
     },
     "execution_count": 37,
     "metadata": {},
     "output_type": "execute_result"
    }
   ],
   "source": [
    "X_fs"
   ]
  },
  {
   "cell_type": "markdown",
   "metadata": {},
   "source": [
    "#### Feature selection by Fast Correlation Based Filter (FCBF)\n",
    "\n",
    "The module is imported from the GitHub repo: https://github.com/SantiagoEG/FCBF_module"
   ]
  },
  {
   "cell_type": "code",
   "execution_count": 38,
   "metadata": {},
   "outputs": [],
   "source": [
    "from FCBF_module import FCBF, FCBFK, FCBFiP, get_i\n",
    "fcbf = FCBFK(k = 12)\n",
    "#fcbf.fit(X_fs, y)"
   ]
  },
  {
   "cell_type": "code",
   "execution_count": 39,
   "metadata": {},
   "outputs": [],
   "source": [
    "X_fss = fcbf.fit_transform(X_fs,y)"
   ]
  },
  {
   "cell_type": "code",
   "execution_count": 40,
   "metadata": {},
   "outputs": [
    {
     "data": {
      "text/plain": [
       "(651191, 12)"
      ]
     },
     "execution_count": 40,
     "metadata": {},
     "output_type": "execute_result"
    }
   ],
   "source": [
    "X_fss.shape"
   ]
  },
  {
   "cell_type": "code",
   "execution_count": 41,
   "metadata": {},
   "outputs": [
    {
     "data": {
      "text/plain": [
       "array([[-0.11542079, -0.17239686, -0.44457923, ..., -0.40725307,\n",
       "        -0.3763922 , -0.30037198],\n",
       "       [-0.11542079, -0.17239686, -0.44457923, ..., -0.40725307,\n",
       "        -0.3763922 , -0.30037198],\n",
       "       [-0.11542079, -0.17239686,  2.24931381, ..., -0.40725307,\n",
       "         1.22118181, -0.30037198],\n",
       "       ...,\n",
       "       [-0.11542079, -0.17239686, -0.44457923, ..., -0.40725307,\n",
       "        -0.3763922 , -0.30037198],\n",
       "       [-0.11542079, -0.17239686, -0.44457923, ..., -0.40725307,\n",
       "        -0.3763922 , -0.30037198],\n",
       "       [-0.11542079, -0.17239686, -0.44457923, ..., -0.40725307,\n",
       "        -0.3763922 , -0.30037198]])"
      ]
     },
     "execution_count": 41,
     "metadata": {},
     "output_type": "execute_result"
    }
   ],
   "source": [
    "X_fss"
   ]
  },
  {
   "cell_type": "markdown",
   "metadata": {},
   "source": [
    "### Train-test split after feature selection"
   ]
  },
  {
   "cell_type": "code",
   "execution_count": 42,
   "metadata": {},
   "outputs": [],
   "source": [
    "X_train = X_fss[:len(df1)]\n",
    "y_train = y[:len(df1)]\n",
    "X_test = X_fss[len(df1):]\n",
    "y_test = y[len(df1):]"
   ]
  },
  {
   "cell_type": "markdown",
   "metadata": {},
   "source": [
    "### Solve class-imbalance by SMOTE"
   ]
  },
  {
   "cell_type": "code",
   "execution_count": 43,
   "metadata": {},
   "outputs": [
    {
     "data": {
      "text/plain": [
       "0    331646\n",
       "1    126631\n",
       "Name: count, dtype: int64"
      ]
     },
     "execution_count": 43,
     "metadata": {},
     "output_type": "execute_result"
    }
   ],
   "source": [
    "pd.Series(y_train).value_counts()"
   ]
  },
  {
   "cell_type": "code",
   "execution_count": 44,
   "metadata": {},
   "outputs": [],
   "source": [
    "from imblearn.over_sampling import SMOTE\n",
    "smote=SMOTE(n_jobs=-1,sampling_strategy={1:331646})\n",
    "X_train, y_train = smote.fit_resample(X_train, y_train)"
   ]
  },
  {
   "cell_type": "code",
   "execution_count": 45,
   "metadata": {},
   "outputs": [
    {
     "data": {
      "text/plain": [
       "1    331646\n",
       "0    331646\n",
       "Name: count, dtype: int64"
      ]
     },
     "execution_count": 45,
     "metadata": {},
     "output_type": "execute_result"
    }
   ],
   "source": [
    "pd.Series(y_train).value_counts()"
   ]
  },
  {
   "cell_type": "code",
   "execution_count": 46,
   "metadata": {},
   "outputs": [
    {
     "data": {
      "text/plain": [
       "1    96457\n",
       "0    96457\n",
       "Name: count, dtype: int64"
      ]
     },
     "execution_count": 46,
     "metadata": {},
     "output_type": "execute_result"
    }
   ],
   "source": [
    "pd.Series(y_test).value_counts()"
   ]
  },
  {
   "cell_type": "markdown",
   "metadata": {},
   "source": [
    "### Apply the cluster labeling (CL) k-means method"
   ]
  },
  {
   "cell_type": "code",
   "execution_count": 47,
   "metadata": {},
   "outputs": [],
   "source": [
    "from sklearn.cluster import KMeans\n",
    "from sklearn.cluster import DBSCAN,MeanShift\n",
    "from sklearn.cluster import SpectralClustering,AgglomerativeClustering,AffinityPropagation,Birch,MiniBatchKMeans,MeanShift \n",
    "from sklearn.mixture import GaussianMixture, BayesianGaussianMixture\n",
    "from sklearn.metrics import classification_report\n",
    "from sklearn import metrics"
   ]
  },
  {
   "cell_type": "code",
   "execution_count": 48,
   "metadata": {},
   "outputs": [],
   "source": [
    "import time\n",
    "\n",
    "def CL_kmeans(X_train, X_test, y_train, y_test, n, b=100):\n",
    "    start_time = time.time()\n",
    "    \n",
    "    km_cluster = MiniBatchKMeans(n_clusters=n, batch_size=b)\n",
    "    result = km_cluster.fit_predict(X_train)\n",
    "    result2 = km_cluster.predict(X_test)\n",
    "\n",
    "    count = 0\n",
    "    a = np.zeros(n)\n",
    "    b = np.zeros(n)\n",
    "    for v in range(0, n):\n",
    "        for i in range(0, len(y_train)):\n",
    "            if result[i] == v:\n",
    "                if y_train[i] == 1:\n",
    "                    a[v] = a[v] + 1\n",
    "                else:\n",
    "                    b[v] = b[v] + 1\n",
    "    list1 = []\n",
    "    list2 = []\n",
    "    for v in range(0, n):\n",
    "        if a[v] <= b[v]:\n",
    "            list1.append(v)\n",
    "        else: \n",
    "            list2.append(v)\n",
    "    for v in range(0, len(y_test)):\n",
    "        if result2[v] in list1:\n",
    "            result2[v] = 0\n",
    "        elif result2[v] in list2:\n",
    "            result2[v] = 1\n",
    "        else:\n",
    "            print(\"-1\")\n",
    "    \n",
    "    end_time = time.time()\n",
    "    total_time = end_time - start_time\n",
    "    print(f\"Total execution time: {total_time:.2f} seconds\")\n",
    "    \n",
    "    single_prediction_time = total_time / len(X_test)\n",
    "    print(f\"Single data point prediction time: {single_prediction_time:.6f} seconds\")\n",
    "    \n",
    "    print(classification_report(y_test, result2))\n",
    "    cm = confusion_matrix(y_test, result2)\n",
    "    acc = metrics.accuracy_score(y_test, result2)\n",
    "    print(str(acc))\n",
    "    print(cm)"
   ]
  },
  {
   "cell_type": "code",
   "execution_count": 49,
   "metadata": {},
   "outputs": [
    {
     "name": "stdout",
     "output_type": "stream",
     "text": [
      "Total execution time: 0.83 seconds\n",
      "Single data point prediction time: 0.000004 seconds\n",
      "              precision    recall  f1-score   support\n",
      "\n",
      "           0       0.48      0.89      0.62     96457\n",
      "           1       0.22      0.03      0.05     96457\n",
      "\n",
      "    accuracy                           0.46    192914\n",
      "   macro avg       0.35      0.46      0.34    192914\n",
      "weighted avg       0.35      0.46      0.34    192914\n",
      "\n",
      "0.4591579667623915\n",
      "[[85558 10899]\n",
      " [93437  3020]]\n"
     ]
    }
   ],
   "source": [
    "CL_kmeans(X_train, X_test, y_train, y_test, 8)"
   ]
  },
  {
   "cell_type": "markdown",
   "metadata": {},
   "source": [
    "### Hyperparameter optimization of CL-k-means\n",
    "Tune \"k\""
   ]
  },
  {
   "cell_type": "code",
   "execution_count": 50,
   "metadata": {
    "scrolled": true
   },
   "outputs": [
    {
     "name": "stdout",
     "output_type": "stream",
     "text": [
      "Confusion matrix for n_clusters=30:\n",
      "[[85986 10471]\n",
      " [46232 50225]]\n",
      "30 Accuracy: 0.7061, Precision: 0.8275, Recall: 0.5207, F1-score: 0.6392\n",
      "Confusion matrix for n_clusters=43:\n",
      "[[86031 10426]\n",
      " [93556  2901]]\n",
      "43 Accuracy: 0.4610, Precision: 0.2177, Recall: 0.0301, F1-score: 0.0528\n",
      "Confusion matrix for n_clusters=43:\n",
      "[[86141 10316]\n",
      " [93663  2794]]\n",
      "43 Accuracy: 0.4610, Precision: 0.2131, Recall: 0.0290, F1-score: 0.0510\n",
      "Confusion matrix for n_clusters=43:\n",
      "[[86393 10064]\n",
      " [93758  2699]]\n",
      "43 Accuracy: 0.4618, Precision: 0.2115, Recall: 0.0280, F1-score: 0.0494\n",
      "Confusion matrix for n_clusters=32:\n",
      "[[85950 10507]\n",
      " [46382 50075]]\n",
      "32 Accuracy: 0.7051, Precision: 0.8266, Recall: 0.5191, F1-score: 0.6377\n",
      "Confusion matrix for n_clusters=20:\n",
      "[[85383 11074]\n",
      " [40923 55534]]\n",
      "20 Accuracy: 0.7305, Precision: 0.8337, Recall: 0.5757, F1-score: 0.6811\n",
      "Confusion matrix for n_clusters=16:\n",
      "[[86534  9923]\n",
      " [94451  2006]]\n",
      "16 Accuracy: 0.4590, Precision: 0.1682, Recall: 0.0208, F1-score: 0.0370\n",
      "Confusion matrix for n_clusters=5:\n",
      "[[88919  7538]\n",
      " [94870  1587]]\n",
      "5 Accuracy: 0.4692, Precision: 0.1739, Recall: 0.0165, F1-score: 0.0301\n",
      "Confusion matrix for n_clusters=15:\n",
      "[[86196 10261]\n",
      " [46406 50051]]\n",
      "15 Accuracy: 0.7063, Precision: 0.8299, Recall: 0.5189, F1-score: 0.6385\n",
      "Confusion matrix for n_clusters=25:\n",
      "[[86091 10366]\n",
      " [93484  2973]]\n",
      "25 Accuracy: 0.4617, Precision: 0.2229, Recall: 0.0308, F1-score: 0.0542\n",
      "Confusion matrix for n_clusters=31:\n",
      "[[85597 10860]\n",
      " [46526 49931]]\n",
      "31 Accuracy: 0.7025, Precision: 0.8214, Recall: 0.5177, F1-score: 0.6351\n",
      "Confusion matrix for n_clusters=14:\n",
      "[[86109 10348]\n",
      " [94259  2198]]\n",
      "14 Accuracy: 0.4578, Precision: 0.1752, Recall: 0.0228, F1-score: 0.0403\n",
      "Confusion matrix for n_clusters=21:\n",
      "[[86341 10116]\n",
      " [94331  2126]]\n",
      "21 Accuracy: 0.4586, Precision: 0.1737, Recall: 0.0220, F1-score: 0.0391\n",
      "Confusion matrix for n_clusters=40:\n",
      "[[85117 11340]\n",
      " [92534  3923]]\n",
      "40 Accuracy: 0.4616, Precision: 0.2570, Recall: 0.0407, F1-score: 0.0702\n",
      "Confusion matrix for n_clusters=18:\n",
      "[[86139 10318]\n",
      " [46669 49788]]\n",
      "18 Accuracy: 0.7046, Precision: 0.8283, Recall: 0.5162, F1-score: 0.6360\n",
      "Confusion matrix for n_clusters=33:\n",
      "[[86895  9562]\n",
      " [93804  2653]]\n",
      "33 Accuracy: 0.4642, Precision: 0.2172, Recall: 0.0275, F1-score: 0.0488\n",
      "Confusion matrix for n_clusters=18:\n",
      "[[86610  9847]\n",
      " [81668 14789]]\n",
      "18 Accuracy: 0.5256, Precision: 0.6003, Recall: 0.1533, F1-score: 0.2443\n",
      "Confusion matrix for n_clusters=12:\n",
      "[[86165 10292]\n",
      " [94025  2432]]\n",
      "12 Accuracy: 0.4593, Precision: 0.1911, Recall: 0.0252, F1-score: 0.0445\n",
      "Confusion matrix for n_clusters=37:\n",
      "[[85829 10628]\n",
      " [93105  3352]]\n",
      "37 Accuracy: 0.4623, Precision: 0.2398, Recall: 0.0348, F1-score: 0.0607\n",
      "Confusion matrix for n_clusters=11:\n",
      "[[86239 10218]\n",
      " [94143  2314]]\n",
      "11 Accuracy: 0.4590, Precision: 0.1846, Recall: 0.0240, F1-score: 0.0425\n",
      "52.824143171310425\n",
      "Best score=0.7305\n",
      "Best parameters: n_clusters=20\n"
     ]
    }
   ],
   "source": [
    "#Hyperparameter optimization by BO-GP\n",
    "from skopt.space import Real, Integer\n",
    "from skopt.utils import use_named_args\n",
    "from sklearn import metrics\n",
    "\n",
    "space  = [Integer(2, 50, name='n_clusters')]\n",
    "@use_named_args(space)\n",
    "def objective(**params):\n",
    "    km_cluster = MiniBatchKMeans(batch_size=100, **params)\n",
    "    n=params['n_clusters']\n",
    "    \n",
    "    result = km_cluster.fit_predict(X_train)\n",
    "    result2 = km_cluster.predict(X_test)\n",
    "\n",
    "    count=0\n",
    "    a=np.zeros(n)\n",
    "    b=np.zeros(n)\n",
    "    for v in range(0,n):\n",
    "        for i in range(0,len(y_train)):\n",
    "            if result[i]==v:\n",
    "                if y_train[i]==1:\n",
    "                    a[v]=a[v]+1\n",
    "                else:\n",
    "                    b[v]=b[v]+1\n",
    "    list1=[]\n",
    "    list2=[]\n",
    "    for v in range(0,n):\n",
    "        if a[v]<=b[v]:\n",
    "            list1.append(v)\n",
    "        else: \n",
    "            list2.append(v)\n",
    "    for v in range(0,len(y_test)):\n",
    "        if result2[v] in list1:\n",
    "            result2[v]=0\n",
    "        elif result2[v] in list2:\n",
    "            result2[v]=1\n",
    "        else:\n",
    "            print(\"-1\")\n",
    "    cm=metrics.accuracy_score(y_test,result2)\n",
    "    precision = metrics.precision_score(y_test, result2)\n",
    "    recall = metrics.recall_score(y_test, result2)\n",
    "    f1 = metrics.f1_score(y_test, result2)\n",
    "\n",
    "    # Print the confusion matrix\n",
    "    print(\"Confusion matrix for n_clusters=%d:\" % n)\n",
    "    print(metrics.confusion_matrix(y_test, result2))\n",
    "    \n",
    "    print(str(n)+\" Accuracy: %.4f, Precision: %.4f, Recall: %.4f, F1-score: %.4f\" % (cm, precision, recall, f1))\n",
    "    return (1-cm)\n",
    "from skopt import gp_minimize\n",
    "import time\n",
    "t1=time.time()\n",
    "res_gp = gp_minimize(objective, space, n_calls=20, random_state=0)\n",
    "t2=time.time()\n",
    "print(t2-t1)\n",
    "print(\"Best score=%.4f\" % (1-res_gp.fun))\n",
    "print(\"\"\"Best parameters: n_clusters=%d\"\"\" % (res_gp.x[0]))"
   ]
  },
  {
   "cell_type": "code",
   "execution_count": 51,
   "metadata": {},
   "outputs": [
    {
     "name": "stdout",
     "output_type": "stream",
     "text": [
      "n_clusters: 8, Accuracy: 0.4582197248514882, Precision: 0.17421180274858528, Recall: 0.022341561524824534, F1-score: 0.03960414235437897\n",
      "Confusion Matrix:                                     \n",
      "[[86242 10215]                                        \n",
      " [94302  2155]]\n",
      "n_clusters: 31, Accuracy: 0.4588262127165473, Precision: 0.20923932937989603, Recall: 0.029629783219465668, F1-score: 0.05190889607323187\n",
      "Confusion Matrix:                                                               \n",
      "[[85656 10801]                                                                  \n",
      " [93599  2858]]\n",
      "n_clusters: 32, Accuracy: 0.46031910592284647, Precision: 0.2042803059568879, Recall: 0.027411178037882164, F1-score: 0.048336380255941495\n",
      "Confusion Matrix:                                                               \n",
      "[[86158 10299]                                                                  \n",
      " [93813  2644]]\n",
      "n_clusters: 46, Accuracy: 0.46924536321884364, Precision: 0.25642499384185896, Recall: 0.03237712141161347, F1-score: 0.05749475312051254\n",
      "Confusion Matrix:                                                               \n",
      "[[87401  9056]                                                                  \n",
      " [93334  3123]]\n",
      "n_clusters: 38, Accuracy: 0.7039146977409623, Precision: 0.8210741103493308, Recall: 0.5214655234975171, F1-score: 0.6378386603853738\n",
      "Confusion Matrix:                                                               \n",
      "[[85496 10961]                                                                  \n",
      " [46158 50299]]\n",
      "n_clusters: 34, Accuracy: 0.7055268150574867, Precision: 0.830987561566074, Recall: 0.5160019490550193, F1-score: 0.636665984445354\n",
      "Confusion Matrix:                                                                \n",
      "[[86334 10123]                                                                   \n",
      " [46685 49772]]\n",
      "n_clusters: 29, Accuracy: 0.4692401795618773, Precision: 0.24860193187595322, Recall: 0.03041769907834579, F1-score: 0.05420334568026677\n",
      "Confusion Matrix:                                                               \n",
      "[[87589  8868]                                                                  \n",
      " [93523  2934]]\n",
      "n_clusters: 46, Accuracy: 0.6846625957680624, Precision: 0.8158492038160088, Recall: 0.4769897467265206, F1-score: 0.6020111088576456\n",
      "Confusion Matrix:                                                               \n",
      "[[86072 10385]                                                                  \n",
      " [50448 46009]]\n",
      "n_clusters: 31, Accuracy: 0.47030282923997224, Precision: 0.306020180131374, Recall: 0.0468498916615694, F1-score: 0.08125944040854492\n",
      "Confusion Matrix:                                                               \n",
      "[[86209 10248]                                                                  \n",
      " [91938  4519]]\n",
      "n_clusters: 48, Accuracy: 0.4590283753382336, Precision: 0.20560190703218117, Recall: 0.028613786454067616, F1-score: 0.05023616457804352\n",
      "Confusion Matrix:                                                               \n",
      "[[85793 10664]                                                                  \n",
      " [93697  2760]]\n",
      "n_clusters: 46, Accuracy: 0.7130483013156121, Precision: 0.8493709622577355, Recall: 0.5179510040743543, F1-score: 0.643495173142191\n",
      "Confusion Matrix:                                                                \n",
      "[[87597  8860]                                                                   \n",
      " [46497 49960]]\n",
      "n_clusters: 14, Accuracy: 0.4608996755030739, Precision: 0.2221731123388582, Recall: 0.03126781882082171, F1-score: 0.05482041587901701\n",
      "Confusion Matrix:                                                                 \n",
      "[[85898 10559]                                                                    \n",
      " [93441  3016]]\n",
      "n_clusters: 7, Accuracy: 0.4564831997677722, Precision: 0.16173744862599726, Recall: 0.02080719906279482, F1-score: 0.03687101574412581\n",
      "Confusion Matrix:                                                                 \n",
      "[[86055 10402]                                                                    \n",
      " [94450  2007]]\n",
      "n_clusters: 35, Accuracy: 0.46060420705599386, Precision: 0.22274916095140815, Recall: 0.031651409436329145, F1-score: 0.055426958234615985\n",
      "Confusion Matrix:                                                                 \n",
      "[[85804 10653]                                                                    \n",
      " [93404  3053]]\n",
      "n_clusters: 46, Accuracy: 0.6153415511575105, Precision: 0.7954116991051751, Recall: 0.31056325616596, F1-score: 0.4467111051462145\n",
      "Confusion Matrix:                                                                 \n",
      "[[88752  7705]                                                                    \n",
      " [66501 29956]]\n",
      "n_clusters: 36, Accuracy: 0.4634655857014006, Precision: 0.222825232027686, Recall: 0.02937060037114984, F1-score: 0.051900229914537736\n",
      "Confusion Matrix:                                                                 \n",
      "[[86576  9881]                                                                    \n",
      " [93624  2833]]\n",
      "n_clusters: 35, Accuracy: 0.4625480784183626, Precision: 0.20727655781541204, Recall: 0.02651958903967571, F1-score: 0.047022923215500285\n",
      "Confusion Matrix:                                                                 \n",
      "[[86674  9783]                                                                    \n",
      " [93899  2558]]\n",
      "n_clusters: 20, Accuracy: 0.4642846035020786, Precision: 0.2264135959339263, Recall: 0.029557212021937236, F1-score: 0.05228842080165797\n",
      "Confusion Matrix:                                                                 \n",
      "[[86716  9741]                                                                    \n",
      " [93606  2851]]\n",
      "n_clusters: 38, Accuracy: 0.7146293166903387, Precision: 0.8526651108120539, Recall: 0.5189255315840219, F1-score: 0.6451920598092291\n",
      "Confusion Matrix:                                                                 \n",
      "[[87808  8649]                                                                    \n",
      " [46403 50054]]\n",
      "n_clusters: 40, Accuracy: 0.4610240832702655, Precision: 0.21029513755105186, Recall: 0.028292399722155987, F1-score: 0.04987481038799641\n",
      "Confusion Matrix:                                                                \n",
      "[[86209 10248]                                                                   \n",
      " [93728  2729]]\n",
      "100%|██████████| 20/20 [01:29<00:00,  4.49s/trial, best loss: 0.2853706833096613]\n",
      "Random Forest: Hyperopt estimated optimum {'n_clusters': 38.0}\n"
     ]
    }
   ],
   "source": [
    "#Hyperparameter optimization by BO-TPE\n",
    "from hyperopt import hp, fmin, tpe, STATUS_OK, Trials\n",
    "from sklearn.model_selection import cross_val_score, StratifiedKFold\n",
    "from sklearn.cluster import MiniBatchKMeans\n",
    "from sklearn import metrics\n",
    "import numpy as np\n",
    "from sklearn.metrics import confusion_matrix, precision_score, recall_score, f1_score\n",
    "\n",
    "def objective(params):\n",
    "    params = {\n",
    "        'n_clusters': int(params['n_clusters']), \n",
    "    }\n",
    "    km_cluster = MiniBatchKMeans(batch_size=100, **params)\n",
    "    n=params['n_clusters']\n",
    "    \n",
    "    result = km_cluster.fit_predict(X_train)\n",
    "    result2 = km_cluster.predict(X_test)\n",
    "\n",
    "    count=0\n",
    "    a=np.zeros(n)\n",
    "    b=np.zeros(n)\n",
    "    for v in range(0,n):\n",
    "        for i in range(0,len(y_train)):\n",
    "            if result[i]==v:\n",
    "                if y_train[i]==1:\n",
    "                    a[v]=a[v]+1\n",
    "                else:\n",
    "                    b[v]=b[v]+1\n",
    "    list1=[]\n",
    "    list2=[]\n",
    "    for v in range(0,n):\n",
    "        if a[v]<=b[v]:\n",
    "            list1.append(v)\n",
    "        else: \n",
    "            list2.append(v)\n",
    "    for v in range(0,len(y_test)):\n",
    "        if result2[v] in list1:\n",
    "            result2[v]=0\n",
    "        elif result2[v] in list2:\n",
    "            result2[v]=1\n",
    "        else:\n",
    "            print(\"-1\")\n",
    "    score=metrics.accuracy_score(y_test,result2)\n",
    "    \n",
    "    # Calculate and print additional metrics\n",
    "    cm = confusion_matrix(y_test, result2)\n",
    "    tn, fp, fn, tp = cm.ravel()\n",
    "    precision = precision_score(y_test, result2)\n",
    "    recall = recall_score(y_test, result2)\n",
    "    f1 = f1_score(y_test, result2)\n",
    "    print(f\"n_clusters: {n}, Accuracy: {score}, Precision: {precision}, Recall: {recall}, F1-score: {f1}\")\n",
    "    print(\"Confusion Matrix:\")\n",
    "    print(cm)\n",
    "    \n",
    "    return {'loss':1-score, 'status': STATUS_OK}\n",
    "\n",
    "space = {\n",
    "    'n_clusters': hp.quniform('n_clusters', 2, 50, 1),\n",
    "}\n",
    "\n",
    "best = fmin(fn=objective,\n",
    "            space=space,\n",
    "            algo=tpe.suggest,\n",
    "            max_evals=20)\n",
    "print(\"Random Forest: Hyperopt estimated optimum {}\".format(best))"
   ]
  },
  {
   "cell_type": "code",
   "execution_count": 52,
   "metadata": {},
   "outputs": [
    {
     "name": "stdout",
     "output_type": "stream",
     "text": [
      "Total execution time: 4.39 seconds\n",
      "Single data point prediction time: 0.000023 seconds\n",
      "              precision    recall  f1-score   support\n",
      "\n",
      "           0       0.48      0.89      0.62     96457\n",
      "           1       0.20      0.03      0.05     96457\n",
      "\n",
      "    accuracy                           0.46    192914\n",
      "   macro avg       0.34      0.46      0.33    192914\n",
      "weighted avg       0.34      0.46      0.33    192914\n",
      "\n",
      "0.4587432742050862\n",
      "[[85937 10520]\n",
      " [93896  2561]]\n"
     ]
    }
   ],
   "source": [
    "CL_kmeans(X_train, X_test, y_train, y_test, 37)"
   ]
  },
  {
   "cell_type": "markdown",
   "metadata": {},
   "source": [
    "### Apply the CL-k-means model with biased classifiers"
   ]
  },
  {
   "cell_type": "code",
   "execution_count": 53,
   "metadata": {},
   "outputs": [
    {
     "name": "stdout",
     "output_type": "stream",
     "text": [
      "663292\n",
      "              precision    recall  f1-score   support\n",
      "\n",
      "           0       0.98      0.68      0.80     10700\n",
      "           1       0.91      0.99      0.95     34474\n",
      "\n",
      "    accuracy                           0.92     45174\n",
      "   macro avg       0.94      0.84      0.87     45174\n",
      "weighted avg       0.92      0.92      0.91     45174\n",
      "\n",
      "0.9191791738610705\n",
      "[[ 7228  3472]\n",
      " [  179 34295]]\n",
      "              precision    recall  f1-score   support\n",
      "\n",
      "           0       0.93      0.95      0.94      5819\n",
      "           1       0.98      0.97      0.97     13216\n",
      "\n",
      "    accuracy                           0.96     19035\n",
      "   macro avg       0.95      0.96      0.95     19035\n",
      "weighted avg       0.96      0.96      0.96     19035\n",
      "\n",
      "0.9609666403992645\n",
      "[[ 5516   303]\n",
      " [  440 12776]]\n",
      "              precision    recall  f1-score   support\n",
      "\n",
      "           0       0.49      0.24      0.32     96457\n",
      "           1       0.50      0.74      0.59     96457\n",
      "\n",
      "    accuracy                           0.49    192914\n",
      "   macro avg       0.49      0.49      0.46    192914\n",
      "weighted avg       0.49      0.49      0.46    192914\n",
      "\n",
      "0.4928050841307526\n",
      "[[23226 73231]\n",
      " [24614 71843]]\n"
     ]
    }
   ],
   "source": [
    "# CL-kmeans\n",
    "n=37\n",
    "b=100\n",
    "km_cluster = MiniBatchKMeans(n_clusters=n,batch_size=b)\n",
    "result = km_cluster.fit_predict(X_train)\n",
    "result2 = km_cluster.fit_predict(X_test)\n",
    "\n",
    "count=0\n",
    "a=np.zeros(n)\n",
    "b=np.zeros(n)\n",
    "for v in range(0,n):\n",
    "    for i in range(0,len(y_train)):\n",
    "        if result[i]==v:\n",
    "            if y_train[i]==1:\n",
    "                a[v]=a[v]+1\n",
    "            else:\n",
    "                b[v]=b[v]+1\n",
    "\n",
    "# 计算每个聚类的 confidence\n",
    "confidence = np.zeros(n)\n",
    "for v in range(0, n):\n",
    "    for i in range(0, len(y_train)):\n",
    "        total = a[v] + b[v]\n",
    "        if result[i] == v:\n",
    "            if total > 0:\n",
    "                confidence[v] = max(a[v], b[v]) / total\n",
    "            else:\n",
    "                confidence[v] = 0\n",
    "\n",
    "# 根据 confidence 阈值将聚类划分为\"可信\"和\"不可信\"\n",
    "threshold_confidence = 0.93  # 可以根据需要调整阈值\n",
    "list1 = []\n",
    "list2 = []\n",
    "list3 = []\n",
    "list4 = []\n",
    "\n",
    "added_indices = set()\n",
    "\n",
    "for v in range(0, n):\n",
    "    if v in added_indices:\n",
    "        continue\n",
    "    if confidence[v] > threshold_confidence:\n",
    "        if a[v] > b[v]:\n",
    "            list1.append(v)\n",
    "        else:\n",
    "            list2.append(v)\n",
    "    elif a[v] > b[v]:\n",
    "        list3.append(v)\n",
    "    else:\n",
    "        list4.append(v)\n",
    "\n",
    "    added_indices.add(v)\n",
    "\n",
    "X_new_testp = []\n",
    "y_new_testp = []\n",
    "X_new_testn = []\n",
    "y_new_testn = []\n",
    "for i in range(0, len(y_test)):\n",
    "    if result2[i] in list1:\n",
    "        result2[i] = 1\n",
    "    elif result2[i] in list2:\n",
    "        result2[i] = 0\n",
    "    elif result2[i] in list3:\n",
    "        X_new_testp.append(X_test[i])\n",
    "        y_new_testp.append(y_test[i])\n",
    "    elif result2[i] in list4:\n",
    "        X_new_testn.append(X_test[i])\n",
    "        y_new_testn.append(y_test[i])\n",
    "    else:\n",
    "        print(\"-1\")  # 未分类\n",
    "\n",
    "X_new_testp = pd.DataFrame(X_new_testp)\n",
    "y_new_testp = pd.DataFrame(y_new_testp)\n",
    "X_new_testn = pd.DataFrame(X_new_testn)\n",
    "y_new_testn = pd.DataFrame(y_new_testn)\n",
    "\n",
    "#X_testp = new_testp.drop(['type','url'],axis=1)\n",
    "#y_testp = new_testp.iloc[:, -1].values.reshape(-1,1)\n",
    "#y_testp=np.ravel(y_testp)\n",
    "#threshold = 0.5\n",
    "#y_testp = (y_testp > threshold).astype(int)\n",
    "    \n",
    "#X_testn = new_testn.drop(['type','url'],axis=1)  \n",
    "#y_testn = new_testn.iloc[:, -1].values.reshape(-1,1)\n",
    "#y_testn=np.ravel(y_testn)\n",
    "#threshold = 0.5\n",
    "#y_testn = (y_testn > threshold).astype(int)\n",
    "    \n",
    "#Biased classifier construction\n",
    "count=0\n",
    "print(len(y_train))\n",
    "a=np.zeros(n)\n",
    "b=np.zeros(n)\n",
    "FNL=[]\n",
    "FPL=[]\n",
    "for v in range(0,n):\n",
    "    al=[]\n",
    "    bl=[]\n",
    "    for i in range(0,len(y_train)):   \n",
    "        if result[i]==v:        \n",
    "            if y_train[i]==1:        #label 1\n",
    "                a[v]=a[v]+1\n",
    "                al.append(i)\n",
    "            else:             #label 0\n",
    "                b[v]=b[v]+1\n",
    "                bl.append(i)\n",
    "    if a[v]<=b[v]:\n",
    "        FNL.extend(al)\n",
    "    else:\n",
    "        FPL.extend(bl)\n",
    "    #print(str(v)+\"=\"+str(a[v]/(a[v]+b[v])))\n",
    "    \n",
    "X_dffp = X_train[FPL, :]\n",
    "y_dffp = y_train[FPL]\n",
    "X_dffn = X_train[FNL, :]\n",
    "y_dffn = y_train[FNL]\n",
    "X_dfva0=X_train[y_train==0]\n",
    "y_dfva0=y_train[y_train==0]\n",
    "X_dfva1=X_train[y_train==1]\n",
    "y_dfva1=y_train[y_train==1]\n",
    "\n",
    "X_dffpp = X_dfva1[np.random.choice(X_dfva1.shape[0], size=len(FPL), replace=False)]\n",
    "X_dffnp = X_dfva0[np.random.choice(X_dfva0.shape[0], size=len(FPL), replace=False)]\n",
    "#X_dffpp=X_dfva1.sample(n=None, frac=len(FPL)/X_dfva1.shape[0], replace=False, weights=None, random_state=None, axis=0)\n",
    "y_dffpp = y_dfva1[:len(X_dffpp)]\n",
    "#X_dffnp=X_dfva0.sample(n=None, frac=len(FNL)/X_dfva0.shape[0], replace=False, weights=None, random_state=None, axis=0)\n",
    "y_dffnp = y_dfva0[:len(X_dffnp)]\n",
    "\n",
    "Xp = np.concatenate([X_dffp, X_dffpp], axis=0)\n",
    "yp = np.concatenate([y_dffp, y_dffpp], axis=0)\n",
    "Xn = np.concatenate([X_dffn, X_dffnp], axis=0)\n",
    "yn = np.concatenate([y_dffn, y_dffnp], axis=0)\n",
    "\n",
    "# first biased classifier\n",
    "rfp = RandomForestClassifier(random_state = 0)\n",
    "rfp.fit(Xp,yp)\n",
    "\n",
    "result3 = rfp.predict(X_new_testp)\n",
    "#result3 = result3.astype(y_new_testp.dtype)\n",
    "print(classification_report(y_new_testp, result3))\n",
    "acc=metrics.accuracy_score(y_new_testp,result3)\n",
    "print(acc)\n",
    "cm=confusion_matrix(y_new_testp,result3)\n",
    "print(cm)\n",
    "\n",
    "# second biased classifier\n",
    "rfn = RandomForestClassifier(random_state = 0)\n",
    "rfn.fit(Xn,yn)\n",
    "\n",
    "result4 = rfn.predict(X_new_testn)\n",
    "#result4 = result4.astype(y_new_testn.dtype)\n",
    "print(classification_report(y_new_testn, result4))\n",
    "acc=metrics.accuracy_score(y_new_testn,result4)\n",
    "print(acc)\n",
    "cm=confusion_matrix(y_new_testn,result4)\n",
    "print(cm)\n",
    "\n",
    "#print(Xp.shape)\n",
    "#print(Xn.shape)\n",
    "\n",
    "#dffnn_f=pd.concat([dffn, dffnp])\n",
    "    \n",
    "#Xnn = dffn_f.drop(['type','url'],axis=1)  \n",
    "#ynn = dffn_f.iloc[:, -1].values.reshape(-1,1)\n",
    "#ynn=np.ravel(ynn)\n",
    "#ynn = (ynn > threshold).astype(int)\n",
    "\n",
    "#rfnn = RandomForestClassifier(random_state = 0)\n",
    "#rfnn.fit(Xnn,ynn)\n",
    "\n",
    "result5 = km_cluster.predict(X_test)\n",
    "\n",
    "count=0\n",
    "a=np.zeros(n)\n",
    "b=np.zeros(n)\n",
    "for v in range(0,n):\n",
    "    for i in range(0,len(y_train)):\n",
    "        if result[i]==v:\n",
    "            if y_train[i]==1:\n",
    "                a[v]=a[v]+1\n",
    "            else:\n",
    "                b[v]=b[v]+1\n",
    "list5=[]\n",
    "list6=[]\n",
    "for v in range(0,n):\n",
    "    if a[v]<=b[v]:\n",
    "        list5.append(v)\n",
    "    else: \n",
    "        list6.append(v)\n",
    "for v in range(0,len(y_test)):\n",
    "    if result5[v] in list5:\n",
    "        result5[v]=0\n",
    "    elif result5[v] in list6:\n",
    "        result5[v]=1\n",
    "    else:\n",
    "        print(\"-1\")\n",
    "print(classification_report(y_test, result5))\n",
    "cm=confusion_matrix(y_test,result5)\n",
    "acc=metrics.accuracy_score(y_test,result5)\n",
    "print(str(acc))\n",
    "print(cm)"
   ]
  },
  {
   "cell_type": "code",
   "execution_count": 54,
   "metadata": {},
   "outputs": [],
   "source": [
    "#Xp = np.concatenate([X_dffp, X_dffpp], axis=0)\n",
    "yp1 = np.concatenate([y_dffp, y_dffpp], axis=0)\n",
    "#Xn = np.concatenate([X_dffn, X_dffnp], axis=0)\n",
    "#yp = np.concatenate([y_dffn, y_dffnp], axis=0)"
   ]
  },
  {
   "cell_type": "code",
   "execution_count": 55,
   "metadata": {},
   "outputs": [
    {
     "data": {
      "text/plain": [
       "(68266,)"
      ]
     },
     "execution_count": 55,
     "metadata": {},
     "output_type": "execute_result"
    }
   ],
   "source": [
    "yp.shape"
   ]
  },
  {
   "cell_type": "code",
   "execution_count": 56,
   "metadata": {},
   "outputs": [
    {
     "data": {
      "text/plain": [
       "(34133,)"
      ]
     },
     "execution_count": 56,
     "metadata": {},
     "output_type": "execute_result"
    }
   ],
   "source": [
    "y_dffpp.shape"
   ]
  },
  {
   "cell_type": "code",
   "execution_count": 57,
   "metadata": {},
   "outputs": [
    {
     "data": {
      "text/plain": [
       "(34133, 12)"
      ]
     },
     "execution_count": 57,
     "metadata": {},
     "output_type": "execute_result"
    }
   ],
   "source": [
    "X_dffp.shape"
   ]
  },
  {
   "cell_type": "code",
   "execution_count": 58,
   "metadata": {},
   "outputs": [
    {
     "data": {
      "text/plain": [
       "(34133, 12)"
      ]
     },
     "execution_count": 58,
     "metadata": {},
     "output_type": "execute_result"
    }
   ],
   "source": [
    "X_dffpp.shape"
   ]
  },
  {
   "cell_type": "code",
   "execution_count": 59,
   "metadata": {},
   "outputs": [
    {
     "data": {
      "text/plain": [
       "(34133,)"
      ]
     },
     "execution_count": 59,
     "metadata": {},
     "output_type": "execute_result"
    }
   ],
   "source": [
    "y_dffp.shape"
   ]
  },
  {
   "cell_type": "code",
   "execution_count": 60,
   "metadata": {},
   "outputs": [
    {
     "data": {
      "text/plain": [
       "(68266, 12)"
      ]
     },
     "execution_count": 60,
     "metadata": {},
     "output_type": "execute_result"
    }
   ],
   "source": [
    "Xp.shape"
   ]
  },
  {
   "cell_type": "code",
   "execution_count": 61,
   "metadata": {},
   "outputs": [
    {
     "data": {
      "text/plain": [
       "(68266,)"
      ]
     },
     "execution_count": 61,
     "metadata": {},
     "output_type": "execute_result"
    }
   ],
   "source": [
    "yp.shape"
   ]
  },
  {
   "cell_type": "code",
   "execution_count": 62,
   "metadata": {},
   "outputs": [
    {
     "data": {
      "text/plain": [
       "(68266, 12)"
      ]
     },
     "execution_count": 62,
     "metadata": {},
     "output_type": "execute_result"
    }
   ],
   "source": [
    "Xp.shape"
   ]
  },
  {
   "cell_type": "code",
   "execution_count": 63,
   "metadata": {},
   "outputs": [
    {
     "data": {
      "text/plain": [
       "[1, 4, 5, 11, 15, 17, 21, 25, 34, 36]"
      ]
     },
     "execution_count": 63,
     "metadata": {},
     "output_type": "execute_result"
    }
   ],
   "source": [
    "list1"
   ]
  },
  {
   "cell_type": "code",
   "execution_count": 64,
   "metadata": {},
   "outputs": [
    {
     "data": {
      "text/plain": [
       "[0, 3, 12, 13, 16, 22, 32]"
      ]
     },
     "execution_count": 64,
     "metadata": {},
     "output_type": "execute_result"
    }
   ],
   "source": [
    "list2"
   ]
  },
  {
   "cell_type": "code",
   "execution_count": 65,
   "metadata": {},
   "outputs": [
    {
     "data": {
      "text/plain": [
       "[2, 7, 8, 9, 18, 19, 20, 23, 27, 28, 29, 31, 33]"
      ]
     },
     "execution_count": 65,
     "metadata": {},
     "output_type": "execute_result"
    }
   ],
   "source": [
    "list3"
   ]
  },
  {
   "cell_type": "code",
   "execution_count": 66,
   "metadata": {},
   "outputs": [
    {
     "data": {
      "text/plain": [
       "[6, 10, 14, 24, 26, 30, 35]"
      ]
     },
     "execution_count": 66,
     "metadata": {},
     "output_type": "execute_result"
    }
   ],
   "source": [
    "list4"
   ]
  },
  {
   "cell_type": "code",
   "execution_count": 67,
   "metadata": {},
   "outputs": [
    {
     "name": "stdout",
     "output_type": "stream",
     "text": [
      "105918\n"
     ]
    }
   ],
   "source": [
    "print(len(FNL))"
   ]
  },
  {
   "cell_type": "code",
   "execution_count": 68,
   "metadata": {},
   "outputs": [
    {
     "name": "stdout",
     "output_type": "stream",
     "text": [
      "<class 'numpy.ndarray'>\n",
      "192914\n"
     ]
    }
   ],
   "source": [
    "print(type(result2))\n",
    "print(len(result2))"
   ]
  },
  {
   "cell_type": "code",
   "execution_count": 69,
   "metadata": {},
   "outputs": [
    {
     "name": "stdout",
     "output_type": "stream",
     "text": [
      "[ 1 28 23  1 27  0  1 18 28 18 35  9 23  9  2  9 18  0  7  1  0  0  1 23\n",
      "  9  0  0  0 23  1 20  1 10 23  0  1  1  1 29 35  1 27  1  1  1 10 23  0\n",
      " 29 28  1  0  6  1 29 27  1  9 27 10 23  1  1 35 35  1  1  1 23 33  1  9\n",
      "  2 35 19  1 23  1 35  1  1  0 18  9 14  1  9 29  1 19 10  1  1 35  0  1\n",
      "  1  0 27  0 29  1  0  0  1  1 35 33 35  8  0  8 35  9  0  2 29  1  1 35\n",
      " 35  1 35  1 23  1  1  0  1  1  1 18  1 19 28 23 10  1  1  1  1 29 23  6\n",
      "  1  1  0 27 19 35  1  1  1 28 10  1 35  0  0  1 23  9  1  1  0  0  0 10\n",
      " 18 33  9  0 35  1  1  1  1  1 35 10  1 27  8  1  1  1 18 23  1 18  1  0\n",
      " 35  0  1  1  0  1  1  1  1 18  1 19  1  9  1  1 23  1  9  1  1 26  0  1\n",
      "  0  1  1 35 10  1 23  0  1 28  1  1  1  1  0  9  1  1  1  1 27  0 35  1\n",
      "  1 18 10  1 35  1 33  1  1 19  1  1  1 20  1 29  1  1  1  1  9 29  1 29\n",
      "  1 33  6  1  1  1  1  1 19  1 10  1  1 18  1 35  1  9  1 29  1  0  1  1\n",
      "  0  1 35 35  1 18  1 10  1 10  9  1  1  1  1  1 23 33 18 18 35  1  0 19\n",
      "  1  1 18  1 23  9 27 23  1 28  1  1 28  1 26 35 10 29  1  1  0  1  1 35\n",
      "  1  1  1 10 19  1 35 19 18 33 27 28  1  1 20  1  0 18  1  1 27  1 29  0\n",
      "  1 20  1 19 27 23  0  0  1 35  0  0  0 20 35 28 28 18 19  1  1 27 29 18\n",
      " 29  9  1 10 23 33  0 35  0 10  0  1  0  9  1  0 23  0  1 23 14  1  0 20\n",
      "  0  1 14  1 18  1 33  1 10  9 10 35  1  1 28  1 18  1  1  0 23 33  1  0\n",
      " 35  0  1  1  1 19 18  1  1  1  1  0 19  1  1  9  1 23  2 29  1 23  0  0\n",
      " 20  0  0  0  2  9 35  1 18  0  0 28  1 10  1 33 28  0 35  1 18  2 35 35\n",
      "  0 20  9 23  0 35  1  1 19 33  1  1 33 35  1 23  1 35 18  9  0  1  1  1\n",
      " 10 10  0  1  1  2  1  1  0  1 27  6  1  1  2  1  1 10 23  1  0 23  1  1\n",
      " 35 27  1 35  1 23  1 27  1  1 18 23  0  1 27 35 29  1  8  1 10  0 29  1\n",
      " 29  9  1  6  1 27  1  0 10  1  1  1 23  1  1  1 18  0  1  0  0 35  0 35\n",
      " 29  1  0  0 35  2 35 23  1  9  9  0  1 23 26  0 29  0 23  0  0  1 26  1\n",
      "  1 28  0 20  1  0 23 10 28 23 35  1 20  0  1  9 35  1  8  8 27 28  1  0\n",
      " 10  1 10 19  1 33  1  1  0 10  0  1 19 23  1  1  0  0 27  1  0  1  0 33\n",
      "  1  8 28 19  1  1  0 29 35 19 14  2 23  1  9  1  1  9  1 28  9 35  1  0\n",
      " 28 18 29 18  1  1  1  0 33  1 23  1 19  1 23 27  1 35 19  0  1 20  1  1\n",
      "  8 28  9  1 35  1  1 23  0 27 10  0 18  1  1  1 23 33 10  1  1  1 19  1\n",
      "  1 29  1  1  1  1  1 29  1 23  1 27 29 35 18 20  0  9  1 18  9  1  0 33\n",
      "  6  9 10  1  0  1 10  1  1 27  1  1 23 29 29  1 35 29 10  1  0 23  1 19\n",
      "  1 23 14  1  1  1  1 23  1  0  1 10  8 28 23 29 35 27  0  0  1  0 35  1\n",
      " 27  1  9  0  1  1 28 29 29 10 35  1  0 29  2 27 23 28 27  1  1 27  1  1\n",
      "  1 29  1 23 19  1 23 28  2  1  0  1 10 23 27  1  1 18  8  1  0 10  1 18\n",
      "  9  1  1 23 10  1  1 18  1  1  0 35 19  0 29  1  1  6 10  1  1  9 20  1\n",
      " 35 10 19 18 35  2 28  1  1  1  1  1  1  9 33  1 29  1  1 35  9 27 33  1\n",
      " 23  9 23 19  1 33  1  1 35  1 19  0  1  2  1 10 23  9 18  1  1 14  0 23\n",
      "  1  1 26 18  0  1  1  1 19  9  1  1  9  1 33  1  9 29 19 23  1  0  0 29\n",
      "  1  0  9  1 33  8 14  1 29  1  1  1  1  0  1  1  1  1  0  1  1 20 18 29\n",
      " 29 35 23  1  9 18 18 19  1  0 33 28 19  1 23  9 29  1 18  0  1 26  1  1\n",
      "  0 27  2 18  9  1  0  0 29  1 10 28  1 18 33 35]\n"
     ]
    }
   ],
   "source": [
    "print(result2[:1000])"
   ]
  },
  {
   "cell_type": "code",
   "execution_count": 70,
   "metadata": {},
   "outputs": [
    {
     "name": "stdout",
     "output_type": "stream",
     "text": [
      "[30 30  8 30 14 30 30 30 30 30 10 30 30 30 32 30 27 23 30 30 32 14 15 33\n",
      " 30 30 30 30 30 30  2 30 30 30 30 30 30 14 14 30 30 30 30 30 32 30 30 30\n",
      " 30 28 32 30  0 30 21 30 30  6 10 30 30 30 30 30 30 30 21 30 30 30 14  2\n",
      " 19 14 30 30 10 30 30 30 10  6 27 30 30 21 30 30 10 30 30 14  8 30 19 30\n",
      "  0 10 32 30 30 30 30 30 30 30 30 30 32  8 30 14 30 27 30 30 32 30 30 30\n",
      " 30 30 30 30 30 32 18 30 30 30 19 30 30 30 30 30  8 30 32 22 30 14 32 30\n",
      " 32 30  0 14 20 14 30 19 30 30 30 30 30 21 30  7 30 32 14 30 32 32 30 30\n",
      " 30 30 32 30 30 30 32 26 30 32 10 30 32 32 30 30 32 30 32 30 30 14 30 32\n",
      " 30 30 30 30 30 18 18 10 30 30 30 30 23 30 32 30 19 27 30 30 30 30 30 30\n",
      " 30 32 14 30 27 19 30 30 30 30 30 30 30 19 30 32 30 30 30 30 30 14 30 30\n",
      " 30  8 22 30 30  8 30 30  7 30 32  0 30 30 26 26 30 30 30 30 30 30 30 30\n",
      " 30 30 30 30 30 30 23  7 18 14 30 30 30 30 14 19 30 30 22 32 32  8 30 30\n",
      " 32  0 30 30 30 32 30  7 30 30 30 32 14 30 30 18 14 30 30 22 30 30 33 30\n",
      " 19 30 30 30 30 32 30 27 30 30 30 30 30 14  8 30 30 32 30 32 30 30 30 30\n",
      " 21 30  6 20  8 27 19 28 32 30 30 30 30 30 30 30 30 30 30 30 30 30 30 30\n",
      " 32 10 32 30 30 30 30 32 30 30 30 30 32 30 30 21 30 30 18 30 30 30 21 30\n",
      " 32 30 30  8 30 30  8 30 14 32 30 30 30 32 30 30 30 30 30 30 30 32 30 30\n",
      " 30 30 30 32 30 30 18 30 30 30 30 30 30 30 30 31 30 19 30 30 30 30 18 32\n",
      " 30 30 30 30 30 30 30 30 30 30 22 30 30 30 30 15 30 30 30 14 30 30 30 30\n",
      " 30 14 30 30 30 30 30 30 30 30  8 32 30 30 30 30 30 32 30 30 30 30 10 30\n",
      " 30 32 30 11 32 30 30 30 32 21  0 30 30 19 30 30 30  3 14  7 32 30 34 30\n",
      " 32 30 30 30 30 30 26 26  8 30 15 30  6 14  8 30 18 30 15 32 30 30 20 30\n",
      " 30 30 30 30  7 14  0 30 30 30 30 10 30  8 30 22 30 30 32 14 30 30 30 18\n",
      " 30 30 10 30 30 30 32 10 19 30 30  8 17 14 30  8 30 30 18 19 30 32  8 30\n",
      " 30 30 30 30 30 32 30 30 30 30 30  0 30 30 30 30 22 30 30 30 30 32 30 30\n",
      " 30 30 30 30 21 30 30 30 20 30 30 30 19 32 30 23 10 30 30 30 30 32 30 30\n",
      " 30 10 30 18  8 19  2  0 30 30 30 30 30 30 30 32  8 30 32 30 32  7 30 30\n",
      " 30  8 30 30  8 30 30 30 30 30 30 32 30 30 30 32 30 30 30 30 10 30 30 30\n",
      " 30 30 30 30 30 30 30 30 30 30 30 30 30 30 26 26 30 18 14 30 30 30 30 30\n",
      " 32 30 22 30 30 30 30 30 30 33 30 30 30 10 30 30 32 30 30 14 30 30 32 30\n",
      " 30 30 30 18 30 32 30 32  8 30 30 30 30 30 30 30  7 30 18 32 30 30 30  7\n",
      " 10 30 14  8 30 30 30 14 32 32 22 30 30 30 30 30 30  7 19 30 32 30 26 26\n",
      " 30 30 30  7 30  8 30 30 30 30 32 19 30 20 30 30 32 30 30 30 30 30 30 14\n",
      " 23 30  8 30 30 30 32 30 32 32 30 32 14 30 30 30 10 30 30 30 32 14 14 30\n",
      " 15 30 30 30 30 32 18 27 30 30 30 30  8 30  0 30 30 30 32 30  6 30 27 30\n",
      "  8 30 30  8 30  6 30 30 27 30 30 30  8 30 14 14 30 30 32 30 30 30 18 30\n",
      " 30 30 30 30 30 30 30 30 30 30 30 30 32 30 14 30 30 32 14 30 30 18 32 30\n",
      " 14 30 30 30 30 30 30 30 30 30 14 32 30 10 18 30  8 30 30 30 14 30 30 30\n",
      " 32 30 30 32 30 30 21 32 30 30 19 10 32 30  8 30 32 30 30 30  8 32 30 30\n",
      "  7 30 18 30  8  8 26 26 14 30 30 30 30 30 30 30 30 30  7 11 17 30 30  2\n",
      " 32 32 14 14 30 30 30 30 20 30 30 30 30 14 30  8 30 32 30 30 32 30 30 30\n",
      " 30  8 30 30 30 30 32 10 30 30 30 30 30 30 30 30]\n"
     ]
    }
   ],
   "source": [
    "print(result[:1000])"
   ]
  },
  {
   "cell_type": "code",
   "execution_count": 71,
   "metadata": {},
   "outputs": [
    {
     "data": {
      "text/plain": [
       "1    96457\n",
       "0    96457\n",
       "Name: count, dtype: int64"
      ]
     },
     "execution_count": 71,
     "metadata": {},
     "output_type": "execute_result"
    }
   ],
   "source": [
    "import pandas as pd\n",
    "\n",
    "y_test_series = pd.Series(y_test)\n",
    "y_test_series.value_counts()"
   ]
  },
  {
   "cell_type": "code",
   "execution_count": 72,
   "metadata": {},
   "outputs": [
    {
     "ename": "NameError",
     "evalue": "name 'X_testp' is not defined",
     "output_type": "error",
     "traceback": [
      "\u001b[1;31m---------------------------------------------------------------------------\u001b[0m",
      "\u001b[1;31mNameError\u001b[0m                                 Traceback (most recent call last)",
      "Cell \u001b[1;32mIn[72], line 1\u001b[0m\n\u001b[1;32m----> 1\u001b[0m X_testp\n",
      "\u001b[1;31mNameError\u001b[0m: name 'X_testp' is not defined"
     ]
    }
   ],
   "source": [
    "X_testp"
   ]
  },
  {
   "cell_type": "code",
   "execution_count": null,
   "metadata": {},
   "outputs": [],
   "source": [
    "Xp"
   ]
  },
  {
   "cell_type": "code",
   "execution_count": null,
   "metadata": {},
   "outputs": [],
   "source": [
    "import pandas as pd\n",
    "\n",
    "# 假设 X_testp 是一个 Pandas DataFrame\n",
    "unique_rows = X_testp.drop_duplicates()\n",
    "duplicate_rows = X_testp[X_testp.duplicated()]\n",
    "\n",
    "print(f\"Number of unique rows: {len(unique_rows)}\")\n",
    "print(f\"Number of duplicate rows: {len(duplicate_rows)}\")"
   ]
  },
  {
   "cell_type": "code",
   "execution_count": null,
   "metadata": {},
   "outputs": [],
   "source": [
    "df2"
   ]
  },
  {
   "cell_type": "code",
   "execution_count": null,
   "metadata": {},
   "outputs": [],
   "source": [
    "Xp"
   ]
  },
  {
   "cell_type": "code",
   "execution_count": null,
   "metadata": {},
   "outputs": [],
   "source": [
    "X_testn"
   ]
  },
  {
   "cell_type": "code",
   "execution_count": null,
   "metadata": {},
   "outputs": [],
   "source": [
    "Xn"
   ]
  },
  {
   "cell_type": "code",
   "execution_count": null,
   "metadata": {},
   "outputs": [],
   "source": [
    "X_testn"
   ]
  },
  {
   "cell_type": "code",
   "execution_count": null,
   "metadata": {},
   "outputs": [],
   "source": [
    "# 假设你已经有了 X_testp 这个 pandas DataFrame\n",
    "print(X_testp.columns)"
   ]
  },
  {
   "cell_type": "code",
   "execution_count": null,
   "metadata": {},
   "outputs": [],
   "source": [
    "# 假设 X_testn 和 Xn 是 pandas DataFrame, y_testn 是 numpy array\n",
    "# 我们先定义要比较的列名\n",
    "compare_cols = ['use_of_ip', 'abnormal_url', 'count.', 'count-www', 'count@',\n",
    "               'count_dir', 'count_embed_domian', 'short_url', 'count-https',\n",
    "               'count-http', 'count%']\n",
    "\n",
    "# 找出 X_testn 和 Xn 中相同的行\n",
    "common_rows_p = X_testp[X_testp.apply(lambda row: any(Xp[compare_cols].eq(row[compare_cols]).all(axis=1)), axis=1)].index.tolist()\n",
    "\n",
    "# 确保 common_rows 中的索引值都存在于 y_testn 中\n",
    "common_rows_p = [index for index in common_rows_p if index < len(y_testn)]\n",
    "\n",
    "# 从 X_testn 中删除这些相同的行\n",
    "X_testp_cleaned = X_testp.drop(common_rows_p)\n",
    "\n",
    "# 从 y_testn 中删除这些相同的行\n",
    "y_testp_cleaned = np.delete(y_testp, common_rows_p)"
   ]
  }
 ],
 "metadata": {
  "anaconda-cloud": {},
  "kernelspec": {
   "display_name": "Python 3 (ipykernel)",
   "language": "python",
   "name": "python3"
  },
  "language_info": {
   "codemirror_mode": {
    "name": "ipython",
    "version": 3
   },
   "file_extension": ".py",
   "mimetype": "text/x-python",
   "name": "python",
   "nbconvert_exporter": "python",
   "pygments_lexer": "ipython3",
   "version": "3.11.7"
  }
 },
 "nbformat": 4,
 "nbformat_minor": 4
}
