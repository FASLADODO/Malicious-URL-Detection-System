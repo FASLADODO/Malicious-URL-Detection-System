{
 "cells": [
  {
   "cell_type": "code",
   "execution_count": 1,
   "metadata": {
    "colab": {
     "base_uri": "https://localhost:8080/"
    },
    "id": "ZJSqesgoJdN4",
    "outputId": "23650762-823f-45ee-efc6-587b4629c9b3"
   },
   "outputs": [
    {
     "data": {
      "text/plain": [
       "'\\nCHUNK_SIZE = 40960\\nDATA_SOURCE_MAPPING = \\'malicious-urls-dataset:https%3A%2F%2Fstorage.googleapis.com%2Fkaggle-data-sets%2F1486586%2F2456026%2Fbundle%2Farchive.zip%3FX-Goog-Algorithm%3DGOOG4-RSA-SHA256%26X-Goog-Credential%3Dgcp-kaggle-com%2540kaggle-161607.iam.gserviceaccount.com%252F20240608%252Fauto%252Fstorage%252Fgoog4_request%26X-Goog-Date%3D20240608T044022Z%26X-Goog-Expires%3D259200%26X-Goog-SignedHeaders%3Dhost%26X-Goog-Signature%3D5d7598b150658e7dd4ce308c927413193dca88a01009ae19491817639ec3a9cfd06ba1ffc4f6bad2e60cb67eb5c47c65dec2291ac0bfc3be17927f8b36f9caf49ab5f1b60f7405cc07e3ca8ed0011ad68d27b086e95238be835114d4b90c4937a252b6428d300821984645de9a3d99c2f45a533661f27e8b3415994fae695a70728a2c2981a15524d536b592db133972cf66247ee29b4bf32b744a338e13ec16482e6d4248cda708e728411dc9a4ccdbea46a73336f172c189371e7edf10fe71956cacefd0280977fd5f915715b615a7b4a32664b44bf55ad471831e41de6d238d92dba97d6427b5b0bcfc1638e54186bc4205ab292756a790829579328311a4\\'\\n\\nKAGGLE_INPUT_PATH=\\'/kaggle/input\\'\\nKAGGLE_WORKING_PATH=\\'/kaggle/working\\'\\nKAGGLE_SYMLINK=\\'kaggle\\'\\n\\n!umount /kaggle/input/ 2> /dev/null\\nshutil.rmtree(\\'/kaggle/input\\', ignore_errors=True)\\nos.makedirs(KAGGLE_INPUT_PATH, 0o777, exist_ok=True)\\nos.makedirs(KAGGLE_WORKING_PATH, 0o777, exist_ok=True)\\n\\ntry:\\n  os.symlink(KAGGLE_INPUT_PATH, os.path.join(\"..\", \\'input\\'), target_is_directory=True)\\nexcept FileExistsError:\\n  pass\\ntry:\\n  os.symlink(KAGGLE_WORKING_PATH, os.path.join(\"..\", \\'working\\'), target_is_directory=True)\\nexcept FileExistsError:\\n  pass\\n\\nfor data_source_mapping in DATA_SOURCE_MAPPING.split(\\',\\'):\\n    directory, download_url_encoded = data_source_mapping.split(\\':\\')\\n    download_url = unquote(download_url_encoded)\\n    filename = urlparse(download_url).path\\n    destination_path = os.path.join(KAGGLE_INPUT_PATH, directory)\\n    try:\\n        with urlopen(download_url) as fileres, NamedTemporaryFile() as tfile:\\n            total_length = fileres.headers[\\'content-length\\']\\n            print(f\\'Downloading {directory}, {total_length} bytes compressed\\')\\n            dl = 0\\n            data = fileres.read(CHUNK_SIZE)\\n            while len(data) > 0:\\n                dl += len(data)\\n                tfile.write(data)\\n                done = int(50 * dl / int(total_length))\\n                sys.stdout.write(f\"\\r[{\\'=\\' * done}{\\' \\' * (50-done)}] {dl} bytes downloaded\")\\n                sys.stdout.flush()\\n                data = fileres.read(CHUNK_SIZE)\\n            if filename.endswith(\\'.zip\\'):\\n              with ZipFile(tfile) as zfile:\\n                zfile.extractall(destination_path)\\n            else:\\n              with tarfile.open(tfile.name) as tarfile:\\n                tarfile.extractall(destination_path)\\n            print(f\\'\\nDownloaded and uncompressed: {directory}\\')\\n    except HTTPError as e:\\n        print(f\\'Failed to load (likely expired) {download_url} to path {destination_path}\\')\\n        continue\\n    except OSError as e:\\n        print(f\\'Failed to load {download_url} to path {destination_path}\\')\\n        continue\\n\\nprint(\\'Data source import complete.\\')\\n'"
      ]
     },
     "execution_count": 1,
     "metadata": {},
     "output_type": "execute_result"
    }
   ],
   "source": [
    "\n",
    "# IMPORTANT: RUN THIS CELL IN ORDER TO IMPORT YOUR KAGGLE DATA SOURCES\n",
    "# TO THE CORRECT LOCATION (/kaggle/input) IN YOUR NOTEBOOK,\n",
    "# THEN FEEL FREE TO DELETE THIS CELL.\n",
    "# NOTE: THIS NOTEBOOK ENVIRONMENT DIFFERS FROM KAGGLE'S PYTHON\n",
    "# ENVIRONMENT SO THERE MAY BE MISSING LIBRARIES USED BY YOUR\n",
    "# NOTEBOOK.\n",
    "\n",
    "import os\n",
    "import sys\n",
    "from tempfile import NamedTemporaryFile\n",
    "from urllib.request import urlopen\n",
    "from urllib.parse import unquote, urlparse\n",
    "from urllib.error import HTTPError\n",
    "from zipfile import ZipFile\n",
    "import tarfile\n",
    "import shutil\n",
    "# Going to use these 5 base models for the stacking\n",
    "from sklearn.ensemble import (RandomForestClassifier, AdaBoostClassifier, \n",
    "                              GradientBoostingClassifier, ExtraTreesClassifier)\n",
    "from sklearn.svm import SVC\n",
    "'''\n",
    "CHUNK_SIZE = 40960\n",
    "DATA_SOURCE_MAPPING = 'malicious-urls-dataset:https%3A%2F%2Fstorage.googleapis.com%2Fkaggle-data-sets%2F1486586%2F2456026%2Fbundle%2Farchive.zip%3FX-Goog-Algorithm%3DGOOG4-RSA-SHA256%26X-Goog-Credential%3Dgcp-kaggle-com%2540kaggle-161607.iam.gserviceaccount.com%252F20240608%252Fauto%252Fstorage%252Fgoog4_request%26X-Goog-Date%3D20240608T044022Z%26X-Goog-Expires%3D259200%26X-Goog-SignedHeaders%3Dhost%26X-Goog-Signature%3D5d7598b150658e7dd4ce308c927413193dca88a01009ae19491817639ec3a9cfd06ba1ffc4f6bad2e60cb67eb5c47c65dec2291ac0bfc3be17927f8b36f9caf49ab5f1b60f7405cc07e3ca8ed0011ad68d27b086e95238be835114d4b90c4937a252b6428d300821984645de9a3d99c2f45a533661f27e8b3415994fae695a70728a2c2981a15524d536b592db133972cf66247ee29b4bf32b744a338e13ec16482e6d4248cda708e728411dc9a4ccdbea46a73336f172c189371e7edf10fe71956cacefd0280977fd5f915715b615a7b4a32664b44bf55ad471831e41de6d238d92dba97d6427b5b0bcfc1638e54186bc4205ab292756a790829579328311a4'\n",
    "\n",
    "KAGGLE_INPUT_PATH='/kaggle/input'\n",
    "KAGGLE_WORKING_PATH='/kaggle/working'\n",
    "KAGGLE_SYMLINK='kaggle'\n",
    "\n",
    "!umount /kaggle/input/ 2> /dev/null\n",
    "shutil.rmtree('/kaggle/input', ignore_errors=True)\n",
    "os.makedirs(KAGGLE_INPUT_PATH, 0o777, exist_ok=True)\n",
    "os.makedirs(KAGGLE_WORKING_PATH, 0o777, exist_ok=True)\n",
    "\n",
    "try:\n",
    "  os.symlink(KAGGLE_INPUT_PATH, os.path.join(\"..\", 'input'), target_is_directory=True)\n",
    "except FileExistsError:\n",
    "  pass\n",
    "try:\n",
    "  os.symlink(KAGGLE_WORKING_PATH, os.path.join(\"..\", 'working'), target_is_directory=True)\n",
    "except FileExistsError:\n",
    "  pass\n",
    "\n",
    "for data_source_mapping in DATA_SOURCE_MAPPING.split(','):\n",
    "    directory, download_url_encoded = data_source_mapping.split(':')\n",
    "    download_url = unquote(download_url_encoded)\n",
    "    filename = urlparse(download_url).path\n",
    "    destination_path = os.path.join(KAGGLE_INPUT_PATH, directory)\n",
    "    try:\n",
    "        with urlopen(download_url) as fileres, NamedTemporaryFile() as tfile:\n",
    "            total_length = fileres.headers['content-length']\n",
    "            print(f'Downloading {directory}, {total_length} bytes compressed')\n",
    "            dl = 0\n",
    "            data = fileres.read(CHUNK_SIZE)\n",
    "            while len(data) > 0:\n",
    "                dl += len(data)\n",
    "                tfile.write(data)\n",
    "                done = int(50 * dl / int(total_length))\n",
    "                sys.stdout.write(f\"\\r[{'=' * done}{' ' * (50-done)}] {dl} bytes downloaded\")\n",
    "                sys.stdout.flush()\n",
    "                data = fileres.read(CHUNK_SIZE)\n",
    "            if filename.endswith('.zip'):\n",
    "              with ZipFile(tfile) as zfile:\n",
    "                zfile.extractall(destination_path)\n",
    "            else:\n",
    "              with tarfile.open(tfile.name) as tarfile:\n",
    "                tarfile.extractall(destination_path)\n",
    "            print(f'\\nDownloaded and uncompressed: {directory}')\n",
    "    except HTTPError as e:\n",
    "        print(f'Failed to load (likely expired) {download_url} to path {destination_path}')\n",
    "        continue\n",
    "    except OSError as e:\n",
    "        print(f'Failed to load {download_url} to path {destination_path}')\n",
    "        continue\n",
    "\n",
    "print('Data source import complete.')\n",
    "'''"
   ]
  },
  {
   "cell_type": "code",
   "execution_count": 2,
   "metadata": {
    "_cell_guid": "b1076dfc-b9ad-4769-8c92-a6c4dae69d19",
    "_uuid": "8f2839f25d086af736a60e9eeb907d3b93b6e0e5",
    "colab": {
     "base_uri": "https://localhost:8080/"
    },
    "id": "ofpZHVnPJdN6",
    "outputId": "fa7ac73a-797b-4c4c-cbb5-b28cc664aed3"
   },
   "outputs": [
    {
     "name": "stdout",
     "output_type": "stream",
     "text": [
      "Requirement already satisfied: python-whois in c:\\anaconda\\lib\\site-packages (0.9.4)\n",
      "Requirement already satisfied: python-dateutil in c:\\anaconda\\lib\\site-packages (from python-whois) (2.8.2)\n",
      "Requirement already satisfied: six>=1.5 in c:\\anaconda\\lib\\site-packages (from python-dateutil->python-whois) (1.16.0)\n"
     ]
    }
   ],
   "source": [
    "!pip install python-whois"
   ]
  },
  {
   "cell_type": "code",
   "execution_count": 3,
   "metadata": {},
   "outputs": [
    {
     "name": "stdout",
     "output_type": "stream",
     "text": [
      "Requirement already satisfied: lightgbm in c:\\anaconda\\lib\\site-packages (4.3.0)\n",
      "Requirement already satisfied: numpy in c:\\anaconda\\lib\\site-packages (from lightgbm) (1.26.4)\n",
      "Requirement already satisfied: scipy in c:\\anaconda\\lib\\site-packages (from lightgbm) (1.11.4)\n",
      "Note: you may need to restart the kernel to use updated packages.\n"
     ]
    }
   ],
   "source": [
    "pip install lightgbm"
   ]
  },
  {
   "cell_type": "code",
   "execution_count": 4,
   "metadata": {
    "colab": {
     "base_uri": "https://localhost:8080/"
    },
    "id": "n4FLK_IfJdN7",
    "outputId": "000a61fe-52d8-4b68-f355-065081f75c1d"
   },
   "outputs": [
    {
     "data": {
      "text/plain": [
       "\"\\nfor dirname, _, filenames in os.walk('/kaggle/input'):\\n    for filename in filenames:\\n        print(os.path.join(dirname, filename))\\n\""
      ]
     },
     "execution_count": 4,
     "metadata": {},
     "output_type": "execute_result"
    }
   ],
   "source": [
    "import pandas as pd\n",
    "import itertools\n",
    "from sklearn.metrics import mean_squared_error,confusion_matrix, precision_score, recall_score, auc,roc_curve\n",
    "from sklearn.model_selection import train_test_split\n",
    "import pandas as pd\n",
    "import numpy as np\n",
    "import random\n",
    "import math\n",
    "from collections import Counter\n",
    "from sklearn import metrics\n",
    "import matplotlib.pyplot as plt\n",
    "from sklearn.metrics import classification_report,confusion_matrix,accuracy_score\n",
    "import xgboost as xgb\n",
    "from lightgbm import LGBMClassifier\n",
    "from xgboost import XGBClassifier\n",
    "from sklearn.ensemble import RandomForestClassifier\n",
    "from sklearn.ensemble import ExtraTreesClassifier\n",
    "from sklearn.linear_model import SGDClassifier\n",
    "from sklearn.ensemble import AdaBoostClassifier\n",
    "import os\n",
    "import socket\n",
    "import whois\n",
    "from datetime import datetime\n",
    "import time\n",
    "from bs4 import BeautifulSoup\n",
    "import urllib\n",
    "import bs4\n",
    "import os\n",
    "import seaborn as sns\n",
    "import sys\n",
    "import tarfile\n",
    "import shutil\n",
    "\n",
    "'''\n",
    "for dirname, _, filenames in os.walk('/kaggle/input'):\n",
    "    for filename in filenames:\n",
    "        print(os.path.join(dirname, filename))\n",
    "'''"
   ]
  },
  {
   "cell_type": "code",
   "execution_count": 5,
   "metadata": {
    "colab": {
     "base_uri": "https://localhost:8080/",
     "height": 260
    },
    "id": "zv_iaBj4PjPC",
    "outputId": "d47dce08-d87d-4951-98e9-5580925602da"
   },
   "outputs": [
    {
     "name": "stdout",
     "output_type": "stream",
     "text": [
      "['malicious_phish.csv']\n",
      "(651191, 2)\n"
     ]
    },
    {
     "data": {
      "text/html": [
       "<div>\n",
       "<style scoped>\n",
       "    .dataframe tbody tr th:only-of-type {\n",
       "        vertical-align: middle;\n",
       "    }\n",
       "\n",
       "    .dataframe tbody tr th {\n",
       "        vertical-align: top;\n",
       "    }\n",
       "\n",
       "    .dataframe thead th {\n",
       "        text-align: right;\n",
       "    }\n",
       "</style>\n",
       "<table border=\"1\" class=\"dataframe\">\n",
       "  <thead>\n",
       "    <tr style=\"text-align: right;\">\n",
       "      <th></th>\n",
       "      <th>url</th>\n",
       "      <th>type</th>\n",
       "    </tr>\n",
       "  </thead>\n",
       "  <tbody>\n",
       "    <tr>\n",
       "      <th>0</th>\n",
       "      <td>br-icloud.com.br</td>\n",
       "      <td>phishing</td>\n",
       "    </tr>\n",
       "    <tr>\n",
       "      <th>1</th>\n",
       "      <td>mp3raid.com/music/krizz_kaliko.html</td>\n",
       "      <td>benign</td>\n",
       "    </tr>\n",
       "    <tr>\n",
       "      <th>2</th>\n",
       "      <td>bopsecrets.org/rexroth/cr/1.htm</td>\n",
       "      <td>benign</td>\n",
       "    </tr>\n",
       "    <tr>\n",
       "      <th>3</th>\n",
       "      <td>http://www.garage-pirenne.be/index.php?option=...</td>\n",
       "      <td>defacement</td>\n",
       "    </tr>\n",
       "    <tr>\n",
       "      <th>4</th>\n",
       "      <td>http://adventure-nicaragua.net/index.php?optio...</td>\n",
       "      <td>defacement</td>\n",
       "    </tr>\n",
       "  </tbody>\n",
       "</table>\n",
       "</div>"
      ],
      "text/plain": [
       "                                                 url        type\n",
       "0                                   br-icloud.com.br    phishing\n",
       "1                mp3raid.com/music/krizz_kaliko.html      benign\n",
       "2                    bopsecrets.org/rexroth/cr/1.htm      benign\n",
       "3  http://www.garage-pirenne.be/index.php?option=...  defacement\n",
       "4  http://adventure-nicaragua.net/index.php?optio...  defacement"
      ]
     },
     "execution_count": 5,
     "metadata": {},
     "output_type": "execute_result"
    }
   ],
   "source": [
    "'''\n",
    "from google.colab import drive\n",
    " drive.mount('/content/drive')\n",
    "\n",
    " import os\n",
    " print(os.listdir('/content/drive/MyDrive/Colab Notebooks/malicious URL dataset'))\n",
    "\n",
    "# import os\n",
    "# print(os.listdir('/kaggle/input/'))\n",
    "\n",
    "# Define the file path\n",
    " file_path = '/content/drive/MyDrive/Colab Notebooks/malicious URL dataset/malicious_phish.csv'\n",
    "'''\n",
    "\n",
    "import os\n",
    "print(os.listdir('C:/Users/wku/Desktop/project/dataset/'))\n",
    "\n",
    "# Define the file path\n",
    "file_path = 'C:/Users/wku/Desktop/project/dataset/malicious_phish.csv'\n",
    "\n",
    "# Load the dataset into a Pandas DataFrame\n",
    "df = pd.read_csv(file_path)\n",
    "\n",
    "print(df.shape)\n",
    "df.head()"
   ]
  },
  {
   "cell_type": "code",
   "execution_count": 6,
   "metadata": {
    "colab": {
     "base_uri": "https://localhost:8080/"
    },
    "id": "HrUymOt0JdN8",
    "outputId": "efc29055-ed1e-40ec-f819-832b981bdf79"
   },
   "outputs": [
    {
     "data": {
      "text/plain": [
       "type\n",
       "benign        428103\n",
       "defacement     96457\n",
       "phishing       94111\n",
       "malware        32520\n",
       "Name: count, dtype: int64"
      ]
     },
     "execution_count": 6,
     "metadata": {},
     "output_type": "execute_result"
    }
   ],
   "source": [
    "# Count the number of values for each 'type'\n",
    "type_counts = df.type.value_counts()\n",
    "df.type.value_counts()"
   ]
  },
  {
   "cell_type": "markdown",
   "metadata": {
    "id": "Ewok9PDPJdN8"
   },
   "source": [
    "# Feature Engineering"
   ]
  },
  {
   "cell_type": "code",
   "execution_count": 7,
   "metadata": {
    "id": "zzyjMRuUJdN9"
   },
   "outputs": [],
   "source": [
    "import re\n",
    "#Use of IP or not in domain\n",
    "def having_ip_address(url):\n",
    "    match = re.search(\n",
    "        '(([01]?\\\\d\\\\d?|2[0-4]\\\\d|25[0-5])\\\\.([01]?\\\\d\\\\d?|2[0-4]\\\\d|25[0-5])\\\\.([01]?\\\\d\\\\d?|2[0-4]\\\\d|25[0-5])\\\\.'\n",
    "        '([01]?\\\\d\\\\d?|2[0-4]\\\\d|25[0-5])\\\\/)|'  # IPv4\n",
    "        '((0x[0-9a-fA-F]{1,2})\\\\.(0x[0-9a-fA-F]{1,2})\\\\.(0x[0-9a-fA-F]{1,2})\\\\.(0x[0-9a-fA-F]{1,2})\\\\/)' # IPv4 in hexadecimal\n",
    "        '(?:[a-fA-F0-9]{1,4}:){7}[a-fA-F0-9]{1,4}', url)  # Ipv6\n",
    "    if match:\n",
    "        # print match.group()\n",
    "        return 1\n",
    "    else:\n",
    "        # print 'No matching pattern found'\n",
    "        return 0\n",
    "df['use_of_ip'] = df['url'].apply(lambda i: having_ip_address(i))\n",
    "# df['use_of_ip'] = df['use_of_ip'].astype(str)"
   ]
  },
  {
   "cell_type": "code",
   "execution_count": 8,
   "metadata": {},
   "outputs": [
    {
     "data": {
      "text/plain": [
       "type_code\n",
       "0    428103\n",
       "1     96457\n",
       "3     94111\n",
       "2     32520\n",
       "Name: count, dtype: int64"
      ]
     },
     "execution_count": 8,
     "metadata": {},
     "output_type": "execute_result"
    }
   ],
   "source": [
    "from sklearn.preprocessing import LabelEncoder\n",
    "\n",
    "lb_make = LabelEncoder()\n",
    "df[\"type_code\"] = lb_make.fit_transform(df[\"type\"])\n",
    "df[\"type_code\"].value_counts()"
   ]
  },
  {
   "cell_type": "code",
   "execution_count": 9,
   "metadata": {
    "id": "JhBuerGmJdN-"
   },
   "outputs": [],
   "source": [
    "from urllib.parse import urlparse\n",
    "\n",
    "\n",
    "\n",
    "\n",
    "def abnormal_url(url):\n",
    "    hostname = urlparse(url).hostname\n",
    "    hostname = str(hostname)\n",
    "    match = re.search(hostname, url)\n",
    "    if match:\n",
    "        # print match.group()\n",
    "        return 1\n",
    "    else:\n",
    "        # print 'No matching pattern found'\n",
    "        return 0\n",
    "\n",
    "\n",
    "df['abnormal_url'] = df['url'].apply(lambda i: abnormal_url(i))"
   ]
  },
  {
   "cell_type": "code",
   "execution_count": 10,
   "metadata": {
    "colab": {
     "base_uri": "https://localhost:8080/"
    },
    "id": "D8OfGi6QJdN-",
    "outputId": "a9972775-1c39-4a91-df35-9c3b80077836"
   },
   "outputs": [
    {
     "name": "stdout",
     "output_type": "stream",
     "text": [
      "Requirement already satisfied: googlesearch-python in c:\\anaconda\\lib\\site-packages (1.2.4)\n",
      "Requirement already satisfied: beautifulsoup4>=4.9 in c:\\anaconda\\lib\\site-packages (from googlesearch-python) (4.12.2)\n",
      "Requirement already satisfied: requests>=2.20 in c:\\anaconda\\lib\\site-packages (from googlesearch-python) (2.31.0)\n",
      "Requirement already satisfied: soupsieve>1.2 in c:\\anaconda\\lib\\site-packages (from beautifulsoup4>=4.9->googlesearch-python) (2.5)\n",
      "Requirement already satisfied: charset-normalizer<4,>=2 in c:\\anaconda\\lib\\site-packages (from requests>=2.20->googlesearch-python) (2.0.4)\n",
      "Requirement already satisfied: idna<4,>=2.5 in c:\\anaconda\\lib\\site-packages (from requests>=2.20->googlesearch-python) (3.4)\n",
      "Requirement already satisfied: urllib3<3,>=1.21.1 in c:\\anaconda\\lib\\site-packages (from requests>=2.20->googlesearch-python) (2.0.7)\n",
      "Requirement already satisfied: certifi>=2017.4.17 in c:\\anaconda\\lib\\site-packages (from requests>=2.20->googlesearch-python) (2024.2.2)\n"
     ]
    }
   ],
   "source": [
    "!pip install googlesearch-python"
   ]
  },
  {
   "cell_type": "code",
   "execution_count": 11,
   "metadata": {
    "colab": {
     "base_uri": "https://localhost:8080/",
     "height": 206
    },
    "id": "zOOiixq3JdN-",
    "outputId": "9d6bfaae-0fc0-4431-cca1-4a719a37a51b"
   },
   "outputs": [
    {
     "data": {
      "text/html": [
       "<div>\n",
       "<style scoped>\n",
       "    .dataframe tbody tr th:only-of-type {\n",
       "        vertical-align: middle;\n",
       "    }\n",
       "\n",
       "    .dataframe tbody tr th {\n",
       "        vertical-align: top;\n",
       "    }\n",
       "\n",
       "    .dataframe thead th {\n",
       "        text-align: right;\n",
       "    }\n",
       "</style>\n",
       "<table border=\"1\" class=\"dataframe\">\n",
       "  <thead>\n",
       "    <tr style=\"text-align: right;\">\n",
       "      <th></th>\n",
       "      <th>url</th>\n",
       "      <th>type</th>\n",
       "      <th>use_of_ip</th>\n",
       "      <th>type_code</th>\n",
       "      <th>abnormal_url</th>\n",
       "      <th>count.</th>\n",
       "    </tr>\n",
       "  </thead>\n",
       "  <tbody>\n",
       "    <tr>\n",
       "      <th>0</th>\n",
       "      <td>br-icloud.com.br</td>\n",
       "      <td>phishing</td>\n",
       "      <td>0</td>\n",
       "      <td>3</td>\n",
       "      <td>0</td>\n",
       "      <td>2</td>\n",
       "    </tr>\n",
       "    <tr>\n",
       "      <th>1</th>\n",
       "      <td>mp3raid.com/music/krizz_kaliko.html</td>\n",
       "      <td>benign</td>\n",
       "      <td>0</td>\n",
       "      <td>0</td>\n",
       "      <td>0</td>\n",
       "      <td>2</td>\n",
       "    </tr>\n",
       "    <tr>\n",
       "      <th>2</th>\n",
       "      <td>bopsecrets.org/rexroth/cr/1.htm</td>\n",
       "      <td>benign</td>\n",
       "      <td>0</td>\n",
       "      <td>0</td>\n",
       "      <td>0</td>\n",
       "      <td>2</td>\n",
       "    </tr>\n",
       "    <tr>\n",
       "      <th>3</th>\n",
       "      <td>http://www.garage-pirenne.be/index.php?option=...</td>\n",
       "      <td>defacement</td>\n",
       "      <td>0</td>\n",
       "      <td>1</td>\n",
       "      <td>1</td>\n",
       "      <td>3</td>\n",
       "    </tr>\n",
       "    <tr>\n",
       "      <th>4</th>\n",
       "      <td>http://adventure-nicaragua.net/index.php?optio...</td>\n",
       "      <td>defacement</td>\n",
       "      <td>0</td>\n",
       "      <td>1</td>\n",
       "      <td>1</td>\n",
       "      <td>2</td>\n",
       "    </tr>\n",
       "  </tbody>\n",
       "</table>\n",
       "</div>"
      ],
      "text/plain": [
       "                                                 url        type  use_of_ip  \\\n",
       "0                                   br-icloud.com.br    phishing          0   \n",
       "1                mp3raid.com/music/krizz_kaliko.html      benign          0   \n",
       "2                    bopsecrets.org/rexroth/cr/1.htm      benign          0   \n",
       "3  http://www.garage-pirenne.be/index.php?option=...  defacement          0   \n",
       "4  http://adventure-nicaragua.net/index.php?optio...  defacement          0   \n",
       "\n",
       "   type_code  abnormal_url  count.  \n",
       "0          3             0       2  \n",
       "1          0             0       2  \n",
       "2          0             0       2  \n",
       "3          1             1       3  \n",
       "4          1             1       2  "
      ]
     },
     "execution_count": 11,
     "metadata": {},
     "output_type": "execute_result"
    }
   ],
   "source": [
    "df['count.'] = df['url'].apply(lambda i: i.count('.'))\n",
    "df.head()"
   ]
  },
  {
   "cell_type": "code",
   "execution_count": 12,
   "metadata": {
    "id": "3cOMmhVoJdN_"
   },
   "outputs": [],
   "source": [
    "df['count-www'] = df['url'].apply(lambda i: i.count('www'))\n",
    "df['count@'] = df['url'].apply(lambda i: i.count('@'))\n",
    "from urllib.parse import urlparse\n",
    "def no_of_dir(url):\n",
    "    urldir = urlparse(url).path\n",
    "    return urldir.count('/')\n",
    "df['count_dir'] = df['url'].apply(lambda i: no_of_dir(i))\n",
    "def no_of_embed(url):\n",
    "    urldir = urlparse(url).path\n",
    "    return urldir.count('//')\n",
    "df['count_embed_domian'] = df['url'].apply(lambda i: no_of_embed(i))\n",
    "def shortening_service(url):\n",
    "    match = re.search('bit\\.ly|goo\\.gl|shorte\\.st|go2l\\.ink|x\\.co|ow\\.ly|t\\.co|tinyurl|tr\\.im|is\\.gd|cli\\.gs|'\n",
    "                      'yfrog\\.com|migre\\.me|ff\\.im|tiny\\.cc|url4\\.eu|twit\\.ac|su\\.pr|twurl\\.nl|snipurl\\.com|'\n",
    "                      'short\\.to|BudURL\\.com|ping\\.fm|post\\.ly|Just\\.as|bkite\\.com|snipr\\.com|fic\\.kr|loopt\\.us|'\n",
    "                      'doiop\\.com|short\\.ie|kl\\.am|wp\\.me|rubyurl\\.com|om\\.ly|to\\.ly|bit\\.do|t\\.co|lnkd\\.in|'\n",
    "                      'db\\.tt|qr\\.ae|adf\\.ly|goo\\.gl|bitly\\.com|cur\\.lv|tinyurl\\.com|ow\\.ly|bit\\.ly|ity\\.im|'\n",
    "                      'q\\.gs|is\\.gd|po\\.st|bc\\.vc|twitthis\\.com|u\\.to|j\\.mp|buzurl\\.com|cutt\\.us|u\\.bb|yourls\\.org|'\n",
    "                      'x\\.co|prettylinkpro\\.com|scrnch\\.me|filoops\\.info|vzturl\\.com|qr\\.net|1url\\.com|tweez\\.me|v\\.gd|'\n",
    "                      'tr\\.im|link\\.zip\\.net',\n",
    "                      url)\n",
    "    if match:\n",
    "        return 1\n",
    "    else:\n",
    "        return 0\n",
    "df['short_url'] = df['url'].apply(lambda i: shortening_service(i))\n",
    "# df['short_url'] = df['short_url'].astype(str)"
   ]
  },
  {
   "cell_type": "code",
   "execution_count": 13,
   "metadata": {
    "id": "LmwdNsHBJdN_"
   },
   "outputs": [],
   "source": [
    "df['count-https'] = df['url'].apply(lambda i : i.count('https'))\n",
    "# df['count-https'] = df['count-https'].astype(str)\n",
    "df['count-http'] = df['url'].apply(lambda i : i.count('http'))"
   ]
  },
  {
   "cell_type": "code",
   "execution_count": 14,
   "metadata": {
    "colab": {
     "base_uri": "https://localhost:8080/",
     "height": 278
    },
    "id": "SAlxTGoaJdN_",
    "outputId": "d1957187-d18d-4b4e-e168-32c4845560b5"
   },
   "outputs": [
    {
     "data": {
      "text/html": [
       "<div>\n",
       "<style scoped>\n",
       "    .dataframe tbody tr th:only-of-type {\n",
       "        vertical-align: middle;\n",
       "    }\n",
       "\n",
       "    .dataframe tbody tr th {\n",
       "        vertical-align: top;\n",
       "    }\n",
       "\n",
       "    .dataframe thead th {\n",
       "        text-align: right;\n",
       "    }\n",
       "</style>\n",
       "<table border=\"1\" class=\"dataframe\">\n",
       "  <thead>\n",
       "    <tr style=\"text-align: right;\">\n",
       "      <th></th>\n",
       "      <th>url</th>\n",
       "      <th>type</th>\n",
       "      <th>use_of_ip</th>\n",
       "      <th>type_code</th>\n",
       "      <th>abnormal_url</th>\n",
       "      <th>count.</th>\n",
       "      <th>count-www</th>\n",
       "      <th>count@</th>\n",
       "      <th>count_dir</th>\n",
       "      <th>count_embed_domian</th>\n",
       "      <th>short_url</th>\n",
       "      <th>count-https</th>\n",
       "      <th>count-http</th>\n",
       "      <th>count%</th>\n",
       "      <th>count?</th>\n",
       "      <th>count-</th>\n",
       "      <th>count=</th>\n",
       "      <th>url_length</th>\n",
       "      <th>hostname_length</th>\n",
       "    </tr>\n",
       "  </thead>\n",
       "  <tbody>\n",
       "    <tr>\n",
       "      <th>0</th>\n",
       "      <td>br-icloud.com.br</td>\n",
       "      <td>phishing</td>\n",
       "      <td>0</td>\n",
       "      <td>3</td>\n",
       "      <td>0</td>\n",
       "      <td>2</td>\n",
       "      <td>0</td>\n",
       "      <td>0</td>\n",
       "      <td>0</td>\n",
       "      <td>0</td>\n",
       "      <td>0</td>\n",
       "      <td>0</td>\n",
       "      <td>0</td>\n",
       "      <td>0</td>\n",
       "      <td>0</td>\n",
       "      <td>1</td>\n",
       "      <td>0</td>\n",
       "      <td>16</td>\n",
       "      <td>0</td>\n",
       "    </tr>\n",
       "    <tr>\n",
       "      <th>1</th>\n",
       "      <td>mp3raid.com/music/krizz_kaliko.html</td>\n",
       "      <td>benign</td>\n",
       "      <td>0</td>\n",
       "      <td>0</td>\n",
       "      <td>0</td>\n",
       "      <td>2</td>\n",
       "      <td>0</td>\n",
       "      <td>0</td>\n",
       "      <td>2</td>\n",
       "      <td>0</td>\n",
       "      <td>0</td>\n",
       "      <td>0</td>\n",
       "      <td>0</td>\n",
       "      <td>0</td>\n",
       "      <td>0</td>\n",
       "      <td>0</td>\n",
       "      <td>0</td>\n",
       "      <td>35</td>\n",
       "      <td>0</td>\n",
       "    </tr>\n",
       "    <tr>\n",
       "      <th>2</th>\n",
       "      <td>bopsecrets.org/rexroth/cr/1.htm</td>\n",
       "      <td>benign</td>\n",
       "      <td>0</td>\n",
       "      <td>0</td>\n",
       "      <td>0</td>\n",
       "      <td>2</td>\n",
       "      <td>0</td>\n",
       "      <td>0</td>\n",
       "      <td>3</td>\n",
       "      <td>0</td>\n",
       "      <td>0</td>\n",
       "      <td>0</td>\n",
       "      <td>0</td>\n",
       "      <td>0</td>\n",
       "      <td>0</td>\n",
       "      <td>0</td>\n",
       "      <td>0</td>\n",
       "      <td>31</td>\n",
       "      <td>0</td>\n",
       "    </tr>\n",
       "    <tr>\n",
       "      <th>3</th>\n",
       "      <td>http://www.garage-pirenne.be/index.php?option=...</td>\n",
       "      <td>defacement</td>\n",
       "      <td>0</td>\n",
       "      <td>1</td>\n",
       "      <td>1</td>\n",
       "      <td>3</td>\n",
       "      <td>1</td>\n",
       "      <td>0</td>\n",
       "      <td>1</td>\n",
       "      <td>0</td>\n",
       "      <td>0</td>\n",
       "      <td>0</td>\n",
       "      <td>1</td>\n",
       "      <td>0</td>\n",
       "      <td>1</td>\n",
       "      <td>1</td>\n",
       "      <td>4</td>\n",
       "      <td>88</td>\n",
       "      <td>21</td>\n",
       "    </tr>\n",
       "    <tr>\n",
       "      <th>4</th>\n",
       "      <td>http://adventure-nicaragua.net/index.php?optio...</td>\n",
       "      <td>defacement</td>\n",
       "      <td>0</td>\n",
       "      <td>1</td>\n",
       "      <td>1</td>\n",
       "      <td>2</td>\n",
       "      <td>0</td>\n",
       "      <td>0</td>\n",
       "      <td>1</td>\n",
       "      <td>0</td>\n",
       "      <td>0</td>\n",
       "      <td>0</td>\n",
       "      <td>1</td>\n",
       "      <td>0</td>\n",
       "      <td>1</td>\n",
       "      <td>1</td>\n",
       "      <td>3</td>\n",
       "      <td>235</td>\n",
       "      <td>23</td>\n",
       "    </tr>\n",
       "  </tbody>\n",
       "</table>\n",
       "</div>"
      ],
      "text/plain": [
       "                                                 url        type  use_of_ip  \\\n",
       "0                                   br-icloud.com.br    phishing          0   \n",
       "1                mp3raid.com/music/krizz_kaliko.html      benign          0   \n",
       "2                    bopsecrets.org/rexroth/cr/1.htm      benign          0   \n",
       "3  http://www.garage-pirenne.be/index.php?option=...  defacement          0   \n",
       "4  http://adventure-nicaragua.net/index.php?optio...  defacement          0   \n",
       "\n",
       "   type_code  abnormal_url  count.  count-www  count@  count_dir  \\\n",
       "0          3             0       2          0       0          0   \n",
       "1          0             0       2          0       0          2   \n",
       "2          0             0       2          0       0          3   \n",
       "3          1             1       3          1       0          1   \n",
       "4          1             1       2          0       0          1   \n",
       "\n",
       "   count_embed_domian  short_url  count-https  count-http  count%  count?  \\\n",
       "0                   0          0            0           0       0       0   \n",
       "1                   0          0            0           0       0       0   \n",
       "2                   0          0            0           0       0       0   \n",
       "3                   0          0            0           1       0       1   \n",
       "4                   0          0            0           1       0       1   \n",
       "\n",
       "   count-  count=  url_length  hostname_length  \n",
       "0       1       0          16                0  \n",
       "1       0       0          35                0  \n",
       "2       0       0          31                0  \n",
       "3       1       4          88               21  \n",
       "4       1       3         235               23  "
      ]
     },
     "execution_count": 14,
     "metadata": {},
     "output_type": "execute_result"
    }
   ],
   "source": [
    "df['count%'] = df['url'].apply(lambda i: i.count('%'))\n",
    "df['count?'] = df['url'].apply(lambda i: i.count('?'))\n",
    "df['count-'] = df['url'].apply(lambda i: i.count('-'))\n",
    "df['count='] = df['url'].apply(lambda i: i.count('='))\n",
    "#Length of URL\n",
    "df['url_length'] = df['url'].apply(lambda i: len(str(i)))\n",
    "#Hostname Length\n",
    "df['hostname_length'] = df['url'].apply(lambda i: len(urlparse(i).netloc))\n",
    "\n",
    "df.head()"
   ]
  },
  {
   "cell_type": "code",
   "execution_count": 15,
   "metadata": {
    "id": "P5N3kajsJdOA"
   },
   "outputs": [],
   "source": [
    "def suspicious_words(url):\n",
    "    match = re.search('PayPal|login|signin|bank|account|update|free|lucky|service|bonus|ebayisapi|webscr',\n",
    "                      url)\n",
    "    if match:\n",
    "        return 1\n",
    "    else:\n",
    "        return 0\n",
    "df['sus_url'] = df['url'].apply(lambda i: suspicious_words(i))"
   ]
  },
  {
   "cell_type": "code",
   "execution_count": 16,
   "metadata": {
    "colab": {
     "base_uri": "https://localhost:8080/",
     "height": 278
    },
    "id": "szLt1jgMJdOA",
    "outputId": "580925c7-b070-4b49-dc14-ed9a89bba307"
   },
   "outputs": [
    {
     "data": {
      "text/html": [
       "<div>\n",
       "<style scoped>\n",
       "    .dataframe tbody tr th:only-of-type {\n",
       "        vertical-align: middle;\n",
       "    }\n",
       "\n",
       "    .dataframe tbody tr th {\n",
       "        vertical-align: top;\n",
       "    }\n",
       "\n",
       "    .dataframe thead th {\n",
       "        text-align: right;\n",
       "    }\n",
       "</style>\n",
       "<table border=\"1\" class=\"dataframe\">\n",
       "  <thead>\n",
       "    <tr style=\"text-align: right;\">\n",
       "      <th></th>\n",
       "      <th>url</th>\n",
       "      <th>type</th>\n",
       "      <th>use_of_ip</th>\n",
       "      <th>type_code</th>\n",
       "      <th>abnormal_url</th>\n",
       "      <th>count.</th>\n",
       "      <th>count-www</th>\n",
       "      <th>count@</th>\n",
       "      <th>count_dir</th>\n",
       "      <th>count_embed_domian</th>\n",
       "      <th>short_url</th>\n",
       "      <th>count-https</th>\n",
       "      <th>count-http</th>\n",
       "      <th>count%</th>\n",
       "      <th>count?</th>\n",
       "      <th>count-</th>\n",
       "      <th>count=</th>\n",
       "      <th>url_length</th>\n",
       "      <th>hostname_length</th>\n",
       "      <th>sus_url</th>\n",
       "    </tr>\n",
       "  </thead>\n",
       "  <tbody>\n",
       "    <tr>\n",
       "      <th>0</th>\n",
       "      <td>br-icloud.com.br</td>\n",
       "      <td>phishing</td>\n",
       "      <td>0</td>\n",
       "      <td>3</td>\n",
       "      <td>0</td>\n",
       "      <td>2</td>\n",
       "      <td>0</td>\n",
       "      <td>0</td>\n",
       "      <td>0</td>\n",
       "      <td>0</td>\n",
       "      <td>0</td>\n",
       "      <td>0</td>\n",
       "      <td>0</td>\n",
       "      <td>0</td>\n",
       "      <td>0</td>\n",
       "      <td>1</td>\n",
       "      <td>0</td>\n",
       "      <td>16</td>\n",
       "      <td>0</td>\n",
       "      <td>0</td>\n",
       "    </tr>\n",
       "    <tr>\n",
       "      <th>1</th>\n",
       "      <td>mp3raid.com/music/krizz_kaliko.html</td>\n",
       "      <td>benign</td>\n",
       "      <td>0</td>\n",
       "      <td>0</td>\n",
       "      <td>0</td>\n",
       "      <td>2</td>\n",
       "      <td>0</td>\n",
       "      <td>0</td>\n",
       "      <td>2</td>\n",
       "      <td>0</td>\n",
       "      <td>0</td>\n",
       "      <td>0</td>\n",
       "      <td>0</td>\n",
       "      <td>0</td>\n",
       "      <td>0</td>\n",
       "      <td>0</td>\n",
       "      <td>0</td>\n",
       "      <td>35</td>\n",
       "      <td>0</td>\n",
       "      <td>0</td>\n",
       "    </tr>\n",
       "    <tr>\n",
       "      <th>2</th>\n",
       "      <td>bopsecrets.org/rexroth/cr/1.htm</td>\n",
       "      <td>benign</td>\n",
       "      <td>0</td>\n",
       "      <td>0</td>\n",
       "      <td>0</td>\n",
       "      <td>2</td>\n",
       "      <td>0</td>\n",
       "      <td>0</td>\n",
       "      <td>3</td>\n",
       "      <td>0</td>\n",
       "      <td>0</td>\n",
       "      <td>0</td>\n",
       "      <td>0</td>\n",
       "      <td>0</td>\n",
       "      <td>0</td>\n",
       "      <td>0</td>\n",
       "      <td>0</td>\n",
       "      <td>31</td>\n",
       "      <td>0</td>\n",
       "      <td>0</td>\n",
       "    </tr>\n",
       "    <tr>\n",
       "      <th>3</th>\n",
       "      <td>http://www.garage-pirenne.be/index.php?option=...</td>\n",
       "      <td>defacement</td>\n",
       "      <td>0</td>\n",
       "      <td>1</td>\n",
       "      <td>1</td>\n",
       "      <td>3</td>\n",
       "      <td>1</td>\n",
       "      <td>0</td>\n",
       "      <td>1</td>\n",
       "      <td>0</td>\n",
       "      <td>0</td>\n",
       "      <td>0</td>\n",
       "      <td>1</td>\n",
       "      <td>0</td>\n",
       "      <td>1</td>\n",
       "      <td>1</td>\n",
       "      <td>4</td>\n",
       "      <td>88</td>\n",
       "      <td>21</td>\n",
       "      <td>0</td>\n",
       "    </tr>\n",
       "    <tr>\n",
       "      <th>4</th>\n",
       "      <td>http://adventure-nicaragua.net/index.php?optio...</td>\n",
       "      <td>defacement</td>\n",
       "      <td>0</td>\n",
       "      <td>1</td>\n",
       "      <td>1</td>\n",
       "      <td>2</td>\n",
       "      <td>0</td>\n",
       "      <td>0</td>\n",
       "      <td>1</td>\n",
       "      <td>0</td>\n",
       "      <td>0</td>\n",
       "      <td>0</td>\n",
       "      <td>1</td>\n",
       "      <td>0</td>\n",
       "      <td>1</td>\n",
       "      <td>1</td>\n",
       "      <td>3</td>\n",
       "      <td>235</td>\n",
       "      <td>23</td>\n",
       "      <td>0</td>\n",
       "    </tr>\n",
       "  </tbody>\n",
       "</table>\n",
       "</div>"
      ],
      "text/plain": [
       "                                                 url        type  use_of_ip  \\\n",
       "0                                   br-icloud.com.br    phishing          0   \n",
       "1                mp3raid.com/music/krizz_kaliko.html      benign          0   \n",
       "2                    bopsecrets.org/rexroth/cr/1.htm      benign          0   \n",
       "3  http://www.garage-pirenne.be/index.php?option=...  defacement          0   \n",
       "4  http://adventure-nicaragua.net/index.php?optio...  defacement          0   \n",
       "\n",
       "   type_code  abnormal_url  count.  count-www  count@  count_dir  \\\n",
       "0          3             0       2          0       0          0   \n",
       "1          0             0       2          0       0          2   \n",
       "2          0             0       2          0       0          3   \n",
       "3          1             1       3          1       0          1   \n",
       "4          1             1       2          0       0          1   \n",
       "\n",
       "   count_embed_domian  short_url  count-https  count-http  count%  count?  \\\n",
       "0                   0          0            0           0       0       0   \n",
       "1                   0          0            0           0       0       0   \n",
       "2                   0          0            0           0       0       0   \n",
       "3                   0          0            0           1       0       1   \n",
       "4                   0          0            0           1       0       1   \n",
       "\n",
       "   count-  count=  url_length  hostname_length  sus_url  \n",
       "0       1       0          16                0        0  \n",
       "1       0       0          35                0        0  \n",
       "2       0       0          31                0        0  \n",
       "3       1       4          88               21        0  \n",
       "4       1       3         235               23        0  "
      ]
     },
     "execution_count": 16,
     "metadata": {},
     "output_type": "execute_result"
    }
   ],
   "source": [
    "df.head()"
   ]
  },
  {
   "cell_type": "code",
   "execution_count": 17,
   "metadata": {
    "colab": {
     "base_uri": "https://localhost:8080/"
    },
    "id": "Pha_wNtuJdOA",
    "outputId": "cfc0e1d5-667f-465c-e774-87c7f0ef36ab"
   },
   "outputs": [
    {
     "name": "stdout",
     "output_type": "stream",
     "text": [
      "Requirement already satisfied: tld in c:\\anaconda\\lib\\site-packages (0.13)\n"
     ]
    }
   ],
   "source": [
    "\n",
    "!pip install tld"
   ]
  },
  {
   "cell_type": "code",
   "execution_count": 18,
   "metadata": {
    "id": "F2VwDmejJdOA"
   },
   "outputs": [],
   "source": [
    "#Importing dependencies\n",
    "from urllib.parse import urlparse\n",
    "from tld import get_tld\n",
    "import os.path\n",
    "\n",
    "#First Directory Length\n",
    "def fd_length(url):\n",
    "    urlpath= urlparse(url).path\n",
    "    try:\n",
    "        return len(urlpath.split('/')[1])\n",
    "    except:\n",
    "        return 0\n",
    "\n",
    "df['fd_length'] = df['url'].apply(lambda i: fd_length(i))\n",
    "\n",
    "#Length of Top Level Domain\n",
    "df['tld'] = df['url'].apply(lambda i: get_tld(i,fail_silently=True))\n",
    "def tld_length(tld):\n",
    "    try:\n",
    "        return len(tld)\n",
    "    except:\n",
    "        return -1\n",
    "\n",
    "df['tld_length'] = df['tld'].apply(lambda i: tld_length(i))"
   ]
  },
  {
   "cell_type": "code",
   "execution_count": 19,
   "metadata": {
    "id": "bsOT8WMPJdOB"
   },
   "outputs": [],
   "source": [
    "def digit_count(url):\n",
    "    digits = 0\n",
    "    for i in url:\n",
    "        if i.isnumeric():\n",
    "            digits = digits + 1\n",
    "    return digits\n",
    "df['count-digits']= df['url'].apply(lambda i: digit_count(i))"
   ]
  },
  {
   "cell_type": "code",
   "execution_count": 20,
   "metadata": {
    "id": "u0OLOv7WJdOB"
   },
   "outputs": [],
   "source": [
    "def letter_count(url):\n",
    "    letters = 0\n",
    "    for i in url:\n",
    "        if i.isalpha():\n",
    "            letters = letters + 1\n",
    "    return letters\n",
    "df['count-letters']= df['url'].apply(lambda i: letter_count(i))"
   ]
  },
  {
   "cell_type": "code",
   "execution_count": 21,
   "metadata": {
    "id": "l6hY4HovJdOB"
   },
   "outputs": [],
   "source": [
    "df = df.drop(columns=\"tld\")"
   ]
  },
  {
   "cell_type": "code",
   "execution_count": 22,
   "metadata": {
    "colab": {
     "base_uri": "https://localhost:8080/"
    },
    "id": "D4sksVIiJdOC",
    "outputId": "4bf95f0f-bdfb-42de-95d3-c14595982712"
   },
   "outputs": [
    {
     "data": {
      "text/plain": [
       "'\\nfrom sklearn.preprocessing import LabelEncoder\\n\\nlb_make = LabelEncoder()\\ndf[\"type_code\"] = lb_make.fit_transform(df[\"type\"])\\ndf[\"type_code\"].value_counts()\\n'"
      ]
     },
     "execution_count": 22,
     "metadata": {},
     "output_type": "execute_result"
    }
   ],
   "source": [
    "'''\n",
    "from sklearn.preprocessing import LabelEncoder\n",
    "\n",
    "lb_make = LabelEncoder()\n",
    "df[\"type_code\"] = lb_make.fit_transform(df[\"type\"])\n",
    "df[\"type_code\"].value_counts()\n",
    "'''"
   ]
  },
  {
   "cell_type": "code",
   "execution_count": 23,
   "metadata": {
    "id": "NzM4t55-JdOC"
   },
   "outputs": [],
   "source": [
    "#Predictor Variables\n",
    "X = df[['use_of_ip','abnormal_url', 'count.', 'count-www', 'count@',\n",
    "       'count_dir', 'count_embed_domian', 'short_url', 'count-https',\n",
    "       'count-http', 'count%', 'count?', 'count-', 'count=', 'url_length',\n",
    "       'hostname_length', 'sus_url', 'fd_length', 'tld_length', 'count-digits',\n",
    "       'count-letters']]\n",
    "\n",
    "#Target Variable\n",
    "y = df['type_code']"
   ]
  },
  {
   "cell_type": "code",
   "execution_count": 24,
   "metadata": {
    "id": "rfW-qbfXJdOC"
   },
   "outputs": [],
   "source": [
    "X_train, X_test, y_train, y_test = train_test_split(X, y, stratify=y, test_size=0.2,shuffle=True, random_state=5)"
   ]
  },
  {
   "cell_type": "code",
   "execution_count": 25,
   "metadata": {},
   "outputs": [
    {
     "name": "stdout",
     "output_type": "stream",
     "text": [
      "(520952, 21)\n"
     ]
    }
   ],
   "source": [
    "print(X_train.shape)"
   ]
  },
  {
   "cell_type": "code",
   "execution_count": 26,
   "metadata": {},
   "outputs": [
    {
     "name": "stdout",
     "output_type": "stream",
     "text": [
      "(130239, 21)\n"
     ]
    }
   ],
   "source": [
    "print(X_test.shape)"
   ]
  },
  {
   "cell_type": "code",
   "execution_count": 27,
   "metadata": {},
   "outputs": [
    {
     "name": "stdout",
     "output_type": "stream",
     "text": [
      "(520952,)\n"
     ]
    }
   ],
   "source": [
    "print(y_train.shape)"
   ]
  },
  {
   "cell_type": "code",
   "execution_count": 28,
   "metadata": {},
   "outputs": [
    {
     "name": "stdout",
     "output_type": "stream",
     "text": [
      "(130239,)\n"
     ]
    }
   ],
   "source": [
    "print(y_test.shape)"
   ]
  },
  {
   "cell_type": "markdown",
   "metadata": {},
   "source": [
    "# Before Hyperparameters tuning"
   ]
  },
  {
   "cell_type": "markdown",
   "metadata": {},
   "source": [
    "## LGBMClassifier"
   ]
  },
  {
   "cell_type": "code",
   "execution_count": 29,
   "metadata": {
    "colab": {
     "base_uri": "https://localhost:8080/"
    },
    "id": "71lz0ffiJdOD",
    "outputId": "229075a6-ca13-4e7f-c997-f7b3dc8a167c"
   },
   "outputs": [
    {
     "name": "stdout",
     "output_type": "stream",
     "text": [
      "[LightGBM] [Info] Auto-choosing row-wise multi-threading, the overhead of testing was 0.013199 seconds.\n",
      "You can set `force_row_wise=true` to remove the overhead.\n",
      "And if memory is not enough, you can set `force_col_wise=true`.\n",
      "[LightGBM] [Info] Total Bins 1165\n",
      "[LightGBM] [Info] Number of data points in the train set: 520952, number of used features: 21\n",
      "[LightGBM] [Info] Start training from score -0.419439\n",
      "[LightGBM] [Info] Start training from score -1.909712\n",
      "[LightGBM] [Info] Start training from score -2.996946\n",
      "[LightGBM] [Info] Start training from score -1.934324\n",
      "              precision    recall  f1-score   support\n",
      "\n",
      "           0       0.97      0.99      0.98     85621\n",
      "           1       0.96      0.99      0.98     19292\n",
      "           2       0.97      0.91      0.94      6504\n",
      "           3       0.90      0.83      0.86     18822\n",
      "\n",
      "    accuracy                           0.96    130239\n",
      "   macro avg       0.95      0.93      0.94    130239\n",
      "weighted avg       0.96      0.96      0.96    130239\n",
      "\n",
      "accuracy:   0.959\n"
     ]
    }
   ],
   "source": [
    "# lgb = LGBMClassifier(objective='multiclass',boosting_type= 'gbdt',n_jobs = 5,\n",
    "#          silent = True, random_state=5)\n",
    "import time\n",
    "\n",
    "# Initialize and start the timer for model training\n",
    "start_time_lgb = time.time()\n",
    "lgb = LGBMClassifier( )\n",
    "LGB_C = lgb.fit(X_train, y_train)\n",
    "\n",
    "# Calculate the model training time\n",
    "training_time_lgbm = time.time() - start_time_lgb\n",
    "\n",
    "y_pred_train = LGB_C.predict(X_train)\n",
    "# Initialize and start the timer for model execution\n",
    "start_time = time.time()\n",
    "y_pred = LGB_C.predict(X_test)\n",
    "# Calculate the model execution time\n",
    "execution_time_lgbm = ( time.time() - start_time ) / 130239\n",
    "\n",
    "print(classification_report(y_test,y_pred))\n",
    "\n",
    "score = metrics.accuracy_score(y_test, y_pred)\n",
    "print(\"accuracy:   %0.3f\" % score)"
   ]
  },
  {
   "cell_type": "code",
   "execution_count": 30,
   "metadata": {},
   "outputs": [],
   "source": [
    "lgb_train=LGB_C.predict(X_train)\n",
    "lgb_test=LGB_C.predict(X_test)"
   ]
  },
  {
   "cell_type": "code",
   "execution_count": 31,
   "metadata": {
    "id": "BfbtR0lMJdOD"
   },
   "outputs": [],
   "source": [
    "def plot_confusion_matrix(cm, classes,\n",
    "                          normalize=False,\n",
    "                          title='Confusion matrix',\n",
    "                          cmap=plt.cm.Blues):\n",
    "    \"\"\"\n",
    "    See full source and example:\n",
    "    http://scikit-learn.org/stable/auto_examples/model_selection/plot_confusion_matrix.html\n",
    "\n",
    "    This function prints and plots the confusion matrix.\n",
    "    Normalization can be applied by setting `normalize=True`.\n",
    "    \"\"\"\n",
    "    plt.imshow(cm, interpolation='nearest', cmap=cmap)\n",
    "    plt.title(title)\n",
    "    plt.colorbar()\n",
    "    tick_marks = np.arange(len(classes))\n",
    "    plt.xticks(tick_marks, classes, rotation=45)\n",
    "    plt.yticks(tick_marks, classes)\n",
    "\n",
    "    if normalize:\n",
    "        cm = cm.astype('float') / cm.sum(axis=1)[:, np.newaxis]\n",
    "        print(\"Normalized confusion matrix\")\n",
    "    else:\n",
    "        print('Confusion matrix, without normalization')\n",
    "\n",
    "    thresh = cm.max() / 2.\n",
    "    for i, j in itertools.product(range(cm.shape[0]), range(cm.shape[1])):\n",
    "        plt.text(j, i, cm[i, j],\n",
    "                 horizontalalignment=\"center\",\n",
    "                 color=\"white\" if cm[i, j] > thresh else \"black\")\n",
    "\n",
    "    plt.tight_layout()\n",
    "    plt.ylabel('True label')\n",
    "    plt.xlabel('Predicted label')"
   ]
  },
  {
   "cell_type": "code",
   "execution_count": 32,
   "metadata": {},
   "outputs": [],
   "source": [
    "def plot_confusion_matrix_XGB(cm, classes,\n",
    "                          normalize=False,\n",
    "                          title='Confusion matrix',\n",
    "                          cmap=plt.cm.Blues):\n",
    "    \"\"\"\n",
    "    See full source and example:\n",
    "    http://scikit-learn.org/stable/auto_examples/model_selection/plot_confusion_matrix.html\n",
    "\n",
    "    This function prints and plots the confusion matrix.\n",
    "    Normalization can be applied by setting `normalize=True`.\n",
    "    \"\"\"\n",
    "    plt.imshow(cm, interpolation='nearest', cmap=cmap)\n",
    "    plt.title(title)\n",
    "    plt.colorbar()\n",
    "    tick_marks = np.arange(len(classes))\n",
    "    plt.xticks(tick_marks, classes, rotation=45)\n",
    "    plt.yticks(tick_marks, classes)\n",
    "\n",
    "    if normalize:\n",
    "        cm = cm.astype('float') / cm.sum(axis=1)[:, np.newaxis]\n",
    "        print(\"Normalized confusion matrix\")\n",
    "    else:\n",
    "        print('Confusion matrix, without normalization')\n",
    "\n",
    "    thresh = cm.max() / 2.\n",
    "    for i, j in itertools.product(range(cm.shape[0]), range(cm.shape[1])):\n",
    "        plt.text(j, i, cm[i, j],\n",
    "                 horizontalalignment=\"center\",\n",
    "                 color=\"white\" if cm[i, j] > thresh else \"black\")\n",
    "\n",
    "    plt.tight_layout()\n",
    "    plt.ylabel('True label')\n",
    "    plt.xlabel('Predicted label')\n",
    "    # Save the plot as a PDF\n",
    "    plt.savefig('XGB classifier Confusion Matrix After HPO.pdf', format='pdf')"
   ]
  },
  {
   "cell_type": "code",
   "execution_count": 33,
   "metadata": {
    "colab": {
     "base_uri": "https://localhost:8080/",
     "height": 524
    },
    "id": "2A5i93zlJdOD",
    "outputId": "498fae6b-c2fd-4c42-8fa8-f63c155155b3"
   },
   "outputs": [
    {
     "name": "stdout",
     "output_type": "stream",
     "text": [
      "Confusion matrix, without normalization\n"
     ]
    },
    {
     "data": {
      "image/png": "[encoded data removed]",
      "text/plain": [
       "<Figure size 640x480 with 2 Axes>"
      ]
     },
     "metadata": {},
     "output_type": "display_data"
    }
   ],
   "source": [
    "cm = metrics.confusion_matrix(y_test, y_pred, labels=[0,1,2,3])\n",
    "plot_confusion_matrix(cm,classes=['benign', 'defacement','malware','phishing'])"
   ]
  },
  {
   "cell_type": "code",
   "execution_count": 34,
   "metadata": {
    "colab": {
     "base_uri": "https://localhost:8080/"
    },
    "id": "aKbzMmthJdOE",
    "outputId": "090fa740-8c8d-477f-90fb-e178412f9737"
   },
   "outputs": [
    {
     "data": {
      "text/plain": [
       "array([  30,   60,  996,  515,   75, 1154,   50,  153,  242,  123,  262,\n",
       "        217,  612,  393, 1048, 1441,  231, 1784,  625, 1163,  826])"
      ]
     },
     "execution_count": 34,
     "metadata": {},
     "output_type": "execute_result"
    }
   ],
   "source": [
    "lgb_feature = lgb.feature_importances_\n",
    "lgb_feature"
   ]
  },
  {
   "cell_type": "code",
   "execution_count": 35,
   "metadata": {
    "id": "MLSnDbQzJdOE"
   },
   "outputs": [],
   "source": [
    "lgb_features = lgb_feature.tolist()"
   ]
  },
  {
   "cell_type": "markdown",
   "metadata": {
    "id": "48MMdd827sLT"
   },
   "source": [
    "# Hyper Parameters tuning"
   ]
  },
  {
   "cell_type": "code",
   "execution_count": 36,
   "metadata": {
    "colab": {
     "base_uri": "https://localhost:8080/"
    },
    "id": "ZhR3S7sA8KtH",
    "outputId": "c4a2539d-fac6-4738-b92f-fc1f807d9572"
   },
   "outputs": [
    {
     "name": "stdout",
     "output_type": "stream",
     "text": [
      "Requirement already satisfied: optuna in c:\\anaconda\\lib\\site-packages (3.6.1)\n",
      "Requirement already satisfied: alembic>=1.5.0 in c:\\anaconda\\lib\\site-packages (from optuna) (1.13.1)\n",
      "Requirement already satisfied: colorlog in c:\\anaconda\\lib\\site-packages (from optuna) (6.8.2)\n",
      "Requirement already satisfied: numpy in c:\\anaconda\\lib\\site-packages (from optuna) (1.26.4)\n",
      "Requirement already satisfied: packaging>=20.0 in c:\\anaconda\\lib\\site-packages (from optuna) (23.1)\n",
      "Requirement already satisfied: sqlalchemy>=1.3.0 in c:\\anaconda\\lib\\site-packages (from optuna) (2.0.25)\n",
      "Requirement already satisfied: tqdm in c:\\anaconda\\lib\\site-packages (from optuna) (4.65.0)\n",
      "Requirement already satisfied: PyYAML in c:\\anaconda\\lib\\site-packages (from optuna) (6.0.1)\n",
      "Requirement already satisfied: Mako in c:\\anaconda\\lib\\site-packages (from alembic>=1.5.0->optuna) (1.3.5)\n",
      "Requirement already satisfied: typing-extensions>=4 in c:\\anaconda\\lib\\site-packages (from alembic>=1.5.0->optuna) (4.9.0)\n",
      "Requirement already satisfied: greenlet!=0.4.17 in c:\\anaconda\\lib\\site-packages (from sqlalchemy>=1.3.0->optuna) (3.0.1)\n",
      "Requirement already satisfied: colorama in c:\\anaconda\\lib\\site-packages (from colorlog->optuna) (0.4.6)\n",
      "Requirement already satisfied: MarkupSafe>=0.9.2 in c:\\anaconda\\lib\\site-packages (from Mako->alembic>=1.5.0->optuna) (2.1.3)\n",
      "Note: you may need to restart the kernel to use updated packages.\n"
     ]
    }
   ],
   "source": [
    "pip install optuna"
   ]
  },
  {
   "cell_type": "code",
   "execution_count": 37,
   "metadata": {
    "colab": {
     "base_uri": "https://localhost:8080/"
    },
    "id": "AO9b551S7ykQ",
    "outputId": "9c7c2070-d506-4d9e-b3ea-62d7681c5e7d"
   },
   "outputs": [
    {
     "data": {
      "text/plain": [
       "'\\nimport optuna\\nfrom sklearn.ensemble import RandomForestClassifier\\nfrom sklearn.metrics import accuracy_score\\n\\ndef objective(trial):\\n    # Number of trees in random forest\\n    \\n    n_estimators = trial.suggest_int(name=\"n_estimators\", low=100, high=500, step=100)\\n\\n    # Number of features to consider at every split\\n    max_features = trial.suggest_categorical(name=\"max_features\", choices=[\\'auto\\', \\'sqrt\\'])\\n\\n    # Maximum number of levels in tree\\n    max_depth = trial.suggest_int(name=\"max_depth\", low=10, high=110, step=20)\\n\\n    # Minimum number of samples required to split a node\\n    min_samples_split = trial.suggest_int(name=\"min_samples_split\", low=2, high=10, step=2)\\n\\n    # Minimum number of samples required at each leaf node\\n    min_samples_leaf = trial.suggest_int(name=\"min_samples_leaf\", low=1, high=4, step=1)\\n\\n    \\n    # Random state\\n    random_state = trial.suggest_int(name=\"random_state\", low=0, high=100, step=1)\\n    \\n    params = {\\n        \"n_estimators\": n_estimators,\\n        \"max_features\": max_features,\\n        \"max_depth\": max_depth,\\n        \"min_samples_split\": min_samples_split,\\n        \"min_samples_leaf\": min_samples_leaf,\\n        \"random_state\": random_state\\n    }\\n    \\n\\n    params = {\\n        \"random_state\": random_state\\n    }\\n    model = RandomForestClassifier(**params)\\n    model.fit(X_train, y_train)\\n    predictions = model.predict(X_test)\\n    # Calculate the accuracy of the model\\n    accuracy = accuracy_score(y_test, predictions)\\n    return accuracy\\n\\nstudy = optuna.create_study(direction=\\'maximize\\')\\nstudy.optimize(objective, n_trials=30)\\n\\nprint(\\'Best hyperparameters:\\', study.best_params)\\nprint(\\'Best Accuracy:\\', study.best_value)\\n'"
      ]
     },
     "execution_count": 37,
     "metadata": {},
     "output_type": "execute_result"
    }
   ],
   "source": [
    "'''\n",
    "import optuna\n",
    "from sklearn.ensemble import RandomForestClassifier\n",
    "from sklearn.metrics import accuracy_score\n",
    "\n",
    "def objective(trial):\n",
    "    # Number of trees in random forest\n",
    "    \n",
    "    n_estimators = trial.suggest_int(name=\"n_estimators\", low=100, high=500, step=100)\n",
    "\n",
    "    # Number of features to consider at every split\n",
    "    max_features = trial.suggest_categorical(name=\"max_features\", choices=['auto', 'sqrt'])\n",
    "\n",
    "    # Maximum number of levels in tree\n",
    "    max_depth = trial.suggest_int(name=\"max_depth\", low=10, high=110, step=20)\n",
    "\n",
    "    # Minimum number of samples required to split a node\n",
    "    min_samples_split = trial.suggest_int(name=\"min_samples_split\", low=2, high=10, step=2)\n",
    "\n",
    "    # Minimum number of samples required at each leaf node\n",
    "    min_samples_leaf = trial.suggest_int(name=\"min_samples_leaf\", low=1, high=4, step=1)\n",
    "\n",
    "    \n",
    "    # Random state\n",
    "    random_state = trial.suggest_int(name=\"random_state\", low=0, high=100, step=1)\n",
    "    \n",
    "    params = {\n",
    "        \"n_estimators\": n_estimators,\n",
    "        \"max_features\": max_features,\n",
    "        \"max_depth\": max_depth,\n",
    "        \"min_samples_split\": min_samples_split,\n",
    "        \"min_samples_leaf\": min_samples_leaf,\n",
    "        \"random_state\": random_state\n",
    "    }\n",
    "    \n",
    "\n",
    "    params = {\n",
    "        \"random_state\": random_state\n",
    "    }\n",
    "    model = RandomForestClassifier(**params)\n",
    "    model.fit(X_train, y_train)\n",
    "    predictions = model.predict(X_test)\n",
    "    # Calculate the accuracy of the model\n",
    "    accuracy = accuracy_score(y_test, predictions)\n",
    "    return accuracy\n",
    "\n",
    "study = optuna.create_study(direction='maximize')\n",
    "study.optimize(objective, n_trials=30)\n",
    "\n",
    "print('Best hyperparameters:', study.best_params)\n",
    "print('Best Accuracy:', study.best_value)\n",
    "'''"
   ]
  },
  {
   "cell_type": "markdown",
   "metadata": {},
   "source": [
    "## SGD Classifier"
   ]
  },
  {
   "cell_type": "code",
   "execution_count": 38,
   "metadata": {},
   "outputs": [
    {
     "ename": "KeyboardInterrupt",
     "evalue": "",
     "output_type": "error",
     "traceback": [
      "\u001b[1;31m---------------------------------------------------------------------------\u001b[0m",
      "\u001b[1;31mKeyboardInterrupt\u001b[0m                         Traceback (most recent call last)",
      "Cell \u001b[1;32mIn[38], line 6\u001b[0m\n\u001b[0;32m      4\u001b[0m \u001b[38;5;66;03m# Initialize and train the SGDClassifier\u001b[39;00m\n\u001b[0;32m      5\u001b[0m sgd_classifier \u001b[38;5;241m=\u001b[39m SGDClassifier( )\n\u001b[1;32m----> 6\u001b[0m sgd_classifier\u001b[38;5;241m.\u001b[39mfit(X_train, y_train)\n\u001b[0;32m      8\u001b[0m \u001b[38;5;66;03m# Calculate the model training time\u001b[39;00m\n\u001b[0;32m      9\u001b[0m training_time_sgd \u001b[38;5;241m=\u001b[39m time\u001b[38;5;241m.\u001b[39mtime() \u001b[38;5;241m-\u001b[39m start_time_sgd\n",
      "File \u001b[1;32mC:\\anaconda\\Lib\\site-packages\\sklearn\\linear_model\\_stochastic_gradient.py:894\u001b[0m, in \u001b[0;36mBaseSGDClassifier.fit\u001b[1;34m(self, X, y, coef_init, intercept_init, sample_weight)\u001b[0m\n\u001b[0;32m    891\u001b[0m \u001b[38;5;28mself\u001b[39m\u001b[38;5;241m.\u001b[39m_validate_params()\n\u001b[0;32m    892\u001b[0m \u001b[38;5;28mself\u001b[39m\u001b[38;5;241m.\u001b[39m_more_validate_params()\n\u001b[1;32m--> 894\u001b[0m \u001b[38;5;28;01mreturn\u001b[39;00m \u001b[38;5;28mself\u001b[39m\u001b[38;5;241m.\u001b[39m_fit(\n\u001b[0;32m    895\u001b[0m     X,\n\u001b[0;32m    896\u001b[0m     y,\n\u001b[0;32m    897\u001b[0m     alpha\u001b[38;5;241m=\u001b[39m\u001b[38;5;28mself\u001b[39m\u001b[38;5;241m.\u001b[39malpha,\n\u001b[0;32m    898\u001b[0m     C\u001b[38;5;241m=\u001b[39m\u001b[38;5;241m1.0\u001b[39m,\n\u001b[0;32m    899\u001b[0m     loss\u001b[38;5;241m=\u001b[39m\u001b[38;5;28mself\u001b[39m\u001b[38;5;241m.\u001b[39mloss,\n\u001b[0;32m    900\u001b[0m     learning_rate\u001b[38;5;241m=\u001b[39m\u001b[38;5;28mself\u001b[39m\u001b[38;5;241m.\u001b[39mlearning_rate,\n\u001b[0;32m    901\u001b[0m     coef_init\u001b[38;5;241m=\u001b[39mcoef_init,\n\u001b[0;32m    902\u001b[0m     intercept_init\u001b[38;5;241m=\u001b[39mintercept_init,\n\u001b[0;32m    903\u001b[0m     sample_weight\u001b[38;5;241m=\u001b[39msample_weight,\n\u001b[0;32m    904\u001b[0m )\n",
      "File \u001b[1;32mC:\\anaconda\\Lib\\site-packages\\sklearn\\linear_model\\_stochastic_gradient.py:683\u001b[0m, in \u001b[0;36mBaseSGDClassifier._fit\u001b[1;34m(self, X, y, alpha, C, loss, learning_rate, coef_init, intercept_init, sample_weight)\u001b[0m\n\u001b[0;32m    680\u001b[0m \u001b[38;5;66;03m# Clear iteration count for multiple call to fit.\u001b[39;00m\n\u001b[0;32m    681\u001b[0m \u001b[38;5;28mself\u001b[39m\u001b[38;5;241m.\u001b[39mt_ \u001b[38;5;241m=\u001b[39m \u001b[38;5;241m1.0\u001b[39m\n\u001b[1;32m--> 683\u001b[0m \u001b[38;5;28mself\u001b[39m\u001b[38;5;241m.\u001b[39m_partial_fit(\n\u001b[0;32m    684\u001b[0m     X,\n\u001b[0;32m    685\u001b[0m     y,\n\u001b[0;32m    686\u001b[0m     alpha,\n\u001b[0;32m    687\u001b[0m     C,\n\u001b[0;32m    688\u001b[0m     loss,\n\u001b[0;32m    689\u001b[0m     learning_rate,\n\u001b[0;32m    690\u001b[0m     \u001b[38;5;28mself\u001b[39m\u001b[38;5;241m.\u001b[39mmax_iter,\n\u001b[0;32m    691\u001b[0m     classes,\n\u001b[0;32m    692\u001b[0m     sample_weight,\n\u001b[0;32m    693\u001b[0m     coef_init,\n\u001b[0;32m    694\u001b[0m     intercept_init,\n\u001b[0;32m    695\u001b[0m )\n\u001b[0;32m    697\u001b[0m \u001b[38;5;28;01mif\u001b[39;00m (\n\u001b[0;32m    698\u001b[0m     \u001b[38;5;28mself\u001b[39m\u001b[38;5;241m.\u001b[39mtol \u001b[38;5;129;01mis\u001b[39;00m \u001b[38;5;129;01mnot\u001b[39;00m \u001b[38;5;28;01mNone\u001b[39;00m\n\u001b[0;32m    699\u001b[0m     \u001b[38;5;129;01mand\u001b[39;00m \u001b[38;5;28mself\u001b[39m\u001b[38;5;241m.\u001b[39mtol \u001b[38;5;241m>\u001b[39m \u001b[38;5;241m-\u001b[39mnp\u001b[38;5;241m.\u001b[39minf\n\u001b[0;32m    700\u001b[0m     \u001b[38;5;129;01mand\u001b[39;00m \u001b[38;5;28mself\u001b[39m\u001b[38;5;241m.\u001b[39mn_iter_ \u001b[38;5;241m==\u001b[39m \u001b[38;5;28mself\u001b[39m\u001b[38;5;241m.\u001b[39mmax_iter\n\u001b[0;32m    701\u001b[0m ):\n\u001b[0;32m    702\u001b[0m     warnings\u001b[38;5;241m.\u001b[39mwarn(\n\u001b[0;32m    703\u001b[0m         \u001b[38;5;124m\"\u001b[39m\u001b[38;5;124mMaximum number of iteration reached before \u001b[39m\u001b[38;5;124m\"\u001b[39m\n\u001b[0;32m    704\u001b[0m         \u001b[38;5;124m\"\u001b[39m\u001b[38;5;124mconvergence. Consider increasing max_iter to \u001b[39m\u001b[38;5;124m\"\u001b[39m\n\u001b[0;32m    705\u001b[0m         \u001b[38;5;124m\"\u001b[39m\u001b[38;5;124mimprove the fit.\u001b[39m\u001b[38;5;124m\"\u001b[39m,\n\u001b[0;32m    706\u001b[0m         ConvergenceWarning,\n\u001b[0;32m    707\u001b[0m     )\n",
      "File \u001b[1;32mC:\\anaconda\\Lib\\site-packages\\sklearn\\linear_model\\_stochastic_gradient.py:617\u001b[0m, in \u001b[0;36mBaseSGDClassifier._partial_fit\u001b[1;34m(self, X, y, alpha, C, loss, learning_rate, max_iter, classes, sample_weight, coef_init, intercept_init)\u001b[0m\n\u001b[0;32m    615\u001b[0m \u001b[38;5;66;03m# delegate to concrete training procedure\u001b[39;00m\n\u001b[0;32m    616\u001b[0m \u001b[38;5;28;01mif\u001b[39;00m n_classes \u001b[38;5;241m>\u001b[39m \u001b[38;5;241m2\u001b[39m:\n\u001b[1;32m--> 617\u001b[0m     \u001b[38;5;28mself\u001b[39m\u001b[38;5;241m.\u001b[39m_fit_multiclass(\n\u001b[0;32m    618\u001b[0m         X,\n\u001b[0;32m    619\u001b[0m         y,\n\u001b[0;32m    620\u001b[0m         alpha\u001b[38;5;241m=\u001b[39malpha,\n\u001b[0;32m    621\u001b[0m         C\u001b[38;5;241m=\u001b[39mC,\n\u001b[0;32m    622\u001b[0m         learning_rate\u001b[38;5;241m=\u001b[39mlearning_rate,\n\u001b[0;32m    623\u001b[0m         sample_weight\u001b[38;5;241m=\u001b[39msample_weight,\n\u001b[0;32m    624\u001b[0m         max_iter\u001b[38;5;241m=\u001b[39mmax_iter,\n\u001b[0;32m    625\u001b[0m     )\n\u001b[0;32m    626\u001b[0m \u001b[38;5;28;01melif\u001b[39;00m n_classes \u001b[38;5;241m==\u001b[39m \u001b[38;5;241m2\u001b[39m:\n\u001b[0;32m    627\u001b[0m     \u001b[38;5;28mself\u001b[39m\u001b[38;5;241m.\u001b[39m_fit_binary(\n\u001b[0;32m    628\u001b[0m         X,\n\u001b[0;32m    629\u001b[0m         y,\n\u001b[1;32m   (...)\u001b[0m\n\u001b[0;32m    634\u001b[0m         max_iter\u001b[38;5;241m=\u001b[39mmax_iter,\n\u001b[0;32m    635\u001b[0m     )\n",
      "File \u001b[1;32mC:\\anaconda\\Lib\\site-packages\\sklearn\\linear_model\\_stochastic_gradient.py:760\u001b[0m, in \u001b[0;36mBaseSGDClassifier._fit_multiclass\u001b[1;34m(self, X, y, alpha, C, learning_rate, sample_weight, max_iter)\u001b[0m\n\u001b[0;32m    758\u001b[0m random_state \u001b[38;5;241m=\u001b[39m check_random_state(\u001b[38;5;28mself\u001b[39m\u001b[38;5;241m.\u001b[39mrandom_state)\n\u001b[0;32m    759\u001b[0m seeds \u001b[38;5;241m=\u001b[39m random_state\u001b[38;5;241m.\u001b[39mrandint(MAX_INT, size\u001b[38;5;241m=\u001b[39m\u001b[38;5;28mlen\u001b[39m(\u001b[38;5;28mself\u001b[39m\u001b[38;5;241m.\u001b[39mclasses_))\n\u001b[1;32m--> 760\u001b[0m result \u001b[38;5;241m=\u001b[39m Parallel(\n\u001b[0;32m    761\u001b[0m     n_jobs\u001b[38;5;241m=\u001b[39m\u001b[38;5;28mself\u001b[39m\u001b[38;5;241m.\u001b[39mn_jobs, verbose\u001b[38;5;241m=\u001b[39m\u001b[38;5;28mself\u001b[39m\u001b[38;5;241m.\u001b[39mverbose, require\u001b[38;5;241m=\u001b[39m\u001b[38;5;124m\"\u001b[39m\u001b[38;5;124msharedmem\u001b[39m\u001b[38;5;124m\"\u001b[39m\n\u001b[0;32m    762\u001b[0m )(\n\u001b[0;32m    763\u001b[0m     delayed(fit_binary)(\n\u001b[0;32m    764\u001b[0m         \u001b[38;5;28mself\u001b[39m,\n\u001b[0;32m    765\u001b[0m         i,\n\u001b[0;32m    766\u001b[0m         X,\n\u001b[0;32m    767\u001b[0m         y,\n\u001b[0;32m    768\u001b[0m         alpha,\n\u001b[0;32m    769\u001b[0m         C,\n\u001b[0;32m    770\u001b[0m         learning_rate,\n\u001b[0;32m    771\u001b[0m         max_iter,\n\u001b[0;32m    772\u001b[0m         \u001b[38;5;28mself\u001b[39m\u001b[38;5;241m.\u001b[39m_expanded_class_weight[i],\n\u001b[0;32m    773\u001b[0m         \u001b[38;5;241m1.0\u001b[39m,\n\u001b[0;32m    774\u001b[0m         sample_weight,\n\u001b[0;32m    775\u001b[0m         validation_mask\u001b[38;5;241m=\u001b[39mvalidation_mask,\n\u001b[0;32m    776\u001b[0m         random_state\u001b[38;5;241m=\u001b[39mseed,\n\u001b[0;32m    777\u001b[0m     )\n\u001b[0;32m    778\u001b[0m     \u001b[38;5;28;01mfor\u001b[39;00m i, seed \u001b[38;5;129;01min\u001b[39;00m \u001b[38;5;28menumerate\u001b[39m(seeds)\n\u001b[0;32m    779\u001b[0m )\n\u001b[0;32m    781\u001b[0m \u001b[38;5;66;03m# take the maximum of n_iter_ over every binary fit\u001b[39;00m\n\u001b[0;32m    782\u001b[0m n_iter_ \u001b[38;5;241m=\u001b[39m \u001b[38;5;241m0.0\u001b[39m\n",
      "File \u001b[1;32mC:\\anaconda\\Lib\\site-packages\\sklearn\\utils\\parallel.py:63\u001b[0m, in \u001b[0;36mParallel.__call__\u001b[1;34m(self, iterable)\u001b[0m\n\u001b[0;32m     58\u001b[0m config \u001b[38;5;241m=\u001b[39m get_config()\n\u001b[0;32m     59\u001b[0m iterable_with_config \u001b[38;5;241m=\u001b[39m (\n\u001b[0;32m     60\u001b[0m     (_with_config(delayed_func, config), args, kwargs)\n\u001b[0;32m     61\u001b[0m     \u001b[38;5;28;01mfor\u001b[39;00m delayed_func, args, kwargs \u001b[38;5;129;01min\u001b[39;00m iterable\n\u001b[0;32m     62\u001b[0m )\n\u001b[1;32m---> 63\u001b[0m \u001b[38;5;28;01mreturn\u001b[39;00m \u001b[38;5;28msuper\u001b[39m()\u001b[38;5;241m.\u001b[39m\u001b[38;5;21m__call__\u001b[39m(iterable_with_config)\n",
      "File \u001b[1;32mC:\\anaconda\\Lib\\site-packages\\joblib\\parallel.py:1088\u001b[0m, in \u001b[0;36mParallel.__call__\u001b[1;34m(self, iterable)\u001b[0m\n\u001b[0;32m   1085\u001b[0m \u001b[38;5;28;01mif\u001b[39;00m \u001b[38;5;28mself\u001b[39m\u001b[38;5;241m.\u001b[39mdispatch_one_batch(iterator):\n\u001b[0;32m   1086\u001b[0m     \u001b[38;5;28mself\u001b[39m\u001b[38;5;241m.\u001b[39m_iterating \u001b[38;5;241m=\u001b[39m \u001b[38;5;28mself\u001b[39m\u001b[38;5;241m.\u001b[39m_original_iterator \u001b[38;5;129;01mis\u001b[39;00m \u001b[38;5;129;01mnot\u001b[39;00m \u001b[38;5;28;01mNone\u001b[39;00m\n\u001b[1;32m-> 1088\u001b[0m \u001b[38;5;28;01mwhile\u001b[39;00m \u001b[38;5;28mself\u001b[39m\u001b[38;5;241m.\u001b[39mdispatch_one_batch(iterator):\n\u001b[0;32m   1089\u001b[0m     \u001b[38;5;28;01mpass\u001b[39;00m\n\u001b[0;32m   1091\u001b[0m \u001b[38;5;28;01mif\u001b[39;00m pre_dispatch \u001b[38;5;241m==\u001b[39m \u001b[38;5;124m\"\u001b[39m\u001b[38;5;124mall\u001b[39m\u001b[38;5;124m\"\u001b[39m \u001b[38;5;129;01mor\u001b[39;00m n_jobs \u001b[38;5;241m==\u001b[39m \u001b[38;5;241m1\u001b[39m:\n\u001b[0;32m   1092\u001b[0m     \u001b[38;5;66;03m# The iterable was consumed all at once by the above for loop.\u001b[39;00m\n\u001b[0;32m   1093\u001b[0m     \u001b[38;5;66;03m# No need to wait for async callbacks to trigger to\u001b[39;00m\n\u001b[0;32m   1094\u001b[0m     \u001b[38;5;66;03m# consumption.\u001b[39;00m\n",
      "File \u001b[1;32mC:\\anaconda\\Lib\\site-packages\\joblib\\parallel.py:901\u001b[0m, in \u001b[0;36mParallel.dispatch_one_batch\u001b[1;34m(self, iterator)\u001b[0m\n\u001b[0;32m    899\u001b[0m     \u001b[38;5;28;01mreturn\u001b[39;00m \u001b[38;5;28;01mFalse\u001b[39;00m\n\u001b[0;32m    900\u001b[0m \u001b[38;5;28;01melse\u001b[39;00m:\n\u001b[1;32m--> 901\u001b[0m     \u001b[38;5;28mself\u001b[39m\u001b[38;5;241m.\u001b[39m_dispatch(tasks)\n\u001b[0;32m    902\u001b[0m     \u001b[38;5;28;01mreturn\u001b[39;00m \u001b[38;5;28;01mTrue\u001b[39;00m\n",
      "File \u001b[1;32mC:\\anaconda\\Lib\\site-packages\\joblib\\parallel.py:819\u001b[0m, in \u001b[0;36mParallel._dispatch\u001b[1;34m(self, batch)\u001b[0m\n\u001b[0;32m    817\u001b[0m \u001b[38;5;28;01mwith\u001b[39;00m \u001b[38;5;28mself\u001b[39m\u001b[38;5;241m.\u001b[39m_lock:\n\u001b[0;32m    818\u001b[0m     job_idx \u001b[38;5;241m=\u001b[39m \u001b[38;5;28mlen\u001b[39m(\u001b[38;5;28mself\u001b[39m\u001b[38;5;241m.\u001b[39m_jobs)\n\u001b[1;32m--> 819\u001b[0m     job \u001b[38;5;241m=\u001b[39m \u001b[38;5;28mself\u001b[39m\u001b[38;5;241m.\u001b[39m_backend\u001b[38;5;241m.\u001b[39mapply_async(batch, callback\u001b[38;5;241m=\u001b[39mcb)\n\u001b[0;32m    820\u001b[0m     \u001b[38;5;66;03m# A job can complete so quickly than its callback is\u001b[39;00m\n\u001b[0;32m    821\u001b[0m     \u001b[38;5;66;03m# called before we get here, causing self._jobs to\u001b[39;00m\n\u001b[0;32m    822\u001b[0m     \u001b[38;5;66;03m# grow. To ensure correct results ordering, .insert is\u001b[39;00m\n\u001b[0;32m    823\u001b[0m     \u001b[38;5;66;03m# used (rather than .append) in the following line\u001b[39;00m\n\u001b[0;32m    824\u001b[0m     \u001b[38;5;28mself\u001b[39m\u001b[38;5;241m.\u001b[39m_jobs\u001b[38;5;241m.\u001b[39minsert(job_idx, job)\n",
      "File \u001b[1;32mC:\\anaconda\\Lib\\site-packages\\joblib\\_parallel_backends.py:208\u001b[0m, in \u001b[0;36mSequentialBackend.apply_async\u001b[1;34m(self, func, callback)\u001b[0m\n\u001b[0;32m    206\u001b[0m \u001b[38;5;28;01mdef\u001b[39;00m \u001b[38;5;21mapply_async\u001b[39m(\u001b[38;5;28mself\u001b[39m, func, callback\u001b[38;5;241m=\u001b[39m\u001b[38;5;28;01mNone\u001b[39;00m):\n\u001b[0;32m    207\u001b[0m \u001b[38;5;250m    \u001b[39m\u001b[38;5;124;03m\"\"\"Schedule a func to be run\"\"\"\u001b[39;00m\n\u001b[1;32m--> 208\u001b[0m     result \u001b[38;5;241m=\u001b[39m ImmediateResult(func)\n\u001b[0;32m    209\u001b[0m     \u001b[38;5;28;01mif\u001b[39;00m callback:\n\u001b[0;32m    210\u001b[0m         callback(result)\n",
      "File \u001b[1;32mC:\\anaconda\\Lib\\site-packages\\joblib\\_parallel_backends.py:597\u001b[0m, in \u001b[0;36mImmediateResult.__init__\u001b[1;34m(self, batch)\u001b[0m\n\u001b[0;32m    594\u001b[0m \u001b[38;5;28;01mdef\u001b[39;00m \u001b[38;5;21m__init__\u001b[39m(\u001b[38;5;28mself\u001b[39m, batch):\n\u001b[0;32m    595\u001b[0m     \u001b[38;5;66;03m# Don't delay the application, to avoid keeping the input\u001b[39;00m\n\u001b[0;32m    596\u001b[0m     \u001b[38;5;66;03m# arguments in memory\u001b[39;00m\n\u001b[1;32m--> 597\u001b[0m     \u001b[38;5;28mself\u001b[39m\u001b[38;5;241m.\u001b[39mresults \u001b[38;5;241m=\u001b[39m batch()\n",
      "File \u001b[1;32mC:\\anaconda\\Lib\\site-packages\\joblib\\parallel.py:288\u001b[0m, in \u001b[0;36mBatchedCalls.__call__\u001b[1;34m(self)\u001b[0m\n\u001b[0;32m    284\u001b[0m \u001b[38;5;28;01mdef\u001b[39;00m \u001b[38;5;21m__call__\u001b[39m(\u001b[38;5;28mself\u001b[39m):\n\u001b[0;32m    285\u001b[0m     \u001b[38;5;66;03m# Set the default nested backend to self._backend but do not set the\u001b[39;00m\n\u001b[0;32m    286\u001b[0m     \u001b[38;5;66;03m# change the default number of processes to -1\u001b[39;00m\n\u001b[0;32m    287\u001b[0m     \u001b[38;5;28;01mwith\u001b[39;00m parallel_backend(\u001b[38;5;28mself\u001b[39m\u001b[38;5;241m.\u001b[39m_backend, n_jobs\u001b[38;5;241m=\u001b[39m\u001b[38;5;28mself\u001b[39m\u001b[38;5;241m.\u001b[39m_n_jobs):\n\u001b[1;32m--> 288\u001b[0m         \u001b[38;5;28;01mreturn\u001b[39;00m [func(\u001b[38;5;241m*\u001b[39margs, \u001b[38;5;241m*\u001b[39m\u001b[38;5;241m*\u001b[39mkwargs)\n\u001b[0;32m    289\u001b[0m                 \u001b[38;5;28;01mfor\u001b[39;00m func, args, kwargs \u001b[38;5;129;01min\u001b[39;00m \u001b[38;5;28mself\u001b[39m\u001b[38;5;241m.\u001b[39mitems]\n",
      "File \u001b[1;32mC:\\anaconda\\Lib\\site-packages\\joblib\\parallel.py:288\u001b[0m, in \u001b[0;36m<listcomp>\u001b[1;34m(.0)\u001b[0m\n\u001b[0;32m    284\u001b[0m \u001b[38;5;28;01mdef\u001b[39;00m \u001b[38;5;21m__call__\u001b[39m(\u001b[38;5;28mself\u001b[39m):\n\u001b[0;32m    285\u001b[0m     \u001b[38;5;66;03m# Set the default nested backend to self._backend but do not set the\u001b[39;00m\n\u001b[0;32m    286\u001b[0m     \u001b[38;5;66;03m# change the default number of processes to -1\u001b[39;00m\n\u001b[0;32m    287\u001b[0m     \u001b[38;5;28;01mwith\u001b[39;00m parallel_backend(\u001b[38;5;28mself\u001b[39m\u001b[38;5;241m.\u001b[39m_backend, n_jobs\u001b[38;5;241m=\u001b[39m\u001b[38;5;28mself\u001b[39m\u001b[38;5;241m.\u001b[39m_n_jobs):\n\u001b[1;32m--> 288\u001b[0m         \u001b[38;5;28;01mreturn\u001b[39;00m [func(\u001b[38;5;241m*\u001b[39margs, \u001b[38;5;241m*\u001b[39m\u001b[38;5;241m*\u001b[39mkwargs)\n\u001b[0;32m    289\u001b[0m                 \u001b[38;5;28;01mfor\u001b[39;00m func, args, kwargs \u001b[38;5;129;01min\u001b[39;00m \u001b[38;5;28mself\u001b[39m\u001b[38;5;241m.\u001b[39mitems]\n",
      "File \u001b[1;32mC:\\anaconda\\Lib\\site-packages\\sklearn\\utils\\parallel.py:123\u001b[0m, in \u001b[0;36m_FuncWrapper.__call__\u001b[1;34m(self, *args, **kwargs)\u001b[0m\n\u001b[0;32m    121\u001b[0m     config \u001b[38;5;241m=\u001b[39m {}\n\u001b[0;32m    122\u001b[0m \u001b[38;5;28;01mwith\u001b[39;00m config_context(\u001b[38;5;241m*\u001b[39m\u001b[38;5;241m*\u001b[39mconfig):\n\u001b[1;32m--> 123\u001b[0m     \u001b[38;5;28;01mreturn\u001b[39;00m \u001b[38;5;28mself\u001b[39m\u001b[38;5;241m.\u001b[39mfunction(\u001b[38;5;241m*\u001b[39margs, \u001b[38;5;241m*\u001b[39m\u001b[38;5;241m*\u001b[39mkwargs)\n",
      "File \u001b[1;32mC:\\anaconda\\Lib\\site-packages\\sklearn\\linear_model\\_stochastic_gradient.py:446\u001b[0m, in \u001b[0;36mfit_binary\u001b[1;34m(est, i, X, y, alpha, C, learning_rate, max_iter, pos_weight, neg_weight, sample_weight, validation_mask, random_state)\u001b[0m\n\u001b[0;32m    442\u001b[0m seed \u001b[38;5;241m=\u001b[39m random_state\u001b[38;5;241m.\u001b[39mrandint(MAX_INT)\n\u001b[0;32m    444\u001b[0m tol \u001b[38;5;241m=\u001b[39m est\u001b[38;5;241m.\u001b[39mtol \u001b[38;5;28;01mif\u001b[39;00m est\u001b[38;5;241m.\u001b[39mtol \u001b[38;5;129;01mis\u001b[39;00m \u001b[38;5;129;01mnot\u001b[39;00m \u001b[38;5;28;01mNone\u001b[39;00m \u001b[38;5;28;01melse\u001b[39;00m \u001b[38;5;241m-\u001b[39mnp\u001b[38;5;241m.\u001b[39minf\n\u001b[1;32m--> 446\u001b[0m coef, intercept, average_coef, average_intercept, n_iter_ \u001b[38;5;241m=\u001b[39m _plain_sgd(\n\u001b[0;32m    447\u001b[0m     coef,\n\u001b[0;32m    448\u001b[0m     intercept,\n\u001b[0;32m    449\u001b[0m     average_coef,\n\u001b[0;32m    450\u001b[0m     average_intercept,\n\u001b[0;32m    451\u001b[0m     est\u001b[38;5;241m.\u001b[39mloss_function_,\n\u001b[0;32m    452\u001b[0m     penalty_type,\n\u001b[0;32m    453\u001b[0m     alpha,\n\u001b[0;32m    454\u001b[0m     C,\n\u001b[0;32m    455\u001b[0m     est\u001b[38;5;241m.\u001b[39ml1_ratio,\n\u001b[0;32m    456\u001b[0m     dataset,\n\u001b[0;32m    457\u001b[0m     validation_mask,\n\u001b[0;32m    458\u001b[0m     est\u001b[38;5;241m.\u001b[39mearly_stopping,\n\u001b[0;32m    459\u001b[0m     validation_score_cb,\n\u001b[0;32m    460\u001b[0m     \u001b[38;5;28mint\u001b[39m(est\u001b[38;5;241m.\u001b[39mn_iter_no_change),\n\u001b[0;32m    461\u001b[0m     max_iter,\n\u001b[0;32m    462\u001b[0m     tol,\n\u001b[0;32m    463\u001b[0m     \u001b[38;5;28mint\u001b[39m(est\u001b[38;5;241m.\u001b[39mfit_intercept),\n\u001b[0;32m    464\u001b[0m     \u001b[38;5;28mint\u001b[39m(est\u001b[38;5;241m.\u001b[39mverbose),\n\u001b[0;32m    465\u001b[0m     \u001b[38;5;28mint\u001b[39m(est\u001b[38;5;241m.\u001b[39mshuffle),\n\u001b[0;32m    466\u001b[0m     seed,\n\u001b[0;32m    467\u001b[0m     pos_weight,\n\u001b[0;32m    468\u001b[0m     neg_weight,\n\u001b[0;32m    469\u001b[0m     learning_rate_type,\n\u001b[0;32m    470\u001b[0m     est\u001b[38;5;241m.\u001b[39meta0,\n\u001b[0;32m    471\u001b[0m     est\u001b[38;5;241m.\u001b[39mpower_t,\n\u001b[0;32m    472\u001b[0m     \u001b[38;5;241m0\u001b[39m,\n\u001b[0;32m    473\u001b[0m     est\u001b[38;5;241m.\u001b[39mt_,\n\u001b[0;32m    474\u001b[0m     intercept_decay,\n\u001b[0;32m    475\u001b[0m     est\u001b[38;5;241m.\u001b[39maverage,\n\u001b[0;32m    476\u001b[0m )\n\u001b[0;32m    478\u001b[0m \u001b[38;5;28;01mif\u001b[39;00m est\u001b[38;5;241m.\u001b[39maverage:\n\u001b[0;32m    479\u001b[0m     \u001b[38;5;28;01mif\u001b[39;00m \u001b[38;5;28mlen\u001b[39m(est\u001b[38;5;241m.\u001b[39mclasses_) \u001b[38;5;241m==\u001b[39m \u001b[38;5;241m2\u001b[39m:\n",
      "\u001b[1;31mKeyboardInterrupt\u001b[0m: "
     ]
    }
   ],
   "source": [
    "# Initialize and start the timer for model training\n",
    "start_time_sgd = time.time()\n",
    "\n",
    "# Initialize and train the SGDClassifier\n",
    "sgd_classifier = SGDClassifier( )\n",
    "sgd_classifier.fit(X_train, y_train)\n",
    "\n",
    "# Calculate the model training time\n",
    "training_time_sgd = time.time() - start_time_sgd\n",
    "\n",
    "# Initialize and start the timer for model execution\n",
    "start_time = time.time()\n",
    "\n",
    "# Predict the labels for the testing set\n",
    "y_pred_sgd = sgd_classifier.predict(X_test)\n",
    "\n",
    "# Calculate the model execution time\n",
    "execution_time_sgd = ( time.time() - start_time ) / 130239\n",
    "\n",
    "print(classification_report(y_test, y_pred_sgd))\n",
    "\n",
    "score = metrics.accuracy_score(y_test, y_pred_sgd)\n",
    "print(\"accuracy:   %0.3f\" % score)"
   ]
  },
  {
   "cell_type": "markdown",
   "metadata": {},
   "source": [
    "## Extra_trees_classifier"
   ]
  },
  {
   "cell_type": "code",
   "execution_count": null,
   "metadata": {},
   "outputs": [],
   "source": [
    "# Initialize and start the timer for model training\n",
    "start_time_et = time.time()\n",
    "\n",
    "# Initialize and train the ExtraTreesClassifier\n",
    "extra_trees_classifier = ExtraTreesClassifier( )\n",
    "extra_trees_classifier.fit(X_train, y_train)\n",
    "\n",
    "# Calculate the model training time\n",
    "training_time_et = time.time() - start_time_et\n",
    "\n",
    "# Initialize and start the timer for model execution\n",
    "start_time = time.time()\n",
    "\n",
    "# Predict the labels for the testing set\n",
    "y_pred_extra_trees = extra_trees_classifier.predict(X_test)\n",
    "\n",
    "# Calculate the model execution time\n",
    "execution_time_et = ( time.time() - start_time ) / 130239\n",
    "\n",
    "print(classification_report(y_test, y_pred_extra_trees))\n",
    "\n",
    "score = metrics.accuracy_score(y_test, y_pred_extra_trees)\n",
    "print(\"accuracy:   %0.3f\" % score)"
   ]
  },
  {
   "cell_type": "code",
   "execution_count": null,
   "metadata": {},
   "outputs": [],
   "source": [
    "CM_Extra=confusion_matrix(y_test, y_pred_extra_trees ,labels=[0,1,2,3])\n",
    "\n",
    "plot_confusion_matrix(CM_Extra, classes=['benign', 'defacement','phishing','malware'])"
   ]
  },
  {
   "cell_type": "code",
   "execution_count": null,
   "metadata": {},
   "outputs": [],
   "source": [
    "from sklearn.metrics import ConfusionMatrixDisplay\n",
    "sample_weight = (y_pred_extra_trees != y_test)\n",
    "ConfusionMatrixDisplay.from_predictions(y_test, y_pred_extra_trees, sample_weight=sample_weight, normalize=\"true\", values_format=\".0%\")\n",
    "plt.title('Extra trees classifier Error Matrix')\n",
    "plt.ylabel('Actual Values')\n",
    "plt.xlabel('Predicted Values')\n",
    "# Save the plot as a PDF\n",
    "plt.savefig('Extra trees classifier Error Matrix.pdf', format='pdf')\n",
    "plt.show()"
   ]
  },
  {
   "cell_type": "code",
   "execution_count": null,
   "metadata": {},
   "outputs": [],
   "source": [
    "et_feature = extra_trees_classifier.feature_importances_\n",
    "et_features = et_feature.tolist()"
   ]
  },
  {
   "cell_type": "markdown",
   "metadata": {},
   "source": [
    "## Random Forest Classifier"
   ]
  },
  {
   "cell_type": "code",
   "execution_count": null,
   "metadata": {
    "colab": {
     "base_uri": "https://localhost:8080/"
    },
    "id": "p8XKaihFyjav",
    "outputId": "d2cc1310-0d0e-4630-e894-7bd48ddf4653"
   },
   "outputs": [],
   "source": [
    "# Initialize and start the timer for model training\n",
    "start_time_rf = time.time()\n",
    "\n",
    "rf = RandomForestClassifier( )\n",
    "rf.fit(X_train, y_train)\n",
    "\n",
    "# Calculate the model training time\n",
    "training_time_rf = time.time() - start_time_rf\n",
    "\n",
    "y_pred_train_RF = rf.predict(X_train)\n",
    "\n",
    "# Initialize and start the timer for model execution\n",
    "start_time = time.time()\n",
    "\n",
    "y_pred_RF = rf.predict(X_test)\n",
    "\n",
    "# Calculate the model execution time\n",
    "execution_time_rf = ( time.time() - start_time ) / 130239\n",
    "\n",
    "print(classification_report(y_test,y_pred_RF))\n",
    "\n",
    "score = metrics.accuracy_score(y_test, y_pred_RF)\n",
    "print(\"accuracy:   %0.3f\" % score)"
   ]
  },
  {
   "cell_type": "code",
   "execution_count": null,
   "metadata": {},
   "outputs": [],
   "source": [
    "rf_train=rf.predict(X_train)\n",
    "rf_test=rf.predict(X_test)"
   ]
  },
  {
   "cell_type": "code",
   "execution_count": null,
   "metadata": {
    "colab": {
     "base_uri": "https://localhost:8080/",
     "height": 524
    },
    "id": "O9fxYlp1yk98",
    "outputId": "d8a35636-0f9b-4dc0-9072-642c58fdfe19"
   },
   "outputs": [],
   "source": [
    "CM_RF=confusion_matrix(y_test,y_pred_RF,labels=[0,1,2,3])\n",
    "\n",
    "plot_confusion_matrix(CM_RF,classes=['benign', 'defacement','phishing','malware'])"
   ]
  },
  {
   "cell_type": "code",
   "execution_count": null,
   "metadata": {},
   "outputs": [],
   "source": [
    "from sklearn.metrics import ConfusionMatrixDisplay\n",
    "sample_weight = (y_pred_RF != y_test)\n",
    "ConfusionMatrixDisplay.from_predictions(y_test, y_pred_RF, sample_weight=sample_weight, normalize=\"true\", values_format=\".0%\")\n",
    "plt.title('Random Forest Classifier Error Matrix')\n",
    "plt.ylabel('Actual Values')\n",
    "plt.xlabel('Predicted Values')\n",
    "# Save the plot as a PDF\n",
    "plt.savefig('Random Forest Classifier Error Matrix.pdf', format='pdf')\n",
    "plt.show()"
   ]
  },
  {
   "cell_type": "code",
   "execution_count": null,
   "metadata": {},
   "outputs": [],
   "source": [
    "rf_feature = rf.feature_importances_\n",
    "rf_features = rf_feature.tolist()"
   ]
  },
  {
   "cell_type": "markdown",
   "metadata": {},
   "source": [
    "## XGB Classifier"
   ]
  },
  {
   "cell_type": "code",
   "execution_count": null,
   "metadata": {
    "colab": {
     "base_uri": "https://localhost:8080/"
    },
    "id": "gEdrYWoHJdOE",
    "outputId": "2f4231f7-2381-4ac2-81f9-b3afe27b967c"
   },
   "outputs": [],
   "source": [
    "# Initialize and start the timer for model training\n",
    "start_time_xgb = time.time()\n",
    "\n",
    "model_xgb = xgb.XGBClassifier( )\n",
    "model_xgb.fit(X_train,y_train)\n",
    "\n",
    "# Calculate the model training time\n",
    "training_time_xgb = time.time() - start_time_xgb\n",
    "\n",
    "# Initialize and start the timer for model execution\n",
    "start_time = time.time()\n",
    "\n",
    "y_pred_xgb = model_xgb.predict(X_test)\n",
    "\n",
    "# Calculate the model execution time\n",
    "execution_time_xgb = ( time.time() - start_time ) / 130239\n",
    "\n",
    "print(classification_report(y_test,y_pred_xgb))\n",
    "\n",
    "score = metrics.accuracy_score(y_test, y_pred_xgb)\n",
    "print(\"accuracy:   %0.3f\" % score)"
   ]
  },
  {
   "cell_type": "code",
   "execution_count": null,
   "metadata": {},
   "outputs": [],
   "source": [
    "model_xgb_train=model_xgb.predict(X_train)\n",
    "model_xgb_test=model_xgb.predict(X_test)"
   ]
  },
  {
   "cell_type": "code",
   "execution_count": null,
   "metadata": {
    "colab": {
     "base_uri": "https://localhost:8080/",
     "height": 524
    },
    "id": "5w-9XmogJdOE",
    "outputId": "8c1f8e3c-7eb0-4190-ef76-4513e6837cfb"
   },
   "outputs": [],
   "source": [
    "CM=confusion_matrix(y_test,y_pred_xgb,labels=[0,1,2,3])\n",
    "\n",
    "plot_confusion_matrix(CM,classes=['benign', 'defacement','phishing','malware'])"
   ]
  },
  {
   "cell_type": "code",
   "execution_count": null,
   "metadata": {
    "id": "zzSdd_jtJdOF"
   },
   "outputs": [],
   "source": [
    "xgb_feature = model_xgb.feature_importances_\n",
    "xgb_features = xgb_feature.tolist()"
   ]
  },
  {
   "cell_type": "markdown",
   "metadata": {},
   "source": [
    "## Gradient Boosting Classifier"
   ]
  },
  {
   "cell_type": "code",
   "execution_count": null,
   "metadata": {
    "colab": {
     "base_uri": "https://localhost:8080/"
    },
    "id": "lqJy0qMYJdOF",
    "outputId": "1063efb8-9fcc-4467-93b3-7e06c1210500"
   },
   "outputs": [],
   "source": [
    "from sklearn.ensemble import GradientBoostingClassifier\n",
    "# gbdt = GradientBoostingClassifier(n_estimators=100,max_features='sqrt')\n",
    "\n",
    "# Initialize and start the timer for model training\n",
    "start_time_gbc = time.time()\n",
    "\n",
    "gbdt = GradientBoostingClassifier( )\n",
    "gbdt.fit(X_train,y_train)\n",
    "\n",
    "# Calculate the model training time\n",
    "training_time_gbc = time.time() - start_time_gbc\n",
    "\n",
    "# Initialize and start the timer for model execution\n",
    "start_time = time.time()\n",
    "\n",
    "y_pred_gdbt = gbdt.predict(X_test)\n",
    "\n",
    "# Calculate the model execution time\n",
    "execution_time_gbc = ( time.time() - start_time ) / 130239\n",
    "\n",
    "print(classification_report(y_test,y_pred_gdbt))\n",
    "\n",
    "score = metrics.accuracy_score(y_test, y_pred_gdbt)\n",
    "print(\"accuracy:   %0.3f\" % score)"
   ]
  },
  {
   "cell_type": "code",
   "execution_count": null,
   "metadata": {},
   "outputs": [],
   "source": [
    "gbdt_train=gbdt.predict(X_train)\n",
    "gbdt_test=gbdt.predict(X_test)"
   ]
  },
  {
   "cell_type": "code",
   "execution_count": null,
   "metadata": {
    "id": "1t39e7fXJdOF"
   },
   "outputs": [],
   "source": [
    "gbdt_feature = gbdt.feature_importances_\n",
    "gbdt_features = gbdt_feature.tolist()"
   ]
  },
  {
   "cell_type": "markdown",
   "metadata": {},
   "source": [
    "## Ada Boost Classifier"
   ]
  },
  {
   "cell_type": "code",
   "execution_count": null,
   "metadata": {},
   "outputs": [],
   "source": [
    "# Initialize and train the AdaBoostClassifier\n",
    "# ada_classifier = AdaBoostClassifier(random_state=42)\n",
    "\n",
    "# Initialize and start the timer for model training\n",
    "start_time_ada = time.time()\n",
    "\n",
    "ada_classifier = AdaBoostClassifier( )\n",
    "ada_classifier.fit(X_train, y_train)\n",
    "\n",
    "# Calculate the model training time\n",
    "training_time_ada = time.time() - start_time_ada\n",
    "\n",
    "# Initialize and start the timer for model execution\n",
    "start_time = time.time()\n",
    "\n",
    "# Predict the labels for the testing set\n",
    "y_pred_ada = ada_classifier.predict(X_test)\n",
    "\n",
    "# Calculate the model execution time\n",
    "execution_time_ada = ( time.time() - start_time ) / 130239\n",
    "\n",
    "print(classification_report(y_test,y_pred_ada))\n",
    "\n",
    "score = metrics.accuracy_score(y_test, y_pred_ada)\n",
    "print(\"accuracy:   %0.3f\" % score)"
   ]
  },
  {
   "cell_type": "markdown",
   "metadata": {},
   "source": [
    "## stacking"
   ]
  },
  {
   "cell_type": "code",
   "execution_count": null,
   "metadata": {},
   "outputs": [],
   "source": [
    "base_predictions_train = pd.DataFrame( {\n",
    "    'LGBM Classifier': lgb_train.ravel(),\n",
    "        'Random Forest Classifier': rf_train.ravel(),\n",
    "     'XGB Classifier': model_xgb_train.ravel(),\n",
    "     'Gradient Boosting Classifier': gbdt_train.ravel(),\n",
    "    })\n",
    "base_predictions_train.head(5)"
   ]
  },
  {
   "cell_type": "code",
   "execution_count": null,
   "metadata": {},
   "outputs": [],
   "source": [
    "lgb_train=lgb_train.reshape(-1, 1)\n",
    "rf_train=rf_train.reshape(-1, 1)\n",
    "model_xgb_train=model_xgb_train.reshape(-1, 1)\n",
    "gbdt_train=gbdt_train.reshape(-1, 1)\n",
    "lgb_test=lgb_test.reshape(-1, 1)\n",
    "rf_test=rf_test.reshape(-1, 1)\n",
    "model_xgb_test=model_xgb_test.reshape(-1, 1)\n",
    "gbdt_test=gbdt_test.reshape(-1, 1)"
   ]
  },
  {
   "cell_type": "code",
   "execution_count": null,
   "metadata": {},
   "outputs": [],
   "source": [
    "x_train = np.concatenate(( lgb_train, rf_train, model_xgb_train, gbdt_train), axis=1)\n",
    "x_test = np.concatenate(( lgb_test, rf_test, model_xgb_test, gbdt_test), axis=1)"
   ]
  },
  {
   "cell_type": "code",
   "execution_count": null,
   "metadata": {},
   "outputs": [],
   "source": [
    "from sklearn.metrics import precision_recall_fscore_support\n",
    "import seaborn as sns\n",
    "\n",
    "# Initialize and start the timer for model training\n",
    "start_time_stk = time.time()\n",
    "\n",
    "stk = xgb.XGBClassifier().fit(x_train, y_train)\n",
    "\n",
    "# Calculate the model training time\n",
    "training_time_stk = time.time() - start_time_stk\n",
    "\n",
    "# Initialize and start the timer for model execution\n",
    "start_time = time.time()\n",
    "\n",
    "y_predict=stk.predict(x_test)\n",
    "\n",
    "# Calculate the model execution time\n",
    "execution_time_stk = ( time.time() - start_time ) / 130239\n",
    "\n",
    "y_true=y_test\n",
    "stk_score=accuracy_score(y_true,y_predict)\n",
    "print('Accuracy of Stacking: '+ str(stk_score))\n",
    "precision,recall,fscore,none= precision_recall_fscore_support(y_true, y_predict, average='weighted') \n",
    "print('Precision of Stacking: '+(str(precision)))\n",
    "print('Recall of Stacking: '+(str(recall)))\n",
    "print('F1-score of Stacking: '+(str(fscore)))\n",
    "print(classification_report(y_true,y_predict))"
   ]
  },
  {
   "cell_type": "code",
   "execution_count": null,
   "metadata": {},
   "outputs": [],
   "source": [
    "CM=confusion_matrix(y_test, y_predict, labels=[0,1,2,3])\n",
    "\n",
    "plot_confusion_matrix(CM,classes=['benign', 'defacement','phishing','malware'])"
   ]
  },
  {
   "cell_type": "code",
   "execution_count": null,
   "metadata": {},
   "outputs": [],
   "source": [
    "from sklearn.metrics import ConfusionMatrixDisplay\n",
    "sample_weight = (y_predict != y_test)\n",
    "ConfusionMatrixDisplay.from_predictions(y_test, y_predict, sample_weight=sample_weight, normalize=\"true\", values_format=\".0%\")\n",
    "plt.title('Stacking - XGB Classifier Error Matrix')\n",
    "plt.ylabel('Actual Values')\n",
    "plt.xlabel('Predicted Values')\n",
    "# Save the plot as a PDF\n",
    "plt.savefig('Stacking - XGB Classifier Error Matrix.pdf', format='pdf')\n",
    "plt.show()"
   ]
  },
  {
   "cell_type": "code",
   "execution_count": null,
   "metadata": {},
   "outputs": [],
   "source": [
    "stk_feature = stk.feature_importances_\n",
    "stk_features = gbdt_feature.tolist()"
   ]
  },
  {
   "cell_type": "markdown",
   "metadata": {},
   "source": [
    "## Performance Metrics"
   ]
  },
  {
   "cell_type": "code",
   "execution_count": null,
   "metadata": {},
   "outputs": [],
   "source": [
    "from sklearn.metrics import classification_report, precision_score, recall_score, f1_score, accuracy_score\n",
    "\n",
    "# Assuming you have imported the classifiers and defined their predictions\n",
    "classifiers = [y_pred_ada, y_pred_sgd, y_pred_extra_trees, y_pred, y_pred_RF, y_pred_xgb, y_pred_gdbt, y_predict]\n",
    "model_names = ['Ada Boost', 'SGD', 'Extra Trees', 'LGBM', 'Random Forest', 'XGB', 'Gradient Boosting', 'Stacking']\n",
    "\n",
    "# Create a dictionary to map model names to their respective predictions\n",
    "classifier_map = dict(zip(model_names, classifiers))\n",
    "\n",
    "# Now you can use this dictionary to iterate over each model name and its predictions\n",
    "for model_name, y_pred in classifier_map.items():\n",
    "    accuracy = accuracy_score(y_test, y_pred)\n",
    "    precision = precision_score(y_test, y_pred, average='weighted')\n",
    "    recall = recall_score(y_test, y_pred, average='weighted')\n",
    "    f1score = f1_score(y_test, y_pred, average='weighted')\n",
    "    class_report = classification_report(y_test, y_pred)\n",
    "\n",
    "    print(f\"\\nMetrics for Model '{model_name}':\")\n",
    "    print(f\"Accuracy: {accuracy}\")\n",
    "    print(f\"Precision: {precision}\")\n",
    "    print(f\"Recall: {recall}\")\n",
    "    print(f\"F1-score: {f1score}\")\n",
    "    print(f\"Classification Report:\\n{class_report}\")\n"
   ]
  },
  {
   "cell_type": "code",
   "execution_count": null,
   "metadata": {
    "scrolled": true
   },
   "outputs": [],
   "source": [
    "import numpy as np\n",
    "import matplotlib.pyplot as plt\n",
    "from matplotlib.ticker import PercentFormatter\n",
    "\n",
    "# Initialize data for the bar chart\n",
    "models = list(classifier_map.keys())\n",
    "metrics = ['Accuracy', 'Precision', 'Recall', 'F1-score']\n",
    "\n",
    "# Calculate metric scores for each model\n",
    "metric_scores = {}\n",
    "for metric in metrics:\n",
    "    metric_scores[metric] = [accuracy_score(y_test, classifier_map[model_name]) if metric == 'Accuracy'\n",
    "                             else precision_score(y_test, classifier_map[model_name], average='weighted') if metric == 'Precision'\n",
    "                             else recall_score(y_test, classifier_map[model_name], average='weighted') if metric == 'Recall'\n",
    "                             else f1_score(y_test, classifier_map[model_name], average='weighted') for model_name in models]\n",
    "\n",
    "# Set width of bars\n",
    "bar_width = 0.16\n",
    "\n",
    "# Set position of bars on X axis\n",
    "r1 = np.arange(len(models))\n",
    "r2 = [x + bar_width for x in r1]\n",
    "r3 = [x + bar_width for x in r2]\n",
    "r4 = [x + bar_width for x in r3]\n",
    "\n",
    "plt.figure(figsize=(10, 6))\n",
    "\n",
    "# Define light colors\n",
    "colors = ['#48C9B0', '#FFA500', '#FF6347', '#7B68EE']\n",
    "\n",
    "# Plotting the bars\n",
    "bars = []\n",
    "bars.append(plt.bar(r1, metric_scores['Accuracy'], color=colors[0], width=bar_width, edgecolor='grey', label='Accuracy'))\n",
    "bars.append(plt.bar(r2, metric_scores['Precision'], color=colors[1], width=bar_width, edgecolor='grey', label='Precision'))\n",
    "bars.append(plt.bar(r3, metric_scores['Recall'], color=colors[2], width=bar_width, edgecolor='grey', label='Recall'))\n",
    "bars.append(plt.bar(r4, metric_scores['F1-score'], color=colors[3], width=bar_width, edgecolor='grey', label='F1-score'))\n",
    "\n",
    "# Adding labels on top of each bar with percentage format\n",
    "for i, container in enumerate(bars):\n",
    "   for j, bar in enumerate(container):\n",
    "       yval = bar.get_height()\n",
    "       if yval == max(metric_scores[metrics[i]]):\n",
    "           plt.text(bar.get_x() + bar.get_width()/2.0, yval + 0.005, f'{yval*100:.2f}%', va='bottom', ha='center', rotation=90, fontsize=8, weight='bold')\n",
    "       else:\n",
    "           plt.text(bar.get_x() + bar.get_width()/2.0, yval + 0.005, f'{yval*100:.2f}%', va='bottom', ha='center', rotation=90, fontsize=8)\n",
    "\n",
    "# Add xticks on the middle of the group bars\n",
    "plt.xlabel('Models', fontweight='bold')\n",
    "plt.xticks([r + bar_width*1.5 for r in range(len(models))], models)\n",
    "\n",
    "# Set y-axis as percentage and its limits\n",
    "plt.gca().yaxis.set_major_formatter(PercentFormatter(xmax=1))\n",
    "plt.ylim(0.3, 1.3)  # Keep the original scale but now interpreted as percentages\n",
    "\n",
    "# Add a legend and show the plot\n",
    "plt.legend()\n",
    "# Save the plot as a PDF\n",
    "plt.savefig('Model Performance Comparison.pdf', format='pdf')\n",
    "plt.show()"
   ]
  },
  {
   "cell_type": "markdown",
   "metadata": {},
   "source": [
    "# Training Time Comparision"
   ]
  },
  {
   "cell_type": "code",
   "execution_count": null,
   "metadata": {},
   "outputs": [],
   "source": [
    "import numpy as np\n",
    "import matplotlib.pyplot as plt\n",
    "\n",
    "# Assuming you have imported the classifiers and defined their training times\n",
    "training_times = [training_time_ada, training_time_sgd, training_time_et, training_time_lgbm, training_time_rf, training_time_xgb, training_time_gbc, training_time_stk]\n",
    "\n",
    "# Transpose the training_times list to make it a 2D array\n",
    "training_times = np.array(training_times).T\n",
    "\n",
    "# Initialize data for the line plot\n",
    "training_models = ['AdaBoost', 'SGD', 'ExtraTrees', 'LGBM', 'RandomForest', 'XGBoost', 'GrandientBoosting', 'Stacking']  # Assuming these are your model names\n",
    "\n",
    "# Set figure size\n",
    "plt.figure(figsize=(10, 6))\n",
    "\n",
    "# Define line colors and styles\n",
    "colors = ['#48C9B0', '#FFA500', '#FF6347', '#7B68EE', '#8A2BE2']\n",
    "linestyles = ['-', '--', ':', '-.', '-']\n",
    "\n",
    "plt.plot(training_models, training_times, color=colors[i], linestyle=linestyles[i], linewidth=2, marker='o', markersize=8, label='Training Time')\n",
    "\n",
    "# Add grid and axis labels\n",
    "plt.grid(True)\n",
    "plt.xlabel('Model', fontweight='bold', fontsize=12)\n",
    "plt.ylabel('Training Time (seconds)', fontweight='bold', fontsize=12)\n",
    "\n",
    "# Set x-axis tick labels\n",
    "plt.xticks(training_models, training_models, rotation=45, ha='right', fontsize=10)\n",
    "\n",
    "# Add a legend\n",
    "plt.legend(loc='upper left', fontsize=10)\n",
    "\n",
    "# Adjust the layout\n",
    "plt.tight_layout()\n",
    "\n",
    "# Save the plot as a PDF\n",
    "plt.savefig('Model Training Time Comparison.pdf', format='pdf')\n",
    "plt.show()"
   ]
  },
  {
   "cell_type": "markdown",
   "metadata": {},
   "source": [
    "# Execution Time Comparision"
   ]
  },
  {
   "cell_type": "code",
   "execution_count": null,
   "metadata": {},
   "outputs": [],
   "source": [
    "import numpy as np\n",
    "import matplotlib.pyplot as plt\n",
    "import matplotlib.font_manager as font_manager\n",
    "\n",
    "# Assuming you have imported the classifiers and defined their predicting times\n",
    "execution_times = [execution_time_ada * 1_000_000,\n",
    "                   execution_time_sgd * 1_000_000,\n",
    "                   execution_time_et * 1_000_000,\n",
    "                   execution_time_lgbm * 1_000_000,\n",
    "                   execution_time_rf * 1_000_000,\n",
    "                   execution_time_xgb * 1_000_000,\n",
    "                   execution_time_gbc * 1_000_000,\n",
    "                   execution_time_stk * 1_000_000]\n",
    "model_names = ['AdaBoostClassifier', 'SGD Classifier', 'ExtraTrees Classifier', 'LGBM', 'RandomForestClassifier', 'XGBClassifier', 'GradientBoostingClassifier', 'Stacking']\n",
    "\n",
    "execution_time = ['Execution Time']\n",
    "\n",
    "# Create a dictionary to map model names to their execution_times (optional since we directly use execution_times and model_names)\n",
    "# execution_times_map = dict(zip(model_names, execution_times))\n",
    "\n",
    "# Initialize data for the line plot\n",
    "x = np.arange(len(model_names))\n",
    "\n",
    "# Set up the figure and axis\n",
    "fig, ax = plt.subplots(figsize=(10, 6))\n",
    "\n",
    "# Define the line properties\n",
    "line_width = 2\n",
    "marker_size = 8\n",
    "marker_style = 'o'\n",
    "\n",
    "# Plot the line graph\n",
    "ax.plot(x, execution_times, linewidth=line_width, marker=marker_style, markersize=marker_size, color='#1f77b4')\n",
    "\n",
    "# Add axis labels and title\n",
    "ax.set_xlabel('Model', fontweight='bold', fontsize=12)\n",
    "ax.set_ylabel('Execution Time (microseconds)', fontweight='bold', fontsize=12)\n",
    "ax.set_title('Comparison of Model Execution Times', fontweight='bold', fontsize=14)\n",
    "\n",
    "# Customize the x-axis ticks and labels\n",
    "ax.set_xticks(x)\n",
    "ax.set_xticklabels(model_names, rotation=45, ha='right', fontsize=10)\n",
    "\n",
    "# Add grid lines\n",
    "ax.grid(True, linestyle='--', linewidth=1, color='#BBBBBB')\n",
    "\n",
    "# Adjust the spacing between subplots\n",
    "plt.subplots_adjust(bottom=0.2)\n",
    "\n",
    "# Add a legend\n",
    "legend_font = font_manager.FontProperties(size=10)\n",
    "ax.legend(execution_time, loc='upper left', prop=legend_font)\n",
    "\n",
    "# Save the plot as a PDF\n",
    "plt.savefig('Model Execution Time Comparison.pdf', format='pdf')\n",
    "plt.show()"
   ]
  },
  {
   "cell_type": "markdown",
   "metadata": {},
   "source": [
    "# Plotting ensemble Feature Importance"
   ]
  },
  {
   "cell_type": "code",
   "execution_count": null,
   "metadata": {},
   "outputs": [],
   "source": [
    "cols = X_train.columns\n",
    "# Create a dataframe with features\n",
    "feature_dataframe = pd.DataFrame( {'features': cols,\n",
    "\n",
    "    'Stacking feature importances': stk_features,\n",
    "    'Random Forest feature importances': rf_features,\n",
    "    'Extra Trees feature importances': et_features\n",
    "\n",
    "    })\n",
    "\n",
    "# feature_dataframe['LGBM feature importances'] = feature_dataframe['LGBM feature importances'].astype(float)\n",
    "\n",
    "print(feature_dataframe.dtypes)\n",
    "\n",
    "import numpy as np\n",
    "\n",
    "feature_dataframe['mean'] = feature_dataframe.select_dtypes(include='number').mean(axis=1) # axis = 1 computes the mean row-wise\n",
    "\n",
    "# feature_dataframe['mean'] = feature_dataframe.mean(axis= 1) # axis = 1 computes the mean row-wise\n",
    "\n",
    "feature_dataframe.head(4)"
   ]
  },
  {
   "cell_type": "code",
   "execution_count": null,
   "metadata": {},
   "outputs": [],
   "source": [
    "import seaborn as sns\n",
    "import matplotlib.pyplot as plt\n",
    "%matplotlib inline\n",
    "def plot_feature_importance():\n",
    "    tmp = pd.DataFrame({'Feature': X_test.columns, 'Feature importance': feature_dataframe['mean'].values})\n",
    "    tmp = tmp.sort_values(by='Feature importance',ascending=False).head(20)\n",
    "    plt.figure(figsize = (10,12))\n",
    "    plt.title('Average Feature Importance Top 20 Features',fontsize=14)\n",
    "    s = sns.barplot(y='Feature',x='Feature importance',data=tmp, orient='h')\n",
    "    s.set_xticklabels(s.get_xticklabels(),rotation=90)\n",
    "    # Save the plot as a PDF\n",
    "    plt.savefig('Average Feature Importance Top 20 Features.pdf', format='pdf')\n",
    "    plt.show()\n",
    "plot_feature_importance()"
   ]
  },
  {
   "cell_type": "markdown",
   "metadata": {},
   "source": [
    "# hyper parameter tuning"
   ]
  },
  {
   "cell_type": "markdown",
   "metadata": {},
   "source": [
    "## extra trees classifier"
   ]
  },
  {
   "cell_type": "code",
   "execution_count": null,
   "metadata": {},
   "outputs": [],
   "source": [
    "import optuna\n",
    "\n",
    "def objective(trial):\n",
    "\n",
    "    # Number of trees in extra trees\n",
    "    \n",
    "    n_estimators = trial.suggest_int(name=\"n_estimators\", low=100, high=500, step=100)\n",
    "\n",
    "    # Number of features to consider at every split\n",
    "    max_features = trial.suggest_categorical(name=\"max_features\", choices=['auto', 'sqrt'])\n",
    "\n",
    "    # Maximum number of levels in tree\n",
    "    max_depth = trial.suggest_int(name=\"max_depth\", low=10, high=110, step=20)\n",
    "\n",
    "    # Minimum number of samples required to split a node\n",
    "    min_samples_split = trial.suggest_int(name=\"min_samples_split\", low=2, high=10, step=2)\n",
    "\n",
    "    # Minimum number of samples required at each leaf node\n",
    "    min_samples_leaf = trial.suggest_int(name=\"min_samples_leaf\", low=1, high=4, step=1)\n",
    "\n",
    "    \n",
    "    # Random state\n",
    "    random_state = trial.suggest_int(name=\"random_state\", low=0, high=100, step=1)\n",
    "    \n",
    "    params = {\n",
    "        \"n_estimators\": n_estimators,\n",
    "        \"max_features\": max_features,\n",
    "        \"max_depth\": max_depth,\n",
    "        \"min_samples_split\": min_samples_split,\n",
    "        \"min_samples_leaf\": min_samples_leaf,\n",
    "        \"random_state\": random_state\n",
    "    }\n",
    "    \n",
    "    model_et = ExtraTreesClassifier(**params)\n",
    "    model_et.fit(X_train, y_train)\n",
    "    predictions_et = model_et.predict(X_test)\n",
    "    # Calculate the accuracy of the model\n",
    "    accuracy = accuracy_score(y_test, predictions_et)\n",
    "    return accuracy\n",
    "\n",
    "study_et = optuna.create_study(direction='maximize')\n",
    "study_et.optimize(objective, n_trials=30)"
   ]
  },
  {
   "cell_type": "code",
   "execution_count": null,
   "metadata": {},
   "outputs": [],
   "source": [
    "print('Extra Trees Best hyperparameters:', study_et.best_params)\n",
    "print('Extra Trees Best Accuracy:', study_et.best_value)"
   ]
  },
  {
   "cell_type": "code",
   "execution_count": null,
   "metadata": {},
   "outputs": [],
   "source": [
    "# Initialize and start the timer for model training\n",
    "start_time = time.time()\n",
    "\n",
    "best_model_et = ExtraTreesClassifier(**study_et.best_params)\n",
    "best_model_et.fit(X_train, y_train)\n",
    "\n",
    "# Calculate the model training time\n",
    "training_time_et_optuna = time.time() - start_time\n",
    "\n",
    "train_et = best_model_et.predict(X_train)\n",
    "\n",
    "# Initialize and start the timer for model execution\n",
    "start_time = time.time()\n",
    "\n",
    "test_et = best_model_et.predict(X_test)\n",
    "\n",
    "# Calculate the model execution time\n",
    "execution_time_et_optuna = ( time.time() - start_time ) / 130239"
   ]
  },
  {
   "cell_type": "code",
   "execution_count": null,
   "metadata": {},
   "outputs": [],
   "source": [
    "et_feature_optuna = best_model_et.feature_importances_\n",
    "et_features_optuna = et_feature_optuna.tolist()"
   ]
  },
  {
   "cell_type": "markdown",
   "metadata": {},
   "source": [
    "## random forest"
   ]
  },
  {
   "cell_type": "code",
   "execution_count": 39,
   "metadata": {},
   "outputs": [
    {
     "name": "stderr",
     "output_type": "stream",
     "text": [
      "[I 2024-07-20 16:50:55,146] A new study created in memory with name: no-name-00e1c271-bd81-4c01-9981-14c459ff4ab7\n",
      "C:\\anaconda\\Lib\\site-packages\\sklearn\\ensemble\\_forest.py:424: FutureWarning: `max_features='auto'` has been deprecated in 1.1 and will be removed in 1.3. To keep the past behaviour, explicitly set `max_features='sqrt'` or remove this parameter as it is also the default value for RandomForestClassifiers and ExtraTreesClassifiers.\n",
      "  warn(\n",
      "[W 2024-07-20 16:50:56,198] Trial 0 failed with parameters: {'n_estimators': 100, 'max_features': 'auto', 'max_depth': 70, 'min_samples_split': 8, 'min_samples_leaf': 2, 'random_state': 34} because of the following error: KeyboardInterrupt().\n",
      "Traceback (most recent call last):\n",
      "  File \"C:\\anaconda\\Lib\\site-packages\\optuna\\study\\_optimize.py\", line 196, in _run_trial\n",
      "    value_or_values = func(trial)\n",
      "                      ^^^^^^^^^^^\n",
      "  File \"C:\\Users\\wku\\AppData\\Local\\Temp\\ipykernel_468\\3028659856.py\", line 35, in objective\n",
      "    model_rf.fit(X_train, y_train)\n",
      "  File \"C:\\anaconda\\Lib\\site-packages\\sklearn\\ensemble\\_forest.py\", line 473, in fit\n",
      "    trees = Parallel(\n",
      "            ^^^^^^^^^\n",
      "  File \"C:\\anaconda\\Lib\\site-packages\\sklearn\\utils\\parallel.py\", line 63, in __call__\n",
      "    return super().__call__(iterable_with_config)\n",
      "           ^^^^^^^^^^^^^^^^^^^^^^^^^^^^^^^^^^^^^^\n",
      "  File \"C:\\anaconda\\Lib\\site-packages\\joblib\\parallel.py\", line 1088, in __call__\n",
      "    while self.dispatch_one_batch(iterator):\n",
      "          ^^^^^^^^^^^^^^^^^^^^^^^^^^^^^^^^^\n",
      "  File \"C:\\anaconda\\Lib\\site-packages\\joblib\\parallel.py\", line 901, in dispatch_one_batch\n",
      "    self._dispatch(tasks)\n",
      "  File \"C:\\anaconda\\Lib\\site-packages\\joblib\\parallel.py\", line 819, in _dispatch\n",
      "    job = self._backend.apply_async(batch, callback=cb)\n",
      "          ^^^^^^^^^^^^^^^^^^^^^^^^^^^^^^^^^^^^^^^^^^^^^\n",
      "  File \"C:\\anaconda\\Lib\\site-packages\\joblib\\_parallel_backends.py\", line 208, in apply_async\n",
      "    result = ImmediateResult(func)\n",
      "             ^^^^^^^^^^^^^^^^^^^^^\n",
      "  File \"C:\\anaconda\\Lib\\site-packages\\joblib\\_parallel_backends.py\", line 597, in __init__\n",
      "    self.results = batch()\n",
      "                   ^^^^^^^\n",
      "  File \"C:\\anaconda\\Lib\\site-packages\\joblib\\parallel.py\", line 288, in __call__\n",
      "    return [func(*args, **kwargs)\n",
      "           ^^^^^^^^^^^^^^^^^^^^^^\n",
      "  File \"C:\\anaconda\\Lib\\site-packages\\joblib\\parallel.py\", line 288, in <listcomp>\n",
      "    return [func(*args, **kwargs)\n",
      "            ^^^^^^^^^^^^^^^^^^^^^\n",
      "  File \"C:\\anaconda\\Lib\\site-packages\\sklearn\\utils\\parallel.py\", line 123, in __call__\n",
      "    return self.function(*args, **kwargs)\n",
      "           ^^^^^^^^^^^^^^^^^^^^^^^^^^^^^^\n",
      "  File \"C:\\anaconda\\Lib\\site-packages\\sklearn\\ensemble\\_forest.py\", line 184, in _parallel_build_trees\n",
      "    tree.fit(X, y, sample_weight=curr_sample_weight, check_input=False)\n",
      "  File \"C:\\anaconda\\Lib\\site-packages\\sklearn\\tree\\_classes.py\", line 889, in fit\n",
      "    super().fit(\n",
      "  File \"C:\\anaconda\\Lib\\site-packages\\sklearn\\tree\\_classes.py\", line 379, in fit\n",
      "    builder.build(self.tree_, X, y, sample_weight)\n",
      "KeyboardInterrupt\n",
      "[W 2024-07-20 16:50:56,226] Trial 0 failed with value None.\n"
     ]
    },
    {
     "ename": "KeyboardInterrupt",
     "evalue": "",
     "output_type": "error",
     "traceback": [
      "\u001b[1;31m---------------------------------------------------------------------------\u001b[0m",
      "\u001b[1;31mKeyboardInterrupt\u001b[0m                         Traceback (most recent call last)",
      "Cell \u001b[1;32mIn[39], line 42\u001b[0m\n\u001b[0;32m     39\u001b[0m     \u001b[38;5;28;01mreturn\u001b[39;00m accuracy\n\u001b[0;32m     41\u001b[0m study_rf \u001b[38;5;241m=\u001b[39m optuna\u001b[38;5;241m.\u001b[39mcreate_study(direction\u001b[38;5;241m=\u001b[39m\u001b[38;5;124m'\u001b[39m\u001b[38;5;124mmaximize\u001b[39m\u001b[38;5;124m'\u001b[39m)\n\u001b[1;32m---> 42\u001b[0m study_rf\u001b[38;5;241m.\u001b[39moptimize(objective, n_trials\u001b[38;5;241m=\u001b[39m\u001b[38;5;241m30\u001b[39m)\n\u001b[0;32m     44\u001b[0m \u001b[38;5;28mprint\u001b[39m(\u001b[38;5;124m'\u001b[39m\u001b[38;5;124mRandom Forest Best hyperparameters:\u001b[39m\u001b[38;5;124m'\u001b[39m, study_rf\u001b[38;5;241m.\u001b[39mbest_params)\n\u001b[0;32m     45\u001b[0m \u001b[38;5;28mprint\u001b[39m(\u001b[38;5;124m'\u001b[39m\u001b[38;5;124mRandom Forest Best Accuracy:\u001b[39m\u001b[38;5;124m'\u001b[39m, study_rf\u001b[38;5;241m.\u001b[39mbest_value)\n",
      "File \u001b[1;32mC:\\anaconda\\Lib\\site-packages\\optuna\\study\\study.py:451\u001b[0m, in \u001b[0;36mStudy.optimize\u001b[1;34m(self, func, n_trials, timeout, n_jobs, catch, callbacks, gc_after_trial, show_progress_bar)\u001b[0m\n\u001b[0;32m    348\u001b[0m \u001b[38;5;28;01mdef\u001b[39;00m \u001b[38;5;21moptimize\u001b[39m(\n\u001b[0;32m    349\u001b[0m     \u001b[38;5;28mself\u001b[39m,\n\u001b[0;32m    350\u001b[0m     func: ObjectiveFuncType,\n\u001b[1;32m   (...)\u001b[0m\n\u001b[0;32m    357\u001b[0m     show_progress_bar: \u001b[38;5;28mbool\u001b[39m \u001b[38;5;241m=\u001b[39m \u001b[38;5;28;01mFalse\u001b[39;00m,\n\u001b[0;32m    358\u001b[0m ) \u001b[38;5;241m-\u001b[39m\u001b[38;5;241m>\u001b[39m \u001b[38;5;28;01mNone\u001b[39;00m:\n\u001b[0;32m    359\u001b[0m \u001b[38;5;250m    \u001b[39m\u001b[38;5;124;03m\"\"\"Optimize an objective function.\u001b[39;00m\n\u001b[0;32m    360\u001b[0m \n\u001b[0;32m    361\u001b[0m \u001b[38;5;124;03m    Optimization is done by choosing a suitable set of hyperparameter values from a given\u001b[39;00m\n\u001b[1;32m   (...)\u001b[0m\n\u001b[0;32m    449\u001b[0m \u001b[38;5;124;03m            If nested invocation of this method occurs.\u001b[39;00m\n\u001b[0;32m    450\u001b[0m \u001b[38;5;124;03m    \"\"\"\u001b[39;00m\n\u001b[1;32m--> 451\u001b[0m     _optimize(\n\u001b[0;32m    452\u001b[0m         study\u001b[38;5;241m=\u001b[39m\u001b[38;5;28mself\u001b[39m,\n\u001b[0;32m    453\u001b[0m         func\u001b[38;5;241m=\u001b[39mfunc,\n\u001b[0;32m    454\u001b[0m         n_trials\u001b[38;5;241m=\u001b[39mn_trials,\n\u001b[0;32m    455\u001b[0m         timeout\u001b[38;5;241m=\u001b[39mtimeout,\n\u001b[0;32m    456\u001b[0m         n_jobs\u001b[38;5;241m=\u001b[39mn_jobs,\n\u001b[0;32m    457\u001b[0m         catch\u001b[38;5;241m=\u001b[39m\u001b[38;5;28mtuple\u001b[39m(catch) \u001b[38;5;28;01mif\u001b[39;00m \u001b[38;5;28misinstance\u001b[39m(catch, Iterable) \u001b[38;5;28;01melse\u001b[39;00m (catch,),\n\u001b[0;32m    458\u001b[0m         callbacks\u001b[38;5;241m=\u001b[39mcallbacks,\n\u001b[0;32m    459\u001b[0m         gc_after_trial\u001b[38;5;241m=\u001b[39mgc_after_trial,\n\u001b[0;32m    460\u001b[0m         show_progress_bar\u001b[38;5;241m=\u001b[39mshow_progress_bar,\n\u001b[0;32m    461\u001b[0m     )\n",
      "File \u001b[1;32mC:\\anaconda\\Lib\\site-packages\\optuna\\study\\_optimize.py:62\u001b[0m, in \u001b[0;36m_optimize\u001b[1;34m(study, func, n_trials, timeout, n_jobs, catch, callbacks, gc_after_trial, show_progress_bar)\u001b[0m\n\u001b[0;32m     60\u001b[0m \u001b[38;5;28;01mtry\u001b[39;00m:\n\u001b[0;32m     61\u001b[0m     \u001b[38;5;28;01mif\u001b[39;00m n_jobs \u001b[38;5;241m==\u001b[39m \u001b[38;5;241m1\u001b[39m:\n\u001b[1;32m---> 62\u001b[0m         _optimize_sequential(\n\u001b[0;32m     63\u001b[0m             study,\n\u001b[0;32m     64\u001b[0m             func,\n\u001b[0;32m     65\u001b[0m             n_trials,\n\u001b[0;32m     66\u001b[0m             timeout,\n\u001b[0;32m     67\u001b[0m             catch,\n\u001b[0;32m     68\u001b[0m             callbacks,\n\u001b[0;32m     69\u001b[0m             gc_after_trial,\n\u001b[0;32m     70\u001b[0m             reseed_sampler_rng\u001b[38;5;241m=\u001b[39m\u001b[38;5;28;01mFalse\u001b[39;00m,\n\u001b[0;32m     71\u001b[0m             time_start\u001b[38;5;241m=\u001b[39m\u001b[38;5;28;01mNone\u001b[39;00m,\n\u001b[0;32m     72\u001b[0m             progress_bar\u001b[38;5;241m=\u001b[39mprogress_bar,\n\u001b[0;32m     73\u001b[0m         )\n\u001b[0;32m     74\u001b[0m     \u001b[38;5;28;01melse\u001b[39;00m:\n\u001b[0;32m     75\u001b[0m         \u001b[38;5;28;01mif\u001b[39;00m n_jobs \u001b[38;5;241m==\u001b[39m \u001b[38;5;241m-\u001b[39m\u001b[38;5;241m1\u001b[39m:\n",
      "File \u001b[1;32mC:\\anaconda\\Lib\\site-packages\\optuna\\study\\_optimize.py:159\u001b[0m, in \u001b[0;36m_optimize_sequential\u001b[1;34m(study, func, n_trials, timeout, catch, callbacks, gc_after_trial, reseed_sampler_rng, time_start, progress_bar)\u001b[0m\n\u001b[0;32m    156\u001b[0m         \u001b[38;5;28;01mbreak\u001b[39;00m\n\u001b[0;32m    158\u001b[0m \u001b[38;5;28;01mtry\u001b[39;00m:\n\u001b[1;32m--> 159\u001b[0m     frozen_trial \u001b[38;5;241m=\u001b[39m _run_trial(study, func, catch)\n\u001b[0;32m    160\u001b[0m \u001b[38;5;28;01mfinally\u001b[39;00m:\n\u001b[0;32m    161\u001b[0m     \u001b[38;5;66;03m# The following line mitigates memory problems that can be occurred in some\u001b[39;00m\n\u001b[0;32m    162\u001b[0m     \u001b[38;5;66;03m# environments (e.g., services that use computing containers such as GitHub Actions).\u001b[39;00m\n\u001b[0;32m    163\u001b[0m     \u001b[38;5;66;03m# Please refer to the following PR for further details:\u001b[39;00m\n\u001b[0;32m    164\u001b[0m     \u001b[38;5;66;03m# https://github.com/optuna/optuna/pull/325.\u001b[39;00m\n\u001b[0;32m    165\u001b[0m     \u001b[38;5;28;01mif\u001b[39;00m gc_after_trial:\n",
      "File \u001b[1;32mC:\\anaconda\\Lib\\site-packages\\optuna\\study\\_optimize.py:247\u001b[0m, in \u001b[0;36m_run_trial\u001b[1;34m(study, func, catch)\u001b[0m\n\u001b[0;32m    240\u001b[0m         \u001b[38;5;28;01massert\u001b[39;00m \u001b[38;5;28;01mFalse\u001b[39;00m, \u001b[38;5;124m\"\u001b[39m\u001b[38;5;124mShould not reach.\u001b[39m\u001b[38;5;124m\"\u001b[39m\n\u001b[0;32m    242\u001b[0m \u001b[38;5;28;01mif\u001b[39;00m (\n\u001b[0;32m    243\u001b[0m     frozen_trial\u001b[38;5;241m.\u001b[39mstate \u001b[38;5;241m==\u001b[39m TrialState\u001b[38;5;241m.\u001b[39mFAIL\n\u001b[0;32m    244\u001b[0m     \u001b[38;5;129;01mand\u001b[39;00m func_err \u001b[38;5;129;01mis\u001b[39;00m \u001b[38;5;129;01mnot\u001b[39;00m \u001b[38;5;28;01mNone\u001b[39;00m\n\u001b[0;32m    245\u001b[0m     \u001b[38;5;129;01mand\u001b[39;00m \u001b[38;5;129;01mnot\u001b[39;00m \u001b[38;5;28misinstance\u001b[39m(func_err, catch)\n\u001b[0;32m    246\u001b[0m ):\n\u001b[1;32m--> 247\u001b[0m     \u001b[38;5;28;01mraise\u001b[39;00m func_err\n\u001b[0;32m    248\u001b[0m \u001b[38;5;28;01mreturn\u001b[39;00m frozen_trial\n",
      "File \u001b[1;32mC:\\anaconda\\Lib\\site-packages\\optuna\\study\\_optimize.py:196\u001b[0m, in \u001b[0;36m_run_trial\u001b[1;34m(study, func, catch)\u001b[0m\n\u001b[0;32m    194\u001b[0m \u001b[38;5;28;01mwith\u001b[39;00m get_heartbeat_thread(trial\u001b[38;5;241m.\u001b[39m_trial_id, study\u001b[38;5;241m.\u001b[39m_storage):\n\u001b[0;32m    195\u001b[0m     \u001b[38;5;28;01mtry\u001b[39;00m:\n\u001b[1;32m--> 196\u001b[0m         value_or_values \u001b[38;5;241m=\u001b[39m func(trial)\n\u001b[0;32m    197\u001b[0m     \u001b[38;5;28;01mexcept\u001b[39;00m exceptions\u001b[38;5;241m.\u001b[39mTrialPruned \u001b[38;5;28;01mas\u001b[39;00m e:\n\u001b[0;32m    198\u001b[0m         \u001b[38;5;66;03m# TODO(mamu): Handle multi-objective cases.\u001b[39;00m\n\u001b[0;32m    199\u001b[0m         state \u001b[38;5;241m=\u001b[39m TrialState\u001b[38;5;241m.\u001b[39mPRUNED\n",
      "Cell \u001b[1;32mIn[39], line 35\u001b[0m, in \u001b[0;36mobjective\u001b[1;34m(trial_rf)\u001b[0m\n\u001b[0;32m     25\u001b[0m params_rf \u001b[38;5;241m=\u001b[39m {\n\u001b[0;32m     26\u001b[0m     \u001b[38;5;124m\"\u001b[39m\u001b[38;5;124mn_estimators\u001b[39m\u001b[38;5;124m\"\u001b[39m: n_estimators,\n\u001b[0;32m     27\u001b[0m     \u001b[38;5;124m\"\u001b[39m\u001b[38;5;124mmax_features\u001b[39m\u001b[38;5;124m\"\u001b[39m: max_features,\n\u001b[1;32m   (...)\u001b[0m\n\u001b[0;32m     31\u001b[0m     \u001b[38;5;124m\"\u001b[39m\u001b[38;5;124mrandom_state\u001b[39m\u001b[38;5;124m\"\u001b[39m: random_state\n\u001b[0;32m     32\u001b[0m }\n\u001b[0;32m     34\u001b[0m model_rf \u001b[38;5;241m=\u001b[39m RandomForestClassifier(\u001b[38;5;241m*\u001b[39m\u001b[38;5;241m*\u001b[39mparams_rf)\n\u001b[1;32m---> 35\u001b[0m model_rf\u001b[38;5;241m.\u001b[39mfit(X_train, y_train)\n\u001b[0;32m     36\u001b[0m predictions_rf \u001b[38;5;241m=\u001b[39m model_rf\u001b[38;5;241m.\u001b[39mpredict(X_test)\n\u001b[0;32m     37\u001b[0m \u001b[38;5;66;03m# Calculate the accuracy of the model\u001b[39;00m\n",
      "File \u001b[1;32mC:\\anaconda\\Lib\\site-packages\\sklearn\\ensemble\\_forest.py:473\u001b[0m, in \u001b[0;36mBaseForest.fit\u001b[1;34m(self, X, y, sample_weight)\u001b[0m\n\u001b[0;32m    462\u001b[0m trees \u001b[38;5;241m=\u001b[39m [\n\u001b[0;32m    463\u001b[0m     \u001b[38;5;28mself\u001b[39m\u001b[38;5;241m.\u001b[39m_make_estimator(append\u001b[38;5;241m=\u001b[39m\u001b[38;5;28;01mFalse\u001b[39;00m, random_state\u001b[38;5;241m=\u001b[39mrandom_state)\n\u001b[0;32m    464\u001b[0m     \u001b[38;5;28;01mfor\u001b[39;00m i \u001b[38;5;129;01min\u001b[39;00m \u001b[38;5;28mrange\u001b[39m(n_more_estimators)\n\u001b[0;32m    465\u001b[0m ]\n\u001b[0;32m    467\u001b[0m \u001b[38;5;66;03m# Parallel loop: we prefer the threading backend as the Cython code\u001b[39;00m\n\u001b[0;32m    468\u001b[0m \u001b[38;5;66;03m# for fitting the trees is internally releasing the Python GIL\u001b[39;00m\n\u001b[0;32m    469\u001b[0m \u001b[38;5;66;03m# making threading more efficient than multiprocessing in\u001b[39;00m\n\u001b[0;32m    470\u001b[0m \u001b[38;5;66;03m# that case. However, for joblib 0.12+ we respect any\u001b[39;00m\n\u001b[0;32m    471\u001b[0m \u001b[38;5;66;03m# parallel_backend contexts set at a higher level,\u001b[39;00m\n\u001b[0;32m    472\u001b[0m \u001b[38;5;66;03m# since correctness does not rely on using threads.\u001b[39;00m\n\u001b[1;32m--> 473\u001b[0m trees \u001b[38;5;241m=\u001b[39m Parallel(\n\u001b[0;32m    474\u001b[0m     n_jobs\u001b[38;5;241m=\u001b[39m\u001b[38;5;28mself\u001b[39m\u001b[38;5;241m.\u001b[39mn_jobs,\n\u001b[0;32m    475\u001b[0m     verbose\u001b[38;5;241m=\u001b[39m\u001b[38;5;28mself\u001b[39m\u001b[38;5;241m.\u001b[39mverbose,\n\u001b[0;32m    476\u001b[0m     prefer\u001b[38;5;241m=\u001b[39m\u001b[38;5;124m\"\u001b[39m\u001b[38;5;124mthreads\u001b[39m\u001b[38;5;124m\"\u001b[39m,\n\u001b[0;32m    477\u001b[0m )(\n\u001b[0;32m    478\u001b[0m     delayed(_parallel_build_trees)(\n\u001b[0;32m    479\u001b[0m         t,\n\u001b[0;32m    480\u001b[0m         \u001b[38;5;28mself\u001b[39m\u001b[38;5;241m.\u001b[39mbootstrap,\n\u001b[0;32m    481\u001b[0m         X,\n\u001b[0;32m    482\u001b[0m         y,\n\u001b[0;32m    483\u001b[0m         sample_weight,\n\u001b[0;32m    484\u001b[0m         i,\n\u001b[0;32m    485\u001b[0m         \u001b[38;5;28mlen\u001b[39m(trees),\n\u001b[0;32m    486\u001b[0m         verbose\u001b[38;5;241m=\u001b[39m\u001b[38;5;28mself\u001b[39m\u001b[38;5;241m.\u001b[39mverbose,\n\u001b[0;32m    487\u001b[0m         class_weight\u001b[38;5;241m=\u001b[39m\u001b[38;5;28mself\u001b[39m\u001b[38;5;241m.\u001b[39mclass_weight,\n\u001b[0;32m    488\u001b[0m         n_samples_bootstrap\u001b[38;5;241m=\u001b[39mn_samples_bootstrap,\n\u001b[0;32m    489\u001b[0m     )\n\u001b[0;32m    490\u001b[0m     \u001b[38;5;28;01mfor\u001b[39;00m i, t \u001b[38;5;129;01min\u001b[39;00m \u001b[38;5;28menumerate\u001b[39m(trees)\n\u001b[0;32m    491\u001b[0m )\n\u001b[0;32m    493\u001b[0m \u001b[38;5;66;03m# Collect newly grown trees\u001b[39;00m\n\u001b[0;32m    494\u001b[0m \u001b[38;5;28mself\u001b[39m\u001b[38;5;241m.\u001b[39mestimators_\u001b[38;5;241m.\u001b[39mextend(trees)\n",
      "File \u001b[1;32mC:\\anaconda\\Lib\\site-packages\\sklearn\\utils\\parallel.py:63\u001b[0m, in \u001b[0;36mParallel.__call__\u001b[1;34m(self, iterable)\u001b[0m\n\u001b[0;32m     58\u001b[0m config \u001b[38;5;241m=\u001b[39m get_config()\n\u001b[0;32m     59\u001b[0m iterable_with_config \u001b[38;5;241m=\u001b[39m (\n\u001b[0;32m     60\u001b[0m     (_with_config(delayed_func, config), args, kwargs)\n\u001b[0;32m     61\u001b[0m     \u001b[38;5;28;01mfor\u001b[39;00m delayed_func, args, kwargs \u001b[38;5;129;01min\u001b[39;00m iterable\n\u001b[0;32m     62\u001b[0m )\n\u001b[1;32m---> 63\u001b[0m \u001b[38;5;28;01mreturn\u001b[39;00m \u001b[38;5;28msuper\u001b[39m()\u001b[38;5;241m.\u001b[39m\u001b[38;5;21m__call__\u001b[39m(iterable_with_config)\n",
      "File \u001b[1;32mC:\\anaconda\\Lib\\site-packages\\joblib\\parallel.py:1088\u001b[0m, in \u001b[0;36mParallel.__call__\u001b[1;34m(self, iterable)\u001b[0m\n\u001b[0;32m   1085\u001b[0m \u001b[38;5;28;01mif\u001b[39;00m \u001b[38;5;28mself\u001b[39m\u001b[38;5;241m.\u001b[39mdispatch_one_batch(iterator):\n\u001b[0;32m   1086\u001b[0m     \u001b[38;5;28mself\u001b[39m\u001b[38;5;241m.\u001b[39m_iterating \u001b[38;5;241m=\u001b[39m \u001b[38;5;28mself\u001b[39m\u001b[38;5;241m.\u001b[39m_original_iterator \u001b[38;5;129;01mis\u001b[39;00m \u001b[38;5;129;01mnot\u001b[39;00m \u001b[38;5;28;01mNone\u001b[39;00m\n\u001b[1;32m-> 1088\u001b[0m \u001b[38;5;28;01mwhile\u001b[39;00m \u001b[38;5;28mself\u001b[39m\u001b[38;5;241m.\u001b[39mdispatch_one_batch(iterator):\n\u001b[0;32m   1089\u001b[0m     \u001b[38;5;28;01mpass\u001b[39;00m\n\u001b[0;32m   1091\u001b[0m \u001b[38;5;28;01mif\u001b[39;00m pre_dispatch \u001b[38;5;241m==\u001b[39m \u001b[38;5;124m\"\u001b[39m\u001b[38;5;124mall\u001b[39m\u001b[38;5;124m\"\u001b[39m \u001b[38;5;129;01mor\u001b[39;00m n_jobs \u001b[38;5;241m==\u001b[39m \u001b[38;5;241m1\u001b[39m:\n\u001b[0;32m   1092\u001b[0m     \u001b[38;5;66;03m# The iterable was consumed all at once by the above for loop.\u001b[39;00m\n\u001b[0;32m   1093\u001b[0m     \u001b[38;5;66;03m# No need to wait for async callbacks to trigger to\u001b[39;00m\n\u001b[0;32m   1094\u001b[0m     \u001b[38;5;66;03m# consumption.\u001b[39;00m\n",
      "File \u001b[1;32mC:\\anaconda\\Lib\\site-packages\\joblib\\parallel.py:901\u001b[0m, in \u001b[0;36mParallel.dispatch_one_batch\u001b[1;34m(self, iterator)\u001b[0m\n\u001b[0;32m    899\u001b[0m     \u001b[38;5;28;01mreturn\u001b[39;00m \u001b[38;5;28;01mFalse\u001b[39;00m\n\u001b[0;32m    900\u001b[0m \u001b[38;5;28;01melse\u001b[39;00m:\n\u001b[1;32m--> 901\u001b[0m     \u001b[38;5;28mself\u001b[39m\u001b[38;5;241m.\u001b[39m_dispatch(tasks)\n\u001b[0;32m    902\u001b[0m     \u001b[38;5;28;01mreturn\u001b[39;00m \u001b[38;5;28;01mTrue\u001b[39;00m\n",
      "File \u001b[1;32mC:\\anaconda\\Lib\\site-packages\\joblib\\parallel.py:819\u001b[0m, in \u001b[0;36mParallel._dispatch\u001b[1;34m(self, batch)\u001b[0m\n\u001b[0;32m    817\u001b[0m \u001b[38;5;28;01mwith\u001b[39;00m \u001b[38;5;28mself\u001b[39m\u001b[38;5;241m.\u001b[39m_lock:\n\u001b[0;32m    818\u001b[0m     job_idx \u001b[38;5;241m=\u001b[39m \u001b[38;5;28mlen\u001b[39m(\u001b[38;5;28mself\u001b[39m\u001b[38;5;241m.\u001b[39m_jobs)\n\u001b[1;32m--> 819\u001b[0m     job \u001b[38;5;241m=\u001b[39m \u001b[38;5;28mself\u001b[39m\u001b[38;5;241m.\u001b[39m_backend\u001b[38;5;241m.\u001b[39mapply_async(batch, callback\u001b[38;5;241m=\u001b[39mcb)\n\u001b[0;32m    820\u001b[0m     \u001b[38;5;66;03m# A job can complete so quickly than its callback is\u001b[39;00m\n\u001b[0;32m    821\u001b[0m     \u001b[38;5;66;03m# called before we get here, causing self._jobs to\u001b[39;00m\n\u001b[0;32m    822\u001b[0m     \u001b[38;5;66;03m# grow. To ensure correct results ordering, .insert is\u001b[39;00m\n\u001b[0;32m    823\u001b[0m     \u001b[38;5;66;03m# used (rather than .append) in the following line\u001b[39;00m\n\u001b[0;32m    824\u001b[0m     \u001b[38;5;28mself\u001b[39m\u001b[38;5;241m.\u001b[39m_jobs\u001b[38;5;241m.\u001b[39minsert(job_idx, job)\n",
      "File \u001b[1;32mC:\\anaconda\\Lib\\site-packages\\joblib\\_parallel_backends.py:208\u001b[0m, in \u001b[0;36mSequentialBackend.apply_async\u001b[1;34m(self, func, callback)\u001b[0m\n\u001b[0;32m    206\u001b[0m \u001b[38;5;28;01mdef\u001b[39;00m \u001b[38;5;21mapply_async\u001b[39m(\u001b[38;5;28mself\u001b[39m, func, callback\u001b[38;5;241m=\u001b[39m\u001b[38;5;28;01mNone\u001b[39;00m):\n\u001b[0;32m    207\u001b[0m \u001b[38;5;250m    \u001b[39m\u001b[38;5;124;03m\"\"\"Schedule a func to be run\"\"\"\u001b[39;00m\n\u001b[1;32m--> 208\u001b[0m     result \u001b[38;5;241m=\u001b[39m ImmediateResult(func)\n\u001b[0;32m    209\u001b[0m     \u001b[38;5;28;01mif\u001b[39;00m callback:\n\u001b[0;32m    210\u001b[0m         callback(result)\n",
      "File \u001b[1;32mC:\\anaconda\\Lib\\site-packages\\joblib\\_parallel_backends.py:597\u001b[0m, in \u001b[0;36mImmediateResult.__init__\u001b[1;34m(self, batch)\u001b[0m\n\u001b[0;32m    594\u001b[0m \u001b[38;5;28;01mdef\u001b[39;00m \u001b[38;5;21m__init__\u001b[39m(\u001b[38;5;28mself\u001b[39m, batch):\n\u001b[0;32m    595\u001b[0m     \u001b[38;5;66;03m# Don't delay the application, to avoid keeping the input\u001b[39;00m\n\u001b[0;32m    596\u001b[0m     \u001b[38;5;66;03m# arguments in memory\u001b[39;00m\n\u001b[1;32m--> 597\u001b[0m     \u001b[38;5;28mself\u001b[39m\u001b[38;5;241m.\u001b[39mresults \u001b[38;5;241m=\u001b[39m batch()\n",
      "File \u001b[1;32mC:\\anaconda\\Lib\\site-packages\\joblib\\parallel.py:288\u001b[0m, in \u001b[0;36mBatchedCalls.__call__\u001b[1;34m(self)\u001b[0m\n\u001b[0;32m    284\u001b[0m \u001b[38;5;28;01mdef\u001b[39;00m \u001b[38;5;21m__call__\u001b[39m(\u001b[38;5;28mself\u001b[39m):\n\u001b[0;32m    285\u001b[0m     \u001b[38;5;66;03m# Set the default nested backend to self._backend but do not set the\u001b[39;00m\n\u001b[0;32m    286\u001b[0m     \u001b[38;5;66;03m# change the default number of processes to -1\u001b[39;00m\n\u001b[0;32m    287\u001b[0m     \u001b[38;5;28;01mwith\u001b[39;00m parallel_backend(\u001b[38;5;28mself\u001b[39m\u001b[38;5;241m.\u001b[39m_backend, n_jobs\u001b[38;5;241m=\u001b[39m\u001b[38;5;28mself\u001b[39m\u001b[38;5;241m.\u001b[39m_n_jobs):\n\u001b[1;32m--> 288\u001b[0m         \u001b[38;5;28;01mreturn\u001b[39;00m [func(\u001b[38;5;241m*\u001b[39margs, \u001b[38;5;241m*\u001b[39m\u001b[38;5;241m*\u001b[39mkwargs)\n\u001b[0;32m    289\u001b[0m                 \u001b[38;5;28;01mfor\u001b[39;00m func, args, kwargs \u001b[38;5;129;01min\u001b[39;00m \u001b[38;5;28mself\u001b[39m\u001b[38;5;241m.\u001b[39mitems]\n",
      "File \u001b[1;32mC:\\anaconda\\Lib\\site-packages\\joblib\\parallel.py:288\u001b[0m, in \u001b[0;36m<listcomp>\u001b[1;34m(.0)\u001b[0m\n\u001b[0;32m    284\u001b[0m \u001b[38;5;28;01mdef\u001b[39;00m \u001b[38;5;21m__call__\u001b[39m(\u001b[38;5;28mself\u001b[39m):\n\u001b[0;32m    285\u001b[0m     \u001b[38;5;66;03m# Set the default nested backend to self._backend but do not set the\u001b[39;00m\n\u001b[0;32m    286\u001b[0m     \u001b[38;5;66;03m# change the default number of processes to -1\u001b[39;00m\n\u001b[0;32m    287\u001b[0m     \u001b[38;5;28;01mwith\u001b[39;00m parallel_backend(\u001b[38;5;28mself\u001b[39m\u001b[38;5;241m.\u001b[39m_backend, n_jobs\u001b[38;5;241m=\u001b[39m\u001b[38;5;28mself\u001b[39m\u001b[38;5;241m.\u001b[39m_n_jobs):\n\u001b[1;32m--> 288\u001b[0m         \u001b[38;5;28;01mreturn\u001b[39;00m [func(\u001b[38;5;241m*\u001b[39margs, \u001b[38;5;241m*\u001b[39m\u001b[38;5;241m*\u001b[39mkwargs)\n\u001b[0;32m    289\u001b[0m                 \u001b[38;5;28;01mfor\u001b[39;00m func, args, kwargs \u001b[38;5;129;01min\u001b[39;00m \u001b[38;5;28mself\u001b[39m\u001b[38;5;241m.\u001b[39mitems]\n",
      "File \u001b[1;32mC:\\anaconda\\Lib\\site-packages\\sklearn\\utils\\parallel.py:123\u001b[0m, in \u001b[0;36m_FuncWrapper.__call__\u001b[1;34m(self, *args, **kwargs)\u001b[0m\n\u001b[0;32m    121\u001b[0m     config \u001b[38;5;241m=\u001b[39m {}\n\u001b[0;32m    122\u001b[0m \u001b[38;5;28;01mwith\u001b[39;00m config_context(\u001b[38;5;241m*\u001b[39m\u001b[38;5;241m*\u001b[39mconfig):\n\u001b[1;32m--> 123\u001b[0m     \u001b[38;5;28;01mreturn\u001b[39;00m \u001b[38;5;28mself\u001b[39m\u001b[38;5;241m.\u001b[39mfunction(\u001b[38;5;241m*\u001b[39margs, \u001b[38;5;241m*\u001b[39m\u001b[38;5;241m*\u001b[39mkwargs)\n",
      "File \u001b[1;32mC:\\anaconda\\Lib\\site-packages\\sklearn\\ensemble\\_forest.py:184\u001b[0m, in \u001b[0;36m_parallel_build_trees\u001b[1;34m(tree, bootstrap, X, y, sample_weight, tree_idx, n_trees, verbose, class_weight, n_samples_bootstrap)\u001b[0m\n\u001b[0;32m    181\u001b[0m     \u001b[38;5;28;01melif\u001b[39;00m class_weight \u001b[38;5;241m==\u001b[39m \u001b[38;5;124m\"\u001b[39m\u001b[38;5;124mbalanced_subsample\u001b[39m\u001b[38;5;124m\"\u001b[39m:\n\u001b[0;32m    182\u001b[0m         curr_sample_weight \u001b[38;5;241m*\u001b[39m\u001b[38;5;241m=\u001b[39m compute_sample_weight(\u001b[38;5;124m\"\u001b[39m\u001b[38;5;124mbalanced\u001b[39m\u001b[38;5;124m\"\u001b[39m, y, indices\u001b[38;5;241m=\u001b[39mindices)\n\u001b[1;32m--> 184\u001b[0m     tree\u001b[38;5;241m.\u001b[39mfit(X, y, sample_weight\u001b[38;5;241m=\u001b[39mcurr_sample_weight, check_input\u001b[38;5;241m=\u001b[39m\u001b[38;5;28;01mFalse\u001b[39;00m)\n\u001b[0;32m    185\u001b[0m \u001b[38;5;28;01melse\u001b[39;00m:\n\u001b[0;32m    186\u001b[0m     tree\u001b[38;5;241m.\u001b[39mfit(X, y, sample_weight\u001b[38;5;241m=\u001b[39msample_weight, check_input\u001b[38;5;241m=\u001b[39m\u001b[38;5;28;01mFalse\u001b[39;00m)\n",
      "File \u001b[1;32mC:\\anaconda\\Lib\\site-packages\\sklearn\\tree\\_classes.py:889\u001b[0m, in \u001b[0;36mDecisionTreeClassifier.fit\u001b[1;34m(self, X, y, sample_weight, check_input)\u001b[0m\n\u001b[0;32m    859\u001b[0m \u001b[38;5;28;01mdef\u001b[39;00m \u001b[38;5;21mfit\u001b[39m(\u001b[38;5;28mself\u001b[39m, X, y, sample_weight\u001b[38;5;241m=\u001b[39m\u001b[38;5;28;01mNone\u001b[39;00m, check_input\u001b[38;5;241m=\u001b[39m\u001b[38;5;28;01mTrue\u001b[39;00m):\n\u001b[0;32m    860\u001b[0m \u001b[38;5;250m    \u001b[39m\u001b[38;5;124;03m\"\"\"Build a decision tree classifier from the training set (X, y).\u001b[39;00m\n\u001b[0;32m    861\u001b[0m \n\u001b[0;32m    862\u001b[0m \u001b[38;5;124;03m    Parameters\u001b[39;00m\n\u001b[1;32m   (...)\u001b[0m\n\u001b[0;32m    886\u001b[0m \u001b[38;5;124;03m        Fitted estimator.\u001b[39;00m\n\u001b[0;32m    887\u001b[0m \u001b[38;5;124;03m    \"\"\"\u001b[39;00m\n\u001b[1;32m--> 889\u001b[0m     \u001b[38;5;28msuper\u001b[39m()\u001b[38;5;241m.\u001b[39mfit(\n\u001b[0;32m    890\u001b[0m         X,\n\u001b[0;32m    891\u001b[0m         y,\n\u001b[0;32m    892\u001b[0m         sample_weight\u001b[38;5;241m=\u001b[39msample_weight,\n\u001b[0;32m    893\u001b[0m         check_input\u001b[38;5;241m=\u001b[39mcheck_input,\n\u001b[0;32m    894\u001b[0m     )\n\u001b[0;32m    895\u001b[0m     \u001b[38;5;28;01mreturn\u001b[39;00m \u001b[38;5;28mself\u001b[39m\n",
      "File \u001b[1;32mC:\\anaconda\\Lib\\site-packages\\sklearn\\tree\\_classes.py:379\u001b[0m, in \u001b[0;36mBaseDecisionTree.fit\u001b[1;34m(self, X, y, sample_weight, check_input)\u001b[0m\n\u001b[0;32m    368\u001b[0m \u001b[38;5;28;01melse\u001b[39;00m:\n\u001b[0;32m    369\u001b[0m     builder \u001b[38;5;241m=\u001b[39m BestFirstTreeBuilder(\n\u001b[0;32m    370\u001b[0m         splitter,\n\u001b[0;32m    371\u001b[0m         min_samples_split,\n\u001b[1;32m   (...)\u001b[0m\n\u001b[0;32m    376\u001b[0m         \u001b[38;5;28mself\u001b[39m\u001b[38;5;241m.\u001b[39mmin_impurity_decrease,\n\u001b[0;32m    377\u001b[0m     )\n\u001b[1;32m--> 379\u001b[0m builder\u001b[38;5;241m.\u001b[39mbuild(\u001b[38;5;28mself\u001b[39m\u001b[38;5;241m.\u001b[39mtree_, X, y, sample_weight)\n\u001b[0;32m    381\u001b[0m \u001b[38;5;28;01mif\u001b[39;00m \u001b[38;5;28mself\u001b[39m\u001b[38;5;241m.\u001b[39mn_outputs_ \u001b[38;5;241m==\u001b[39m \u001b[38;5;241m1\u001b[39m \u001b[38;5;129;01mand\u001b[39;00m is_classifier(\u001b[38;5;28mself\u001b[39m):\n\u001b[0;32m    382\u001b[0m     \u001b[38;5;28mself\u001b[39m\u001b[38;5;241m.\u001b[39mn_classes_ \u001b[38;5;241m=\u001b[39m \u001b[38;5;28mself\u001b[39m\u001b[38;5;241m.\u001b[39mn_classes_[\u001b[38;5;241m0\u001b[39m]\n",
      "\u001b[1;31mKeyboardInterrupt\u001b[0m: "
     ]
    }
   ],
   "source": [
    "import optuna\n",
    "from sklearn.ensemble import RandomForestClassifier\n",
    "from sklearn.metrics import accuracy_score\n",
    "\n",
    "def objective(trial_rf):\n",
    "    # Number of trees in random forest\n",
    "    \n",
    "    n_estimators = trial_rf.suggest_int(name=\"n_estimators\", low=100, high=500, step=100)\n",
    "\n",
    "    # Number of features to consider at every split\n",
    "    max_features = trial_rf.suggest_categorical(name=\"max_features\", choices=['auto', 'sqrt'])\n",
    "\n",
    "    # Maximum number of levels in tree\n",
    "    max_depth = trial_rf.suggest_int(name=\"max_depth\", low=10, high=110, step=20)\n",
    "\n",
    "    # Minimum number of samples required to split a node\n",
    "    min_samples_split = trial_rf.suggest_int(name=\"min_samples_split\", low=2, high=10, step=2)\n",
    "\n",
    "    # Minimum number of samples required at each leaf node\n",
    "    min_samples_leaf = trial_rf.suggest_int(name=\"min_samples_leaf\", low=1, high=4, step=1)\n",
    "    \n",
    "    # Random state\n",
    "    random_state = trial_rf.suggest_int(name=\"random_state\", low=0, high=100, step=1)\n",
    "    \n",
    "    params_rf = {\n",
    "        \"n_estimators\": n_estimators,\n",
    "        \"max_features\": max_features,\n",
    "        \"max_depth\": max_depth,\n",
    "        \"min_samples_split\": min_samples_split,\n",
    "        \"min_samples_leaf\": min_samples_leaf,\n",
    "        \"random_state\": random_state\n",
    "    }\n",
    "    \n",
    "    model_rf = RandomForestClassifier(**params_rf)\n",
    "    model_rf.fit(X_train, y_train)\n",
    "    predictions_rf = model_rf.predict(X_test)\n",
    "    # Calculate the accuracy of the model\n",
    "    accuracy = accuracy_score(y_test, predictions_rf)\n",
    "    return accuracy\n",
    "\n",
    "study_rf = optuna.create_study(direction='maximize')\n",
    "study_rf.optimize(objective, n_trials=30)\n",
    "\n",
    "print('Random Forest Best hyperparameters:', study_rf.best_params)\n",
    "print('Random Forest Best Accuracy:', study_rf.best_value)"
   ]
  },
  {
   "cell_type": "code",
   "execution_count": null,
   "metadata": {},
   "outputs": [],
   "source": [
    "# Initialize and start the timer for model training\n",
    "start_time = time.time()\n",
    "\n",
    "best_model_rf = RandomForestClassifier(**study_rf.best_params)\n",
    "best_model_rf.fit(X_train, y_train)\n",
    "\n",
    "# Calculate the model training time\n",
    "training_time_rf_optuna = time.time() - start_time\n",
    "\n",
    "train_rf = best_model_rf.predict(X_train)\n",
    "\n",
    "# Initialize and start the timer for model execution\n",
    "start_time = time.time()\n",
    "\n",
    "test_rf = best_model_rf.predict(X_test)\n",
    "\n",
    "# Calculate the model execution time\n",
    "execution_time_rf_optuna = ( time.time() - start_time ) / 130239"
   ]
  },
  {
   "cell_type": "code",
   "execution_count": null,
   "metadata": {},
   "outputs": [],
   "source": [
    "rf_feature_optuna = best_model_rf.feature_importances_\n",
    "rf_features_optuna = rf_feature_optuna.tolist()"
   ]
  },
  {
   "cell_type": "code",
   "execution_count": null,
   "metadata": {},
   "outputs": [],
   "source": [
    "CM_RF_optuna=confusion_matrix(y_test,test_rf,labels=[0,1,2,3])\n",
    "\n",
    "plot_confusion_matrix(CM_RF_optuna,classes=['benign', 'defacement','phishing','malware'])"
   ]
  },
  {
   "cell_type": "code",
   "execution_count": null,
   "metadata": {},
   "outputs": [],
   "source": [
    "from sklearn.metrics import ConfusionMatrixDisplay\n",
    "sample_weight = (test_rf != y_test)\n",
    "ConfusionMatrixDisplay.from_predictions(y_test, y_predict, sample_weight=sample_weight, normalize=\"true\", values_format=\".0%\")\n",
    "plt.title('Random Forest Classifier Error Matrix')\n",
    "plt.ylabel('Actual Values')\n",
    "plt.xlabel('Predicted Values')\n",
    "# Save the plot as a PDF\n",
    "plt.savefig('Random Forest Classifier After Optuna Error Matrix.pdf', format='pdf')\n",
    "plt.show()"
   ]
  },
  {
   "cell_type": "markdown",
   "metadata": {},
   "source": [
    "## ada boost"
   ]
  },
  {
   "cell_type": "code",
   "execution_count": null,
   "metadata": {},
   "outputs": [],
   "source": [
    "def objective(trial_ada):\n",
    "    # Number of trees in random forest\n",
    "    \n",
    "    n_estimators = trial_ada.suggest_int(name=\"n_estimators\", low=100, high=500, step=100)\n",
    "    \n",
    "    # Random state\n",
    "    random_state = trial_ada.suggest_int(name=\"random_state\", low=0, high=100, step=1)\n",
    "    \n",
    "    params_ada = {\n",
    "        \"n_estimators\": n_estimators,\n",
    "        \"random_state\": random_state\n",
    "    }\n",
    "    \n",
    "    model_ada = AdaBoostClassifier(**params_ada)\n",
    "    model_ada.fit(X_train, y_train)\n",
    "    predictions_ada = model_ada.predict(X_test)\n",
    "    # Calculate the accuracy of the model\n",
    "    accuracy = accuracy_score(y_test, predictions_ada)\n",
    "    return accuracy\n",
    "\n",
    "study_ada = optuna.create_study(direction='maximize')\n",
    "study_ada.optimize(objective, n_trials=30)\n",
    "\n",
    "print('Ada Boost Best hyperparameters:', study_ada.best_params)\n",
    "print('Ada Boost Forest Best Accuracy:', study_ada.best_value)"
   ]
  },
  {
   "cell_type": "code",
   "execution_count": null,
   "metadata": {},
   "outputs": [],
   "source": [
    "# Initialize and start the timer for model training\n",
    "start_time = time.time()\n",
    "\n",
    "best_model_ada = AdaBoostClassifier(**study_ada.best_params)\n",
    "best_model_ada.fit(X_train, y_train)\n",
    "\n",
    "# Calculate the model training time\n",
    "training_time_ada_optuna = time.time() - start_time\n",
    "\n",
    "train_ada = best_model_ada.predict(X_train)\n",
    "\n",
    "# Initialize and start the timer for model execution\n",
    "start_time = time.time()\n",
    "\n",
    "test_ada = best_model_ada.predict(X_test)\n",
    "\n",
    "# Calculate the model execution time\n",
    "execution_time_ada_optuna = ( time.time() - start_time ) / 130239"
   ]
  },
  {
   "cell_type": "code",
   "execution_count": null,
   "metadata": {},
   "outputs": [],
   "source": [
    "ada_feature_optuna = best_model_ada.feature_importances_\n",
    "ada_features_optuna = ada_feature_optuna.tolist()"
   ]
  },
  {
   "cell_type": "markdown",
   "metadata": {},
   "source": [
    "## SGD Classifier"
   ]
  },
  {
   "cell_type": "code",
   "execution_count": null,
   "metadata": {},
   "outputs": [],
   "source": [
    "def objective(trial_sgd):\n",
    "\n",
    "    # Random state\n",
    "    random_state = trial_sgd.suggest_int(name=\"random_state\", low=0, high=100, step=1)\n",
    "    \n",
    "    params_sgd = {\n",
    "        \"random_state\": random_state\n",
    "    }\n",
    "    \n",
    "    model_sgd = SGDClassifier(**params_sgd)\n",
    "    model_sgd.fit(X_train, y_train)\n",
    "    predictions_sgd = model_sgd.predict(X_test)\n",
    "    # Calculate the accuracy of the model\n",
    "    accuracy = accuracy_score(y_test, predictions_sgd)\n",
    "    return accuracy\n",
    "\n",
    "study_sgd = optuna.create_study(direction='maximize')\n",
    "study_sgd.optimize(objective, n_trials=30)\n",
    "\n",
    "print('SGD Classifier Best hyperparameters:', study_sgd.best_params)\n",
    "print('SGD Classifier Best Accuracy:', study_sgd.best_value)"
   ]
  },
  {
   "cell_type": "code",
   "execution_count": null,
   "metadata": {},
   "outputs": [],
   "source": [
    "# Initialize and start the timer for model training\n",
    "start_time = time.time()\n",
    "\n",
    "best_model_sgd = SGDClassifier(**study_sgd.best_params)\n",
    "best_model_sgd.fit(X_train, y_train)\n",
    "\n",
    "# Calculate the model training time\n",
    "training_time_sgd_optuna = time.time() - start_time\n",
    "\n",
    "train_sgd = best_model_sgd.predict(X_train)\n",
    "\n",
    "# Initialize and start the timer for model execution\n",
    "start_time = time.time()\n",
    "\n",
    "test_sgd = best_model_sgd.predict(X_test)\n",
    "\n",
    "# Calculate the model execution time\n",
    "execution_time_sgd_optuna = ( time.time() - start_time ) / 130239"
   ]
  },
  {
   "cell_type": "markdown",
   "metadata": {},
   "source": [
    "## LGBM"
   ]
  },
  {
   "cell_type": "code",
   "execution_count": null,
   "metadata": {},
   "outputs": [],
   "source": [
    "def objective(trial_lgbm):\n",
    "    # Number of trees in lgbm\n",
    "    \n",
    "    n_estimators = trial_lgbm.suggest_int(name=\"n_estimators\", low=100, high=500, step=100)\n",
    "\n",
    "    # Number of features to consider at every split\n",
    "    max_features = trial_lgbm.suggest_categorical(name=\"max_features\", choices=['auto', 'sqrt'])\n",
    "\n",
    "    # Maximum number of levels in tree\n",
    "    max_depth = trial_lgbm.suggest_int(name=\"max_depth\", low=10, high=110, step=20)\n",
    "\n",
    "    # Minimum number of samples required to split a node\n",
    "    min_samples_split = trial_lgbm.suggest_int(name=\"min_samples_split\", low=2, high=10, step=2)\n",
    "\n",
    "    # Minimum number of samples required at each leaf node\n",
    "    min_samples_leaf = trial_lgbm.suggest_int(name=\"min_samples_leaf\", low=1, high=4, step=1)\n",
    "    \n",
    "    # Random state\n",
    "    random_state = trial_lgbm.suggest_int(name=\"random_state\", low=0, high=100, step=1)\n",
    "    \n",
    "    params_lgbm = {\n",
    "        \"n_estimators\": n_estimators,\n",
    "        \"max_features\": max_features,\n",
    "        \"max_depth\": max_depth,\n",
    "        \"min_samples_split\": min_samples_split,\n",
    "        \"min_samples_leaf\": min_samples_leaf,\n",
    "        \"random_state\": random_state\n",
    "    }\n",
    "    \n",
    "    model_lgbm = LGBMClassifier(**params_lgbm)\n",
    "    model_lgbm.fit(X_train, y_train)\n",
    "    predictions_lgbm = model_lgbm.predict(X_test)\n",
    "    # Calculate the accuracy of the model\n",
    "    accuracy = accuracy_score(y_test, predictions_lgbm)\n",
    "    return accuracy\n",
    "\n",
    "study_lgbm = optuna.create_study(direction='maximize')\n",
    "study_lgbm.optimize(objective, n_trials=30)\n",
    "\n",
    "print('LGBM Classifier Best hyperparameters:', study_lgbm.best_params)\n",
    "print('LGBM Classifier Best Accuracy:', study_lgbm.best_value)"
   ]
  },
  {
   "cell_type": "code",
   "execution_count": null,
   "metadata": {},
   "outputs": [],
   "source": [
    "# Initialize and start the timer for model training\n",
    "start_time = time.time()\n",
    "\n",
    "best_model_lgbm = LGBMClassifier(**study_lgbm.best_params)\n",
    "best_model_lgbm.fit(X_train, y_train)\n",
    "\n",
    "# Calculate the model training time\n",
    "training_time_lgbm_optuna = time.time() - start_time\n",
    "\n",
    "train_lgbm = best_model_lgbm.predict(X_train)\n",
    "\n",
    "# Initialize and start the timer for model execution\n",
    "start_time = time.time()\n",
    "\n",
    "test_lgbm = best_model_lgbm.predict(X_test)\n",
    "\n",
    "# Calculate the model execution time\n",
    "execution_time_lgbm_optuna = ( time.time() - start_time ) / 130239"
   ]
  },
  {
   "cell_type": "code",
   "execution_count": null,
   "metadata": {},
   "outputs": [],
   "source": [
    "lgbm_feature_optuna = best_model_lgbm.feature_importances_\n",
    "lgbm_features_optuna = lgbm_feature_optuna.tolist()"
   ]
  },
  {
   "cell_type": "markdown",
   "metadata": {},
   "source": [
    "## XGB"
   ]
  },
  {
   "cell_type": "code",
   "execution_count": 40,
   "metadata": {},
   "outputs": [
    {
     "name": "stderr",
     "output_type": "stream",
     "text": [
      "[I 2024-07-20 16:51:01,225] A new study created in memory with name: no-name-b6e59412-c317-4f97-902d-c916a436af26\n",
      "C:\\anaconda\\Lib\\site-packages\\xgboost\\core.py:160: UserWarning: [16:51:01] WARNING: C:\\buildkite-agent\\builds\\buildkite-windows-cpu-autoscaling-group-i-0b3782d1791676daf-1\\xgboost\\xgboost-ci-windows\\src\\learner.cc:742: \n",
      "Parameters: { \"max_features\", \"min_samples_leaf\", \"min_samples_split\" } are not used.\n",
      "\n",
      "  warnings.warn(smsg, UserWarning)\n",
      "[I 2024-07-20 16:51:20,814] Trial 0 finished with value: 0.9662159568178502 and parameters: {'n_estimators': 100, 'max_features': 'sqrt', 'max_depth': 110, 'min_samples_split': 2, 'min_samples_leaf': 4, 'random_state': 16}. Best is trial 0 with value: 0.9662159568178502.\n",
      "C:\\anaconda\\Lib\\site-packages\\xgboost\\core.py:160: UserWarning: [16:51:20] WARNING: C:\\buildkite-agent\\builds\\buildkite-windows-cpu-autoscaling-group-i-0b3782d1791676daf-1\\xgboost\\xgboost-ci-windows\\src\\learner.cc:742: \n",
      "Parameters: { \"max_features\", \"min_samples_leaf\", \"min_samples_split\" } are not used.\n",
      "\n",
      "  warnings.warn(smsg, UserWarning)\n",
      "[I 2024-07-20 16:52:02,627] Trial 1 finished with value: 0.9663464860755995 and parameters: {'n_estimators': 300, 'max_features': 'sqrt', 'max_depth': 90, 'min_samples_split': 4, 'min_samples_leaf': 1, 'random_state': 49}. Best is trial 1 with value: 0.9663464860755995.\n",
      "C:\\anaconda\\Lib\\site-packages\\xgboost\\core.py:160: UserWarning: [16:52:02] WARNING: C:\\buildkite-agent\\builds\\buildkite-windows-cpu-autoscaling-group-i-0b3782d1791676daf-1\\xgboost\\xgboost-ci-windows\\src\\learner.cc:742: \n",
      "Parameters: { \"max_features\", \"min_samples_leaf\", \"min_samples_split\" } are not used.\n",
      "\n",
      "  warnings.warn(smsg, UserWarning)\n",
      "[I 2024-07-20 16:52:10,171] Trial 2 finished with value: 0.9682813903669408 and parameters: {'n_estimators': 200, 'max_features': 'auto', 'max_depth': 10, 'min_samples_split': 10, 'min_samples_leaf': 1, 'random_state': 25}. Best is trial 2 with value: 0.9682813903669408.\n",
      "C:\\anaconda\\Lib\\site-packages\\xgboost\\core.py:160: UserWarning: [16:52:10] WARNING: C:\\buildkite-agent\\builds\\buildkite-windows-cpu-autoscaling-group-i-0b3782d1791676daf-1\\xgboost\\xgboost-ci-windows\\src\\learner.cc:742: \n",
      "Parameters: { \"max_features\", \"min_samples_leaf\", \"min_samples_split\" } are not used.\n",
      "\n",
      "  warnings.warn(smsg, UserWarning)\n",
      "[I 2024-07-20 16:52:57,740] Trial 3 finished with value: 0.9661391749015272 and parameters: {'n_estimators': 500, 'max_features': 'sqrt', 'max_depth': 50, 'min_samples_split': 6, 'min_samples_leaf': 1, 'random_state': 69}. Best is trial 2 with value: 0.9682813903669408.\n",
      "C:\\anaconda\\Lib\\site-packages\\xgboost\\core.py:160: UserWarning: [16:52:57] WARNING: C:\\buildkite-agent\\builds\\buildkite-windows-cpu-autoscaling-group-i-0b3782d1791676daf-1\\xgboost\\xgboost-ci-windows\\src\\learner.cc:742: \n",
      "Parameters: { \"max_features\", \"min_samples_leaf\", \"min_samples_split\" } are not used.\n",
      "\n",
      "  warnings.warn(smsg, UserWarning)\n",
      "[I 2024-07-20 16:53:32,203] Trial 4 finished with value: 0.9662313132011149 and parameters: {'n_estimators': 500, 'max_features': 'sqrt', 'max_depth': 30, 'min_samples_split': 10, 'min_samples_leaf': 2, 'random_state': 68}. Best is trial 2 with value: 0.9682813903669408.\n",
      "C:\\anaconda\\Lib\\site-packages\\xgboost\\core.py:160: UserWarning: [16:53:32] WARNING: C:\\buildkite-agent\\builds\\buildkite-windows-cpu-autoscaling-group-i-0b3782d1791676daf-1\\xgboost\\xgboost-ci-windows\\src\\learner.cc:742: \n",
      "Parameters: { \"max_features\", \"min_samples_leaf\", \"min_samples_split\" } are not used.\n",
      "\n",
      "  warnings.warn(smsg, UserWarning)\n",
      "[I 2024-07-20 16:54:05,554] Trial 5 finished with value: 0.9662082786262179 and parameters: {'n_estimators': 200, 'max_features': 'auto', 'max_depth': 110, 'min_samples_split': 8, 'min_samples_leaf': 4, 'random_state': 23}. Best is trial 2 with value: 0.9682813903669408.\n",
      "C:\\anaconda\\Lib\\site-packages\\xgboost\\core.py:160: UserWarning: [16:54:05] WARNING: C:\\buildkite-agent\\builds\\buildkite-windows-cpu-autoscaling-group-i-0b3782d1791676daf-1\\xgboost\\xgboost-ci-windows\\src\\learner.cc:742: \n",
      "Parameters: { \"max_features\", \"min_samples_leaf\", \"min_samples_split\" } are not used.\n",
      "\n",
      "  warnings.warn(smsg, UserWarning)\n",
      "[I 2024-07-20 16:54:34,354] Trial 6 finished with value: 0.9661775658596887 and parameters: {'n_estimators': 400, 'max_features': 'sqrt', 'max_depth': 30, 'min_samples_split': 10, 'min_samples_leaf': 2, 'random_state': 29}. Best is trial 2 with value: 0.9682813903669408.\n",
      "C:\\anaconda\\Lib\\site-packages\\xgboost\\core.py:160: UserWarning: [16:54:34] WARNING: C:\\buildkite-agent\\builds\\buildkite-windows-cpu-autoscaling-group-i-0b3782d1791676daf-1\\xgboost\\xgboost-ci-windows\\src\\learner.cc:742: \n",
      "Parameters: { \"max_features\", \"min_samples_leaf\", \"min_samples_split\" } are not used.\n",
      "\n",
      "  warnings.warn(smsg, UserWarning)\n",
      "[I 2024-07-20 16:55:08,806] Trial 7 finished with value: 0.9662236350094826 and parameters: {'n_estimators': 300, 'max_features': 'sqrt', 'max_depth': 50, 'min_samples_split': 2, 'min_samples_leaf': 3, 'random_state': 90}. Best is trial 2 with value: 0.9682813903669408.\n",
      "C:\\anaconda\\Lib\\site-packages\\xgboost\\core.py:160: UserWarning: [16:55:08] WARNING: C:\\buildkite-agent\\builds\\buildkite-windows-cpu-autoscaling-group-i-0b3782d1791676daf-1\\xgboost\\xgboost-ci-windows\\src\\learner.cc:742: \n",
      "Parameters: { \"max_features\", \"min_samples_leaf\", \"min_samples_split\" } are not used.\n",
      "\n",
      "  warnings.warn(smsg, UserWarning)\n",
      "[I 2024-07-20 16:56:18,102] Trial 8 finished with value: 0.9663541642672318 and parameters: {'n_estimators': 500, 'max_features': 'auto', 'max_depth': 110, 'min_samples_split': 6, 'min_samples_leaf': 4, 'random_state': 83}. Best is trial 2 with value: 0.9682813903669408.\n",
      "C:\\anaconda\\Lib\\site-packages\\xgboost\\core.py:160: UserWarning: [16:56:18] WARNING: C:\\buildkite-agent\\builds\\buildkite-windows-cpu-autoscaling-group-i-0b3782d1791676daf-1\\xgboost\\xgboost-ci-windows\\src\\learner.cc:742: \n",
      "Parameters: { \"max_features\", \"min_samples_leaf\", \"min_samples_split\" } are not used.\n",
      "\n",
      "  warnings.warn(smsg, UserWarning)\n",
      "[I 2024-07-20 16:56:35,612] Trial 9 finished with value: 0.9663695206504964 and parameters: {'n_estimators': 200, 'max_features': 'auto', 'max_depth': 30, 'min_samples_split': 4, 'min_samples_leaf': 2, 'random_state': 56}. Best is trial 2 with value: 0.9682813903669408.\n",
      "C:\\anaconda\\Lib\\site-packages\\xgboost\\core.py:160: UserWarning: [16:56:35] WARNING: C:\\buildkite-agent\\builds\\buildkite-windows-cpu-autoscaling-group-i-0b3782d1791676daf-1\\xgboost\\xgboost-ci-windows\\src\\learner.cc:742: \n",
      "Parameters: { \"max_features\", \"min_samples_leaf\", \"min_samples_split\" } are not used.\n",
      "\n",
      "  warnings.warn(smsg, UserWarning)\n",
      "[I 2024-07-20 16:56:39,798] Trial 10 finished with value: 0.9670682360890364 and parameters: {'n_estimators': 100, 'max_features': 'auto', 'max_depth': 10, 'min_samples_split': 8, 'min_samples_leaf': 1, 'random_state': 4}. Best is trial 2 with value: 0.9682813903669408.\n",
      "C:\\anaconda\\Lib\\site-packages\\xgboost\\core.py:160: UserWarning: [16:56:39] WARNING: C:\\buildkite-agent\\builds\\buildkite-windows-cpu-autoscaling-group-i-0b3782d1791676daf-1\\xgboost\\xgboost-ci-windows\\src\\learner.cc:742: \n",
      "Parameters: { \"max_features\", \"min_samples_leaf\", \"min_samples_split\" } are not used.\n",
      "\n",
      "  warnings.warn(smsg, UserWarning)\n",
      "[I 2024-07-20 16:56:44,116] Trial 11 finished with value: 0.9670682360890364 and parameters: {'n_estimators': 100, 'max_features': 'auto', 'max_depth': 10, 'min_samples_split': 8, 'min_samples_leaf': 1, 'random_state': 0}. Best is trial 2 with value: 0.9682813903669408.\n",
      "C:\\anaconda\\Lib\\site-packages\\xgboost\\core.py:160: UserWarning: [16:56:44] WARNING: C:\\buildkite-agent\\builds\\buildkite-windows-cpu-autoscaling-group-i-0b3782d1791676daf-1\\xgboost\\xgboost-ci-windows\\src\\learner.cc:742: \n",
      "Parameters: { \"max_features\", \"min_samples_leaf\", \"min_samples_split\" } are not used.\n",
      "\n",
      "  warnings.warn(smsg, UserWarning)\n",
      "[I 2024-07-20 16:56:52,099] Trial 12 finished with value: 0.9682813903669408 and parameters: {'n_estimators': 200, 'max_features': 'auto', 'max_depth': 10, 'min_samples_split': 8, 'min_samples_leaf': 1, 'random_state': 0}. Best is trial 2 with value: 0.9682813903669408.\n",
      "C:\\anaconda\\Lib\\site-packages\\xgboost\\core.py:160: UserWarning: [16:56:52] WARNING: C:\\buildkite-agent\\builds\\buildkite-windows-cpu-autoscaling-group-i-0b3782d1791676daf-1\\xgboost\\xgboost-ci-windows\\src\\learner.cc:742: \n",
      "Parameters: { \"max_features\", \"min_samples_leaf\", \"min_samples_split\" } are not used.\n",
      "\n",
      "  warnings.warn(smsg, UserWarning)\n",
      "[I 2024-07-20 16:57:00,062] Trial 13 finished with value: 0.9682813903669408 and parameters: {'n_estimators': 200, 'max_features': 'auto', 'max_depth': 10, 'min_samples_split': 10, 'min_samples_leaf': 3, 'random_state': 37}. Best is trial 2 with value: 0.9682813903669408.\n",
      "C:\\anaconda\\Lib\\site-packages\\xgboost\\core.py:160: UserWarning: [16:57:00] WARNING: C:\\buildkite-agent\\builds\\buildkite-windows-cpu-autoscaling-group-i-0b3782d1791676daf-1\\xgboost\\xgboost-ci-windows\\src\\learner.cc:742: \n",
      "Parameters: { \"max_features\", \"min_samples_leaf\", \"min_samples_split\" } are not used.\n",
      "\n",
      "  warnings.warn(smsg, UserWarning)\n",
      "[I 2024-07-20 16:57:30,775] Trial 14 finished with value: 0.9662389913927472 and parameters: {'n_estimators': 200, 'max_features': 'auto', 'max_depth': 70, 'min_samples_split': 8, 'min_samples_leaf': 2, 'random_state': 13}. Best is trial 2 with value: 0.9682813903669408.\n",
      "C:\\anaconda\\Lib\\site-packages\\xgboost\\core.py:160: UserWarning: [16:57:30] WARNING: C:\\buildkite-agent\\builds\\buildkite-windows-cpu-autoscaling-group-i-0b3782d1791676daf-1\\xgboost\\xgboost-ci-windows\\src\\learner.cc:742: \n",
      "Parameters: { \"max_features\", \"min_samples_leaf\", \"min_samples_split\" } are not used.\n",
      "\n",
      "  warnings.warn(smsg, UserWarning)\n",
      "[I 2024-07-20 16:57:43,182] Trial 15 finished with value: 0.9682429994087792 and parameters: {'n_estimators': 300, 'max_features': 'auto', 'max_depth': 10, 'min_samples_split': 10, 'min_samples_leaf': 1, 'random_state': 37}. Best is trial 2 with value: 0.9682813903669408.\n",
      "C:\\anaconda\\Lib\\site-packages\\xgboost\\core.py:160: UserWarning: [16:57:43] WARNING: C:\\buildkite-agent\\builds\\buildkite-windows-cpu-autoscaling-group-i-0b3782d1791676daf-1\\xgboost\\xgboost-ci-windows\\src\\learner.cc:742: \n",
      "Parameters: { \"max_features\", \"min_samples_leaf\", \"min_samples_split\" } are not used.\n",
      "\n",
      "  warnings.warn(smsg, UserWarning)\n",
      "[I 2024-07-20 16:58:13,340] Trial 16 finished with value: 0.9661775658596887 and parameters: {'n_estimators': 400, 'max_features': 'auto', 'max_depth': 30, 'min_samples_split': 8, 'min_samples_leaf': 1, 'random_state': 12}. Best is trial 2 with value: 0.9682813903669408.\n",
      "C:\\anaconda\\Lib\\site-packages\\xgboost\\core.py:160: UserWarning: [16:58:13] WARNING: C:\\buildkite-agent\\builds\\buildkite-windows-cpu-autoscaling-group-i-0b3782d1791676daf-1\\xgboost\\xgboost-ci-windows\\src\\learner.cc:742: \n",
      "Parameters: { \"max_features\", \"min_samples_leaf\", \"min_samples_split\" } are not used.\n",
      "\n",
      "  warnings.warn(smsg, UserWarning)\n",
      "[I 2024-07-20 16:58:44,546] Trial 17 finished with value: 0.9662389913927472 and parameters: {'n_estimators': 200, 'max_features': 'auto', 'max_depth': 70, 'min_samples_split': 10, 'min_samples_leaf': 3, 'random_state': 23}. Best is trial 2 with value: 0.9682813903669408.\n",
      "C:\\anaconda\\Lib\\site-packages\\xgboost\\core.py:160: UserWarning: [16:58:44] WARNING: C:\\buildkite-agent\\builds\\buildkite-windows-cpu-autoscaling-group-i-0b3782d1791676daf-1\\xgboost\\xgboost-ci-windows\\src\\learner.cc:742: \n",
      "Parameters: { \"max_features\", \"min_samples_leaf\", \"min_samples_split\" } are not used.\n",
      "\n",
      "  warnings.warn(smsg, UserWarning)\n",
      "[I 2024-07-20 16:59:26,644] Trial 18 finished with value: 0.9662236350094826 and parameters: {'n_estimators': 400, 'max_features': 'auto', 'max_depth': 50, 'min_samples_split': 6, 'min_samples_leaf': 2, 'random_state': 37}. Best is trial 2 with value: 0.9682813903669408.\n",
      "C:\\anaconda\\Lib\\site-packages\\xgboost\\core.py:160: UserWarning: [16:59:26] WARNING: C:\\buildkite-agent\\builds\\buildkite-windows-cpu-autoscaling-group-i-0b3782d1791676daf-1\\xgboost\\xgboost-ci-windows\\src\\learner.cc:742: \n",
      "Parameters: { \"max_features\", \"min_samples_leaf\", \"min_samples_split\" } are not used.\n",
      "\n",
      "  warnings.warn(smsg, UserWarning)\n",
      "[I 2024-07-20 16:59:31,247] Trial 19 finished with value: 0.9670682360890364 and parameters: {'n_estimators': 100, 'max_features': 'auto', 'max_depth': 10, 'min_samples_split': 8, 'min_samples_leaf': 1, 'random_state': 7}. Best is trial 2 with value: 0.9682813903669408.\n",
      "C:\\anaconda\\Lib\\site-packages\\xgboost\\core.py:160: UserWarning: [16:59:31] WARNING: C:\\buildkite-agent\\builds\\buildkite-windows-cpu-autoscaling-group-i-0b3782d1791676daf-1\\xgboost\\xgboost-ci-windows\\src\\learner.cc:742: \n",
      "Parameters: { \"max_features\", \"min_samples_leaf\", \"min_samples_split\" } are not used.\n",
      "\n",
      "  warnings.warn(smsg, UserWarning)\n",
      "[I 2024-07-20 16:59:49,263] Trial 20 finished with value: 0.9663695206504964 and parameters: {'n_estimators': 200, 'max_features': 'auto', 'max_depth': 30, 'min_samples_split': 6, 'min_samples_leaf': 2, 'random_state': 48}. Best is trial 2 with value: 0.9682813903669408.\n",
      "C:\\anaconda\\Lib\\site-packages\\xgboost\\core.py:160: UserWarning: [16:59:49] WARNING: C:\\buildkite-agent\\builds\\buildkite-windows-cpu-autoscaling-group-i-0b3782d1791676daf-1\\xgboost\\xgboost-ci-windows\\src\\learner.cc:742: \n",
      "Parameters: { \"max_features\", \"min_samples_leaf\", \"min_samples_split\" } are not used.\n",
      "\n",
      "  warnings.warn(smsg, UserWarning)\n",
      "[I 2024-07-20 16:59:57,711] Trial 21 finished with value: 0.9682813903669408 and parameters: {'n_estimators': 200, 'max_features': 'auto', 'max_depth': 10, 'min_samples_split': 10, 'min_samples_leaf': 3, 'random_state': 35}. Best is trial 2 with value: 0.9682813903669408.\n",
      "C:\\anaconda\\Lib\\site-packages\\xgboost\\core.py:160: UserWarning: [16:59:57] WARNING: C:\\buildkite-agent\\builds\\buildkite-windows-cpu-autoscaling-group-i-0b3782d1791676daf-1\\xgboost\\xgboost-ci-windows\\src\\learner.cc:742: \n",
      "Parameters: { \"max_features\", \"min_samples_leaf\", \"min_samples_split\" } are not used.\n",
      "\n",
      "  warnings.warn(smsg, UserWarning)\n",
      "[I 2024-07-20 17:00:10,682] Trial 22 finished with value: 0.9682429994087792 and parameters: {'n_estimators': 300, 'max_features': 'auto', 'max_depth': 10, 'min_samples_split': 10, 'min_samples_leaf': 3, 'random_state': 21}. Best is trial 2 with value: 0.9682813903669408.\n",
      "C:\\anaconda\\Lib\\site-packages\\xgboost\\core.py:160: UserWarning: [17:00:10] WARNING: C:\\buildkite-agent\\builds\\buildkite-windows-cpu-autoscaling-group-i-0b3782d1791676daf-1\\xgboost\\xgboost-ci-windows\\src\\learner.cc:742: \n",
      "Parameters: { \"max_features\", \"min_samples_leaf\", \"min_samples_split\" } are not used.\n",
      "\n",
      "  warnings.warn(smsg, UserWarning)\n",
      "[I 2024-07-20 17:00:28,826] Trial 23 finished with value: 0.9663695206504964 and parameters: {'n_estimators': 200, 'max_features': 'auto', 'max_depth': 30, 'min_samples_split': 10, 'min_samples_leaf': 3, 'random_state': 44}. Best is trial 2 with value: 0.9682813903669408.\n",
      "C:\\anaconda\\Lib\\site-packages\\xgboost\\core.py:160: UserWarning: [17:00:28] WARNING: C:\\buildkite-agent\\builds\\buildkite-windows-cpu-autoscaling-group-i-0b3782d1791676daf-1\\xgboost\\xgboost-ci-windows\\src\\learner.cc:742: \n",
      "Parameters: { \"max_features\", \"min_samples_leaf\", \"min_samples_split\" } are not used.\n",
      "\n",
      "  warnings.warn(smsg, UserWarning)\n",
      "[I 2024-07-20 17:00:33,512] Trial 24 finished with value: 0.9670682360890364 and parameters: {'n_estimators': 100, 'max_features': 'auto', 'max_depth': 10, 'min_samples_split': 8, 'min_samples_leaf': 2, 'random_state': 58}. Best is trial 2 with value: 0.9682813903669408.\n",
      "C:\\anaconda\\Lib\\site-packages\\xgboost\\core.py:160: UserWarning: [17:00:33] WARNING: C:\\buildkite-agent\\builds\\buildkite-windows-cpu-autoscaling-group-i-0b3782d1791676daf-1\\xgboost\\xgboost-ci-windows\\src\\learner.cc:742: \n",
      "Parameters: { \"max_features\", \"min_samples_leaf\", \"min_samples_split\" } are not used.\n",
      "\n",
      "  warnings.warn(smsg, UserWarning)\n",
      "[I 2024-07-20 17:00:51,149] Trial 25 finished with value: 0.9663695206504964 and parameters: {'n_estimators': 200, 'max_features': 'auto', 'max_depth': 30, 'min_samples_split': 10, 'min_samples_leaf': 3, 'random_state': 31}. Best is trial 2 with value: 0.9682813903669408.\n",
      "C:\\anaconda\\Lib\\site-packages\\xgboost\\core.py:160: UserWarning: [17:00:51] WARNING: C:\\buildkite-agent\\builds\\buildkite-windows-cpu-autoscaling-group-i-0b3782d1791676daf-1\\xgboost\\xgboost-ci-windows\\src\\learner.cc:742: \n",
      "Parameters: { \"max_features\", \"min_samples_leaf\", \"min_samples_split\" } are not used.\n",
      "\n",
      "  warnings.warn(smsg, UserWarning)\n",
      "[I 2024-07-20 17:01:03,501] Trial 26 finished with value: 0.9682429994087792 and parameters: {'n_estimators': 300, 'max_features': 'auto', 'max_depth': 10, 'min_samples_split': 8, 'min_samples_leaf': 1, 'random_state': 42}. Best is trial 2 with value: 0.9682813903669408.\n",
      "C:\\anaconda\\Lib\\site-packages\\xgboost\\core.py:160: UserWarning: [17:01:03] WARNING: C:\\buildkite-agent\\builds\\buildkite-windows-cpu-autoscaling-group-i-0b3782d1791676daf-1\\xgboost\\xgboost-ci-windows\\src\\learner.cc:742: \n",
      "Parameters: { \"max_features\", \"min_samples_leaf\", \"min_samples_split\" } are not used.\n",
      "\n",
      "  warnings.warn(smsg, UserWarning)\n",
      "[I 2024-07-20 17:01:31,283] Trial 27 finished with value: 0.9663695206504964 and parameters: {'n_estimators': 200, 'max_features': 'auto', 'max_depth': 50, 'min_samples_split': 10, 'min_samples_leaf': 4, 'random_state': 25}. Best is trial 2 with value: 0.9682813903669408.\n",
      "C:\\anaconda\\Lib\\site-packages\\xgboost\\core.py:160: UserWarning: [17:01:31] WARNING: C:\\buildkite-agent\\builds\\buildkite-windows-cpu-autoscaling-group-i-0b3782d1791676daf-1\\xgboost\\xgboost-ci-windows\\src\\learner.cc:742: \n",
      "Parameters: { \"max_features\", \"min_samples_leaf\", \"min_samples_split\" } are not used.\n",
      "\n",
      "  warnings.warn(smsg, UserWarning)\n",
      "[I 2024-07-20 17:01:36,207] Trial 28 finished with value: 0.9670682360890364 and parameters: {'n_estimators': 100, 'max_features': 'auto', 'max_depth': 10, 'min_samples_split': 10, 'min_samples_leaf': 2, 'random_state': 8}. Best is trial 2 with value: 0.9682813903669408.\n",
      "C:\\anaconda\\Lib\\site-packages\\xgboost\\core.py:160: UserWarning: [17:01:36] WARNING: C:\\buildkite-agent\\builds\\buildkite-windows-cpu-autoscaling-group-i-0b3782d1791676daf-1\\xgboost\\xgboost-ci-windows\\src\\learner.cc:742: \n",
      "Parameters: { \"max_features\", \"min_samples_leaf\", \"min_samples_split\" } are not used.\n",
      "\n",
      "  warnings.warn(smsg, UserWarning)\n",
      "[I 2024-07-20 17:02:18,718] Trial 29 finished with value: 0.9661314967098948 and parameters: {'n_estimators': 300, 'max_features': 'sqrt', 'max_depth': 70, 'min_samples_split': 8, 'min_samples_leaf': 4, 'random_state': 17}. Best is trial 2 with value: 0.9682813903669408.\n"
     ]
    },
    {
     "name": "stdout",
     "output_type": "stream",
     "text": [
      "XGB Classifier Best hyperparameters: {'n_estimators': 200, 'max_features': 'auto', 'max_depth': 10, 'min_samples_split': 10, 'min_samples_leaf': 1, 'random_state': 25}\n",
      "XGB Classifier Best Accuracy: 0.9682813903669408\n"
     ]
    }
   ],
   "source": [
    "def objective(trial_xgb):\n",
    "    # Number of trees in lgbm\n",
    "    \n",
    "    n_estimators = trial_xgb.suggest_int(name=\"n_estimators\", low=100, high=500, step=100)\n",
    "\n",
    "    # Number of features to consider at every split\n",
    "    max_features = trial_xgb.suggest_categorical(name=\"max_features\", choices=['auto', 'sqrt'])\n",
    "\n",
    "    # Maximum number of levels in tree\n",
    "    max_depth = trial_xgb.suggest_int(name=\"max_depth\", low=10, high=110, step=20)\n",
    "\n",
    "    # Minimum number of samples required to split a node\n",
    "    min_samples_split = trial_xgb.suggest_int(name=\"min_samples_split\", low=2, high=10, step=2)\n",
    "\n",
    "    # Minimum number of samples required at each leaf node\n",
    "    min_samples_leaf = trial_xgb.suggest_int(name=\"min_samples_leaf\", low=1, high=4, step=1)\n",
    "    \n",
    "    # Random state\n",
    "    random_state = trial_xgb.suggest_int(name=\"random_state\", low=0, high=100, step=1)\n",
    "    \n",
    "    params_xgb = {\n",
    "        \"n_estimators\": n_estimators,\n",
    "        \"max_features\": max_features,\n",
    "        \"max_depth\": max_depth,\n",
    "        \"min_samples_split\": min_samples_split,\n",
    "        \"min_samples_leaf\": min_samples_leaf,\n",
    "        \"random_state\": random_state\n",
    "    }\n",
    "    \n",
    "    model_xgb = xgb. XGBClassifier(**params_xgb)\n",
    "    model_xgb.fit(X_train, y_train)\n",
    "    predictions_xgb = model_xgb.predict(X_test)\n",
    "    # Calculate the accuracy of the model\n",
    "    accuracy = accuracy_score(y_test, predictions_xgb)\n",
    "    return accuracy\n",
    "\n",
    "study_xgb = optuna.create_study(direction='maximize')\n",
    "study_xgb.optimize(objective, n_trials=30)\n",
    "\n",
    "print('XGB Classifier Best hyperparameters:', study_xgb.best_params)\n",
    "print('XGB Classifier Best Accuracy:', study_xgb.best_value)"
   ]
  },
  {
   "cell_type": "code",
   "execution_count": 41,
   "metadata": {},
   "outputs": [
    {
     "name": "stderr",
     "output_type": "stream",
     "text": [
      "C:\\anaconda\\Lib\\site-packages\\xgboost\\core.py:160: UserWarning: [17:27:28] WARNING: C:\\buildkite-agent\\builds\\buildkite-windows-cpu-autoscaling-group-i-0b3782d1791676daf-1\\xgboost\\xgboost-ci-windows\\src\\learner.cc:742: \n",
      "Parameters: { \"max_features\", \"min_samples_leaf\", \"min_samples_split\" } are not used.\n",
      "\n",
      "  warnings.warn(smsg, UserWarning)\n"
     ]
    }
   ],
   "source": [
    "# Initialize and start the timer for model training\n",
    "start_time = time.time()\n",
    "\n",
    "best_model_xgb = XGBClassifier(**study_xgb.best_params)\n",
    "best_model_xgb.fit(X_train, y_train)\n",
    "\n",
    "# Calculate the model training time\n",
    "training_time_xgb_optuna = time.time() - start_time\n",
    "\n",
    "train_xgb = best_model_xgb.predict(X_train)\n",
    "\n",
    "# Initialize and start the timer for model training\n",
    "start_time = time.time()\n",
    "\n",
    "test_xgb = best_model_xgb.predict(X_test)\n",
    "\n",
    "# Calculate the model execution time\n",
    "execution_time_xgb_optuna = ( time.time() - start_time ) / 130239"
   ]
  },
  {
   "cell_type": "code",
   "execution_count": 47,
   "metadata": {},
   "outputs": [
    {
     "data": {
      "image/png": "[encoded data removed]",
      "text/plain": [
       "<Figure size 640x480 with 2 Axes>"
      ]
     },
     "metadata": {},
     "output_type": "display_data"
    }
   ],
   "source": [
    "from sklearn.metrics import confusion_matrix, ConfusionMatrixDisplay\n",
    "import matplotlib.pyplot as plt\n",
    "\n",
    "sample_weight = (test_xgb == y_test)\n",
    "\n",
    "# Create a ConfusionMatrixDisplay\n",
    "cm_display = ConfusionMatrixDisplay(confusion_matrix=cm)\n",
    "\n",
    "cm_display.plot()\n",
    "plt.title('XGB Classifier Confusion Matrix')\n",
    "plt.xlabel('Predicted Values')\n",
    "plt.ylabel('Actual Values')\n",
    "plt.savefig('XGB Classifier Confusion Matrix.pdf', format='pdf')\n",
    "plt.show()"
   ]
  },
  {
   "cell_type": "code",
   "execution_count": 43,
   "metadata": {},
   "outputs": [
    {
     "data": {
      "image/png": "[encoded data removed]",
      "text/plain": [
       "<Figure size 640x480 with 2 Axes>"
      ]
     },
     "metadata": {},
     "output_type": "display_data"
    }
   ],
   "source": [
    "from sklearn.metrics import ConfusionMatrixDisplay\n",
    "sample_weight = (test_xgb != y_test)\n",
    "ConfusionMatrixDisplay.from_predictions(y_test, test_xgb, sample_weight=sample_weight, normalize=\"true\", values_format=\".0%\")\n",
    "plt.title('XGBoost Classifier Error Matrix')\n",
    "plt.ylabel('Actual Values')\n",
    "plt.xlabel('Predicted Values')\n",
    "# Save the plot as a PDF\n",
    "plt.savefig('XGBoost Classifier Error Matrix After HPO.pdf', format='pdf')\n",
    "plt.show()"
   ]
  },
  {
   "cell_type": "code",
   "execution_count": null,
   "metadata": {},
   "outputs": [],
   "source": [
    "xgb_feature_optuna = best_model_xgb.feature_importances_\n",
    "xgb_features_optuna = xgb_feature_optuna.tolist()"
   ]
  },
  {
   "cell_type": "markdown",
   "metadata": {},
   "source": [
    "## Gradient Boosting Classifier"
   ]
  },
  {
   "cell_type": "code",
   "execution_count": null,
   "metadata": {},
   "outputs": [],
   "source": [
    "def objective(trial_gbc):\n",
    "    \n",
    "    # Random state\n",
    "    random_state = trial_gbc.suggest_int(name=\"random_state\", low=0, high=100, step=1)\n",
    "    \n",
    "    params_gbc = {\n",
    "        \"random_state\": random_state\n",
    "    }\n",
    "    \n",
    "    model_gbc = GradientBoostingClassifier(**params_gbc)\n",
    "    model_gbc.fit(X_train, y_train)\n",
    "    predictions_gbc = model_gbc.predict(X_test)\n",
    "    # Calculate the accuracy of the model\n",
    "    accuracy = accuracy_score(y_test, predictions_gbc)\n",
    "    return accuracy\n",
    "\n",
    "study_gbc = optuna.create_study(direction='maximize')\n",
    "study_gbc.optimize(objective, n_trials=30)\n",
    "\n",
    "print('Gradient Boosting Classifier Best hyperparameters:', study_gbc.best_params)\n",
    "print('Gradient Boosting Classifier Best Accuracy:', study_gbc.best_value)"
   ]
  },
  {
   "cell_type": "code",
   "execution_count": null,
   "metadata": {},
   "outputs": [],
   "source": [
    "# Initialize and start the timer for model training\n",
    "start_time = time.time()\n",
    "\n",
    "best_model_gbc = GradientBoostingClassifier(**study_gbc.best_params)\n",
    "best_model_gbc.fit(X_train, y_train)\n",
    "\n",
    "# Calculate the model training time\n",
    "training_time_gbc_optuna = time.time() - start_time\n",
    "\n",
    "train_gbc = best_model_gbc.predict(X_train)\n",
    "\n",
    "# Initialize and start the timer for model training\n",
    "start_time = time.time()\n",
    "\n",
    "test_gbc = best_model_gbc.predict(X_test)\n",
    "\n",
    "# Calculate the model execution time\n",
    "execution_time_gbc_optuna = ( time.time() - start_time ) / 130239"
   ]
  },
  {
   "cell_type": "code",
   "execution_count": null,
   "metadata": {},
   "outputs": [],
   "source": [
    "gbc_feature_optuna = best_model_gbc.feature_importances_\n",
    "gbc_features_optuna = gbc_feature_optuna.tolist()"
   ]
  },
  {
   "cell_type": "markdown",
   "metadata": {},
   "source": [
    "## Stacking"
   ]
  },
  {
   "cell_type": "code",
   "execution_count": null,
   "metadata": {},
   "outputs": [],
   "source": [
    "base_predictions_train_optuna = pd.DataFrame( {\n",
    "    'LGBM Classifier': train_lgbm.ravel(),\n",
    "        'Random Forest Classifier': train_rf.ravel(),\n",
    "     'XGB Classifier': train_xgb.ravel(),\n",
    "     'Gradient Boosting Classifier': train_gbc.ravel(),\n",
    "    })\n",
    "base_predictions_train_optuna.head(5)"
   ]
  },
  {
   "cell_type": "code",
   "execution_count": null,
   "metadata": {},
   "outputs": [],
   "source": [
    "train_lgbm=train_lgbm.reshape(-1, 1)\n",
    "train_rf=train_rf.reshape(-1, 1)\n",
    "train_xgb=train_xgb.reshape(-1, 1)\n",
    "train_gbc=train_gbc.reshape(-1, 1)\n",
    "test_lgbm=test_lgbm.reshape(-1, 1)\n",
    "test_rf=test_rf.reshape(-1, 1)\n",
    "test_xgb=test_xgb.reshape(-1, 1)\n",
    "test_gbc=test_gbc.reshape(-1, 1)"
   ]
  },
  {
   "cell_type": "code",
   "execution_count": null,
   "metadata": {},
   "outputs": [],
   "source": [
    "train_x = np.concatenate(( train_lgbm, train_rf, train_xgb, train_gbc), axis=1)\n",
    "test_x = np.concatenate(( test_lgbm, test_rf, test_xgb, test_gbc), axis=1)"
   ]
  },
  {
   "cell_type": "code",
   "execution_count": null,
   "metadata": {},
   "outputs": [],
   "source": [
    "from sklearn.metrics import precision_recall_fscore_support\n",
    "import seaborn as sns\n",
    "\n",
    "# Initialize and start the timer for model training\n",
    "start_time = time.time()\n",
    "\n",
    "stk_optuna = xgb.XGBClassifier().fit(train_x, y_train)\n",
    "\n",
    "# Calculate the model training time\n",
    "training_time_stk_optuna = time.time() - start_time\n",
    "\n",
    "# Initialize and start the timer for model execution\n",
    "start_time = time.time()\n",
    "\n",
    "predict_y=stk_optuna.predict(test_x)\n",
    "\n",
    "# Calculate the model execution time\n",
    "execution_time_stk_optuna = ( time.time() - start_time ) / 130239\n",
    "\n",
    "y_true=y_test\n",
    "stk_score=accuracy_score(y_true,predict_y)\n",
    "print('Accuracy of Stacking: '+ str(stk_score))\n",
    "precision,recall,fscore,none= precision_recall_fscore_support(y_true, predict_y, average='weighted') \n",
    "print('Precision of Stacking: '+(str(precision)))\n",
    "print('Recall of Stacking: '+(str(recall)))\n",
    "print('F1-score of Stacking: '+(str(fscore)))\n",
    "print(classification_report(y_true,predict_y))"
   ]
  },
  {
   "cell_type": "code",
   "execution_count": null,
   "metadata": {},
   "outputs": [],
   "source": [
    "stk_feature_optuna = stk_optuna.feature_importances_\n",
    "stk_features_optuna = stk_feature_optuna.tolist()"
   ]
  },
  {
   "cell_type": "markdown",
   "metadata": {},
   "source": [
    "## Performance Metrics"
   ]
  },
  {
   "cell_type": "code",
   "execution_count": null,
   "metadata": {},
   "outputs": [],
   "source": [
    "from sklearn.metrics import classification_report, precision_score, recall_score, f1_score, accuracy_score\n",
    "\n",
    "# Assuming you have imported the classifiers and defined their predictions\n",
    "classifiers_optuna = [test_ada, test_sgd, test_et, test_lgbm, test_rf, test_xgb, test_gbc, predict_y]\n",
    "model_names = ['Ada Boost', 'SGD', 'Extra Trees', 'LGBM', 'Random Forest', 'XGB', 'Gradient Boosting', 'Stacking']\n",
    "\n",
    "# Create a dictionary to map model names to their respective predictions\n",
    "classifier_map_optuna = dict(zip(model_names, classifiers_optuna))\n",
    "\n",
    "# Now you can use this dictionary to iterate over each model name and its predictions\n",
    "for model_name, y_pred in classifier_map_optuna.items():\n",
    "    accuracy = accuracy_score(y_test, y_pred)\n",
    "    precision = precision_score(y_test, y_pred, average='weighted')\n",
    "    recall = recall_score(y_test, y_pred, average='weighted')\n",
    "    f1score = f1_score(y_test, y_pred, average='weighted')\n",
    "    class_report = classification_report(y_test, y_pred)\n",
    "\n",
    "    print(f\"\\nMetrics for Model '{model_name}':\")\n",
    "    print(f\"Accuracy: {accuracy}\")\n",
    "    print(f\"Precision: {precision}\")\n",
    "    print(f\"Recall: {recall}\")\n",
    "    print(f\"F1-score: {f1score}\")\n",
    "    print(f\"Classification Report:\\n{class_report}\")\n"
   ]
  },
  {
   "cell_type": "code",
   "execution_count": null,
   "metadata": {},
   "outputs": [],
   "source": [
    "import numpy as np\n",
    "import matplotlib.pyplot as plt\n",
    "from matplotlib.ticker import PercentFormatter\n",
    "\n",
    "# Initialize data for the bar chart\n",
    "models = list(classifier_map_optuna.keys())\n",
    "metrics = ['Accuracy', 'Precision', 'Recall', 'F1-score']\n",
    "\n",
    "# Calculate metric scores for each model\n",
    "metric_scores = {}\n",
    "for metric in metrics:\n",
    "    metric_scores[metric] = [accuracy_score(y_test, classifier_map_optuna[model_name]) if metric == 'Accuracy'\n",
    "                             else precision_score(y_test, classifier_map_optuna[model_name], average='weighted') if metric == 'Precision'\n",
    "                             else recall_score(y_test, classifier_map_optuna[model_name], average='weighted') if metric == 'Recall'\n",
    "                             else f1_score(y_test, classifier_map_optuna[model_name], average='weighted') for model_name in models]\n",
    "\n",
    "# Set width of bars\n",
    "bar_width = 0.16\n",
    "\n",
    "# Set position of bars on X axis\n",
    "r1 = np.arange(len(models))\n",
    "r2 = [x + bar_width for x in r1]\n",
    "r3 = [x + bar_width for x in r2]\n",
    "r4 = [x + bar_width for x in r3]\n",
    "\n",
    "plt.figure(figsize=(10, 6))\n",
    "\n",
    "# Define light colors\n",
    "colors = ['#48C9B0', '#FFA500', '#FF6347', '#7B68EE']\n",
    "\n",
    "# Plotting the bars\n",
    "bars = []\n",
    "bars.append(plt.bar(r1, metric_scores['Accuracy'], color=colors[0], width=bar_width, edgecolor='grey', label='Accuracy'))\n",
    "bars.append(plt.bar(r2, metric_scores['Precision'], color=colors[1], width=bar_width, edgecolor='grey', label='Precision'))\n",
    "bars.append(plt.bar(r3, metric_scores['Recall'], color=colors[2], width=bar_width, edgecolor='grey', label='Recall'))\n",
    "bars.append(plt.bar(r4, metric_scores['F1-score'], color=colors[3], width=bar_width, edgecolor='grey', label='F1-score'))\n",
    "\n",
    "# Adding labels on top of each bar with percentage format\n",
    "for i, container in enumerate(bars):\n",
    "   for j, bar in enumerate(container):\n",
    "       yval = bar.get_height()\n",
    "       if yval == max(metric_scores[metrics[i]]):\n",
    "           plt.text(bar.get_x() + bar.get_width()/2.0, yval + 0.005, f'{yval*100:.2f}%', va='bottom', ha='center', rotation=90, fontsize=8, weight='bold')\n",
    "       else:\n",
    "           plt.text(bar.get_x() + bar.get_width()/2.0, yval + 0.005, f'{yval*100:.2f}%', va='bottom', ha='center', rotation=90, fontsize=8)\n",
    "\n",
    "# Add xticks on the middle of the group bars\n",
    "plt.xlabel('Models', fontweight='bold')\n",
    "plt.xticks([r + bar_width*1.5 for r in range(len(models))], models)\n",
    "\n",
    "# Set y-axis as percentage and its limits\n",
    "plt.gca().yaxis.set_major_formatter(PercentFormatter(xmax=1))\n",
    "plt.ylim(0.3, 1.3)  # Keep the original scale but now interpreted as percentages\n",
    "\n",
    "# Add a legend and show the plot\n",
    "plt.legend()\n",
    "# Save the plot as a PDF\n",
    "plt.savefig('Model Performance Comparison After Optuna.pdf', format='pdf')\n",
    "plt.show()"
   ]
  },
  {
   "cell_type": "markdown",
   "metadata": {},
   "source": [
    "# Training Time Comparision - Optuna"
   ]
  },
  {
   "cell_type": "code",
   "execution_count": null,
   "metadata": {},
   "outputs": [],
   "source": [
    "import numpy as np\n",
    "import matplotlib.pyplot as plt\n",
    "\n",
    "# Assuming you have imported the classifiers and defined their training times\n",
    "training_times_optuna = [training_time_ada_optuna, training_time_sgd_optuna, training_time_et_optuna, training_time_lgbm, training_time_rf_optuna, training_time_xgb_optuna, training_time_gbc_optuna, training_time_stk_optuna]\n",
    "\n",
    "# Initialize data for the line plot\n",
    "training_models_optuna = ['AdaBoost', 'SGD', 'ExtraTrees', 'LGBM', 'RandomForest', 'XGBoost', 'GrandientBoosting', 'Stacking']  # Assuming these are your model names\n",
    "\n",
    "# Set figure size\n",
    "plt.figure(figsize=(10, 6))\n",
    "\n",
    "# Define line colors and styles\n",
    "colors = ['#48C9B0', '#FFA500', '#FF6347', '#7B68EE', '#8A2BE2']\n",
    "linestyles = ['-', '--', ':', '-.', '-']\n",
    "\n",
    "plt.plot(training_models_optuna, training_times_optuna, color=colors[0], linestyle=linestyles[i], linewidth=2, marker='o', markersize=8, label='Training Time')\n",
    "\n",
    "# Add grid and axis labels\n",
    "plt.grid(True)\n",
    "plt.xlabel('Model', fontweight='bold', fontsize=12)\n",
    "plt.ylabel('Training Time (seconds)', fontweight='bold', fontsize=12)\n",
    "\n",
    "# Set x-axis tick labels\n",
    "plt.xticks(x, training_models_optuna, rotation=45, ha='right', fontsize=10)\n",
    "\n",
    "# Add a legend\n",
    "plt.legend(loc='upper left', fontsize=10)\n",
    "\n",
    "# Adjust the layout\n",
    "plt.tight_layout()\n",
    "\n",
    "# Save the plot as a PDF\n",
    "plt.savefig('Model Training Time Comparison After Optuna.pdf', format='pdf')\n",
    "plt.show()"
   ]
  },
  {
   "cell_type": "markdown",
   "metadata": {},
   "source": [
    "# Final Training Time Comparision"
   ]
  },
  {
   "cell_type": "code",
   "execution_count": null,
   "metadata": {},
   "outputs": [],
   "source": [
    "import numpy as np\n",
    "import matplotlib.pyplot as plt\n",
    "\n",
    "# Assuming you have imported the classifiers and defined their training times\n",
    "training_times = [training_time_ada, training_time_sgd, training_time_et, training_time_lgbm, training_time_rf, training_time_xgb, training_time_gbc, training_time_stk]\n",
    "training_times_optuna = [training_time_ada_optuna, training_time_sgd_optuna, training_time_et_optuna, training_time_lgbm_optuna, training_time_rf_optuna, training_time_xgb_optuna, training_time_gbc_optuna, training_time_stk_optuna]\n",
    "\n",
    "# Transpose the training_times lists to make them 2D arrays\n",
    "training_times = np.array(training_times).T\n",
    "training_times_optuna = np.array(training_times_optuna).T\n",
    "\n",
    "# Initialize data for the line plot\n",
    "training_models = ['AdaBoost', 'SGD', 'ExtraTrees', 'LGBM', 'RandomForest', 'XGBoost', 'GrandientBoosting', 'Stacking']  # Assuming these are your model names\n",
    "\n",
    "# Define line colors and styles\n",
    "colors = ['#48C9B0', '#FFA500']\n",
    "linestyles = ['-', '--']\n",
    "\n",
    "# Plot the training times before and after Optuna\n",
    "x = np.arange(len(training_models))\n",
    "\n",
    "# Set up the figure and axis\n",
    "fig, ax = plt.subplots(figsize=(10, 6))\n",
    "\n",
    "# Define the line properties\n",
    "line_width = 2\n",
    "marker_size = 8\n",
    "marker_style = 'o'\n",
    "\n",
    "# Plot the line graphs\n",
    "ax.plot(x, training_times, linewidth=line_width, marker=marker_style, markersize=marker_size, color='#1f77b4', label='Before Optuna')\n",
    "ax.plot(x, training_times_optuna, linewidth=line_width, marker=marker_style, markersize=marker_size, color='#ff7f0e', label='After Optuna')\n",
    "\n",
    "# Add axis labels and title\n",
    "ax.set_xlabel('Model', fontweight='bold', fontsize=12)\n",
    "ax.set_ylabel('Execution Time (seconds)', fontweight='bold', fontsize=12)\n",
    "ax.set_title('Comparison of Model Training Times Before and After Optuna', fontweight='bold', fontsize=14)\n",
    "\n",
    "# Add grid and axis labels\n",
    "plt.grid(True)\n",
    "plt.xlabel('Model', fontweight='bold', fontsize=12)\n",
    "plt.ylabel('Training Time (seconds)', fontweight='bold', fontsize=12)\n",
    "\n",
    "# Customize the x-axis ticks and labels\n",
    "ax.set_xticks(x)\n",
    "ax.set_xticklabels(training_models, rotation=45, ha='right', fontsize=10)\n",
    "\n",
    "# Add grid lines\n",
    "ax.grid(True, linestyle='--', linewidth=1, color='#BBBBBB')\n",
    "\n",
    "# Adjust the spacing between subplots\n",
    "plt.subplots_adjust(bottom=0.2)\n",
    "\n",
    "# Add a legend\n",
    "legend_font = font_manager.FontProperties(size=10)\n",
    "ax.legend(loc='upper left', prop=legend_font)\n",
    "\n",
    "plt.subplots_adjust(bottom=0.25)  # Increase the bottom margin\n",
    "\n",
    "# Save the plot as a PDF\n",
    "plt.savefig('Model Training Time Comparison Before and After Optuna.pdf', format='pdf')\n",
    "plt.show()"
   ]
  },
  {
   "cell_type": "code",
   "execution_count": null,
   "metadata": {},
   "outputs": [],
   "source": [
    "training_times"
   ]
  },
  {
   "cell_type": "code",
   "execution_count": null,
   "metadata": {},
   "outputs": [],
   "source": [
    "training_times_optuna"
   ]
  },
  {
   "cell_type": "markdown",
   "metadata": {},
   "source": [
    "# Execution Time Comparision - Optuna"
   ]
  },
  {
   "cell_type": "code",
   "execution_count": null,
   "metadata": {},
   "outputs": [],
   "source": [
    "import numpy as np\n",
    "import matplotlib.pyplot as plt\n",
    "import matplotlib.font_manager as font_manager\n",
    "\n",
    "# Assuming you have imported the classifiers and defined their predicting times\n",
    "execution_times_optuna = [execution_time_ada_optuna * 1_000_000,\n",
    "                   execution_time_sgd_optuna * 1_000_000,\n",
    "                   execution_time_et_optuna * 1_000_000,\n",
    "                   execution_time_lgbm * 1_000_000,\n",
    "                   execution_time_rf_optuna * 1_000_000,\n",
    "                   execution_time_xgb_optuna * 1_000_000,\n",
    "                   execution_time_gbc_optuna * 1_000_000,\n",
    "                   execution_time_stk_optuna * 1_000_000]\n",
    "model_names = ['AdaBoost', 'SGD', 'Extra Trees', 'LGBM', 'Random Forest', 'XGB', 'Gradient Boosting', 'Stacking']\n",
    "\n",
    "execution_time = ['Execution Time']\n",
    "\n",
    "# Initialize data for the line plot\n",
    "x = np.arange(len(model_names))\n",
    "\n",
    "# Set up the figure and axis\n",
    "fig, ax = plt.subplots(figsize=(10, 6))\n",
    "\n",
    "# Define the line properties\n",
    "line_width = 2\n",
    "marker_size = 8\n",
    "marker_style = 'o'\n",
    "\n",
    "# Plot the line graph\n",
    "ax.plot(x, execution_times_optuna, linewidth=line_width, marker=marker_style, markersize=marker_size, color='#1f77b4')\n",
    "\n",
    "# Add axis labels and title\n",
    "ax.set_xlabel('Model', fontweight='bold', fontsize=12)\n",
    "ax.set_ylabel('Execution Time (microseconds)', fontweight='bold', fontsize=12)\n",
    "ax.set_title('Comparison of Model Execution Times After Optuna', fontweight='bold', fontsize=14)\n",
    "\n",
    "# Customize the x-axis ticks and labels\n",
    "ax.set_xticks(x)\n",
    "ax.set_xticklabels(model_names, rotation=45, ha='right', fontsize=10)\n",
    "\n",
    "# Add grid lines\n",
    "ax.grid(True, linestyle='--', linewidth=1, color='#BBBBBB')\n",
    "\n",
    "# Adjust the spacing between subplots\n",
    "plt.subplots_adjust(bottom=0.2)\n",
    "\n",
    "# Add a legend\n",
    "legend_font = font_manager.FontProperties(size=10)\n",
    "ax.legend(model_names, loc='upper left', prop=legend_font)\n",
    "\n",
    "# Save the plot as a PDF\n",
    "plt.savefig('Model Execution Time Comparison After Optuna.pdf', format='pdf')\n",
    "plt.show()"
   ]
  },
  {
   "cell_type": "markdown",
   "metadata": {},
   "source": [
    "# Execution time comparision final"
   ]
  },
  {
   "cell_type": "code",
   "execution_count": null,
   "metadata": {},
   "outputs": [],
   "source": [
    "import numpy as np\n",
    "import matplotlib.pyplot as plt\n",
    "import matplotlib.font_manager as font_manager\n",
    "\n",
    "# Assuming you have imported the classifiers and defined their predicting times\n",
    "execution_times = [execution_time_ada * 1_000_000,\n",
    "                   execution_time_sgd * 1_000_000,\n",
    "                   execution_time_et * 1_000_000,\n",
    "                   execution_time_lgbm * 1_000_000,\n",
    "                   execution_time_rf * 1_000_000,\n",
    "                   execution_time_xgb * 1_000_000,\n",
    "                   execution_time_gbc * 1_000_000,\n",
    "                   execution_time_stk * 1_000_000]\n",
    "\n",
    "execution_times_optuna = [execution_time_ada_optuna * 1_000_000,\n",
    "                         execution_time_sgd_optuna * 1_000_000,\n",
    "                         execution_time_et_optuna * 1_000_000,\n",
    "                         execution_time_lgbm_optuna * 1_000_000,\n",
    "                         execution_time_rf_optuna * 1_000_000,\n",
    "                         execution_time_xgb_optuna * 1_000_000,\n",
    "                         execution_time_gbc_optuna * 1_000_000,\n",
    "                         execution_time_stk_optuna * 1_000_000]\n",
    "\n",
    "model_names = ['AdaBoost', 'SGD', 'Extra Trees', 'LGBM', 'Random Forest', 'XGB', 'Gradient Boosting', 'Stacking']\n",
    "\n",
    "# Initialize data for the line plots\n",
    "x = np.arange(len(model_names))\n",
    "\n",
    "# Set up the figure and axis\n",
    "fig, ax = plt.subplots(figsize=(10, 6))\n",
    "\n",
    "# Define the line properties\n",
    "line_width = 2\n",
    "marker_size = 8\n",
    "marker_style = 'o'\n",
    "\n",
    "# Plot the line graphs\n",
    "ax.plot(x, execution_times, linewidth=line_width, marker=marker_style, markersize=marker_size, color='#1f77b4', label='Before Optuna')\n",
    "ax.plot(x, execution_times_optuna, linewidth=line_width, marker=marker_style, markersize=marker_size, color='#ff7f0e', label='After Optuna')\n",
    "\n",
    "# Add axis labels and title\n",
    "ax.set_xlabel('Model', fontweight='bold', fontsize=12)\n",
    "ax.set_ylabel('Execution Time (microseconds)', fontweight='bold', fontsize=12)\n",
    "ax.set_title('Comparison of Model Execution Times Before and After Optuna', fontweight='bold', fontsize=14)\n",
    "\n",
    "# Customize the x-axis ticks and labels\n",
    "ax.set_xticks(x)\n",
    "ax.set_xticklabels(model_names, rotation=45, ha='right', fontsize=10)\n",
    "\n",
    "# Add grid lines\n",
    "ax.grid(True, linestyle='--', linewidth=1, color='#BBBBBB')\n",
    "\n",
    "# Adjust the spacing between subplots\n",
    "plt.subplots_adjust(bottom=0.2)\n",
    "\n",
    "# Add a legend\n",
    "legend_font = font_manager.FontProperties(size=10)\n",
    "ax.legend(loc='upper left', prop=legend_font)\n",
    "\n",
    "plt.subplots_adjust(bottom=0.25)  # Increase the bottom margin\n",
    "\n",
    "# Save the plot as a PDF\n",
    "plt.savefig('Model Execution Time Comparison Before and After Optuna.pdf', format='pdf')\n",
    "plt.show()"
   ]
  },
  {
   "cell_type": "code",
   "execution_count": null,
   "metadata": {},
   "outputs": [],
   "source": [
    "execution_times"
   ]
  },
  {
   "cell_type": "code",
   "execution_count": null,
   "metadata": {},
   "outputs": [],
   "source": [
    "execution_times_optuna"
   ]
  },
  {
   "cell_type": "markdown",
   "metadata": {
    "id": "DbOUmrKsJdOG"
   },
   "source": [
    "# Plotting ensemble Feature Importance"
   ]
  },
  {
   "cell_type": "code",
   "execution_count": null,
   "metadata": {
    "colab": {
     "base_uri": "https://localhost:8080/",
     "height": 233
    },
    "id": "5JVs-gHIJdOG",
    "outputId": "829aed21-8a6d-4e52-8aca-0ab891db09e2"
   },
   "outputs": [],
   "source": [
    "cols = X_train.columns\n",
    "# Create a dataframe with features\n",
    "feature_dataframe_optuna = pd.DataFrame( {'features': cols,\n",
    "    'Random Forest feature importances': rf_features,\n",
    "\n",
    "    })\n",
    "\n",
    "# feature_dataframe['LGBM feature importances'] = feature_dataframe['LGBM feature importances'].astype(float)\n",
    "\n",
    "print(feature_dataframe_optuna.dtypes)\n",
    "\n",
    "import numpy as np\n",
    "\n",
    "feature_dataframe_optuna['mean'] = feature_dataframe_optuna.select_dtypes(include='number').mean(axis=1) # axis = 1 computes the mean row-wise\n",
    "\n",
    "# feature_dataframe['mean'] = feature_dataframe.mean(axis= 1) # axis = 1 computes the mean row-wise\n",
    "\n",
    "feature_dataframe_optuna.head(4)"
   ]
  },
  {
   "cell_type": "code",
   "execution_count": null,
   "metadata": {
    "colab": {
     "base_uri": "https://localhost:8080/",
     "height": 1000
    },
    "id": "wqerQBlIJdOG",
    "outputId": "f73cfb43-5e34-4671-856b-dac517fdda20"
   },
   "outputs": [],
   "source": [
    "import seaborn as sns\n",
    "import matplotlib.pyplot as plt\n",
    "\n",
    "def plot_feature_importance_optuna():\n",
    "    tmp_optuna = pd.DataFrame({'Feature': X_test.columns, 'Feature importance': feature_dataframe_optuna['mean'].values})\n",
    "    tmp_optuna = tmp_optuna.sort_values(by='Feature importance',ascending=False).head(20)\n",
    "\n",
    "    plt.figure(figsize=(12, 12))  # Adjust the figure size\n",
    "    plt.title('Average Feature Importance Top 20 Features', fontsize=14)\n",
    "    s = sns.barplot(y='Feature', x='Feature importance', data=tmp_optuna, orient='h')\n",
    "    s.set_xticklabels(s.get_xticklabels(), rotation=90)\n",
    "\n",
    "    plt.subplots_adjust(left=0.25)  # Increase the left margin\n",
    "    plt.savefig('Average Feature Importance Top 20 Features After Optuna.pdf', format='pdf', dpi=300)  # Increase the DPI\n",
    "    plt.show()\n",
    "\n",
    "plot_feature_importance_optuna()"
   ]
  },
  {
   "cell_type": "code",
   "execution_count": null,
   "metadata": {},
   "outputs": [],
   "source": []
  }
 ],
 "metadata": {
  "colab": {
   "provenance": []
  },
  "kernelspec": {
   "display_name": "Python 3 (ipykernel)",
   "language": "python",
   "name": "python3"
  },
  "language_info": {
   "codemirror_mode": {
    "name": "ipython",
    "version": 3
   },
   "file_extension": ".py",
   "mimetype": "text/x-python",
   "name": "python",
   "nbconvert_exporter": "python",
   "pygments_lexer": "ipython3",
   "version": "3.11.7"
  }
 },
 "nbformat": 4,
 "nbformat_minor": 4
}
